{
 "cells": [
  {
   "cell_type": "code",
   "execution_count": 1,
   "metadata": {},
   "outputs": [],
   "source": [
    "import pickle \n",
    "import pandas as pd \n",
    "import matplotlib.pyplot as plt \n",
    "import itertools\n",
    "import numpy as np\n",
    "from scipy.stats import pearsonr\n",
    "\n",
    "# クラスタリング\n",
    "from sklearn.cluster import KMeans\n",
    "\n",
    "with open('../../data/Hazumi_features/Hazumi1911_features.pkl', mode='rb') as f:\n",
    "    SS, TS, SP, TP, text, audio, visual, vid = pickle.load(f, encoding='utf-8')\n",
    "\n",
    "def calc_p(df):\n",
    "    for i, j in itertools.combinations(df, 2): #組み合わせでforループを実行\n",
    "        x = df.loc[:,[i]].values\n",
    "        y = df.loc[:,[j]].values\n",
    "        a, b = pearsonr(np.ravel(x), np.ravel(y)) # リストを整形し相関係数:aとp値:bの計算\n",
    "        if 0 != b.round(10) < 0.05: # p値 < 0.05\n",
    "            print(\"=\" * 45)\n",
    "            print(i + \"----\" + j)\n",
    "            print(\"相関係数:\", a.round(4))\n",
    "            print(\"p値:\", b.round(4))\n",
    "            plt.show()"
   ]
  },
  {
   "cell_type": "code",
   "execution_count": 3,
   "metadata": {},
   "outputs": [
    {
     "name": "stdout",
     "output_type": "stream",
     "text": [
      "[546, 594]\n",
      "[787, 512]\n"
     ]
    }
   ],
   "source": [
    "# 性別\n",
    "M = [0, 0]\n",
    "F = [0, 0]\n",
    "for id in vid:\n",
    "    for ss in SS[id]:\n",
    "        if id[4] == 'F':\n",
    "            F[ss] += 1\n",
    "        else:\n",
    "            M[ss] += 1\n",
    "\n",
    "print(M)\n",
    "print(F)"
   ]
  },
  {
   "cell_type": "code",
   "execution_count": 9,
   "metadata": {},
   "outputs": [
    {
     "name": "stdout",
     "output_type": "stream",
     "text": [
      "{'U40': 13, 'O40': 13}\n",
      "[832, 395]\n",
      "[501, 711]\n"
     ]
    }
   ],
   "source": [
    "# 年齢(2クラス)\n",
    "c = {'U40': 0, 'O40': 0}\n",
    "U40 = [0, 0]\n",
    "O40 = [0, 0]\n",
    "for id in vid:\n",
    "    profile = int(id[5]) > 4\n",
    "    if profile:\n",
    "        for ss in SS[id]:\n",
    "            O40[ss] += 1\n",
    "        c['O40'] += 1\n",
    "    else:\n",
    "        for ss in SS[id]:\n",
    "            U40[ss] += 1\n",
    "        c['U40'] += 1\n",
    "print(c)\n",
    "print(U40)\n",
    "print(O40)"
   ]
  },
  {
   "cell_type": "code",
   "execution_count": 6,
   "metadata": {},
   "outputs": [
    {
     "name": "stdout",
     "output_type": "stream",
     "text": [
      "[8, 9, 9]\n",
      "[493, 235] 728 0.677\n",
      "[509, 394] 903 0.564\n",
      "[331, 477] 808 0.59\n"
     ]
    }
   ],
   "source": [
    "# 年齢(3クラス)\n",
    "c = [0, 0 ,0]\n",
    "c0 = [0, 0]\n",
    "c1 = [0, 0]\n",
    "c2 = [0, 0]\n",
    "for id in vid:\n",
    "    profile = int(id[5]) \n",
    "    if profile <= 3:\n",
    "        for ss in SS[id]:\n",
    "            c0[ss] += 1\n",
    "        c[0] += 1\n",
    "    elif profile <= 5:\n",
    "        for ss in SS[id]:\n",
    "            c1[ss] += 1\n",
    "        c[1] += 1\n",
    "    else:\n",
    "        for ss in SS[id]:\n",
    "            c2[ss] += 1\n",
    "        c[2] += 1\n",
    "print(c)\n",
    "print(c0, sum(c0), round(max(c0) / sum(c0), 3))\n",
    "print(c1, sum(c1), round(max(c1) / sum(c1), 3))\n",
    "print(c2, sum(c2), round(max(c2) / sum(c2), 3))"
   ]
  },
  {
   "cell_type": "code",
   "execution_count": 7,
   "metadata": {},
   "outputs": [
    {
     "name": "stdout",
     "output_type": "stream",
     "text": [
      "[5, 3, 5, 4, 6, 3]\n",
      "[297, 182] 479 0.62\n",
      "[196, 53] 249 0.787\n",
      "[339, 160] 499 0.679\n",
      "[170, 234] 404 0.579\n",
      "[211, 296] 507 0.584\n",
      "[120, 181] 301 0.601\n"
     ]
    }
   ],
   "source": [
    "# 年齢(6クラス)\n",
    "c = [0, 0 ,0, 0, 0, 0]\n",
    "c0 = [0, 0]\n",
    "c1 = [0, 0]\n",
    "c2 = [0, 0]\n",
    "c3 = [0, 0]\n",
    "c4 = [0, 0]\n",
    "c5 = [0, 0]\n",
    "\n",
    "for id in vid:\n",
    "    profile = int(id[5]) \n",
    "    if profile == 2:\n",
    "        for ss in SS[id]:\n",
    "            c0[ss] += 1\n",
    "        c[0] += 1\n",
    "    elif profile == 3:\n",
    "        for ss in SS[id]:\n",
    "            c1[ss] += 1\n",
    "        c[1] += 1\n",
    "    elif profile == 4:\n",
    "        for ss in SS[id]:\n",
    "            c2[ss] += 1\n",
    "        c[2] += 1\n",
    "    elif profile == 5:\n",
    "        for ss in SS[id]:\n",
    "            c3[ss] += 1\n",
    "        c[3] += 1\n",
    "    elif profile == 6:\n",
    "        for ss in SS[id]:\n",
    "            c4[ss] += 1\n",
    "        c[4] += 1\n",
    "    else:\n",
    "        for ss in SS[id]:\n",
    "            c5[ss] += 1\n",
    "        c[5] += 1\n",
    "print(c)\n",
    "print(c0, sum(c0), round(max(c0) / sum(c0), 3))\n",
    "print(c1, sum(c1), round(max(c1) / sum(c1), 3))\n",
    "print(c2, sum(c2), round(max(c2) / sum(c2), 3))\n",
    "print(c3, sum(c3), round(max(c3) / sum(c3), 3))\n",
    "print(c4, sum(c4), round(max(c4) / sum(c4), 3))\n",
    "print(c5, sum(c5), round(max(c5) / sum(c5), 3))"
   ]
  },
  {
   "cell_type": "code",
   "execution_count": null,
   "metadata": {},
   "outputs": [],
   "source": []
  }
 ],
 "metadata": {
  "kernelspec": {
   "display_name": "personality",
   "language": "python",
   "name": "python3"
  },
  "language_info": {
   "codemirror_mode": {
    "name": "ipython",
    "version": 3
   },
   "file_extension": ".py",
   "mimetype": "text/x-python",
   "name": "python",
   "nbconvert_exporter": "python",
   "pygments_lexer": "ipython3",
   "version": "3.10.9"
  },
  "orig_nbformat": 4
 },
 "nbformat": 4,
 "nbformat_minor": 2
}
