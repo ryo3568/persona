{
 "cells": [
  {
   "cell_type": "code",
   "execution_count": 1,
   "metadata": {},
   "outputs": [],
   "source": [
    "import pickle \n",
    "import pandas as pd\n",
    "import numpy as np\n",
    "from sklearn.cluster import KMeans\n",
    "import matplotlib.pyplot as plt\n",
    "import seaborn as sns\n",
    "from sklearn.preprocessing import StandardScaler\n",
    "\n",
    "# ファイル読み込み\n",
    "with open('../../data/Hazumi1911/Hazumi1911_features/Hazumi1911_features.pkl', mode='rb') as f:\n",
    "    videoIDs, videoSentiment, videoPersona, videoText, videoAudio,\\\n",
    "    videoVisual, videoSentence, Vid = pickle.load(f, encoding='utf-8')"
   ]
  },
  {
   "cell_type": "code",
   "execution_count": 2,
   "metadata": {},
   "outputs": [
    {
     "name": "stdout",
     "output_type": "stream",
     "text": [
      "13.702247191011235 2.76844494892168 1.767391304347826\n"
     ]
    }
   ],
   "source": [
    "neg = 0 \n",
    "neu = 0 \n",
    "pos = 0 \n",
    "sum = 0\n",
    "for index, labels in videoSentiment.items():\n",
    "    for label in labels:\n",
    "        if label == 0.:\n",
    "            neg += 1\n",
    "        elif label == 1.:\n",
    "            neu += 1 \n",
    "        else:\n",
    "            pos += 1\n",
    "        sum += 1\n",
    "print(sum/neg, sum/neu, sum/pos)"
   ]
  },
  {
   "cell_type": "code",
   "execution_count": 7,
   "metadata": {},
   "outputs": [
    {
     "data": {
      "text/plain": [
       "178"
      ]
     },
     "execution_count": 7,
     "metadata": {},
     "output_type": "execute_result"
    }
   ],
   "source": [
    "neg"
   ]
  },
  {
   "cell_type": "code",
   "execution_count": null,
   "metadata": {},
   "outputs": [],
   "source": []
  }
 ],
 "metadata": {
  "kernelspec": {
   "display_name": "Python 3",
   "language": "python",
   "name": "python3"
  },
  "language_info": {
   "codemirror_mode": {
    "name": "ipython",
    "version": 3
   },
   "file_extension": ".py",
   "mimetype": "text/x-python",
   "name": "python",
   "nbconvert_exporter": "python",
   "pygments_lexer": "ipython3",
   "version": "3.9.12"
  },
  "orig_nbformat": 4,
  "vscode": {
   "interpreter": {
    "hash": "66a55e160c955a136bd04b9ee0e97041b96c673504f5e57fef660b8b6eac7e97"
   }
  }
 },
 "nbformat": 4,
 "nbformat_minor": 2
}
