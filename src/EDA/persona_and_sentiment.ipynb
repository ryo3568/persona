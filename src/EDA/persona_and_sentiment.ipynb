{
 "cells": [
  {
   "cell_type": "markdown",
   "metadata": {},
   "source": [
    "# 性格特性と心象の関係"
   ]
  },
  {
   "cell_type": "code",
   "execution_count": 8,
   "metadata": {
    "vscode": {
     "languageId": "python"
    }
   },
   "outputs": [],
   "source": [
    "import pandas as pd\n",
    "import numpy as np\n",
    "import pickle \n",
    "import matplotlib.pyplot as plt\n",
    "import os \n",
    "import glob\n",
    "from sklearn.preprocessing import StandardScaler\n",
    "from scipy.stats import pearsonr"
   ]
  },
  {
   "cell_type": "code",
   "execution_count": 11,
   "metadata": {
    "vscode": {
     "languageId": "python"
    }
   },
   "outputs": [],
   "source": [
    "with open('../../data/Hazumi1911/Hazumi1911_features/Hazumi1911_features.pkl', mode='rb') as f:\n",
    "    videoIDs, videoSentiment, videoPersona, videoThirdPersona, videoText, videoAudio,\\\n",
    "    videoVisual, videoSentence, Vid = pickle.load(f, encoding='utf-8')"
   ]
  },
  {
   "cell_type": "code",
   "execution_count": 13,
   "metadata": {
    "vscode": {
     "languageId": "python"
    }
   },
   "outputs": [],
   "source": [
    "# ユーザごとにクラス数を集計\n",
    "negative = []\n",
    "neutral = [] \n",
    "positive = []\n",
    "for user, labels in videoSentiment.items():\n",
    "    neg = 0\n",
    "    neu = 0 \n",
    "    pos = 0\n",
    "    for label in labels:\n",
    "        if label == 0.0:\n",
    "            neg += 1\n",
    "        elif label == 1.0:\n",
    "            neu += 1\n",
    "        else:\n",
    "            pos += 1\n",
    "    negative.append(neg)\n",
    "    neutral.append(neu)\n",
    "    positive.append(pos)\n",
    "\n",
    "# ユーザごとの性格特性をリスト化\n",
    "extraversion = []\n",
    "agreauleness = []\n",
    "conscientiousness = []\n",
    "neuroticism = []\n",
    "openness = []\n",
    "\n",
    "for user, labels in videoThirdPersona.items():\n",
    "    extraversion.append(labels[0])\n",
    "    agreauleness.append(labels[1])\n",
    "    conscientiousness.append(labels[2])\n",
    "    neuroticism.append(labels[3])\n",
    "    openness.append(labels[4])"
   ]
  },
  {
   "cell_type": "code",
   "execution_count": 10,
   "metadata": {
    "vscode": {
     "languageId": "python"
    }
   },
   "outputs": [
    {
     "name": "stdout",
     "output_type": "stream",
     "text": [
      "[25, 54, 34, 36, 37, 41, 57, 37, 42, 53, 36, 31, 27, 44, 47, 38, 32, 53, 54, 52, 24, 36, 17, 50, 60, 42]\n"
     ]
    }
   ],
   "source": [
    "low = [] \n",
    "for neg, neu in zip(negative, neutral):\n",
    "    low.append(neg + neu)\n",
    "\n",
    "print(low)"
   ]
  },
  {
   "cell_type": "code",
   "execution_count": 32,
   "metadata": {
    "vscode": {
     "languageId": "python"
    }
   },
   "outputs": [],
   "source": [
    "# for文を使い科目の組み合わせで計算実行\n",
    "def calc_p(df):        \n",
    "    for i in range(5):\n",
    "        x = df.iloc[:, 0].values \n",
    "        y = df.iloc[:, i+1].values \n",
    "        a, b = pearsonr(np.ravel(x), np.ravel(y))\n",
    "        print(\"=\" * 45)\n",
    "        print(f\"--{i}--\")\n",
    "        print(\"相関係数:\", a.round(4))\n",
    "        print(\"p値:\", b.round(4))"
   ]
  },
  {
   "cell_type": "code",
   "execution_count": 34,
   "metadata": {
    "vscode": {
     "languageId": "python"
    }
   },
   "outputs": [
    {
     "name": "stdout",
     "output_type": "stream",
     "text": [
      "----negative----\n",
      "negative             1.000000\n",
      "extraversion        -0.232801\n",
      "agreauleness        -0.444970\n",
      "conscientiousness   -0.295349\n",
      "neuroticism          0.201431\n",
      "openness            -0.585364\n",
      "Name: negative, dtype: float64\n",
      "=============================================\n",
      "--0--\n",
      "相関係数: -0.2328\n",
      "p値: 0.2524\n",
      "=============================================\n",
      "--1--\n",
      "相関係数: -0.445\n",
      "p値: 0.0227\n",
      "=============================================\n",
      "--2--\n",
      "相関係数: -0.2953\n",
      "p値: 0.143\n",
      "=============================================\n",
      "--3--\n",
      "相関係数: 0.2014\n",
      "p値: 0.3238\n",
      "=============================================\n",
      "--4--\n",
      "相関係数: -0.5854\n",
      "p値: 0.0017\n",
      "----neutral----\n",
      "neutral              1.000000\n",
      "extraversion        -0.088721\n",
      "agreauleness        -0.320949\n",
      "conscientiousness   -0.218734\n",
      "neuroticism         -0.071741\n",
      "openness            -0.272107\n",
      "Name: neutral, dtype: float64\n",
      "=============================================\n",
      "--0--\n",
      "相関係数: -0.0887\n",
      "p値: 0.6665\n",
      "=============================================\n",
      "--1--\n",
      "相関係数: -0.3209\n",
      "p値: 0.1099\n",
      "=============================================\n",
      "--2--\n",
      "相関係数: -0.2187\n",
      "p値: 0.283\n",
      "=============================================\n",
      "--3--\n",
      "相関係数: -0.0717\n",
      "p値: 0.7276\n",
      "=============================================\n",
      "--4--\n",
      "相関係数: -0.2721\n",
      "p値: 0.1787\n",
      "----positive----\n",
      "positive             1.000000\n",
      "extraversion         0.382397\n",
      "agreauleness        -0.148805\n",
      "conscientiousness    0.072122\n",
      "neuroticism         -0.215429\n",
      "openness             0.199224\n",
      "Name: positive, dtype: float64\n",
      "=============================================\n",
      "--0--\n",
      "相関係数: 0.3824\n",
      "p値: 0.0539\n",
      "=============================================\n",
      "--1--\n",
      "相関係数: -0.1488\n",
      "p値: 0.4681\n",
      "=============================================\n",
      "--2--\n",
      "相関係数: 0.0721\n",
      "p値: 0.7262\n",
      "=============================================\n",
      "--3--\n",
      "相関係数: -0.2154\n",
      "p値: 0.2905\n",
      "=============================================\n",
      "--4--\n",
      "相関係数: 0.1992\n",
      "p値: 0.3292\n"
     ]
    }
   ],
   "source": [
    "# 低群と性格特性の相関\n",
    "df1 = pd.DataFrame({\"negative\":negative,\n",
    "                   \"extraversion\":extraversion,\n",
    "                   \"agreauleness\":agreauleness,\n",
    "                   \"conscientiousness\":conscientiousness,\n",
    "                   \"neuroticism\":neuroticism,\n",
    "                   \"openness\":openness})\n",
    "print('----negative----')\n",
    "print(df1.corr()['negative'])\n",
    "calc_p(df1)\n",
    "\n",
    "# 中群と性格特性の相関\n",
    "df2 = pd.DataFrame({\"neutral\":neutral,\n",
    "                   \"extraversion\":extraversion,\n",
    "                   \"agreauleness\":agreauleness,\n",
    "                   \"conscientiousness\":conscientiousness,\n",
    "                   \"neuroticism\":neuroticism,\n",
    "                   \"openness\":openness})\n",
    "print('----neutral----')\n",
    "print(df2.corr()['neutral'])\n",
    "calc_p(df2)\n",
    "\n",
    "# 高群と性格特性の相関\n",
    "df3 = pd.DataFrame({\"positive\":positive,\n",
    "                   \"extraversion\":extraversion,\n",
    "                   \"agreauleness\":agreauleness,\n",
    "                   \"conscientiousness\":conscientiousness,\n",
    "                   \"neuroticism\":neuroticism,\n",
    "                   \"openness\":openness})\n",
    "print('----positive----')\n",
    "print(df3.corr()['positive'])\n",
    "calc_p(df3)\n",
    "\n",
    "# 低郡+中群と性格特性の相関\n",
    "# df4 = pd.DataFrame({\"low\":low,\n",
    "#                    \"extraversion\":extraversion,\n",
    "#                    \"agreauleness\":agreauleness,\n",
    "#                    \"conscientiousness\":conscientiousness,\n",
    "#                    \"neuroticism\":neuroticism,\n",
    "#                    \"openness\":openness})\n",
    "# print('----low---')\n",
    "# print(df4.corr()['low'])"
   ]
  },
  {
   "cell_type": "code",
   "execution_count": 30,
   "metadata": {
    "vscode": {
     "languageId": "python"
    }
   },
   "outputs": [
    {
     "data": {
      "image/png": "[encoded data removed]",
      "text/plain": [
       "<Figure size 432x288 with 1 Axes>"
      ]
     },
     "metadata": {
      "needs_background": "light"
     },
     "output_type": "display_data"
    }
   ],
   "source": [
    "# グラフ可視化\n",
    "plt.scatter(\n",
    "            df1[\"negative\"],          # X軸値\n",
    "            df1[\"openness\"],    # Y軸値\n",
    "            marker = \"o\",           # マーカー形状\n",
    "            s = 100,                # プロットサイズ\n",
    "            c = \"blue\",             # カラー\n",
    "            edgecolor = \"black\",    # 枠線カラー\n",
    "            linewidth = 1,          # 線の太さ\n",
    "            alpha = 0.4,            # 透明度\n",
    "            )\n",
    "\n",
    "# 書式設定\n",
    "plt.xlabel(\"number of negative\")               # X軸ラベル\n",
    "plt.ylabel(\"score of openness\")        # Y軸ラベル\n",
    "plt.show()"
   ]
  },
  {
   "cell_type": "code",
   "execution_count": null,
   "metadata": {
    "vscode": {
     "languageId": "python"
    }
   },
   "outputs": [],
   "source": []
  }
 ],
 "metadata": {
  "kernelspec": {
   "display_name": "persona",
   "language": "python",
   "name": "persona"
  },
  "orig_nbformat": 4,
  "vscode": {
   "interpreter": {
    "hash": "66a55e160c955a136bd04b9ee0e97041b96c673504f5e57fef660b8b6eac7e97"
   }
  }
 },
 "nbformat": 4,
 "nbformat_minor": 2
}
