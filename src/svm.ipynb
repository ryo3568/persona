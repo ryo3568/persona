{
 "cells": [
  {
   "attachments": {},
   "cell_type": "markdown",
   "metadata": {},
   "source": [
    "## simpleなモデルでの実験\n",
    "- SVM\n",
    "- MLP(Multilayer perceptron)"
   ]
  },
  {
   "cell_type": "code",
   "execution_count": 2,
   "metadata": {},
   "outputs": [
    {
     "name": "stderr",
     "output_type": "stream",
     "text": [
      "/home/ryoyanagimoto/anaconda3/envs/personality/lib/python3.10/site-packages/tqdm/auto.py:22: TqdmWarning: IProgress not found. Please update jupyter and ipywidgets. See https://ipywidgets.readthedocs.io/en/stable/user_install.html\n",
      "  from .autonotebook import tqdm as notebook_tqdm\n",
      "Failed to detect the name of this notebook, you can set it manually with the WANDB_NOTEBOOK_NAME environment variable to enable code saving.\n",
      "\u001b[34m\u001b[1mwandb\u001b[0m: Currently logged in as: \u001b[33mr-yanagimoto\u001b[0m. Use \u001b[1m`wandb login --relogin`\u001b[0m to force relogin\n"
     ]
    }
   ],
   "source": [
    "import pickle\n",
    "import warnings\n",
    "import numpy as np \n",
    "import pandas as pd\n",
    "from tqdm import tqdm\n",
    "from sklearn import svm \n",
    "from sklearn import preprocessing\n",
    "from sklearn.neural_network import MLPClassifier\n",
    "import matplotlib.pyplot as plt\n",
    "import wandb \n",
    "\n",
    "import utils\n",
    "\n",
    "warnings.simplefilter('ignore')\n",
    "wandb.login()\n",
    "\n",
    "def load_data(testfile, trait):\n",
    "    train_data = []\n",
    "    test_data = []\n",
    "    path = '../data/Hazumi_features/Hazumi1911_features.pkl'\n",
    "    TS, TS_ternary, TP, TP_binary, TP_cluster, text, audio, visual, vid = pickle.load(open(path, 'rb'), encoding='utf-8')\n",
    "    for file in vid:\n",
    "        data_t = pd.DataFrame(text[file])\n",
    "        data_a = pd.DataFrame(audio[file])\n",
    "        data_v = pd.DataFrame(visual[file])\n",
    "        seq_len = len(TS_ternary[file])\n",
    "        label = [TP_binary[file][trait] for _ in range(seq_len)]\n",
    "        label = pd.DataFrame(label)\n",
    "        data = pd.concat([data_t, data_a, data_v, label], axis=1)\n",
    "        if file == testfile:\n",
    "            test_data.append(data)\n",
    "        else:\n",
    "            train_data.append(data)\n",
    "    train_data = pd.concat(train_data)\n",
    "    test_data = pd.concat(test_data) \n",
    "    train_data = train_data.sample(frac=1, random_state=0)\n",
    "    test_data = test_data.sample(frac=1, random_state=0)\n",
    "\n",
    "    x_train, y_train, x_test, y_test =\\\n",
    "         train_data.iloc[:, :-1].values, train_data.iloc[:, -1].values, test_data.iloc[:, :-1].values, test_data.iloc[:, -1].values\n",
    "\n",
    "    scaler = preprocessing.MinMaxScaler()\n",
    "    # scaler = preprocessing.StandardScaler()\n",
    "\n",
    "    x_train = scaler.fit_transform(x_train) \n",
    "    x_test = scaler.transform(x_test)\n",
    "\n",
    "    return x_train, y_train, x_test, y_test"
   ]
  },
  {
   "cell_type": "code",
   "execution_count": 8,
   "metadata": {},
   "outputs": [
    {
     "name": "stdout",
     "output_type": "stream",
     "text": [
      "1911F6002 : [0, 1, 0, 0, 0]\n"
     ]
    },
    {
     "data": {
      "text/html": [
       "Finishing last run (ID:1fwybsye) before initializing another..."
      ],
      "text/plain": [
       "<IPython.core.display.HTML object>"
      ]
     },
     "metadata": {},
     "output_type": "display_data"
    },
    {
     "data": {
      "text/html": [
       "Waiting for W&B process to finish... <strong style=\"color:green\">(success).</strong>"
      ],
      "text/plain": [
       "<IPython.core.display.HTML object>"
      ]
     },
     "metadata": {},
     "output_type": "display_data"
    },
    {
     "name": "stderr",
     "output_type": "stream",
     "text": [
      "wandb: ERROR Dropped streaming file chunk (see wandb/debug-internal.log)\n"
     ]
    },
    {
     "data": {
      "text/html": [
       "<style>\n",
       "    table.wandb td:nth-child(1) { padding: 0 10px; text-align: left ; width: auto;} td:nth-child(2) {text-align: left ; width: 100%}\n",
       "    .wandb-row { display: flex; flex-direction: row; flex-wrap: wrap; justify-content: flex-start; width: 100% }\n",
       "    .wandb-col { display: flex; flex-direction: column; flex-basis: 100%; flex: 1; padding: 10px; }\n",
       "    </style>\n",
       "<div class=\"wandb-row\"><div class=\"wandb-col\"><h3>Run history:</h3><br/><table class=\"wandb\"><tr><td>1extr</td><td>▁</td></tr><tr><td>2agre</td><td>▁</td></tr><tr><td>3cons</td><td>▁</td></tr><tr><td>4neur</td><td>▁</td></tr><tr><td>5open</td><td>▁</td></tr><tr><td>acc</td><td>▁</td></tr></table><br/></div><div class=\"wandb-col\"><h3>Run summary:</h3><br/><table class=\"wandb\"><tr><td>1extr</td><td>0</td></tr><tr><td>2agre</td><td>1</td></tr><tr><td>3cons</td><td>0</td></tr><tr><td>4neur</td><td>0</td></tr><tr><td>5open</td><td>0</td></tr><tr><td>acc</td><td>0.2</td></tr></table><br/></div></div>"
      ],
      "text/plain": [
       "<IPython.core.display.HTML object>"
      ]
     },
     "metadata": {},
     "output_type": "display_data"
    },
    {
     "data": {
      "text/html": [
       " View run <strong style=\"color:#cdcd00\">1911F6002</strong> at: <a href='https://wandb.ai/r-yanagimoto/svm/runs/1fwybsye' target=\"_blank\">https://wandb.ai/r-yanagimoto/svm/runs/1fwybsye</a><br/>Synced 6 W&B file(s), 0 media file(s), 0 artifact file(s) and 0 other file(s)"
      ],
      "text/plain": [
       "<IPython.core.display.HTML object>"
      ]
     },
     "metadata": {},
     "output_type": "display_data"
    },
    {
     "data": {
      "text/html": [
       "Find logs at: <code>./wandb/run-20230227_145857-1fwybsye/logs</code>"
      ],
      "text/plain": [
       "<IPython.core.display.HTML object>"
      ]
     },
     "metadata": {},
     "output_type": "display_data"
    },
    {
     "data": {
      "text/html": [
       "Successfully finished last run (ID:1fwybsye). Initializing new run:<br/>"
      ],
      "text/plain": [
       "<IPython.core.display.HTML object>"
      ]
     },
     "metadata": {},
     "output_type": "display_data"
    },
    {
     "data": {
      "text/html": [
       "Tracking run with wandb version 0.13.10"
      ],
      "text/plain": [
       "<IPython.core.display.HTML object>"
      ]
     },
     "metadata": {},
     "output_type": "display_data"
    },
    {
     "data": {
      "text/html": [
       "Run data is saved locally in <code>/home/ryoyanagimoto/persona/src/wandb/run-20230227_145914-5ovwy00p</code>"
      ],
      "text/plain": [
       "<IPython.core.display.HTML object>"
      ]
     },
     "metadata": {},
     "output_type": "display_data"
    },
    {
     "data": {
      "text/html": [
       "Syncing run <strong><a href='https://wandb.ai/r-yanagimoto/svm/runs/5ovwy00p' target=\"_blank\">1911F6003</a></strong> to <a href='https://wandb.ai/r-yanagimoto/svm' target=\"_blank\">Weights & Biases</a> (<a href='https://wandb.me/run' target=\"_blank\">docs</a>)<br/>"
      ],
      "text/plain": [
       "<IPython.core.display.HTML object>"
      ]
     },
     "metadata": {},
     "output_type": "display_data"
    },
    {
     "data": {
      "text/html": [
       " View project at <a href='https://wandb.ai/r-yanagimoto/svm' target=\"_blank\">https://wandb.ai/r-yanagimoto/svm</a>"
      ],
      "text/plain": [
       "<IPython.core.display.HTML object>"
      ]
     },
     "metadata": {},
     "output_type": "display_data"
    },
    {
     "data": {
      "text/html": [
       " View run at <a href='https://wandb.ai/r-yanagimoto/svm/runs/5ovwy00p' target=\"_blank\">https://wandb.ai/r-yanagimoto/svm/runs/5ovwy00p</a>"
      ],
      "text/plain": [
       "<IPython.core.display.HTML object>"
      ]
     },
     "metadata": {},
     "output_type": "display_data"
    },
    {
     "name": "stdout",
     "output_type": "stream",
     "text": [
      "1911F6003 : [1, 1, 1, 1, 1]\n"
     ]
    },
    {
     "data": {
      "text/html": [
       "Finishing last run (ID:5ovwy00p) before initializing another..."
      ],
      "text/plain": [
       "<IPython.core.display.HTML object>"
      ]
     },
     "metadata": {},
     "output_type": "display_data"
    },
    {
     "data": {
      "text/html": [
       "Waiting for W&B process to finish... <strong style=\"color:green\">(success).</strong>"
      ],
      "text/plain": [
       "<IPython.core.display.HTML object>"
      ]
     },
     "metadata": {},
     "output_type": "display_data"
    },
    {
     "data": {
      "text/html": [
       "<style>\n",
       "    table.wandb td:nth-child(1) { padding: 0 10px; text-align: left ; width: auto;} td:nth-child(2) {text-align: left ; width: 100%}\n",
       "    .wandb-row { display: flex; flex-direction: row; flex-wrap: wrap; justify-content: flex-start; width: 100% }\n",
       "    .wandb-col { display: flex; flex-direction: column; flex-basis: 100%; flex: 1; padding: 10px; }\n",
       "    </style>\n",
       "<div class=\"wandb-row\"><div class=\"wandb-col\"><h3>Run history:</h3><br/><table class=\"wandb\"><tr><td>1extr</td><td>▁</td></tr><tr><td>2agre</td><td>▁</td></tr><tr><td>3cons</td><td>▁</td></tr><tr><td>4neur</td><td>▁</td></tr><tr><td>5open</td><td>▁</td></tr><tr><td>acc</td><td>▁</td></tr></table><br/></div><div class=\"wandb-col\"><h3>Run summary:</h3><br/><table class=\"wandb\"><tr><td>1extr</td><td>1</td></tr><tr><td>2agre</td><td>1</td></tr><tr><td>3cons</td><td>1</td></tr><tr><td>4neur</td><td>1</td></tr><tr><td>5open</td><td>1</td></tr><tr><td>acc</td><td>1.0</td></tr></table><br/></div></div>"
      ],
      "text/plain": [
       "<IPython.core.display.HTML object>"
      ]
     },
     "metadata": {},
     "output_type": "display_data"
    },
    {
     "data": {
      "text/html": [
       " View run <strong style=\"color:#cdcd00\">1911F6003</strong> at: <a href='https://wandb.ai/r-yanagimoto/svm/runs/5ovwy00p' target=\"_blank\">https://wandb.ai/r-yanagimoto/svm/runs/5ovwy00p</a><br/>Synced 6 W&B file(s), 0 media file(s), 0 artifact file(s) and 0 other file(s)"
      ],
      "text/plain": [
       "<IPython.core.display.HTML object>"
      ]
     },
     "metadata": {},
     "output_type": "display_data"
    },
    {
     "data": {
      "text/html": [
       "Find logs at: <code>./wandb/run-20230227_145914-5ovwy00p/logs</code>"
      ],
      "text/plain": [
       "<IPython.core.display.HTML object>"
      ]
     },
     "metadata": {},
     "output_type": "display_data"
    },
    {
     "data": {
      "text/html": [
       "Successfully finished last run (ID:5ovwy00p). Initializing new run:<br/>"
      ],
      "text/plain": [
       "<IPython.core.display.HTML object>"
      ]
     },
     "metadata": {},
     "output_type": "display_data"
    },
    {
     "name": "stderr",
     "output_type": "stream",
     "text": [
      "wandb: ERROR Dropped streaming file chunk (see wandb/debug-internal.log)\n"
     ]
    },
    {
     "data": {
      "text/html": [
       "Tracking run with wandb version 0.13.10"
      ],
      "text/plain": [
       "<IPython.core.display.HTML object>"
      ]
     },
     "metadata": {},
     "output_type": "display_data"
    },
    {
     "data": {
      "text/html": [
       "Run data is saved locally in <code>/home/ryoyanagimoto/persona/src/wandb/run-20230227_145937-w8pdypeh</code>"
      ],
      "text/plain": [
       "<IPython.core.display.HTML object>"
      ]
     },
     "metadata": {},
     "output_type": "display_data"
    },
    {
     "data": {
      "text/html": [
       "Syncing run <strong><a href='https://wandb.ai/r-yanagimoto/svm/runs/w8pdypeh' target=\"_blank\">1911F7002</a></strong> to <a href='https://wandb.ai/r-yanagimoto/svm' target=\"_blank\">Weights & Biases</a> (<a href='https://wandb.me/run' target=\"_blank\">docs</a>)<br/>"
      ],
      "text/plain": [
       "<IPython.core.display.HTML object>"
      ]
     },
     "metadata": {},
     "output_type": "display_data"
    },
    {
     "data": {
      "text/html": [
       " View project at <a href='https://wandb.ai/r-yanagimoto/svm' target=\"_blank\">https://wandb.ai/r-yanagimoto/svm</a>"
      ],
      "text/plain": [
       "<IPython.core.display.HTML object>"
      ]
     },
     "metadata": {},
     "output_type": "display_data"
    },
    {
     "data": {
      "text/html": [
       " View run at <a href='https://wandb.ai/r-yanagimoto/svm/runs/w8pdypeh' target=\"_blank\">https://wandb.ai/r-yanagimoto/svm/runs/w8pdypeh</a>"
      ],
      "text/plain": [
       "<IPython.core.display.HTML object>"
      ]
     },
     "metadata": {},
     "output_type": "display_data"
    },
    {
     "name": "stdout",
     "output_type": "stream",
     "text": [
      "1911F7002 : [0, 0, 0, 0, 1]\n"
     ]
    },
    {
     "data": {
      "text/html": [
       "Finishing last run (ID:w8pdypeh) before initializing another..."
      ],
      "text/plain": [
       "<IPython.core.display.HTML object>"
      ]
     },
     "metadata": {},
     "output_type": "display_data"
    },
    {
     "data": {
      "text/html": [
       "Waiting for W&B process to finish... <strong style=\"color:green\">(success).</strong>"
      ],
      "text/plain": [
       "<IPython.core.display.HTML object>"
      ]
     },
     "metadata": {},
     "output_type": "display_data"
    },
    {
     "data": {
      "text/html": [
       "<style>\n",
       "    table.wandb td:nth-child(1) { padding: 0 10px; text-align: left ; width: auto;} td:nth-child(2) {text-align: left ; width: 100%}\n",
       "    .wandb-row { display: flex; flex-direction: row; flex-wrap: wrap; justify-content: flex-start; width: 100% }\n",
       "    .wandb-col { display: flex; flex-direction: column; flex-basis: 100%; flex: 1; padding: 10px; }\n",
       "    </style>\n",
       "<div class=\"wandb-row\"><div class=\"wandb-col\"><h3>Run history:</h3><br/><table class=\"wandb\"><tr><td>1extr</td><td>▁</td></tr><tr><td>2agre</td><td>▁</td></tr><tr><td>3cons</td><td>▁</td></tr><tr><td>4neur</td><td>▁</td></tr><tr><td>5open</td><td>▁</td></tr><tr><td>acc</td><td>▁</td></tr></table><br/></div><div class=\"wandb-col\"><h3>Run summary:</h3><br/><table class=\"wandb\"><tr><td>1extr</td><td>0</td></tr><tr><td>2agre</td><td>0</td></tr><tr><td>3cons</td><td>0</td></tr><tr><td>4neur</td><td>0</td></tr><tr><td>5open</td><td>1</td></tr><tr><td>acc</td><td>0.2</td></tr></table><br/></div></div>"
      ],
      "text/plain": [
       "<IPython.core.display.HTML object>"
      ]
     },
     "metadata": {},
     "output_type": "display_data"
    },
    {
     "data": {
      "text/html": [
       " View run <strong style=\"color:#cdcd00\">1911F7002</strong> at: <a href='https://wandb.ai/r-yanagimoto/svm/runs/w8pdypeh' target=\"_blank\">https://wandb.ai/r-yanagimoto/svm/runs/w8pdypeh</a><br/>Synced 6 W&B file(s), 0 media file(s), 0 artifact file(s) and 0 other file(s)"
      ],
      "text/plain": [
       "<IPython.core.display.HTML object>"
      ]
     },
     "metadata": {},
     "output_type": "display_data"
    },
    {
     "data": {
      "text/html": [
       "Find logs at: <code>./wandb/run-20230227_145937-w8pdypeh/logs</code>"
      ],
      "text/plain": [
       "<IPython.core.display.HTML object>"
      ]
     },
     "metadata": {},
     "output_type": "display_data"
    },
    {
     "data": {
      "text/html": [
       "Successfully finished last run (ID:w8pdypeh). Initializing new run:<br/>"
      ],
      "text/plain": [
       "<IPython.core.display.HTML object>"
      ]
     },
     "metadata": {},
     "output_type": "display_data"
    },
    {
     "data": {
      "text/html": [
       "Tracking run with wandb version 0.13.10"
      ],
      "text/plain": [
       "<IPython.core.display.HTML object>"
      ]
     },
     "metadata": {},
     "output_type": "display_data"
    },
    {
     "data": {
      "text/html": [
       "Run data is saved locally in <code>/home/ryoyanagimoto/persona/src/wandb/run-20230227_145957-tjc48uvk</code>"
      ],
      "text/plain": [
       "<IPython.core.display.HTML object>"
      ]
     },
     "metadata": {},
     "output_type": "display_data"
    },
    {
     "data": {
      "text/html": [
       "Syncing run <strong><a href='https://wandb.ai/r-yanagimoto/svm/runs/tjc48uvk' target=\"_blank\">1911M2001</a></strong> to <a href='https://wandb.ai/r-yanagimoto/svm' target=\"_blank\">Weights & Biases</a> (<a href='https://wandb.me/run' target=\"_blank\">docs</a>)<br/>"
      ],
      "text/plain": [
       "<IPython.core.display.HTML object>"
      ]
     },
     "metadata": {},
     "output_type": "display_data"
    },
    {
     "data": {
      "text/html": [
       " View project at <a href='https://wandb.ai/r-yanagimoto/svm' target=\"_blank\">https://wandb.ai/r-yanagimoto/svm</a>"
      ],
      "text/plain": [
       "<IPython.core.display.HTML object>"
      ]
     },
     "metadata": {},
     "output_type": "display_data"
    },
    {
     "data": {
      "text/html": [
       " View run at <a href='https://wandb.ai/r-yanagimoto/svm/runs/tjc48uvk' target=\"_blank\">https://wandb.ai/r-yanagimoto/svm/runs/tjc48uvk</a>"
      ],
      "text/plain": [
       "<IPython.core.display.HTML object>"
      ]
     },
     "metadata": {},
     "output_type": "display_data"
    },
    {
     "name": "stderr",
     "output_type": "stream",
     "text": [
      "wandb: ERROR Dropped streaming file chunk (see wandb/debug-internal.log)\n"
     ]
    },
    {
     "name": "stdout",
     "output_type": "stream",
     "text": [
      "1911M2001 : [1, 1, 1, 0, 1]\n"
     ]
    },
    {
     "data": {
      "text/html": [
       "Finishing last run (ID:tjc48uvk) before initializing another..."
      ],
      "text/plain": [
       "<IPython.core.display.HTML object>"
      ]
     },
     "metadata": {},
     "output_type": "display_data"
    },
    {
     "data": {
      "text/html": [
       "Waiting for W&B process to finish... <strong style=\"color:green\">(success).</strong>"
      ],
      "text/plain": [
       "<IPython.core.display.HTML object>"
      ]
     },
     "metadata": {},
     "output_type": "display_data"
    },
    {
     "data": {
      "text/html": [
       "<style>\n",
       "    table.wandb td:nth-child(1) { padding: 0 10px; text-align: left ; width: auto;} td:nth-child(2) {text-align: left ; width: 100%}\n",
       "    .wandb-row { display: flex; flex-direction: row; flex-wrap: wrap; justify-content: flex-start; width: 100% }\n",
       "    .wandb-col { display: flex; flex-direction: column; flex-basis: 100%; flex: 1; padding: 10px; }\n",
       "    </style>\n",
       "<div class=\"wandb-row\"><div class=\"wandb-col\"><h3>Run history:</h3><br/><table class=\"wandb\"><tr><td>1extr</td><td>▁</td></tr><tr><td>2agre</td><td>▁</td></tr><tr><td>3cons</td><td>▁</td></tr><tr><td>4neur</td><td>▁</td></tr><tr><td>5open</td><td>▁</td></tr><tr><td>acc</td><td>▁</td></tr></table><br/></div><div class=\"wandb-col\"><h3>Run summary:</h3><br/><table class=\"wandb\"><tr><td>1extr</td><td>1</td></tr><tr><td>2agre</td><td>1</td></tr><tr><td>3cons</td><td>1</td></tr><tr><td>4neur</td><td>0</td></tr><tr><td>5open</td><td>1</td></tr><tr><td>acc</td><td>0.8</td></tr></table><br/></div></div>"
      ],
      "text/plain": [
       "<IPython.core.display.HTML object>"
      ]
     },
     "metadata": {},
     "output_type": "display_data"
    },
    {
     "data": {
      "text/html": [
       " View run <strong style=\"color:#cdcd00\">1911M2001</strong> at: <a href='https://wandb.ai/r-yanagimoto/svm/runs/tjc48uvk' target=\"_blank\">https://wandb.ai/r-yanagimoto/svm/runs/tjc48uvk</a><br/>Synced 6 W&B file(s), 0 media file(s), 0 artifact file(s) and 0 other file(s)"
      ],
      "text/plain": [
       "<IPython.core.display.HTML object>"
      ]
     },
     "metadata": {},
     "output_type": "display_data"
    },
    {
     "data": {
      "text/html": [
       "Find logs at: <code>./wandb/run-20230227_145957-tjc48uvk/logs</code>"
      ],
      "text/plain": [
       "<IPython.core.display.HTML object>"
      ]
     },
     "metadata": {},
     "output_type": "display_data"
    },
    {
     "data": {
      "text/html": [
       "Successfully finished last run (ID:tjc48uvk). Initializing new run:<br/>"
      ],
      "text/plain": [
       "<IPython.core.display.HTML object>"
      ]
     },
     "metadata": {},
     "output_type": "display_data"
    },
    {
     "data": {
      "text/html": [
       "Tracking run with wandb version 0.13.10"
      ],
      "text/plain": [
       "<IPython.core.display.HTML object>"
      ]
     },
     "metadata": {},
     "output_type": "display_data"
    },
    {
     "data": {
      "text/html": [
       "Run data is saved locally in <code>/home/ryoyanagimoto/persona/src/wandb/run-20230227_150019-9gzk8xz2</code>"
      ],
      "text/plain": [
       "<IPython.core.display.HTML object>"
      ]
     },
     "metadata": {},
     "output_type": "display_data"
    },
    {
     "data": {
      "text/html": [
       "Syncing run <strong><a href='https://wandb.ai/r-yanagimoto/svm/runs/9gzk8xz2' target=\"_blank\">1911M2002</a></strong> to <a href='https://wandb.ai/r-yanagimoto/svm' target=\"_blank\">Weights & Biases</a> (<a href='https://wandb.me/run' target=\"_blank\">docs</a>)<br/>"
      ],
      "text/plain": [
       "<IPython.core.display.HTML object>"
      ]
     },
     "metadata": {},
     "output_type": "display_data"
    },
    {
     "data": {
      "text/html": [
       " View project at <a href='https://wandb.ai/r-yanagimoto/svm' target=\"_blank\">https://wandb.ai/r-yanagimoto/svm</a>"
      ],
      "text/plain": [
       "<IPython.core.display.HTML object>"
      ]
     },
     "metadata": {},
     "output_type": "display_data"
    },
    {
     "data": {
      "text/html": [
       " View run at <a href='https://wandb.ai/r-yanagimoto/svm/runs/9gzk8xz2' target=\"_blank\">https://wandb.ai/r-yanagimoto/svm/runs/9gzk8xz2</a>"
      ],
      "text/plain": [
       "<IPython.core.display.HTML object>"
      ]
     },
     "metadata": {},
     "output_type": "display_data"
    },
    {
     "name": "stdout",
     "output_type": "stream",
     "text": [
      "1911M2002 : [0, 1, 1, 0, 0]\n"
     ]
    },
    {
     "data": {
      "text/html": [
       "Finishing last run (ID:9gzk8xz2) before initializing another..."
      ],
      "text/plain": [
       "<IPython.core.display.HTML object>"
      ]
     },
     "metadata": {},
     "output_type": "display_data"
    },
    {
     "data": {
      "text/html": [
       "Waiting for W&B process to finish... <strong style=\"color:green\">(success).</strong>"
      ],
      "text/plain": [
       "<IPython.core.display.HTML object>"
      ]
     },
     "metadata": {},
     "output_type": "display_data"
    },
    {
     "data": {
      "text/html": [
       "<style>\n",
       "    table.wandb td:nth-child(1) { padding: 0 10px; text-align: left ; width: auto;} td:nth-child(2) {text-align: left ; width: 100%}\n",
       "    .wandb-row { display: flex; flex-direction: row; flex-wrap: wrap; justify-content: flex-start; width: 100% }\n",
       "    .wandb-col { display: flex; flex-direction: column; flex-basis: 100%; flex: 1; padding: 10px; }\n",
       "    </style>\n",
       "<div class=\"wandb-row\"><div class=\"wandb-col\"><h3>Run history:</h3><br/><table class=\"wandb\"><tr><td>1extr</td><td>▁</td></tr><tr><td>2agre</td><td>▁</td></tr><tr><td>3cons</td><td>▁</td></tr><tr><td>4neur</td><td>▁</td></tr><tr><td>5open</td><td>▁</td></tr><tr><td>acc</td><td>▁</td></tr></table><br/></div><div class=\"wandb-col\"><h3>Run summary:</h3><br/><table class=\"wandb\"><tr><td>1extr</td><td>0</td></tr><tr><td>2agre</td><td>1</td></tr><tr><td>3cons</td><td>1</td></tr><tr><td>4neur</td><td>0</td></tr><tr><td>5open</td><td>0</td></tr><tr><td>acc</td><td>0.4</td></tr></table><br/></div></div>"
      ],
      "text/plain": [
       "<IPython.core.display.HTML object>"
      ]
     },
     "metadata": {},
     "output_type": "display_data"
    },
    {
     "data": {
      "text/html": [
       " View run <strong style=\"color:#cdcd00\">1911M2002</strong> at: <a href='https://wandb.ai/r-yanagimoto/svm/runs/9gzk8xz2' target=\"_blank\">https://wandb.ai/r-yanagimoto/svm/runs/9gzk8xz2</a><br/>Synced 6 W&B file(s), 0 media file(s), 0 artifact file(s) and 0 other file(s)"
      ],
      "text/plain": [
       "<IPython.core.display.HTML object>"
      ]
     },
     "metadata": {},
     "output_type": "display_data"
    },
    {
     "data": {
      "text/html": [
       "Find logs at: <code>./wandb/run-20230227_150019-9gzk8xz2/logs</code>"
      ],
      "text/plain": [
       "<IPython.core.display.HTML object>"
      ]
     },
     "metadata": {},
     "output_type": "display_data"
    },
    {
     "data": {
      "text/html": [
       "Successfully finished last run (ID:9gzk8xz2). Initializing new run:<br/>"
      ],
      "text/plain": [
       "<IPython.core.display.HTML object>"
      ]
     },
     "metadata": {},
     "output_type": "display_data"
    },
    {
     "name": "stderr",
     "output_type": "stream",
     "text": [
      "wandb: ERROR Dropped streaming file chunk (see wandb/debug-internal.log)\n"
     ]
    },
    {
     "data": {
      "text/html": [
       "Tracking run with wandb version 0.13.10"
      ],
      "text/plain": [
       "<IPython.core.display.HTML object>"
      ]
     },
     "metadata": {},
     "output_type": "display_data"
    },
    {
     "data": {
      "text/html": [
       "Run data is saved locally in <code>/home/ryoyanagimoto/persona/src/wandb/run-20230227_150040-csvc12o2</code>"
      ],
      "text/plain": [
       "<IPython.core.display.HTML object>"
      ]
     },
     "metadata": {},
     "output_type": "display_data"
    },
    {
     "data": {
      "text/html": [
       "Syncing run <strong><a href='https://wandb.ai/r-yanagimoto/svm/runs/csvc12o2' target=\"_blank\">1911M2003</a></strong> to <a href='https://wandb.ai/r-yanagimoto/svm' target=\"_blank\">Weights & Biases</a> (<a href='https://wandb.me/run' target=\"_blank\">docs</a>)<br/>"
      ],
      "text/plain": [
       "<IPython.core.display.HTML object>"
      ]
     },
     "metadata": {},
     "output_type": "display_data"
    },
    {
     "data": {
      "text/html": [
       " View project at <a href='https://wandb.ai/r-yanagimoto/svm' target=\"_blank\">https://wandb.ai/r-yanagimoto/svm</a>"
      ],
      "text/plain": [
       "<IPython.core.display.HTML object>"
      ]
     },
     "metadata": {},
     "output_type": "display_data"
    },
    {
     "data": {
      "text/html": [
       " View run at <a href='https://wandb.ai/r-yanagimoto/svm/runs/csvc12o2' target=\"_blank\">https://wandb.ai/r-yanagimoto/svm/runs/csvc12o2</a>"
      ],
      "text/plain": [
       "<IPython.core.display.HTML object>"
      ]
     },
     "metadata": {},
     "output_type": "display_data"
    },
    {
     "name": "stdout",
     "output_type": "stream",
     "text": [
      "1911M2003 : [0, 1, 1, 1, 0]\n"
     ]
    },
    {
     "data": {
      "text/html": [
       "Finishing last run (ID:csvc12o2) before initializing another..."
      ],
      "text/plain": [
       "<IPython.core.display.HTML object>"
      ]
     },
     "metadata": {},
     "output_type": "display_data"
    },
    {
     "data": {
      "text/html": [
       "Waiting for W&B process to finish... <strong style=\"color:green\">(success).</strong>"
      ],
      "text/plain": [
       "<IPython.core.display.HTML object>"
      ]
     },
     "metadata": {},
     "output_type": "display_data"
    },
    {
     "data": {
      "text/html": [
       "<style>\n",
       "    table.wandb td:nth-child(1) { padding: 0 10px; text-align: left ; width: auto;} td:nth-child(2) {text-align: left ; width: 100%}\n",
       "    .wandb-row { display: flex; flex-direction: row; flex-wrap: wrap; justify-content: flex-start; width: 100% }\n",
       "    .wandb-col { display: flex; flex-direction: column; flex-basis: 100%; flex: 1; padding: 10px; }\n",
       "    </style>\n",
       "<div class=\"wandb-row\"><div class=\"wandb-col\"><h3>Run history:</h3><br/><table class=\"wandb\"><tr><td>1extr</td><td>▁</td></tr><tr><td>2agre</td><td>▁</td></tr><tr><td>3cons</td><td>▁</td></tr><tr><td>4neur</td><td>▁</td></tr><tr><td>5open</td><td>▁</td></tr><tr><td>acc</td><td>▁</td></tr></table><br/></div><div class=\"wandb-col\"><h3>Run summary:</h3><br/><table class=\"wandb\"><tr><td>1extr</td><td>0</td></tr><tr><td>2agre</td><td>1</td></tr><tr><td>3cons</td><td>1</td></tr><tr><td>4neur</td><td>1</td></tr><tr><td>5open</td><td>0</td></tr><tr><td>acc</td><td>0.6</td></tr></table><br/></div></div>"
      ],
      "text/plain": [
       "<IPython.core.display.HTML object>"
      ]
     },
     "metadata": {},
     "output_type": "display_data"
    },
    {
     "data": {
      "text/html": [
       " View run <strong style=\"color:#cdcd00\">1911M2003</strong> at: <a href='https://wandb.ai/r-yanagimoto/svm/runs/csvc12o2' target=\"_blank\">https://wandb.ai/r-yanagimoto/svm/runs/csvc12o2</a><br/>Synced 6 W&B file(s), 0 media file(s), 0 artifact file(s) and 0 other file(s)"
      ],
      "text/plain": [
       "<IPython.core.display.HTML object>"
      ]
     },
     "metadata": {},
     "output_type": "display_data"
    },
    {
     "data": {
      "text/html": [
       "Find logs at: <code>./wandb/run-20230227_150040-csvc12o2/logs</code>"
      ],
      "text/plain": [
       "<IPython.core.display.HTML object>"
      ]
     },
     "metadata": {},
     "output_type": "display_data"
    },
    {
     "data": {
      "text/html": [
       "Successfully finished last run (ID:csvc12o2). Initializing new run:<br/>"
      ],
      "text/plain": [
       "<IPython.core.display.HTML object>"
      ]
     },
     "metadata": {},
     "output_type": "display_data"
    },
    {
     "data": {
      "text/html": [
       "Tracking run with wandb version 0.13.10"
      ],
      "text/plain": [
       "<IPython.core.display.HTML object>"
      ]
     },
     "metadata": {},
     "output_type": "display_data"
    },
    {
     "data": {
      "text/html": [
       "Run data is saved locally in <code>/home/ryoyanagimoto/persona/src/wandb/run-20230227_150102-tetna77i</code>"
      ],
      "text/plain": [
       "<IPython.core.display.HTML object>"
      ]
     },
     "metadata": {},
     "output_type": "display_data"
    },
    {
     "data": {
      "text/html": [
       "Syncing run <strong><a href='https://wandb.ai/r-yanagimoto/svm/runs/tetna77i' target=\"_blank\">1911M4001</a></strong> to <a href='https://wandb.ai/r-yanagimoto/svm' target=\"_blank\">Weights & Biases</a> (<a href='https://wandb.me/run' target=\"_blank\">docs</a>)<br/>"
      ],
      "text/plain": [
       "<IPython.core.display.HTML object>"
      ]
     },
     "metadata": {},
     "output_type": "display_data"
    },
    {
     "data": {
      "text/html": [
       " View project at <a href='https://wandb.ai/r-yanagimoto/svm' target=\"_blank\">https://wandb.ai/r-yanagimoto/svm</a>"
      ],
      "text/plain": [
       "<IPython.core.display.HTML object>"
      ]
     },
     "metadata": {},
     "output_type": "display_data"
    },
    {
     "data": {
      "text/html": [
       " View run at <a href='https://wandb.ai/r-yanagimoto/svm/runs/tetna77i' target=\"_blank\">https://wandb.ai/r-yanagimoto/svm/runs/tetna77i</a>"
      ],
      "text/plain": [
       "<IPython.core.display.HTML object>"
      ]
     },
     "metadata": {},
     "output_type": "display_data"
    },
    {
     "name": "stderr",
     "output_type": "stream",
     "text": [
      "wandb: ERROR Dropped streaming file chunk (see wandb/debug-internal.log)\n"
     ]
    },
    {
     "name": "stdout",
     "output_type": "stream",
     "text": [
      "1911M4001 : [1, 1, 0, 0, 1]\n"
     ]
    },
    {
     "data": {
      "text/html": [
       "Finishing last run (ID:tetna77i) before initializing another..."
      ],
      "text/plain": [
       "<IPython.core.display.HTML object>"
      ]
     },
     "metadata": {},
     "output_type": "display_data"
    },
    {
     "data": {
      "text/html": [
       "Waiting for W&B process to finish... <strong style=\"color:green\">(success).</strong>"
      ],
      "text/plain": [
       "<IPython.core.display.HTML object>"
      ]
     },
     "metadata": {},
     "output_type": "display_data"
    },
    {
     "data": {
      "text/html": [
       "<style>\n",
       "    table.wandb td:nth-child(1) { padding: 0 10px; text-align: left ; width: auto;} td:nth-child(2) {text-align: left ; width: 100%}\n",
       "    .wandb-row { display: flex; flex-direction: row; flex-wrap: wrap; justify-content: flex-start; width: 100% }\n",
       "    .wandb-col { display: flex; flex-direction: column; flex-basis: 100%; flex: 1; padding: 10px; }\n",
       "    </style>\n",
       "<div class=\"wandb-row\"><div class=\"wandb-col\"><h3>Run history:</h3><br/><table class=\"wandb\"><tr><td>1extr</td><td>▁</td></tr><tr><td>2agre</td><td>▁</td></tr><tr><td>3cons</td><td>▁</td></tr><tr><td>4neur</td><td>▁</td></tr><tr><td>5open</td><td>▁</td></tr><tr><td>acc</td><td>▁</td></tr></table><br/></div><div class=\"wandb-col\"><h3>Run summary:</h3><br/><table class=\"wandb\"><tr><td>1extr</td><td>1</td></tr><tr><td>2agre</td><td>1</td></tr><tr><td>3cons</td><td>0</td></tr><tr><td>4neur</td><td>0</td></tr><tr><td>5open</td><td>1</td></tr><tr><td>acc</td><td>0.6</td></tr></table><br/></div></div>"
      ],
      "text/plain": [
       "<IPython.core.display.HTML object>"
      ]
     },
     "metadata": {},
     "output_type": "display_data"
    },
    {
     "data": {
      "text/html": [
       " View run <strong style=\"color:#cdcd00\">1911M4001</strong> at: <a href='https://wandb.ai/r-yanagimoto/svm/runs/tetna77i' target=\"_blank\">https://wandb.ai/r-yanagimoto/svm/runs/tetna77i</a><br/>Synced 6 W&B file(s), 0 media file(s), 0 artifact file(s) and 0 other file(s)"
      ],
      "text/plain": [
       "<IPython.core.display.HTML object>"
      ]
     },
     "metadata": {},
     "output_type": "display_data"
    },
    {
     "data": {
      "text/html": [
       "Find logs at: <code>./wandb/run-20230227_150102-tetna77i/logs</code>"
      ],
      "text/plain": [
       "<IPython.core.display.HTML object>"
      ]
     },
     "metadata": {},
     "output_type": "display_data"
    },
    {
     "data": {
      "text/html": [
       "Successfully finished last run (ID:tetna77i). Initializing new run:<br/>"
      ],
      "text/plain": [
       "<IPython.core.display.HTML object>"
      ]
     },
     "metadata": {},
     "output_type": "display_data"
    },
    {
     "data": {
      "text/html": [
       "Tracking run with wandb version 0.13.10"
      ],
      "text/plain": [
       "<IPython.core.display.HTML object>"
      ]
     },
     "metadata": {},
     "output_type": "display_data"
    },
    {
     "data": {
      "text/html": [
       "Run data is saved locally in <code>/home/ryoyanagimoto/persona/src/wandb/run-20230227_150123-1qgo70h8</code>"
      ],
      "text/plain": [
       "<IPython.core.display.HTML object>"
      ]
     },
     "metadata": {},
     "output_type": "display_data"
    },
    {
     "data": {
      "text/html": [
       "Syncing run <strong><a href='https://wandb.ai/r-yanagimoto/svm/runs/1qgo70h8' target=\"_blank\">1911M4002</a></strong> to <a href='https://wandb.ai/r-yanagimoto/svm' target=\"_blank\">Weights & Biases</a> (<a href='https://wandb.me/run' target=\"_blank\">docs</a>)<br/>"
      ],
      "text/plain": [
       "<IPython.core.display.HTML object>"
      ]
     },
     "metadata": {},
     "output_type": "display_data"
    },
    {
     "data": {
      "text/html": [
       " View project at <a href='https://wandb.ai/r-yanagimoto/svm' target=\"_blank\">https://wandb.ai/r-yanagimoto/svm</a>"
      ],
      "text/plain": [
       "<IPython.core.display.HTML object>"
      ]
     },
     "metadata": {},
     "output_type": "display_data"
    },
    {
     "data": {
      "text/html": [
       " View run at <a href='https://wandb.ai/r-yanagimoto/svm/runs/1qgo70h8' target=\"_blank\">https://wandb.ai/r-yanagimoto/svm/runs/1qgo70h8</a>"
      ],
      "text/plain": [
       "<IPython.core.display.HTML object>"
      ]
     },
     "metadata": {},
     "output_type": "display_data"
    },
    {
     "name": "stdout",
     "output_type": "stream",
     "text": [
      "1911M4002 : [1, 1, 1, 1, 0]\n"
     ]
    },
    {
     "data": {
      "text/html": [
       "Finishing last run (ID:1qgo70h8) before initializing another..."
      ],
      "text/plain": [
       "<IPython.core.display.HTML object>"
      ]
     },
     "metadata": {},
     "output_type": "display_data"
    },
    {
     "data": {
      "text/html": [
       "Waiting for W&B process to finish... <strong style=\"color:green\">(success).</strong>"
      ],
      "text/plain": [
       "<IPython.core.display.HTML object>"
      ]
     },
     "metadata": {},
     "output_type": "display_data"
    },
    {
     "name": "stderr",
     "output_type": "stream",
     "text": [
      "wandb: ERROR Dropped streaming file chunk (see wandb/debug-internal.log)\n"
     ]
    },
    {
     "data": {
      "text/html": [
       "<style>\n",
       "    table.wandb td:nth-child(1) { padding: 0 10px; text-align: left ; width: auto;} td:nth-child(2) {text-align: left ; width: 100%}\n",
       "    .wandb-row { display: flex; flex-direction: row; flex-wrap: wrap; justify-content: flex-start; width: 100% }\n",
       "    .wandb-col { display: flex; flex-direction: column; flex-basis: 100%; flex: 1; padding: 10px; }\n",
       "    </style>\n",
       "<div class=\"wandb-row\"><div class=\"wandb-col\"><h3>Run history:</h3><br/><table class=\"wandb\"><tr><td>1extr</td><td>▁</td></tr><tr><td>2agre</td><td>▁</td></tr><tr><td>3cons</td><td>▁</td></tr><tr><td>4neur</td><td>▁</td></tr><tr><td>5open</td><td>▁</td></tr><tr><td>acc</td><td>▁</td></tr></table><br/></div><div class=\"wandb-col\"><h3>Run summary:</h3><br/><table class=\"wandb\"><tr><td>1extr</td><td>1</td></tr><tr><td>2agre</td><td>1</td></tr><tr><td>3cons</td><td>1</td></tr><tr><td>4neur</td><td>1</td></tr><tr><td>5open</td><td>0</td></tr><tr><td>acc</td><td>0.8</td></tr></table><br/></div></div>"
      ],
      "text/plain": [
       "<IPython.core.display.HTML object>"
      ]
     },
     "metadata": {},
     "output_type": "display_data"
    },
    {
     "data": {
      "text/html": [
       " View run <strong style=\"color:#cdcd00\">1911M4002</strong> at: <a href='https://wandb.ai/r-yanagimoto/svm/runs/1qgo70h8' target=\"_blank\">https://wandb.ai/r-yanagimoto/svm/runs/1qgo70h8</a><br/>Synced 6 W&B file(s), 0 media file(s), 0 artifact file(s) and 0 other file(s)"
      ],
      "text/plain": [
       "<IPython.core.display.HTML object>"
      ]
     },
     "metadata": {},
     "output_type": "display_data"
    },
    {
     "data": {
      "text/html": [
       "Find logs at: <code>./wandb/run-20230227_150123-1qgo70h8/logs</code>"
      ],
      "text/plain": [
       "<IPython.core.display.HTML object>"
      ]
     },
     "metadata": {},
     "output_type": "display_data"
    },
    {
     "data": {
      "text/html": [
       "Successfully finished last run (ID:1qgo70h8). Initializing new run:<br/>"
      ],
      "text/plain": [
       "<IPython.core.display.HTML object>"
      ]
     },
     "metadata": {},
     "output_type": "display_data"
    },
    {
     "data": {
      "text/html": [
       "Tracking run with wandb version 0.13.10"
      ],
      "text/plain": [
       "<IPython.core.display.HTML object>"
      ]
     },
     "metadata": {},
     "output_type": "display_data"
    },
    {
     "data": {
      "text/html": [
       "Run data is saved locally in <code>/home/ryoyanagimoto/persona/src/wandb/run-20230227_150143-plhnmxo2</code>"
      ],
      "text/plain": [
       "<IPython.core.display.HTML object>"
      ]
     },
     "metadata": {},
     "output_type": "display_data"
    },
    {
     "data": {
      "text/html": [
       "Syncing run <strong><a href='https://wandb.ai/r-yanagimoto/svm/runs/plhnmxo2' target=\"_blank\">1911M5001</a></strong> to <a href='https://wandb.ai/r-yanagimoto/svm' target=\"_blank\">Weights & Biases</a> (<a href='https://wandb.me/run' target=\"_blank\">docs</a>)<br/>"
      ],
      "text/plain": [
       "<IPython.core.display.HTML object>"
      ]
     },
     "metadata": {},
     "output_type": "display_data"
    },
    {
     "data": {
      "text/html": [
       " View project at <a href='https://wandb.ai/r-yanagimoto/svm' target=\"_blank\">https://wandb.ai/r-yanagimoto/svm</a>"
      ],
      "text/plain": [
       "<IPython.core.display.HTML object>"
      ]
     },
     "metadata": {},
     "output_type": "display_data"
    },
    {
     "data": {
      "text/html": [
       " View run at <a href='https://wandb.ai/r-yanagimoto/svm/runs/plhnmxo2' target=\"_blank\">https://wandb.ai/r-yanagimoto/svm/runs/plhnmxo2</a>"
      ],
      "text/plain": [
       "<IPython.core.display.HTML object>"
      ]
     },
     "metadata": {},
     "output_type": "display_data"
    },
    {
     "name": "stdout",
     "output_type": "stream",
     "text": [
      "1911M5001 : [1, 0, 0, 0, 1]\n"
     ]
    },
    {
     "data": {
      "text/html": [
       "Finishing last run (ID:plhnmxo2) before initializing another..."
      ],
      "text/plain": [
       "<IPython.core.display.HTML object>"
      ]
     },
     "metadata": {},
     "output_type": "display_data"
    },
    {
     "data": {
      "text/html": [
       "Waiting for W&B process to finish... <strong style=\"color:green\">(success).</strong>"
      ],
      "text/plain": [
       "<IPython.core.display.HTML object>"
      ]
     },
     "metadata": {},
     "output_type": "display_data"
    },
    {
     "data": {
      "text/html": [
       "<style>\n",
       "    table.wandb td:nth-child(1) { padding: 0 10px; text-align: left ; width: auto;} td:nth-child(2) {text-align: left ; width: 100%}\n",
       "    .wandb-row { display: flex; flex-direction: row; flex-wrap: wrap; justify-content: flex-start; width: 100% }\n",
       "    .wandb-col { display: flex; flex-direction: column; flex-basis: 100%; flex: 1; padding: 10px; }\n",
       "    </style>\n",
       "<div class=\"wandb-row\"><div class=\"wandb-col\"><h3>Run history:</h3><br/><table class=\"wandb\"><tr><td>1extr</td><td>▁</td></tr><tr><td>2agre</td><td>▁</td></tr><tr><td>3cons</td><td>▁</td></tr><tr><td>4neur</td><td>▁</td></tr><tr><td>5open</td><td>▁</td></tr><tr><td>acc</td><td>▁</td></tr></table><br/></div><div class=\"wandb-col\"><h3>Run summary:</h3><br/><table class=\"wandb\"><tr><td>1extr</td><td>1</td></tr><tr><td>2agre</td><td>0</td></tr><tr><td>3cons</td><td>0</td></tr><tr><td>4neur</td><td>0</td></tr><tr><td>5open</td><td>1</td></tr><tr><td>acc</td><td>0.4</td></tr></table><br/></div></div>"
      ],
      "text/plain": [
       "<IPython.core.display.HTML object>"
      ]
     },
     "metadata": {},
     "output_type": "display_data"
    },
    {
     "data": {
      "text/html": [
       " View run <strong style=\"color:#cdcd00\">1911M5001</strong> at: <a href='https://wandb.ai/r-yanagimoto/svm/runs/plhnmxo2' target=\"_blank\">https://wandb.ai/r-yanagimoto/svm/runs/plhnmxo2</a><br/>Synced 6 W&B file(s), 0 media file(s), 0 artifact file(s) and 0 other file(s)"
      ],
      "text/plain": [
       "<IPython.core.display.HTML object>"
      ]
     },
     "metadata": {},
     "output_type": "display_data"
    },
    {
     "data": {
      "text/html": [
       "Find logs at: <code>./wandb/run-20230227_150143-plhnmxo2/logs</code>"
      ],
      "text/plain": [
       "<IPython.core.display.HTML object>"
      ]
     },
     "metadata": {},
     "output_type": "display_data"
    },
    {
     "data": {
      "text/html": [
       "Successfully finished last run (ID:plhnmxo2). Initializing new run:<br/>"
      ],
      "text/plain": [
       "<IPython.core.display.HTML object>"
      ]
     },
     "metadata": {},
     "output_type": "display_data"
    },
    {
     "data": {
      "text/html": [
       "Tracking run with wandb version 0.13.10"
      ],
      "text/plain": [
       "<IPython.core.display.HTML object>"
      ]
     },
     "metadata": {},
     "output_type": "display_data"
    },
    {
     "data": {
      "text/html": [
       "Run data is saved locally in <code>/home/ryoyanagimoto/persona/src/wandb/run-20230227_150203-3v87mr5d</code>"
      ],
      "text/plain": [
       "<IPython.core.display.HTML object>"
      ]
     },
     "metadata": {},
     "output_type": "display_data"
    },
    {
     "data": {
      "text/html": [
       "Syncing run <strong><a href='https://wandb.ai/r-yanagimoto/svm/runs/3v87mr5d' target=\"_blank\">1911M5002</a></strong> to <a href='https://wandb.ai/r-yanagimoto/svm' target=\"_blank\">Weights & Biases</a> (<a href='https://wandb.me/run' target=\"_blank\">docs</a>)<br/>"
      ],
      "text/plain": [
       "<IPython.core.display.HTML object>"
      ]
     },
     "metadata": {},
     "output_type": "display_data"
    },
    {
     "data": {
      "text/html": [
       " View project at <a href='https://wandb.ai/r-yanagimoto/svm' target=\"_blank\">https://wandb.ai/r-yanagimoto/svm</a>"
      ],
      "text/plain": [
       "<IPython.core.display.HTML object>"
      ]
     },
     "metadata": {},
     "output_type": "display_data"
    },
    {
     "data": {
      "text/html": [
       " View run at <a href='https://wandb.ai/r-yanagimoto/svm/runs/3v87mr5d' target=\"_blank\">https://wandb.ai/r-yanagimoto/svm/runs/3v87mr5d</a>"
      ],
      "text/plain": [
       "<IPython.core.display.HTML object>"
      ]
     },
     "metadata": {},
     "output_type": "display_data"
    },
    {
     "name": "stderr",
     "output_type": "stream",
     "text": [
      "wandb: ERROR Dropped streaming file chunk (see wandb/debug-internal.log)\n"
     ]
    },
    {
     "name": "stdout",
     "output_type": "stream",
     "text": [
      "1911M5002 : [1, 0, 0, 1, 1]\n"
     ]
    },
    {
     "data": {
      "text/html": [
       "Finishing last run (ID:3v87mr5d) before initializing another..."
      ],
      "text/plain": [
       "<IPython.core.display.HTML object>"
      ]
     },
     "metadata": {},
     "output_type": "display_data"
    },
    {
     "data": {
      "text/html": [
       "Waiting for W&B process to finish... <strong style=\"color:green\">(success).</strong>"
      ],
      "text/plain": [
       "<IPython.core.display.HTML object>"
      ]
     },
     "metadata": {},
     "output_type": "display_data"
    },
    {
     "data": {
      "text/html": [
       "<style>\n",
       "    table.wandb td:nth-child(1) { padding: 0 10px; text-align: left ; width: auto;} td:nth-child(2) {text-align: left ; width: 100%}\n",
       "    .wandb-row { display: flex; flex-direction: row; flex-wrap: wrap; justify-content: flex-start; width: 100% }\n",
       "    .wandb-col { display: flex; flex-direction: column; flex-basis: 100%; flex: 1; padding: 10px; }\n",
       "    </style>\n",
       "<div class=\"wandb-row\"><div class=\"wandb-col\"><h3>Run history:</h3><br/><table class=\"wandb\"><tr><td>1extr</td><td>▁</td></tr><tr><td>2agre</td><td>▁</td></tr><tr><td>3cons</td><td>▁</td></tr><tr><td>4neur</td><td>▁</td></tr><tr><td>5open</td><td>▁</td></tr><tr><td>acc</td><td>▁</td></tr></table><br/></div><div class=\"wandb-col\"><h3>Run summary:</h3><br/><table class=\"wandb\"><tr><td>1extr</td><td>1</td></tr><tr><td>2agre</td><td>0</td></tr><tr><td>3cons</td><td>0</td></tr><tr><td>4neur</td><td>1</td></tr><tr><td>5open</td><td>1</td></tr><tr><td>acc</td><td>0.6</td></tr></table><br/></div></div>"
      ],
      "text/plain": [
       "<IPython.core.display.HTML object>"
      ]
     },
     "metadata": {},
     "output_type": "display_data"
    },
    {
     "data": {
      "text/html": [
       " View run <strong style=\"color:#cdcd00\">1911M5002</strong> at: <a href='https://wandb.ai/r-yanagimoto/svm/runs/3v87mr5d' target=\"_blank\">https://wandb.ai/r-yanagimoto/svm/runs/3v87mr5d</a><br/>Synced 6 W&B file(s), 0 media file(s), 0 artifact file(s) and 0 other file(s)"
      ],
      "text/plain": [
       "<IPython.core.display.HTML object>"
      ]
     },
     "metadata": {},
     "output_type": "display_data"
    },
    {
     "data": {
      "text/html": [
       "Find logs at: <code>./wandb/run-20230227_150203-3v87mr5d/logs</code>"
      ],
      "text/plain": [
       "<IPython.core.display.HTML object>"
      ]
     },
     "metadata": {},
     "output_type": "display_data"
    },
    {
     "data": {
      "text/html": [
       "Successfully finished last run (ID:3v87mr5d). Initializing new run:<br/>"
      ],
      "text/plain": [
       "<IPython.core.display.HTML object>"
      ]
     },
     "metadata": {},
     "output_type": "display_data"
    },
    {
     "data": {
      "text/html": [
       "Tracking run with wandb version 0.13.10"
      ],
      "text/plain": [
       "<IPython.core.display.HTML object>"
      ]
     },
     "metadata": {},
     "output_type": "display_data"
    },
    {
     "data": {
      "text/html": [
       "Run data is saved locally in <code>/home/ryoyanagimoto/persona/src/wandb/run-20230227_150223-pyr1eppa</code>"
      ],
      "text/plain": [
       "<IPython.core.display.HTML object>"
      ]
     },
     "metadata": {},
     "output_type": "display_data"
    },
    {
     "data": {
      "text/html": [
       "Syncing run <strong><a href='https://wandb.ai/r-yanagimoto/svm/runs/pyr1eppa' target=\"_blank\">1911M6001</a></strong> to <a href='https://wandb.ai/r-yanagimoto/svm' target=\"_blank\">Weights & Biases</a> (<a href='https://wandb.me/run' target=\"_blank\">docs</a>)<br/>"
      ],
      "text/plain": [
       "<IPython.core.display.HTML object>"
      ]
     },
     "metadata": {},
     "output_type": "display_data"
    },
    {
     "data": {
      "text/html": [
       " View project at <a href='https://wandb.ai/r-yanagimoto/svm' target=\"_blank\">https://wandb.ai/r-yanagimoto/svm</a>"
      ],
      "text/plain": [
       "<IPython.core.display.HTML object>"
      ]
     },
     "metadata": {},
     "output_type": "display_data"
    },
    {
     "data": {
      "text/html": [
       " View run at <a href='https://wandb.ai/r-yanagimoto/svm/runs/pyr1eppa' target=\"_blank\">https://wandb.ai/r-yanagimoto/svm/runs/pyr1eppa</a>"
      ],
      "text/plain": [
       "<IPython.core.display.HTML object>"
      ]
     },
     "metadata": {},
     "output_type": "display_data"
    },
    {
     "name": "stdout",
     "output_type": "stream",
     "text": [
      "1911M6001 : [0, 1, 0, 1, 0]\n"
     ]
    },
    {
     "data": {
      "text/html": [
       "Finishing last run (ID:pyr1eppa) before initializing another..."
      ],
      "text/plain": [
       "<IPython.core.display.HTML object>"
      ]
     },
     "metadata": {},
     "output_type": "display_data"
    },
    {
     "data": {
      "text/html": [
       "Waiting for W&B process to finish... <strong style=\"color:green\">(success).</strong>"
      ],
      "text/plain": [
       "<IPython.core.display.HTML object>"
      ]
     },
     "metadata": {},
     "output_type": "display_data"
    },
    {
     "name": "stderr",
     "output_type": "stream",
     "text": [
      "wandb: ERROR Dropped streaming file chunk (see wandb/debug-internal.log)\n"
     ]
    },
    {
     "data": {
      "text/html": [
       "<style>\n",
       "    table.wandb td:nth-child(1) { padding: 0 10px; text-align: left ; width: auto;} td:nth-child(2) {text-align: left ; width: 100%}\n",
       "    .wandb-row { display: flex; flex-direction: row; flex-wrap: wrap; justify-content: flex-start; width: 100% }\n",
       "    .wandb-col { display: flex; flex-direction: column; flex-basis: 100%; flex: 1; padding: 10px; }\n",
       "    </style>\n",
       "<div class=\"wandb-row\"><div class=\"wandb-col\"><h3>Run history:</h3><br/><table class=\"wandb\"><tr><td>1extr</td><td>▁</td></tr><tr><td>2agre</td><td>▁</td></tr><tr><td>3cons</td><td>▁</td></tr><tr><td>4neur</td><td>▁</td></tr><tr><td>5open</td><td>▁</td></tr><tr><td>acc</td><td>▁</td></tr></table><br/></div><div class=\"wandb-col\"><h3>Run summary:</h3><br/><table class=\"wandb\"><tr><td>1extr</td><td>0</td></tr><tr><td>2agre</td><td>1</td></tr><tr><td>3cons</td><td>0</td></tr><tr><td>4neur</td><td>1</td></tr><tr><td>5open</td><td>0</td></tr><tr><td>acc</td><td>0.4</td></tr></table><br/></div></div>"
      ],
      "text/plain": [
       "<IPython.core.display.HTML object>"
      ]
     },
     "metadata": {},
     "output_type": "display_data"
    },
    {
     "data": {
      "text/html": [
       " View run <strong style=\"color:#cdcd00\">1911M6001</strong> at: <a href='https://wandb.ai/r-yanagimoto/svm/runs/pyr1eppa' target=\"_blank\">https://wandb.ai/r-yanagimoto/svm/runs/pyr1eppa</a><br/>Synced 6 W&B file(s), 0 media file(s), 0 artifact file(s) and 0 other file(s)"
      ],
      "text/plain": [
       "<IPython.core.display.HTML object>"
      ]
     },
     "metadata": {},
     "output_type": "display_data"
    },
    {
     "data": {
      "text/html": [
       "Find logs at: <code>./wandb/run-20230227_150223-pyr1eppa/logs</code>"
      ],
      "text/plain": [
       "<IPython.core.display.HTML object>"
      ]
     },
     "metadata": {},
     "output_type": "display_data"
    },
    {
     "data": {
      "text/html": [
       "Successfully finished last run (ID:pyr1eppa). Initializing new run:<br/>"
      ],
      "text/plain": [
       "<IPython.core.display.HTML object>"
      ]
     },
     "metadata": {},
     "output_type": "display_data"
    }
   ],
   "source": [
    "# SVM\n",
    "files = utils.get_files()\n",
    "traits = utils.get_traits()\n",
    "iter = 5\n",
    "project_name = 'svm' \n",
    "group_name = utils.randomname(5)\n",
    "config = {\n",
    "    \"C\": 100,\n",
    "    \"gamma\": 0.001,\n",
    "    \"kernel\": \"sigmoid\"\n",
    "}\n",
    "\n",
    "for _ in range(iter):\n",
    "    for testfile in files:\n",
    "        wandb.init(project=project_name, group=group_name, config=config, name=testfile)\n",
    "        result = []\n",
    "        for i in range(5):\n",
    "            x_train, y_train, x_test, y_test = load_data(testfile, i)\n",
    "\n",
    "            clf = svm.SVC(C=config[\"C\"], gamma=config[\"gamma\"], kernel=config[\"kernel\"]) \n",
    "            history = clf.fit(x_train, y_train) \n",
    "\n",
    "            result.append(1 if clf.score(x_test, y_test) >= 0.5 else 0)\n",
    "\n",
    "        print(f'{testfile} : {result}')\n",
    "        wandb.log({\n",
    "            'acc': sum(result) / len(result),\n",
    "            '1extr': result[0],\n",
    "            '2agre': result[1], \n",
    "            '3cons': result[2], \n",
    "            '4neur': result[3],\n",
    "            '5open': result[4]\n",
    "        })"
   ]
  },
  {
   "cell_type": "code",
   "execution_count": null,
   "metadata": {},
   "outputs": [],
   "source": [
    "# MLP\n",
    "files = utils.get_files()\n",
    "traits = utils.get_traits()\n",
    "\n",
    "for i in range(5):\n",
    "    result = []\n",
    "    for testfile in tqdm(files):\n",
    "        x_train, y_train, x_test, y_test = load_data(testfile, i)\n",
    "\n",
    "        clf = MLPClassifier(hidden_layer_sizes=(256, 256), solver='sgd', learning_rate='adaptive',\\\n",
    "             alpha=0.0001, activation='tanh', early_stopping=True) \n",
    "        history = clf.fit(x_train, y_train) \n",
    "\n",
    "        result.append(1 if clf.score(x_test, y_test) >= 0.5 else 0)\n",
    "\n",
    "    print(f'{traits[i]} : {sum(result) / len(result)}')"
   ]
  },
  {
   "cell_type": "code",
   "execution_count": null,
   "metadata": {},
   "outputs": [],
   "source": [
    "# MLP\n",
    "files = utils.get_files()\n",
    "traits = utils.get_traits()\n",
    "iter = 5\n",
    "project_name = 'mlp' \n",
    "group_name = utils.randomname(5)\n",
    "config = {\n",
    "    \"hidden_layer_size\": (256, 256),\n",
    "    \"solver\": 'sgd',\n",
    "    \"learning_rate\": 'adaptive',\n",
    "    \"alpha\": 0.0001,\n",
    "    \"activation\": 'tanh',\n",
    "    \"early_stopping\": True\n",
    "}\n",
    "\n",
    "for _ in range(iter):\n",
    "    for testfile in files:\n",
    "        wandb.init(project=project_name, group=group_name, config=config, name=testfile)\n",
    "        result = []\n",
    "        for i in range(5):\n",
    "            x_train, y_train, x_test, y_test = load_data(testfile, i)\n",
    "\n",
    "            clf = MLPClassifier(hidden_layer_sizes=config[\"hidden_layer_size\"], solver=config[\"solver\"],\n",
    "                                learning_rate=config[\"learning_rate\"], alpha=config[\"alpha\"],\n",
    "                                activation=config[\"activation\"], early_stopping=config[\"early_stopping\"])\n",
    "            history = clf.fit(x_train, y_train) \n",
    "\n",
    "            result.append(1 if clf.score(x_test, y_test) >= 0.5 else 0)\n",
    "\n",
    "        print(f'{testfile} : {result}')\n",
    "        wandb.log({\n",
    "            'acc': sum(result) / len(result),\n",
    "            '1extr': result[0],\n",
    "            '2agre': result[1], \n",
    "            '3cons': result[2], \n",
    "            '4neur': result[3],\n",
    "            '5open': result[4]\n",
    "        })"
   ]
  },
  {
   "cell_type": "code",
   "execution_count": null,
   "metadata": {},
   "outputs": [],
   "source": [
    "# hyperparameter sweep for SVM\n",
    "\n",
    "sweep_config = {\n",
    "    'method': 'grid'\n",
    "}\n",
    "\n",
    "metric = {\n",
    "    'name': 'acc',\n",
    "    'goal': 'maximize'\n",
    "}\n",
    "\n",
    "sweep_config['metric'] = metric\n",
    "\n",
    "parameters_dict = {\n",
    "    'C': {\n",
    "        'values': [1, 10, 100, 1000]\n",
    "    },\n",
    "    'kernel': {\n",
    "        'values': ['linear', 'rbf', 'poly', 'sigmoid']\n",
    "    },\n",
    "    'gamma': {\n",
    "        'values': ['scale', 0.001, 0.0001]\n",
    "    }\n",
    "}\n",
    "\n",
    "sweep_config['parameters'] = parameters_dict\n",
    "\n",
    "sweep_id = wandb.sweep(sweep_config, project='svm-sweep')\n",
    "\n",
    "files = utils.get_files()\n",
    "traits = utils.get_traits()\n",
    "\n",
    "def train(config=None):\n",
    "    with wandb.init(config=config):\n",
    "        config = wandb.config\n",
    "        accuracy = []\n",
    "        for i in range(5):\n",
    "            result = []\n",
    "            for testfile in files:\n",
    "                x_train, y_train, x_test, y_test = load_data(testfile, i)\n",
    "\n",
    "                clf = svm.SVC(C=config.C, gamma=config.gamma, kernel=config.kernel) \n",
    "                clf.fit(x_train, y_train) \n",
    "\n",
    "                result.append(1 if clf.score(x_test, y_test) >= 0.5 else 0)\n",
    "\n",
    "            accuracy.append(sum(result) / len(result))\n",
    "        acc = sum(accuracy) / len(accuracy)\n",
    "        wandb.log({\n",
    "            \"acc\": acc,\n",
    "            \"1extr\": accuracy[0], \n",
    "            \"2agre\": accuracy[1],\n",
    "            \"3cons\": accuracy[2], \n",
    "            \"4neur\": accuracy[3], \n",
    "            \"5open\": accuracy[4]\n",
    "            })\n",
    "\n",
    "wandb.agent(sweep_id, train)"
   ]
  },
  {
   "cell_type": "code",
   "execution_count": 4,
   "metadata": {},
   "outputs": [
    {
     "name": "stdout",
     "output_type": "stream",
     "text": [
      "Create sweep with ID: r73z8z2k\n",
      "Sweep URL: https://wandb.ai/r-yanagimoto/mlp-sweep/sweeps/r73z8z2k\n"
     ]
    },
    {
     "name": "stderr",
     "output_type": "stream",
     "text": [
      "\u001b[34m\u001b[1mwandb\u001b[0m: Agent Starting Run: vo7zibah with config:\n",
      "\u001b[34m\u001b[1mwandb\u001b[0m: \tactivation: tanh\n",
      "\u001b[34m\u001b[1mwandb\u001b[0m: \talpha: 0.0001\n",
      "\u001b[34m\u001b[1mwandb\u001b[0m: \thidden_layer_sizes: [256, 256]\n",
      "\u001b[34m\u001b[1mwandb\u001b[0m: \tlearning_rate: constant\n",
      "\u001b[34m\u001b[1mwandb\u001b[0m: \tsolver: sgd\n",
      "Failed to detect the name of this notebook, you can set it manually with the WANDB_NOTEBOOK_NAME environment variable to enable code saving.\n"
     ]
    },
    {
     "data": {
      "text/html": [
       "Tracking run with wandb version 0.13.10"
      ],
      "text/plain": [
       "<IPython.core.display.HTML object>"
      ]
     },
     "metadata": {},
     "output_type": "display_data"
    },
    {
     "data": {
      "text/html": [
       "Run data is saved locally in <code>/home/ryoyanagimoto/persona/src/wandb/run-20230213_172650-vo7zibah</code>"
      ],
      "text/plain": [
       "<IPython.core.display.HTML object>"
      ]
     },
     "metadata": {},
     "output_type": "display_data"
    },
    {
     "data": {
      "text/html": [
       "Syncing run <strong><a href='https://wandb.ai/r-yanagimoto/mlp-sweep/runs/vo7zibah' target=\"_blank\">glowing-sweep-1</a></strong> to <a href='https://wandb.ai/r-yanagimoto/mlp-sweep' target=\"_blank\">Weights & Biases</a> (<a href='https://wandb.me/run' target=\"_blank\">docs</a>)<br/>Sweep page: <a href='https://wandb.ai/r-yanagimoto/mlp-sweep/sweeps/r73z8z2k' target=\"_blank\">https://wandb.ai/r-yanagimoto/mlp-sweep/sweeps/r73z8z2k</a>"
      ],
      "text/plain": [
       "<IPython.core.display.HTML object>"
      ]
     },
     "metadata": {},
     "output_type": "display_data"
    },
    {
     "data": {
      "text/html": [
       " View project at <a href='https://wandb.ai/r-yanagimoto/mlp-sweep' target=\"_blank\">https://wandb.ai/r-yanagimoto/mlp-sweep</a>"
      ],
      "text/plain": [
       "<IPython.core.display.HTML object>"
      ]
     },
     "metadata": {},
     "output_type": "display_data"
    },
    {
     "data": {
      "text/html": [
       " View sweep at <a href='https://wandb.ai/r-yanagimoto/mlp-sweep/sweeps/r73z8z2k' target=\"_blank\">https://wandb.ai/r-yanagimoto/mlp-sweep/sweeps/r73z8z2k</a>"
      ],
      "text/plain": [
       "<IPython.core.display.HTML object>"
      ]
     },
     "metadata": {},
     "output_type": "display_data"
    },
    {
     "data": {
      "text/html": [
       " View run at <a href='https://wandb.ai/r-yanagimoto/mlp-sweep/runs/vo7zibah' target=\"_blank\">https://wandb.ai/r-yanagimoto/mlp-sweep/runs/vo7zibah</a>"
      ],
      "text/plain": [
       "<IPython.core.display.HTML object>"
      ]
     },
     "metadata": {},
     "output_type": "display_data"
    },
    {
     "data": {
      "text/html": [
       "Waiting for W&B process to finish... <strong style=\"color:green\">(success).</strong>"
      ],
      "text/plain": [
       "<IPython.core.display.HTML object>"
      ]
     },
     "metadata": {},
     "output_type": "display_data"
    },
    {
     "data": {
      "text/html": [
       "<style>\n",
       "    table.wandb td:nth-child(1) { padding: 0 10px; text-align: left ; width: auto;} td:nth-child(2) {text-align: left ; width: 100%}\n",
       "    .wandb-row { display: flex; flex-direction: row; flex-wrap: wrap; justify-content: flex-start; width: 100% }\n",
       "    .wandb-col { display: flex; flex-direction: column; flex-basis: 100%; flex: 1; padding: 10px; }\n",
       "    </style>\n",
       "<div class=\"wandb-row\"><div class=\"wandb-col\"><h3>Run history:</h3><br/><table class=\"wandb\"><tr><td>1extr</td><td>▁</td></tr><tr><td>2agre</td><td>▁</td></tr><tr><td>3cons</td><td>▁</td></tr><tr><td>4neur</td><td>▁</td></tr><tr><td>5open</td><td>▁</td></tr><tr><td>acc</td><td>▁</td></tr></table><br/></div><div class=\"wandb-col\"><h3>Run summary:</h3><br/><table class=\"wandb\"><tr><td>1extr</td><td>0.57692</td></tr><tr><td>2agre</td><td>0.46154</td></tr><tr><td>3cons</td><td>0.46154</td></tr><tr><td>4neur</td><td>0.5</td></tr><tr><td>5open</td><td>0.57692</td></tr><tr><td>acc</td><td>0.51538</td></tr></table><br/></div></div>"
      ],
      "text/plain": [
       "<IPython.core.display.HTML object>"
      ]
     },
     "metadata": {},
     "output_type": "display_data"
    },
    {
     "data": {
      "text/html": [
       " View run <strong style=\"color:#cdcd00\">glowing-sweep-1</strong> at: <a href='https://wandb.ai/r-yanagimoto/mlp-sweep/runs/vo7zibah' target=\"_blank\">https://wandb.ai/r-yanagimoto/mlp-sweep/runs/vo7zibah</a><br/>Synced 5 W&B file(s), 0 media file(s), 0 artifact file(s) and 0 other file(s)"
      ],
      "text/plain": [
       "<IPython.core.display.HTML object>"
      ]
     },
     "metadata": {},
     "output_type": "display_data"
    },
    {
     "data": {
      "text/html": [
       "Find logs at: <code>./wandb/run-20230213_172650-vo7zibah/logs</code>"
      ],
      "text/plain": [
       "<IPython.core.display.HTML object>"
      ]
     },
     "metadata": {},
     "output_type": "display_data"
    },
    {
     "name": "stderr",
     "output_type": "stream",
     "text": [
      "\u001b[34m\u001b[1mwandb\u001b[0m: Sweep Agent: Waiting for job.\n",
      "\u001b[34m\u001b[1mwandb\u001b[0m: Job received.\n",
      "\u001b[34m\u001b[1mwandb\u001b[0m: Agent Starting Run: my8p1ewz with config:\n",
      "\u001b[34m\u001b[1mwandb\u001b[0m: \tactivation: tanh\n",
      "\u001b[34m\u001b[1mwandb\u001b[0m: \talpha: 0.0001\n",
      "\u001b[34m\u001b[1mwandb\u001b[0m: \thidden_layer_sizes: [256, 256]\n",
      "\u001b[34m\u001b[1mwandb\u001b[0m: \tlearning_rate: constant\n",
      "\u001b[34m\u001b[1mwandb\u001b[0m: \tsolver: adam\n",
      "Failed to detect the name of this notebook, you can set it manually with the WANDB_NOTEBOOK_NAME environment variable to enable code saving.\n"
     ]
    },
    {
     "data": {
      "text/html": [
       "Tracking run with wandb version 0.13.10"
      ],
      "text/plain": [
       "<IPython.core.display.HTML object>"
      ]
     },
     "metadata": {},
     "output_type": "display_data"
    },
    {
     "data": {
      "text/html": [
       "Run data is saved locally in <code>/home/ryoyanagimoto/persona/src/wandb/run-20230213_173501-my8p1ewz</code>"
      ],
      "text/plain": [
       "<IPython.core.display.HTML object>"
      ]
     },
     "metadata": {},
     "output_type": "display_data"
    },
    {
     "data": {
      "text/html": [
       "Syncing run <strong><a href='https://wandb.ai/r-yanagimoto/mlp-sweep/runs/my8p1ewz' target=\"_blank\">volcanic-sweep-2</a></strong> to <a href='https://wandb.ai/r-yanagimoto/mlp-sweep' target=\"_blank\">Weights & Biases</a> (<a href='https://wandb.me/run' target=\"_blank\">docs</a>)<br/>Sweep page: <a href='https://wandb.ai/r-yanagimoto/mlp-sweep/sweeps/r73z8z2k' target=\"_blank\">https://wandb.ai/r-yanagimoto/mlp-sweep/sweeps/r73z8z2k</a>"
      ],
      "text/plain": [
       "<IPython.core.display.HTML object>"
      ]
     },
     "metadata": {},
     "output_type": "display_data"
    },
    {
     "data": {
      "text/html": [
       " View project at <a href='https://wandb.ai/r-yanagimoto/mlp-sweep' target=\"_blank\">https://wandb.ai/r-yanagimoto/mlp-sweep</a>"
      ],
      "text/plain": [
       "<IPython.core.display.HTML object>"
      ]
     },
     "metadata": {},
     "output_type": "display_data"
    },
    {
     "data": {
      "text/html": [
       " View sweep at <a href='https://wandb.ai/r-yanagimoto/mlp-sweep/sweeps/r73z8z2k' target=\"_blank\">https://wandb.ai/r-yanagimoto/mlp-sweep/sweeps/r73z8z2k</a>"
      ],
      "text/plain": [
       "<IPython.core.display.HTML object>"
      ]
     },
     "metadata": {},
     "output_type": "display_data"
    },
    {
     "data": {
      "text/html": [
       " View run at <a href='https://wandb.ai/r-yanagimoto/mlp-sweep/runs/my8p1ewz' target=\"_blank\">https://wandb.ai/r-yanagimoto/mlp-sweep/runs/my8p1ewz</a>"
      ],
      "text/plain": [
       "<IPython.core.display.HTML object>"
      ]
     },
     "metadata": {},
     "output_type": "display_data"
    },
    {
     "data": {
      "text/html": [
       "Waiting for W&B process to finish... <strong style=\"color:green\">(success).</strong>"
      ],
      "text/plain": [
       "<IPython.core.display.HTML object>"
      ]
     },
     "metadata": {},
     "output_type": "display_data"
    },
    {
     "data": {
      "text/html": [
       "<style>\n",
       "    table.wandb td:nth-child(1) { padding: 0 10px; text-align: left ; width: auto;} td:nth-child(2) {text-align: left ; width: 100%}\n",
       "    .wandb-row { display: flex; flex-direction: row; flex-wrap: wrap; justify-content: flex-start; width: 100% }\n",
       "    .wandb-col { display: flex; flex-direction: column; flex-basis: 100%; flex: 1; padding: 10px; }\n",
       "    </style>\n",
       "<div class=\"wandb-row\"><div class=\"wandb-col\"><h3>Run history:</h3><br/><table class=\"wandb\"><tr><td>1extr</td><td>▁</td></tr><tr><td>2agre</td><td>▁</td></tr><tr><td>3cons</td><td>▁</td></tr><tr><td>4neur</td><td>▁</td></tr><tr><td>5open</td><td>▁</td></tr><tr><td>acc</td><td>▁</td></tr></table><br/></div><div class=\"wandb-col\"><h3>Run summary:</h3><br/><table class=\"wandb\"><tr><td>1extr</td><td>0.53846</td></tr><tr><td>2agre</td><td>0.53846</td></tr><tr><td>3cons</td><td>0.34615</td></tr><tr><td>4neur</td><td>0.42308</td></tr><tr><td>5open</td><td>0.38462</td></tr><tr><td>acc</td><td>0.44615</td></tr></table><br/></div></div>"
      ],
      "text/plain": [
       "<IPython.core.display.HTML object>"
      ]
     },
     "metadata": {},
     "output_type": "display_data"
    },
    {
     "data": {
      "text/html": [
       " View run <strong style=\"color:#cdcd00\">volcanic-sweep-2</strong> at: <a href='https://wandb.ai/r-yanagimoto/mlp-sweep/runs/my8p1ewz' target=\"_blank\">https://wandb.ai/r-yanagimoto/mlp-sweep/runs/my8p1ewz</a><br/>Synced 5 W&B file(s), 0 media file(s), 0 artifact file(s) and 0 other file(s)"
      ],
      "text/plain": [
       "<IPython.core.display.HTML object>"
      ]
     },
     "metadata": {},
     "output_type": "display_data"
    },
    {
     "data": {
      "text/html": [
       "Find logs at: <code>./wandb/run-20230213_173501-my8p1ewz/logs</code>"
      ],
      "text/plain": [
       "<IPython.core.display.HTML object>"
      ]
     },
     "metadata": {},
     "output_type": "display_data"
    },
    {
     "name": "stderr",
     "output_type": "stream",
     "text": [
      "\u001b[34m\u001b[1mwandb\u001b[0m: Agent Starting Run: pxf4btx4 with config:\n",
      "\u001b[34m\u001b[1mwandb\u001b[0m: \tactivation: tanh\n",
      "\u001b[34m\u001b[1mwandb\u001b[0m: \talpha: 0.0001\n",
      "\u001b[34m\u001b[1mwandb\u001b[0m: \thidden_layer_sizes: [256, 256]\n",
      "\u001b[34m\u001b[1mwandb\u001b[0m: \tlearning_rate: adaptive\n",
      "\u001b[34m\u001b[1mwandb\u001b[0m: \tsolver: sgd\n",
      "Failed to detect the name of this notebook, you can set it manually with the WANDB_NOTEBOOK_NAME environment variable to enable code saving.\n"
     ]
    },
    {
     "data": {
      "text/html": [
       "Tracking run with wandb version 0.13.10"
      ],
      "text/plain": [
       "<IPython.core.display.HTML object>"
      ]
     },
     "metadata": {},
     "output_type": "display_data"
    },
    {
     "data": {
      "text/html": [
       "Run data is saved locally in <code>/home/ryoyanagimoto/persona/src/wandb/run-20230213_174259-pxf4btx4</code>"
      ],
      "text/plain": [
       "<IPython.core.display.HTML object>"
      ]
     },
     "metadata": {},
     "output_type": "display_data"
    },
    {
     "data": {
      "text/html": [
       "Syncing run <strong><a href='https://wandb.ai/r-yanagimoto/mlp-sweep/runs/pxf4btx4' target=\"_blank\">lyric-sweep-3</a></strong> to <a href='https://wandb.ai/r-yanagimoto/mlp-sweep' target=\"_blank\">Weights & Biases</a> (<a href='https://wandb.me/run' target=\"_blank\">docs</a>)<br/>Sweep page: <a href='https://wandb.ai/r-yanagimoto/mlp-sweep/sweeps/r73z8z2k' target=\"_blank\">https://wandb.ai/r-yanagimoto/mlp-sweep/sweeps/r73z8z2k</a>"
      ],
      "text/plain": [
       "<IPython.core.display.HTML object>"
      ]
     },
     "metadata": {},
     "output_type": "display_data"
    },
    {
     "data": {
      "text/html": [
       " View project at <a href='https://wandb.ai/r-yanagimoto/mlp-sweep' target=\"_blank\">https://wandb.ai/r-yanagimoto/mlp-sweep</a>"
      ],
      "text/plain": [
       "<IPython.core.display.HTML object>"
      ]
     },
     "metadata": {},
     "output_type": "display_data"
    },
    {
     "data": {
      "text/html": [
       " View sweep at <a href='https://wandb.ai/r-yanagimoto/mlp-sweep/sweeps/r73z8z2k' target=\"_blank\">https://wandb.ai/r-yanagimoto/mlp-sweep/sweeps/r73z8z2k</a>"
      ],
      "text/plain": [
       "<IPython.core.display.HTML object>"
      ]
     },
     "metadata": {},
     "output_type": "display_data"
    },
    {
     "data": {
      "text/html": [
       " View run at <a href='https://wandb.ai/r-yanagimoto/mlp-sweep/runs/pxf4btx4' target=\"_blank\">https://wandb.ai/r-yanagimoto/mlp-sweep/runs/pxf4btx4</a>"
      ],
      "text/plain": [
       "<IPython.core.display.HTML object>"
      ]
     },
     "metadata": {},
     "output_type": "display_data"
    },
    {
     "data": {
      "text/html": [
       "Waiting for W&B process to finish... <strong style=\"color:green\">(success).</strong>"
      ],
      "text/plain": [
       "<IPython.core.display.HTML object>"
      ]
     },
     "metadata": {},
     "output_type": "display_data"
    },
    {
     "data": {
      "text/html": [
       "<style>\n",
       "    table.wandb td:nth-child(1) { padding: 0 10px; text-align: left ; width: auto;} td:nth-child(2) {text-align: left ; width: 100%}\n",
       "    .wandb-row { display: flex; flex-direction: row; flex-wrap: wrap; justify-content: flex-start; width: 100% }\n",
       "    .wandb-col { display: flex; flex-direction: column; flex-basis: 100%; flex: 1; padding: 10px; }\n",
       "    </style>\n",
       "<div class=\"wandb-row\"><div class=\"wandb-col\"><h3>Run history:</h3><br/><table class=\"wandb\"><tr><td>1extr</td><td>▁</td></tr><tr><td>2agre</td><td>▁</td></tr><tr><td>3cons</td><td>▁</td></tr><tr><td>4neur</td><td>▁</td></tr><tr><td>5open</td><td>▁</td></tr><tr><td>acc</td><td>▁</td></tr></table><br/></div><div class=\"wandb-col\"><h3>Run summary:</h3><br/><table class=\"wandb\"><tr><td>1extr</td><td>0.57692</td></tr><tr><td>2agre</td><td>0.65385</td></tr><tr><td>3cons</td><td>0.5</td></tr><tr><td>4neur</td><td>0.61538</td></tr><tr><td>5open</td><td>0.57692</td></tr><tr><td>acc</td><td>0.58462</td></tr></table><br/></div></div>"
      ],
      "text/plain": [
       "<IPython.core.display.HTML object>"
      ]
     },
     "metadata": {},
     "output_type": "display_data"
    },
    {
     "data": {
      "text/html": [
       " View run <strong style=\"color:#cdcd00\">lyric-sweep-3</strong> at: <a href='https://wandb.ai/r-yanagimoto/mlp-sweep/runs/pxf4btx4' target=\"_blank\">https://wandb.ai/r-yanagimoto/mlp-sweep/runs/pxf4btx4</a><br/>Synced 5 W&B file(s), 0 media file(s), 0 artifact file(s) and 0 other file(s)"
      ],
      "text/plain": [
       "<IPython.core.display.HTML object>"
      ]
     },
     "metadata": {},
     "output_type": "display_data"
    },
    {
     "data": {
      "text/html": [
       "Find logs at: <code>./wandb/run-20230213_174259-pxf4btx4/logs</code>"
      ],
      "text/plain": [
       "<IPython.core.display.HTML object>"
      ]
     },
     "metadata": {},
     "output_type": "display_data"
    },
    {
     "name": "stderr",
     "output_type": "stream",
     "text": [
      "\u001b[34m\u001b[1mwandb\u001b[0m: Agent Starting Run: pz61iin9 with config:\n",
      "\u001b[34m\u001b[1mwandb\u001b[0m: \tactivation: tanh\n",
      "\u001b[34m\u001b[1mwandb\u001b[0m: \talpha: 0.0001\n",
      "\u001b[34m\u001b[1mwandb\u001b[0m: \thidden_layer_sizes: [256, 256]\n",
      "\u001b[34m\u001b[1mwandb\u001b[0m: \tlearning_rate: adaptive\n",
      "\u001b[34m\u001b[1mwandb\u001b[0m: \tsolver: adam\n",
      "Failed to detect the name of this notebook, you can set it manually with the WANDB_NOTEBOOK_NAME environment variable to enable code saving.\n"
     ]
    },
    {
     "data": {
      "text/html": [
       "Tracking run with wandb version 0.13.10"
      ],
      "text/plain": [
       "<IPython.core.display.HTML object>"
      ]
     },
     "metadata": {},
     "output_type": "display_data"
    },
    {
     "data": {
      "text/html": [
       "Run data is saved locally in <code>/home/ryoyanagimoto/persona/src/wandb/run-20230213_175901-pz61iin9</code>"
      ],
      "text/plain": [
       "<IPython.core.display.HTML object>"
      ]
     },
     "metadata": {},
     "output_type": "display_data"
    },
    {
     "data": {
      "text/html": [
       "Syncing run <strong><a href='https://wandb.ai/r-yanagimoto/mlp-sweep/runs/pz61iin9' target=\"_blank\">apricot-sweep-4</a></strong> to <a href='https://wandb.ai/r-yanagimoto/mlp-sweep' target=\"_blank\">Weights & Biases</a> (<a href='https://wandb.me/run' target=\"_blank\">docs</a>)<br/>Sweep page: <a href='https://wandb.ai/r-yanagimoto/mlp-sweep/sweeps/r73z8z2k' target=\"_blank\">https://wandb.ai/r-yanagimoto/mlp-sweep/sweeps/r73z8z2k</a>"
      ],
      "text/plain": [
       "<IPython.core.display.HTML object>"
      ]
     },
     "metadata": {},
     "output_type": "display_data"
    },
    {
     "data": {
      "text/html": [
       " View project at <a href='https://wandb.ai/r-yanagimoto/mlp-sweep' target=\"_blank\">https://wandb.ai/r-yanagimoto/mlp-sweep</a>"
      ],
      "text/plain": [
       "<IPython.core.display.HTML object>"
      ]
     },
     "metadata": {},
     "output_type": "display_data"
    },
    {
     "data": {
      "text/html": [
       " View sweep at <a href='https://wandb.ai/r-yanagimoto/mlp-sweep/sweeps/r73z8z2k' target=\"_blank\">https://wandb.ai/r-yanagimoto/mlp-sweep/sweeps/r73z8z2k</a>"
      ],
      "text/plain": [
       "<IPython.core.display.HTML object>"
      ]
     },
     "metadata": {},
     "output_type": "display_data"
    },
    {
     "data": {
      "text/html": [
       " View run at <a href='https://wandb.ai/r-yanagimoto/mlp-sweep/runs/pz61iin9' target=\"_blank\">https://wandb.ai/r-yanagimoto/mlp-sweep/runs/pz61iin9</a>"
      ],
      "text/plain": [
       "<IPython.core.display.HTML object>"
      ]
     },
     "metadata": {},
     "output_type": "display_data"
    },
    {
     "data": {
      "text/html": [
       "Waiting for W&B process to finish... <strong style=\"color:green\">(success).</strong>"
      ],
      "text/plain": [
       "<IPython.core.display.HTML object>"
      ]
     },
     "metadata": {},
     "output_type": "display_data"
    },
    {
     "data": {
      "text/html": [
       "<style>\n",
       "    table.wandb td:nth-child(1) { padding: 0 10px; text-align: left ; width: auto;} td:nth-child(2) {text-align: left ; width: 100%}\n",
       "    .wandb-row { display: flex; flex-direction: row; flex-wrap: wrap; justify-content: flex-start; width: 100% }\n",
       "    .wandb-col { display: flex; flex-direction: column; flex-basis: 100%; flex: 1; padding: 10px; }\n",
       "    </style>\n",
       "<div class=\"wandb-row\"><div class=\"wandb-col\"><h3>Run history:</h3><br/><table class=\"wandb\"><tr><td>1extr</td><td>▁</td></tr><tr><td>2agre</td><td>▁</td></tr><tr><td>3cons</td><td>▁</td></tr><tr><td>4neur</td><td>▁</td></tr><tr><td>5open</td><td>▁</td></tr><tr><td>acc</td><td>▁</td></tr></table><br/></div><div class=\"wandb-col\"><h3>Run summary:</h3><br/><table class=\"wandb\"><tr><td>1extr</td><td>0.53846</td></tr><tr><td>2agre</td><td>0.61538</td></tr><tr><td>3cons</td><td>0.42308</td></tr><tr><td>4neur</td><td>0.46154</td></tr><tr><td>5open</td><td>0.38462</td></tr><tr><td>acc</td><td>0.48462</td></tr></table><br/></div></div>"
      ],
      "text/plain": [
       "<IPython.core.display.HTML object>"
      ]
     },
     "metadata": {},
     "output_type": "display_data"
    },
    {
     "data": {
      "text/html": [
       " View run <strong style=\"color:#cdcd00\">apricot-sweep-4</strong> at: <a href='https://wandb.ai/r-yanagimoto/mlp-sweep/runs/pz61iin9' target=\"_blank\">https://wandb.ai/r-yanagimoto/mlp-sweep/runs/pz61iin9</a><br/>Synced 5 W&B file(s), 0 media file(s), 0 artifact file(s) and 0 other file(s)"
      ],
      "text/plain": [
       "<IPython.core.display.HTML object>"
      ]
     },
     "metadata": {},
     "output_type": "display_data"
    },
    {
     "data": {
      "text/html": [
       "Find logs at: <code>./wandb/run-20230213_175901-pz61iin9/logs</code>"
      ],
      "text/plain": [
       "<IPython.core.display.HTML object>"
      ]
     },
     "metadata": {},
     "output_type": "display_data"
    },
    {
     "name": "stderr",
     "output_type": "stream",
     "text": [
      "\u001b[34m\u001b[1mwandb\u001b[0m: Agent Starting Run: 1fwdb2pk with config:\n",
      "\u001b[34m\u001b[1mwandb\u001b[0m: \tactivation: tanh\n",
      "\u001b[34m\u001b[1mwandb\u001b[0m: \talpha: 0.0001\n",
      "\u001b[34m\u001b[1mwandb\u001b[0m: \thidden_layer_sizes: [256, 64]\n",
      "\u001b[34m\u001b[1mwandb\u001b[0m: \tlearning_rate: constant\n",
      "\u001b[34m\u001b[1mwandb\u001b[0m: \tsolver: sgd\n",
      "Failed to detect the name of this notebook, you can set it manually with the WANDB_NOTEBOOK_NAME environment variable to enable code saving.\n"
     ]
    },
    {
     "data": {
      "text/html": [
       "Tracking run with wandb version 0.13.10"
      ],
      "text/plain": [
       "<IPython.core.display.HTML object>"
      ]
     },
     "metadata": {},
     "output_type": "display_data"
    },
    {
     "data": {
      "text/html": [
       "Run data is saved locally in <code>/home/ryoyanagimoto/persona/src/wandb/run-20230213_180706-1fwdb2pk</code>"
      ],
      "text/plain": [
       "<IPython.core.display.HTML object>"
      ]
     },
     "metadata": {},
     "output_type": "display_data"
    },
    {
     "data": {
      "text/html": [
       "Syncing run <strong><a href='https://wandb.ai/r-yanagimoto/mlp-sweep/runs/1fwdb2pk' target=\"_blank\">mild-sweep-5</a></strong> to <a href='https://wandb.ai/r-yanagimoto/mlp-sweep' target=\"_blank\">Weights & Biases</a> (<a href='https://wandb.me/run' target=\"_blank\">docs</a>)<br/>Sweep page: <a href='https://wandb.ai/r-yanagimoto/mlp-sweep/sweeps/r73z8z2k' target=\"_blank\">https://wandb.ai/r-yanagimoto/mlp-sweep/sweeps/r73z8z2k</a>"
      ],
      "text/plain": [
       "<IPython.core.display.HTML object>"
      ]
     },
     "metadata": {},
     "output_type": "display_data"
    },
    {
     "data": {
      "text/html": [
       " View project at <a href='https://wandb.ai/r-yanagimoto/mlp-sweep' target=\"_blank\">https://wandb.ai/r-yanagimoto/mlp-sweep</a>"
      ],
      "text/plain": [
       "<IPython.core.display.HTML object>"
      ]
     },
     "metadata": {},
     "output_type": "display_data"
    },
    {
     "data": {
      "text/html": [
       " View sweep at <a href='https://wandb.ai/r-yanagimoto/mlp-sweep/sweeps/r73z8z2k' target=\"_blank\">https://wandb.ai/r-yanagimoto/mlp-sweep/sweeps/r73z8z2k</a>"
      ],
      "text/plain": [
       "<IPython.core.display.HTML object>"
      ]
     },
     "metadata": {},
     "output_type": "display_data"
    },
    {
     "data": {
      "text/html": [
       " View run at <a href='https://wandb.ai/r-yanagimoto/mlp-sweep/runs/1fwdb2pk' target=\"_blank\">https://wandb.ai/r-yanagimoto/mlp-sweep/runs/1fwdb2pk</a>"
      ],
      "text/plain": [
       "<IPython.core.display.HTML object>"
      ]
     },
     "metadata": {},
     "output_type": "display_data"
    },
    {
     "data": {
      "text/html": [
       "Waiting for W&B process to finish... <strong style=\"color:green\">(success).</strong>"
      ],
      "text/plain": [
       "<IPython.core.display.HTML object>"
      ]
     },
     "metadata": {},
     "output_type": "display_data"
    },
    {
     "data": {
      "text/html": [
       "<style>\n",
       "    table.wandb td:nth-child(1) { padding: 0 10px; text-align: left ; width: auto;} td:nth-child(2) {text-align: left ; width: 100%}\n",
       "    .wandb-row { display: flex; flex-direction: row; flex-wrap: wrap; justify-content: flex-start; width: 100% }\n",
       "    .wandb-col { display: flex; flex-direction: column; flex-basis: 100%; flex: 1; padding: 10px; }\n",
       "    </style>\n",
       "<div class=\"wandb-row\"><div class=\"wandb-col\"><h3>Run history:</h3><br/><table class=\"wandb\"><tr><td>1extr</td><td>▁</td></tr><tr><td>2agre</td><td>▁</td></tr><tr><td>3cons</td><td>▁</td></tr><tr><td>4neur</td><td>▁</td></tr><tr><td>5open</td><td>▁</td></tr><tr><td>acc</td><td>▁</td></tr></table><br/></div><div class=\"wandb-col\"><h3>Run summary:</h3><br/><table class=\"wandb\"><tr><td>1extr</td><td>0.53846</td></tr><tr><td>2agre</td><td>0.57692</td></tr><tr><td>3cons</td><td>0.46154</td></tr><tr><td>4neur</td><td>0.5</td></tr><tr><td>5open</td><td>0.5</td></tr><tr><td>acc</td><td>0.51538</td></tr></table><br/></div></div>"
      ],
      "text/plain": [
       "<IPython.core.display.HTML object>"
      ]
     },
     "metadata": {},
     "output_type": "display_data"
    },
    {
     "data": {
      "text/html": [
       " View run <strong style=\"color:#cdcd00\">mild-sweep-5</strong> at: <a href='https://wandb.ai/r-yanagimoto/mlp-sweep/runs/1fwdb2pk' target=\"_blank\">https://wandb.ai/r-yanagimoto/mlp-sweep/runs/1fwdb2pk</a><br/>Synced 5 W&B file(s), 0 media file(s), 0 artifact file(s) and 0 other file(s)"
      ],
      "text/plain": [
       "<IPython.core.display.HTML object>"
      ]
     },
     "metadata": {},
     "output_type": "display_data"
    },
    {
     "data": {
      "text/html": [
       "Find logs at: <code>./wandb/run-20230213_180706-1fwdb2pk/logs</code>"
      ],
      "text/plain": [
       "<IPython.core.display.HTML object>"
      ]
     },
     "metadata": {},
     "output_type": "display_data"
    },
    {
     "name": "stderr",
     "output_type": "stream",
     "text": [
      "\u001b[34m\u001b[1mwandb\u001b[0m: Agent Starting Run: kul086t9 with config:\n",
      "\u001b[34m\u001b[1mwandb\u001b[0m: \tactivation: tanh\n",
      "\u001b[34m\u001b[1mwandb\u001b[0m: \talpha: 0.0001\n",
      "\u001b[34m\u001b[1mwandb\u001b[0m: \thidden_layer_sizes: [256, 64]\n",
      "\u001b[34m\u001b[1mwandb\u001b[0m: \tlearning_rate: constant\n",
      "\u001b[34m\u001b[1mwandb\u001b[0m: \tsolver: adam\n",
      "Failed to detect the name of this notebook, you can set it manually with the WANDB_NOTEBOOK_NAME environment variable to enable code saving.\n"
     ]
    },
    {
     "data": {
      "text/html": [
       "Tracking run with wandb version 0.13.10"
      ],
      "text/plain": [
       "<IPython.core.display.HTML object>"
      ]
     },
     "metadata": {},
     "output_type": "display_data"
    },
    {
     "data": {
      "text/html": [
       "Run data is saved locally in <code>/home/ryoyanagimoto/persona/src/wandb/run-20230213_181443-kul086t9</code>"
      ],
      "text/plain": [
       "<IPython.core.display.HTML object>"
      ]
     },
     "metadata": {},
     "output_type": "display_data"
    },
    {
     "data": {
      "text/html": [
       "Syncing run <strong><a href='https://wandb.ai/r-yanagimoto/mlp-sweep/runs/kul086t9' target=\"_blank\">swift-sweep-6</a></strong> to <a href='https://wandb.ai/r-yanagimoto/mlp-sweep' target=\"_blank\">Weights & Biases</a> (<a href='https://wandb.me/run' target=\"_blank\">docs</a>)<br/>Sweep page: <a href='https://wandb.ai/r-yanagimoto/mlp-sweep/sweeps/r73z8z2k' target=\"_blank\">https://wandb.ai/r-yanagimoto/mlp-sweep/sweeps/r73z8z2k</a>"
      ],
      "text/plain": [
       "<IPython.core.display.HTML object>"
      ]
     },
     "metadata": {},
     "output_type": "display_data"
    },
    {
     "data": {
      "text/html": [
       " View project at <a href='https://wandb.ai/r-yanagimoto/mlp-sweep' target=\"_blank\">https://wandb.ai/r-yanagimoto/mlp-sweep</a>"
      ],
      "text/plain": [
       "<IPython.core.display.HTML object>"
      ]
     },
     "metadata": {},
     "output_type": "display_data"
    },
    {
     "data": {
      "text/html": [
       " View sweep at <a href='https://wandb.ai/r-yanagimoto/mlp-sweep/sweeps/r73z8z2k' target=\"_blank\">https://wandb.ai/r-yanagimoto/mlp-sweep/sweeps/r73z8z2k</a>"
      ],
      "text/plain": [
       "<IPython.core.display.HTML object>"
      ]
     },
     "metadata": {},
     "output_type": "display_data"
    },
    {
     "data": {
      "text/html": [
       " View run at <a href='https://wandb.ai/r-yanagimoto/mlp-sweep/runs/kul086t9' target=\"_blank\">https://wandb.ai/r-yanagimoto/mlp-sweep/runs/kul086t9</a>"
      ],
      "text/plain": [
       "<IPython.core.display.HTML object>"
      ]
     },
     "metadata": {},
     "output_type": "display_data"
    },
    {
     "data": {
      "text/html": [
       "Waiting for W&B process to finish... <strong style=\"color:green\">(success).</strong>"
      ],
      "text/plain": [
       "<IPython.core.display.HTML object>"
      ]
     },
     "metadata": {},
     "output_type": "display_data"
    },
    {
     "data": {
      "text/html": [
       "<style>\n",
       "    table.wandb td:nth-child(1) { padding: 0 10px; text-align: left ; width: auto;} td:nth-child(2) {text-align: left ; width: 100%}\n",
       "    .wandb-row { display: flex; flex-direction: row; flex-wrap: wrap; justify-content: flex-start; width: 100% }\n",
       "    .wandb-col { display: flex; flex-direction: column; flex-basis: 100%; flex: 1; padding: 10px; }\n",
       "    </style>\n",
       "<div class=\"wandb-row\"><div class=\"wandb-col\"><h3>Run history:</h3><br/><table class=\"wandb\"><tr><td>1extr</td><td>▁</td></tr><tr><td>2agre</td><td>▁</td></tr><tr><td>3cons</td><td>▁</td></tr><tr><td>4neur</td><td>▁</td></tr><tr><td>5open</td><td>▁</td></tr><tr><td>acc</td><td>▁</td></tr></table><br/></div><div class=\"wandb-col\"><h3>Run summary:</h3><br/><table class=\"wandb\"><tr><td>1extr</td><td>0.5</td></tr><tr><td>2agre</td><td>0.57692</td></tr><tr><td>3cons</td><td>0.42308</td></tr><tr><td>4neur</td><td>0.5</td></tr><tr><td>5open</td><td>0.5</td></tr><tr><td>acc</td><td>0.5</td></tr></table><br/></div></div>"
      ],
      "text/plain": [
       "<IPython.core.display.HTML object>"
      ]
     },
     "metadata": {},
     "output_type": "display_data"
    },
    {
     "data": {
      "text/html": [
       " View run <strong style=\"color:#cdcd00\">swift-sweep-6</strong> at: <a href='https://wandb.ai/r-yanagimoto/mlp-sweep/runs/kul086t9' target=\"_blank\">https://wandb.ai/r-yanagimoto/mlp-sweep/runs/kul086t9</a><br/>Synced 5 W&B file(s), 0 media file(s), 0 artifact file(s) and 0 other file(s)"
      ],
      "text/plain": [
       "<IPython.core.display.HTML object>"
      ]
     },
     "metadata": {},
     "output_type": "display_data"
    },
    {
     "data": {
      "text/html": [
       "Find logs at: <code>./wandb/run-20230213_181443-kul086t9/logs</code>"
      ],
      "text/plain": [
       "<IPython.core.display.HTML object>"
      ]
     },
     "metadata": {},
     "output_type": "display_data"
    },
    {
     "name": "stderr",
     "output_type": "stream",
     "text": [
      "\u001b[34m\u001b[1mwandb\u001b[0m: Agent Starting Run: xxih8mn6 with config:\n",
      "\u001b[34m\u001b[1mwandb\u001b[0m: \tactivation: tanh\n",
      "\u001b[34m\u001b[1mwandb\u001b[0m: \talpha: 0.0001\n",
      "\u001b[34m\u001b[1mwandb\u001b[0m: \thidden_layer_sizes: [256, 64]\n",
      "\u001b[34m\u001b[1mwandb\u001b[0m: \tlearning_rate: adaptive\n",
      "\u001b[34m\u001b[1mwandb\u001b[0m: \tsolver: sgd\n",
      "Failed to detect the name of this notebook, you can set it manually with the WANDB_NOTEBOOK_NAME environment variable to enable code saving.\n"
     ]
    },
    {
     "data": {
      "text/html": [
       "Tracking run with wandb version 0.13.10"
      ],
      "text/plain": [
       "<IPython.core.display.HTML object>"
      ]
     },
     "metadata": {},
     "output_type": "display_data"
    },
    {
     "data": {
      "text/html": [
       "Run data is saved locally in <code>/home/ryoyanagimoto/persona/src/wandb/run-20230213_182150-xxih8mn6</code>"
      ],
      "text/plain": [
       "<IPython.core.display.HTML object>"
      ]
     },
     "metadata": {},
     "output_type": "display_data"
    },
    {
     "data": {
      "text/html": [
       "Syncing run <strong><a href='https://wandb.ai/r-yanagimoto/mlp-sweep/runs/xxih8mn6' target=\"_blank\">lilac-sweep-7</a></strong> to <a href='https://wandb.ai/r-yanagimoto/mlp-sweep' target=\"_blank\">Weights & Biases</a> (<a href='https://wandb.me/run' target=\"_blank\">docs</a>)<br/>Sweep page: <a href='https://wandb.ai/r-yanagimoto/mlp-sweep/sweeps/r73z8z2k' target=\"_blank\">https://wandb.ai/r-yanagimoto/mlp-sweep/sweeps/r73z8z2k</a>"
      ],
      "text/plain": [
       "<IPython.core.display.HTML object>"
      ]
     },
     "metadata": {},
     "output_type": "display_data"
    },
    {
     "data": {
      "text/html": [
       " View project at <a href='https://wandb.ai/r-yanagimoto/mlp-sweep' target=\"_blank\">https://wandb.ai/r-yanagimoto/mlp-sweep</a>"
      ],
      "text/plain": [
       "<IPython.core.display.HTML object>"
      ]
     },
     "metadata": {},
     "output_type": "display_data"
    },
    {
     "data": {
      "text/html": [
       " View sweep at <a href='https://wandb.ai/r-yanagimoto/mlp-sweep/sweeps/r73z8z2k' target=\"_blank\">https://wandb.ai/r-yanagimoto/mlp-sweep/sweeps/r73z8z2k</a>"
      ],
      "text/plain": [
       "<IPython.core.display.HTML object>"
      ]
     },
     "metadata": {},
     "output_type": "display_data"
    },
    {
     "data": {
      "text/html": [
       " View run at <a href='https://wandb.ai/r-yanagimoto/mlp-sweep/runs/xxih8mn6' target=\"_blank\">https://wandb.ai/r-yanagimoto/mlp-sweep/runs/xxih8mn6</a>"
      ],
      "text/plain": [
       "<IPython.core.display.HTML object>"
      ]
     },
     "metadata": {},
     "output_type": "display_data"
    },
    {
     "data": {
      "text/html": [
       "Waiting for W&B process to finish... <strong style=\"color:green\">(success).</strong>"
      ],
      "text/plain": [
       "<IPython.core.display.HTML object>"
      ]
     },
     "metadata": {},
     "output_type": "display_data"
    },
    {
     "data": {
      "text/html": [
       "<style>\n",
       "    table.wandb td:nth-child(1) { padding: 0 10px; text-align: left ; width: auto;} td:nth-child(2) {text-align: left ; width: 100%}\n",
       "    .wandb-row { display: flex; flex-direction: row; flex-wrap: wrap; justify-content: flex-start; width: 100% }\n",
       "    .wandb-col { display: flex; flex-direction: column; flex-basis: 100%; flex: 1; padding: 10px; }\n",
       "    </style>\n",
       "<div class=\"wandb-row\"><div class=\"wandb-col\"><h3>Run history:</h3><br/><table class=\"wandb\"><tr><td>1extr</td><td>▁</td></tr><tr><td>2agre</td><td>▁</td></tr><tr><td>3cons</td><td>▁</td></tr><tr><td>4neur</td><td>▁</td></tr><tr><td>5open</td><td>▁</td></tr><tr><td>acc</td><td>▁</td></tr></table><br/></div><div class=\"wandb-col\"><h3>Run summary:</h3><br/><table class=\"wandb\"><tr><td>1extr</td><td>0.69231</td></tr><tr><td>2agre</td><td>0.53846</td></tr><tr><td>3cons</td><td>0.38462</td></tr><tr><td>4neur</td><td>0.53846</td></tr><tr><td>5open</td><td>0.57692</td></tr><tr><td>acc</td><td>0.54615</td></tr></table><br/></div></div>"
      ],
      "text/plain": [
       "<IPython.core.display.HTML object>"
      ]
     },
     "metadata": {},
     "output_type": "display_data"
    },
    {
     "data": {
      "text/html": [
       " View run <strong style=\"color:#cdcd00\">lilac-sweep-7</strong> at: <a href='https://wandb.ai/r-yanagimoto/mlp-sweep/runs/xxih8mn6' target=\"_blank\">https://wandb.ai/r-yanagimoto/mlp-sweep/runs/xxih8mn6</a><br/>Synced 5 W&B file(s), 0 media file(s), 0 artifact file(s) and 0 other file(s)"
      ],
      "text/plain": [
       "<IPython.core.display.HTML object>"
      ]
     },
     "metadata": {},
     "output_type": "display_data"
    },
    {
     "data": {
      "text/html": [
       "Find logs at: <code>./wandb/run-20230213_182150-xxih8mn6/logs</code>"
      ],
      "text/plain": [
       "<IPython.core.display.HTML object>"
      ]
     },
     "metadata": {},
     "output_type": "display_data"
    },
    {
     "name": "stderr",
     "output_type": "stream",
     "text": [
      "\u001b[34m\u001b[1mwandb\u001b[0m: Agent Starting Run: exa18drh with config:\n",
      "\u001b[34m\u001b[1mwandb\u001b[0m: \tactivation: tanh\n",
      "\u001b[34m\u001b[1mwandb\u001b[0m: \talpha: 0.0001\n",
      "\u001b[34m\u001b[1mwandb\u001b[0m: \thidden_layer_sizes: [256, 64]\n",
      "\u001b[34m\u001b[1mwandb\u001b[0m: \tlearning_rate: adaptive\n",
      "\u001b[34m\u001b[1mwandb\u001b[0m: \tsolver: adam\n",
      "Failed to detect the name of this notebook, you can set it manually with the WANDB_NOTEBOOK_NAME environment variable to enable code saving.\n"
     ]
    },
    {
     "data": {
      "text/html": [
       "Tracking run with wandb version 0.13.10"
      ],
      "text/plain": [
       "<IPython.core.display.HTML object>"
      ]
     },
     "metadata": {},
     "output_type": "display_data"
    },
    {
     "data": {
      "text/html": [
       "Run data is saved locally in <code>/home/ryoyanagimoto/persona/src/wandb/run-20230213_183513-exa18drh</code>"
      ],
      "text/plain": [
       "<IPython.core.display.HTML object>"
      ]
     },
     "metadata": {},
     "output_type": "display_data"
    },
    {
     "data": {
      "text/html": [
       "Syncing run <strong><a href='https://wandb.ai/r-yanagimoto/mlp-sweep/runs/exa18drh' target=\"_blank\">ancient-sweep-8</a></strong> to <a href='https://wandb.ai/r-yanagimoto/mlp-sweep' target=\"_blank\">Weights & Biases</a> (<a href='https://wandb.me/run' target=\"_blank\">docs</a>)<br/>Sweep page: <a href='https://wandb.ai/r-yanagimoto/mlp-sweep/sweeps/r73z8z2k' target=\"_blank\">https://wandb.ai/r-yanagimoto/mlp-sweep/sweeps/r73z8z2k</a>"
      ],
      "text/plain": [
       "<IPython.core.display.HTML object>"
      ]
     },
     "metadata": {},
     "output_type": "display_data"
    },
    {
     "data": {
      "text/html": [
       " View project at <a href='https://wandb.ai/r-yanagimoto/mlp-sweep' target=\"_blank\">https://wandb.ai/r-yanagimoto/mlp-sweep</a>"
      ],
      "text/plain": [
       "<IPython.core.display.HTML object>"
      ]
     },
     "metadata": {},
     "output_type": "display_data"
    },
    {
     "data": {
      "text/html": [
       " View sweep at <a href='https://wandb.ai/r-yanagimoto/mlp-sweep/sweeps/r73z8z2k' target=\"_blank\">https://wandb.ai/r-yanagimoto/mlp-sweep/sweeps/r73z8z2k</a>"
      ],
      "text/plain": [
       "<IPython.core.display.HTML object>"
      ]
     },
     "metadata": {},
     "output_type": "display_data"
    },
    {
     "data": {
      "text/html": [
       " View run at <a href='https://wandb.ai/r-yanagimoto/mlp-sweep/runs/exa18drh' target=\"_blank\">https://wandb.ai/r-yanagimoto/mlp-sweep/runs/exa18drh</a>"
      ],
      "text/plain": [
       "<IPython.core.display.HTML object>"
      ]
     },
     "metadata": {},
     "output_type": "display_data"
    },
    {
     "data": {
      "text/html": [
       "Waiting for W&B process to finish... <strong style=\"color:green\">(success).</strong>"
      ],
      "text/plain": [
       "<IPython.core.display.HTML object>"
      ]
     },
     "metadata": {},
     "output_type": "display_data"
    },
    {
     "data": {
      "text/html": [
       "<style>\n",
       "    table.wandb td:nth-child(1) { padding: 0 10px; text-align: left ; width: auto;} td:nth-child(2) {text-align: left ; width: 100%}\n",
       "    .wandb-row { display: flex; flex-direction: row; flex-wrap: wrap; justify-content: flex-start; width: 100% }\n",
       "    .wandb-col { display: flex; flex-direction: column; flex-basis: 100%; flex: 1; padding: 10px; }\n",
       "    </style>\n",
       "<div class=\"wandb-row\"><div class=\"wandb-col\"><h3>Run history:</h3><br/><table class=\"wandb\"><tr><td>1extr</td><td>▁</td></tr><tr><td>2agre</td><td>▁</td></tr><tr><td>3cons</td><td>▁</td></tr><tr><td>4neur</td><td>▁</td></tr><tr><td>5open</td><td>▁</td></tr><tr><td>acc</td><td>▁</td></tr></table><br/></div><div class=\"wandb-col\"><h3>Run summary:</h3><br/><table class=\"wandb\"><tr><td>1extr</td><td>0.53846</td></tr><tr><td>2agre</td><td>0.57692</td></tr><tr><td>3cons</td><td>0.46154</td></tr><tr><td>4neur</td><td>0.57692</td></tr><tr><td>5open</td><td>0.30769</td></tr><tr><td>acc</td><td>0.49231</td></tr></table><br/></div></div>"
      ],
      "text/plain": [
       "<IPython.core.display.HTML object>"
      ]
     },
     "metadata": {},
     "output_type": "display_data"
    },
    {
     "data": {
      "text/html": [
       " View run <strong style=\"color:#cdcd00\">ancient-sweep-8</strong> at: <a href='https://wandb.ai/r-yanagimoto/mlp-sweep/runs/exa18drh' target=\"_blank\">https://wandb.ai/r-yanagimoto/mlp-sweep/runs/exa18drh</a><br/>Synced 5 W&B file(s), 0 media file(s), 0 artifact file(s) and 0 other file(s)"
      ],
      "text/plain": [
       "<IPython.core.display.HTML object>"
      ]
     },
     "metadata": {},
     "output_type": "display_data"
    },
    {
     "data": {
      "text/html": [
       "Find logs at: <code>./wandb/run-20230213_183513-exa18drh/logs</code>"
      ],
      "text/plain": [
       "<IPython.core.display.HTML object>"
      ]
     },
     "metadata": {},
     "output_type": "display_data"
    },
    {
     "name": "stderr",
     "output_type": "stream",
     "text": [
      "\u001b[34m\u001b[1mwandb\u001b[0m: Agent Starting Run: f4yml7ap with config:\n",
      "\u001b[34m\u001b[1mwandb\u001b[0m: \tactivation: tanh\n",
      "\u001b[34m\u001b[1mwandb\u001b[0m: \talpha: 0.0001\n",
      "\u001b[34m\u001b[1mwandb\u001b[0m: \thidden_layer_sizes: [512]\n",
      "\u001b[34m\u001b[1mwandb\u001b[0m: \tlearning_rate: constant\n",
      "\u001b[34m\u001b[1mwandb\u001b[0m: \tsolver: sgd\n",
      "Failed to detect the name of this notebook, you can set it manually with the WANDB_NOTEBOOK_NAME environment variable to enable code saving.\n"
     ]
    },
    {
     "data": {
      "text/html": [
       "Tracking run with wandb version 0.13.10"
      ],
      "text/plain": [
       "<IPython.core.display.HTML object>"
      ]
     },
     "metadata": {},
     "output_type": "display_data"
    },
    {
     "data": {
      "text/html": [
       "Run data is saved locally in <code>/home/ryoyanagimoto/persona/src/wandb/run-20230213_184219-f4yml7ap</code>"
      ],
      "text/plain": [
       "<IPython.core.display.HTML object>"
      ]
     },
     "metadata": {},
     "output_type": "display_data"
    },
    {
     "data": {
      "text/html": [
       "Syncing run <strong><a href='https://wandb.ai/r-yanagimoto/mlp-sweep/runs/f4yml7ap' target=\"_blank\">brisk-sweep-9</a></strong> to <a href='https://wandb.ai/r-yanagimoto/mlp-sweep' target=\"_blank\">Weights & Biases</a> (<a href='https://wandb.me/run' target=\"_blank\">docs</a>)<br/>Sweep page: <a href='https://wandb.ai/r-yanagimoto/mlp-sweep/sweeps/r73z8z2k' target=\"_blank\">https://wandb.ai/r-yanagimoto/mlp-sweep/sweeps/r73z8z2k</a>"
      ],
      "text/plain": [
       "<IPython.core.display.HTML object>"
      ]
     },
     "metadata": {},
     "output_type": "display_data"
    },
    {
     "data": {
      "text/html": [
       " View project at <a href='https://wandb.ai/r-yanagimoto/mlp-sweep' target=\"_blank\">https://wandb.ai/r-yanagimoto/mlp-sweep</a>"
      ],
      "text/plain": [
       "<IPython.core.display.HTML object>"
      ]
     },
     "metadata": {},
     "output_type": "display_data"
    },
    {
     "data": {
      "text/html": [
       " View sweep at <a href='https://wandb.ai/r-yanagimoto/mlp-sweep/sweeps/r73z8z2k' target=\"_blank\">https://wandb.ai/r-yanagimoto/mlp-sweep/sweeps/r73z8z2k</a>"
      ],
      "text/plain": [
       "<IPython.core.display.HTML object>"
      ]
     },
     "metadata": {},
     "output_type": "display_data"
    },
    {
     "data": {
      "text/html": [
       " View run at <a href='https://wandb.ai/r-yanagimoto/mlp-sweep/runs/f4yml7ap' target=\"_blank\">https://wandb.ai/r-yanagimoto/mlp-sweep/runs/f4yml7ap</a>"
      ],
      "text/plain": [
       "<IPython.core.display.HTML object>"
      ]
     },
     "metadata": {},
     "output_type": "display_data"
    },
    {
     "data": {
      "text/html": [
       "Waiting for W&B process to finish... <strong style=\"color:green\">(success).</strong>"
      ],
      "text/plain": [
       "<IPython.core.display.HTML object>"
      ]
     },
     "metadata": {},
     "output_type": "display_data"
    },
    {
     "data": {
      "text/html": [
       "<style>\n",
       "    table.wandb td:nth-child(1) { padding: 0 10px; text-align: left ; width: auto;} td:nth-child(2) {text-align: left ; width: 100%}\n",
       "    .wandb-row { display: flex; flex-direction: row; flex-wrap: wrap; justify-content: flex-start; width: 100% }\n",
       "    .wandb-col { display: flex; flex-direction: column; flex-basis: 100%; flex: 1; padding: 10px; }\n",
       "    </style>\n",
       "<div class=\"wandb-row\"><div class=\"wandb-col\"><h3>Run history:</h3><br/><table class=\"wandb\"><tr><td>1extr</td><td>▁</td></tr><tr><td>2agre</td><td>▁</td></tr><tr><td>3cons</td><td>▁</td></tr><tr><td>4neur</td><td>▁</td></tr><tr><td>5open</td><td>▁</td></tr><tr><td>acc</td><td>▁</td></tr></table><br/></div><div class=\"wandb-col\"><h3>Run summary:</h3><br/><table class=\"wandb\"><tr><td>1extr</td><td>0.53846</td></tr><tr><td>2agre</td><td>0.46154</td></tr><tr><td>3cons</td><td>0.53846</td></tr><tr><td>4neur</td><td>0.57692</td></tr><tr><td>5open</td><td>0.53846</td></tr><tr><td>acc</td><td>0.53077</td></tr></table><br/></div></div>"
      ],
      "text/plain": [
       "<IPython.core.display.HTML object>"
      ]
     },
     "metadata": {},
     "output_type": "display_data"
    },
    {
     "data": {
      "text/html": [
       " View run <strong style=\"color:#cdcd00\">brisk-sweep-9</strong> at: <a href='https://wandb.ai/r-yanagimoto/mlp-sweep/runs/f4yml7ap' target=\"_blank\">https://wandb.ai/r-yanagimoto/mlp-sweep/runs/f4yml7ap</a><br/>Synced 5 W&B file(s), 0 media file(s), 0 artifact file(s) and 0 other file(s)"
      ],
      "text/plain": [
       "<IPython.core.display.HTML object>"
      ]
     },
     "metadata": {},
     "output_type": "display_data"
    },
    {
     "data": {
      "text/html": [
       "Find logs at: <code>./wandb/run-20230213_184219-f4yml7ap/logs</code>"
      ],
      "text/plain": [
       "<IPython.core.display.HTML object>"
      ]
     },
     "metadata": {},
     "output_type": "display_data"
    },
    {
     "name": "stderr",
     "output_type": "stream",
     "text": [
      "\u001b[34m\u001b[1mwandb\u001b[0m: Agent Starting Run: bz8mcvvj with config:\n",
      "\u001b[34m\u001b[1mwandb\u001b[0m: \tactivation: tanh\n",
      "\u001b[34m\u001b[1mwandb\u001b[0m: \talpha: 0.0001\n",
      "\u001b[34m\u001b[1mwandb\u001b[0m: \thidden_layer_sizes: [512]\n",
      "\u001b[34m\u001b[1mwandb\u001b[0m: \tlearning_rate: constant\n",
      "\u001b[34m\u001b[1mwandb\u001b[0m: \tsolver: adam\n",
      "Failed to detect the name of this notebook, you can set it manually with the WANDB_NOTEBOOK_NAME environment variable to enable code saving.\n"
     ]
    },
    {
     "data": {
      "text/html": [
       "Tracking run with wandb version 0.13.10"
      ],
      "text/plain": [
       "<IPython.core.display.HTML object>"
      ]
     },
     "metadata": {},
     "output_type": "display_data"
    },
    {
     "data": {
      "text/html": [
       "Run data is saved locally in <code>/home/ryoyanagimoto/persona/src/wandb/run-20230213_185250-bz8mcvvj</code>"
      ],
      "text/plain": [
       "<IPython.core.display.HTML object>"
      ]
     },
     "metadata": {},
     "output_type": "display_data"
    },
    {
     "data": {
      "text/html": [
       "Syncing run <strong><a href='https://wandb.ai/r-yanagimoto/mlp-sweep/runs/bz8mcvvj' target=\"_blank\">honest-sweep-10</a></strong> to <a href='https://wandb.ai/r-yanagimoto/mlp-sweep' target=\"_blank\">Weights & Biases</a> (<a href='https://wandb.me/run' target=\"_blank\">docs</a>)<br/>Sweep page: <a href='https://wandb.ai/r-yanagimoto/mlp-sweep/sweeps/r73z8z2k' target=\"_blank\">https://wandb.ai/r-yanagimoto/mlp-sweep/sweeps/r73z8z2k</a>"
      ],
      "text/plain": [
       "<IPython.core.display.HTML object>"
      ]
     },
     "metadata": {},
     "output_type": "display_data"
    },
    {
     "data": {
      "text/html": [
       " View project at <a href='https://wandb.ai/r-yanagimoto/mlp-sweep' target=\"_blank\">https://wandb.ai/r-yanagimoto/mlp-sweep</a>"
      ],
      "text/plain": [
       "<IPython.core.display.HTML object>"
      ]
     },
     "metadata": {},
     "output_type": "display_data"
    },
    {
     "data": {
      "text/html": [
       " View sweep at <a href='https://wandb.ai/r-yanagimoto/mlp-sweep/sweeps/r73z8z2k' target=\"_blank\">https://wandb.ai/r-yanagimoto/mlp-sweep/sweeps/r73z8z2k</a>"
      ],
      "text/plain": [
       "<IPython.core.display.HTML object>"
      ]
     },
     "metadata": {},
     "output_type": "display_data"
    },
    {
     "data": {
      "text/html": [
       " View run at <a href='https://wandb.ai/r-yanagimoto/mlp-sweep/runs/bz8mcvvj' target=\"_blank\">https://wandb.ai/r-yanagimoto/mlp-sweep/runs/bz8mcvvj</a>"
      ],
      "text/plain": [
       "<IPython.core.display.HTML object>"
      ]
     },
     "metadata": {},
     "output_type": "display_data"
    },
    {
     "data": {
      "text/html": [
       "Waiting for W&B process to finish... <strong style=\"color:green\">(success).</strong>"
      ],
      "text/plain": [
       "<IPython.core.display.HTML object>"
      ]
     },
     "metadata": {},
     "output_type": "display_data"
    },
    {
     "data": {
      "text/html": [
       "<style>\n",
       "    table.wandb td:nth-child(1) { padding: 0 10px; text-align: left ; width: auto;} td:nth-child(2) {text-align: left ; width: 100%}\n",
       "    .wandb-row { display: flex; flex-direction: row; flex-wrap: wrap; justify-content: flex-start; width: 100% }\n",
       "    .wandb-col { display: flex; flex-direction: column; flex-basis: 100%; flex: 1; padding: 10px; }\n",
       "    </style>\n",
       "<div class=\"wandb-row\"><div class=\"wandb-col\"><h3>Run history:</h3><br/><table class=\"wandb\"><tr><td>1extr</td><td>▁</td></tr><tr><td>2agre</td><td>▁</td></tr><tr><td>3cons</td><td>▁</td></tr><tr><td>4neur</td><td>▁</td></tr><tr><td>5open</td><td>▁</td></tr><tr><td>acc</td><td>▁</td></tr></table><br/></div><div class=\"wandb-col\"><h3>Run summary:</h3><br/><table class=\"wandb\"><tr><td>1extr</td><td>0.53846</td></tr><tr><td>2agre</td><td>0.5</td></tr><tr><td>3cons</td><td>0.42308</td></tr><tr><td>4neur</td><td>0.5</td></tr><tr><td>5open</td><td>0.46154</td></tr><tr><td>acc</td><td>0.48462</td></tr></table><br/></div></div>"
      ],
      "text/plain": [
       "<IPython.core.display.HTML object>"
      ]
     },
     "metadata": {},
     "output_type": "display_data"
    },
    {
     "data": {
      "text/html": [
       " View run <strong style=\"color:#cdcd00\">honest-sweep-10</strong> at: <a href='https://wandb.ai/r-yanagimoto/mlp-sweep/runs/bz8mcvvj' target=\"_blank\">https://wandb.ai/r-yanagimoto/mlp-sweep/runs/bz8mcvvj</a><br/>Synced 5 W&B file(s), 0 media file(s), 0 artifact file(s) and 0 other file(s)"
      ],
      "text/plain": [
       "<IPython.core.display.HTML object>"
      ]
     },
     "metadata": {},
     "output_type": "display_data"
    },
    {
     "data": {
      "text/html": [
       "Find logs at: <code>./wandb/run-20230213_185250-bz8mcvvj/logs</code>"
      ],
      "text/plain": [
       "<IPython.core.display.HTML object>"
      ]
     },
     "metadata": {},
     "output_type": "display_data"
    },
    {
     "name": "stderr",
     "output_type": "stream",
     "text": [
      "\u001b[34m\u001b[1mwandb\u001b[0m: Sweep Agent: Waiting for job.\n",
      "\u001b[34m\u001b[1mwandb\u001b[0m: Job received.\n",
      "\u001b[34m\u001b[1mwandb\u001b[0m: Agent Starting Run: 10om27s1 with config:\n",
      "\u001b[34m\u001b[1mwandb\u001b[0m: \tactivation: tanh\n",
      "\u001b[34m\u001b[1mwandb\u001b[0m: \talpha: 0.0001\n",
      "\u001b[34m\u001b[1mwandb\u001b[0m: \thidden_layer_sizes: [512]\n",
      "\u001b[34m\u001b[1mwandb\u001b[0m: \tlearning_rate: adaptive\n",
      "\u001b[34m\u001b[1mwandb\u001b[0m: \tsolver: sgd\n",
      "Failed to detect the name of this notebook, you can set it manually with the WANDB_NOTEBOOK_NAME environment variable to enable code saving.\n"
     ]
    },
    {
     "data": {
      "text/html": [
       "Tracking run with wandb version 0.13.10"
      ],
      "text/plain": [
       "<IPython.core.display.HTML object>"
      ]
     },
     "metadata": {},
     "output_type": "display_data"
    },
    {
     "data": {
      "text/html": [
       "Run data is saved locally in <code>/home/ryoyanagimoto/persona/src/wandb/run-20230213_190513-10om27s1</code>"
      ],
      "text/plain": [
       "<IPython.core.display.HTML object>"
      ]
     },
     "metadata": {},
     "output_type": "display_data"
    },
    {
     "data": {
      "text/html": [
       "Syncing run <strong><a href='https://wandb.ai/r-yanagimoto/mlp-sweep/runs/10om27s1' target=\"_blank\">misty-sweep-11</a></strong> to <a href='https://wandb.ai/r-yanagimoto/mlp-sweep' target=\"_blank\">Weights & Biases</a> (<a href='https://wandb.me/run' target=\"_blank\">docs</a>)<br/>Sweep page: <a href='https://wandb.ai/r-yanagimoto/mlp-sweep/sweeps/r73z8z2k' target=\"_blank\">https://wandb.ai/r-yanagimoto/mlp-sweep/sweeps/r73z8z2k</a>"
      ],
      "text/plain": [
       "<IPython.core.display.HTML object>"
      ]
     },
     "metadata": {},
     "output_type": "display_data"
    },
    {
     "data": {
      "text/html": [
       " View project at <a href='https://wandb.ai/r-yanagimoto/mlp-sweep' target=\"_blank\">https://wandb.ai/r-yanagimoto/mlp-sweep</a>"
      ],
      "text/plain": [
       "<IPython.core.display.HTML object>"
      ]
     },
     "metadata": {},
     "output_type": "display_data"
    },
    {
     "data": {
      "text/html": [
       " View sweep at <a href='https://wandb.ai/r-yanagimoto/mlp-sweep/sweeps/r73z8z2k' target=\"_blank\">https://wandb.ai/r-yanagimoto/mlp-sweep/sweeps/r73z8z2k</a>"
      ],
      "text/plain": [
       "<IPython.core.display.HTML object>"
      ]
     },
     "metadata": {},
     "output_type": "display_data"
    },
    {
     "data": {
      "text/html": [
       " View run at <a href='https://wandb.ai/r-yanagimoto/mlp-sweep/runs/10om27s1' target=\"_blank\">https://wandb.ai/r-yanagimoto/mlp-sweep/runs/10om27s1</a>"
      ],
      "text/plain": [
       "<IPython.core.display.HTML object>"
      ]
     },
     "metadata": {},
     "output_type": "display_data"
    },
    {
     "data": {
      "text/html": [
       "Waiting for W&B process to finish... <strong style=\"color:green\">(success).</strong>"
      ],
      "text/plain": [
       "<IPython.core.display.HTML object>"
      ]
     },
     "metadata": {},
     "output_type": "display_data"
    },
    {
     "data": {
      "text/html": [
       "<style>\n",
       "    table.wandb td:nth-child(1) { padding: 0 10px; text-align: left ; width: auto;} td:nth-child(2) {text-align: left ; width: 100%}\n",
       "    .wandb-row { display: flex; flex-direction: row; flex-wrap: wrap; justify-content: flex-start; width: 100% }\n",
       "    .wandb-col { display: flex; flex-direction: column; flex-basis: 100%; flex: 1; padding: 10px; }\n",
       "    </style>\n",
       "<div class=\"wandb-row\"><div class=\"wandb-col\"><h3>Run history:</h3><br/><table class=\"wandb\"><tr><td>1extr</td><td>▁</td></tr><tr><td>2agre</td><td>▁</td></tr><tr><td>3cons</td><td>▁</td></tr><tr><td>4neur</td><td>▁</td></tr><tr><td>5open</td><td>▁</td></tr><tr><td>acc</td><td>▁</td></tr></table><br/></div><div class=\"wandb-col\"><h3>Run summary:</h3><br/><table class=\"wandb\"><tr><td>1extr</td><td>0.61538</td></tr><tr><td>2agre</td><td>0.61538</td></tr><tr><td>3cons</td><td>0.46154</td></tr><tr><td>4neur</td><td>0.53846</td></tr><tr><td>5open</td><td>0.57692</td></tr><tr><td>acc</td><td>0.56154</td></tr></table><br/></div></div>"
      ],
      "text/plain": [
       "<IPython.core.display.HTML object>"
      ]
     },
     "metadata": {},
     "output_type": "display_data"
    },
    {
     "data": {
      "text/html": [
       " View run <strong style=\"color:#cdcd00\">misty-sweep-11</strong> at: <a href='https://wandb.ai/r-yanagimoto/mlp-sweep/runs/10om27s1' target=\"_blank\">https://wandb.ai/r-yanagimoto/mlp-sweep/runs/10om27s1</a><br/>Synced 5 W&B file(s), 0 media file(s), 0 artifact file(s) and 0 other file(s)"
      ],
      "text/plain": [
       "<IPython.core.display.HTML object>"
      ]
     },
     "metadata": {},
     "output_type": "display_data"
    },
    {
     "data": {
      "text/html": [
       "Find logs at: <code>./wandb/run-20230213_190513-10om27s1/logs</code>"
      ],
      "text/plain": [
       "<IPython.core.display.HTML object>"
      ]
     },
     "metadata": {},
     "output_type": "display_data"
    },
    {
     "name": "stderr",
     "output_type": "stream",
     "text": [
      "\u001b[34m\u001b[1mwandb\u001b[0m: Agent Starting Run: zks39hgk with config:\n",
      "\u001b[34m\u001b[1mwandb\u001b[0m: \tactivation: tanh\n",
      "\u001b[34m\u001b[1mwandb\u001b[0m: \talpha: 0.0001\n",
      "\u001b[34m\u001b[1mwandb\u001b[0m: \thidden_layer_sizes: [512]\n",
      "\u001b[34m\u001b[1mwandb\u001b[0m: \tlearning_rate: adaptive\n",
      "\u001b[34m\u001b[1mwandb\u001b[0m: \tsolver: adam\n",
      "Failed to detect the name of this notebook, you can set it manually with the WANDB_NOTEBOOK_NAME environment variable to enable code saving.\n"
     ]
    },
    {
     "data": {
      "text/html": [
       "Tracking run with wandb version 0.13.10"
      ],
      "text/plain": [
       "<IPython.core.display.HTML object>"
      ]
     },
     "metadata": {},
     "output_type": "display_data"
    },
    {
     "data": {
      "text/html": [
       "Run data is saved locally in <code>/home/ryoyanagimoto/persona/src/wandb/run-20230213_192614-zks39hgk</code>"
      ],
      "text/plain": [
       "<IPython.core.display.HTML object>"
      ]
     },
     "metadata": {},
     "output_type": "display_data"
    },
    {
     "data": {
      "text/html": [
       "Syncing run <strong><a href='https://wandb.ai/r-yanagimoto/mlp-sweep/runs/zks39hgk' target=\"_blank\">winter-sweep-12</a></strong> to <a href='https://wandb.ai/r-yanagimoto/mlp-sweep' target=\"_blank\">Weights & Biases</a> (<a href='https://wandb.me/run' target=\"_blank\">docs</a>)<br/>Sweep page: <a href='https://wandb.ai/r-yanagimoto/mlp-sweep/sweeps/r73z8z2k' target=\"_blank\">https://wandb.ai/r-yanagimoto/mlp-sweep/sweeps/r73z8z2k</a>"
      ],
      "text/plain": [
       "<IPython.core.display.HTML object>"
      ]
     },
     "metadata": {},
     "output_type": "display_data"
    },
    {
     "data": {
      "text/html": [
       " View project at <a href='https://wandb.ai/r-yanagimoto/mlp-sweep' target=\"_blank\">https://wandb.ai/r-yanagimoto/mlp-sweep</a>"
      ],
      "text/plain": [
       "<IPython.core.display.HTML object>"
      ]
     },
     "metadata": {},
     "output_type": "display_data"
    },
    {
     "data": {
      "text/html": [
       " View sweep at <a href='https://wandb.ai/r-yanagimoto/mlp-sweep/sweeps/r73z8z2k' target=\"_blank\">https://wandb.ai/r-yanagimoto/mlp-sweep/sweeps/r73z8z2k</a>"
      ],
      "text/plain": [
       "<IPython.core.display.HTML object>"
      ]
     },
     "metadata": {},
     "output_type": "display_data"
    },
    {
     "data": {
      "text/html": [
       " View run at <a href='https://wandb.ai/r-yanagimoto/mlp-sweep/runs/zks39hgk' target=\"_blank\">https://wandb.ai/r-yanagimoto/mlp-sweep/runs/zks39hgk</a>"
      ],
      "text/plain": [
       "<IPython.core.display.HTML object>"
      ]
     },
     "metadata": {},
     "output_type": "display_data"
    },
    {
     "data": {
      "text/html": [
       "Waiting for W&B process to finish... <strong style=\"color:green\">(success).</strong>"
      ],
      "text/plain": [
       "<IPython.core.display.HTML object>"
      ]
     },
     "metadata": {},
     "output_type": "display_data"
    },
    {
     "data": {
      "text/html": [
       "<style>\n",
       "    table.wandb td:nth-child(1) { padding: 0 10px; text-align: left ; width: auto;} td:nth-child(2) {text-align: left ; width: 100%}\n",
       "    .wandb-row { display: flex; flex-direction: row; flex-wrap: wrap; justify-content: flex-start; width: 100% }\n",
       "    .wandb-col { display: flex; flex-direction: column; flex-basis: 100%; flex: 1; padding: 10px; }\n",
       "    </style>\n",
       "<div class=\"wandb-row\"><div class=\"wandb-col\"><h3>Run history:</h3><br/><table class=\"wandb\"><tr><td>1extr</td><td>▁</td></tr><tr><td>2agre</td><td>▁</td></tr><tr><td>3cons</td><td>▁</td></tr><tr><td>4neur</td><td>▁</td></tr><tr><td>5open</td><td>▁</td></tr><tr><td>acc</td><td>▁</td></tr></table><br/></div><div class=\"wandb-col\"><h3>Run summary:</h3><br/><table class=\"wandb\"><tr><td>1extr</td><td>0.65385</td></tr><tr><td>2agre</td><td>0.57692</td></tr><tr><td>3cons</td><td>0.38462</td></tr><tr><td>4neur</td><td>0.46154</td></tr><tr><td>5open</td><td>0.42308</td></tr><tr><td>acc</td><td>0.5</td></tr></table><br/></div></div>"
      ],
      "text/plain": [
       "<IPython.core.display.HTML object>"
      ]
     },
     "metadata": {},
     "output_type": "display_data"
    },
    {
     "data": {
      "text/html": [
       " View run <strong style=\"color:#cdcd00\">winter-sweep-12</strong> at: <a href='https://wandb.ai/r-yanagimoto/mlp-sweep/runs/zks39hgk' target=\"_blank\">https://wandb.ai/r-yanagimoto/mlp-sweep/runs/zks39hgk</a><br/>Synced 5 W&B file(s), 0 media file(s), 0 artifact file(s) and 0 other file(s)"
      ],
      "text/plain": [
       "<IPython.core.display.HTML object>"
      ]
     },
     "metadata": {},
     "output_type": "display_data"
    },
    {
     "data": {
      "text/html": [
       "Find logs at: <code>./wandb/run-20230213_192614-zks39hgk/logs</code>"
      ],
      "text/plain": [
       "<IPython.core.display.HTML object>"
      ]
     },
     "metadata": {},
     "output_type": "display_data"
    },
    {
     "name": "stderr",
     "output_type": "stream",
     "text": [
      "\u001b[34m\u001b[1mwandb\u001b[0m: Agent Starting Run: ysrk7wna with config:\n",
      "\u001b[34m\u001b[1mwandb\u001b[0m: \tactivation: tanh\n",
      "\u001b[34m\u001b[1mwandb\u001b[0m: \talpha: 0.05\n",
      "\u001b[34m\u001b[1mwandb\u001b[0m: \thidden_layer_sizes: [256, 256]\n",
      "\u001b[34m\u001b[1mwandb\u001b[0m: \tlearning_rate: constant\n",
      "\u001b[34m\u001b[1mwandb\u001b[0m: \tsolver: sgd\n",
      "Failed to detect the name of this notebook, you can set it manually with the WANDB_NOTEBOOK_NAME environment variable to enable code saving.\n"
     ]
    },
    {
     "data": {
      "text/html": [
       "Tracking run with wandb version 0.13.10"
      ],
      "text/plain": [
       "<IPython.core.display.HTML object>"
      ]
     },
     "metadata": {},
     "output_type": "display_data"
    },
    {
     "data": {
      "text/html": [
       "Run data is saved locally in <code>/home/ryoyanagimoto/persona/src/wandb/run-20230213_193819-ysrk7wna</code>"
      ],
      "text/plain": [
       "<IPython.core.display.HTML object>"
      ]
     },
     "metadata": {},
     "output_type": "display_data"
    },
    {
     "data": {
      "text/html": [
       "Syncing run <strong><a href='https://wandb.ai/r-yanagimoto/mlp-sweep/runs/ysrk7wna' target=\"_blank\">gallant-sweep-13</a></strong> to <a href='https://wandb.ai/r-yanagimoto/mlp-sweep' target=\"_blank\">Weights & Biases</a> (<a href='https://wandb.me/run' target=\"_blank\">docs</a>)<br/>Sweep page: <a href='https://wandb.ai/r-yanagimoto/mlp-sweep/sweeps/r73z8z2k' target=\"_blank\">https://wandb.ai/r-yanagimoto/mlp-sweep/sweeps/r73z8z2k</a>"
      ],
      "text/plain": [
       "<IPython.core.display.HTML object>"
      ]
     },
     "metadata": {},
     "output_type": "display_data"
    },
    {
     "data": {
      "text/html": [
       " View project at <a href='https://wandb.ai/r-yanagimoto/mlp-sweep' target=\"_blank\">https://wandb.ai/r-yanagimoto/mlp-sweep</a>"
      ],
      "text/plain": [
       "<IPython.core.display.HTML object>"
      ]
     },
     "metadata": {},
     "output_type": "display_data"
    },
    {
     "data": {
      "text/html": [
       " View sweep at <a href='https://wandb.ai/r-yanagimoto/mlp-sweep/sweeps/r73z8z2k' target=\"_blank\">https://wandb.ai/r-yanagimoto/mlp-sweep/sweeps/r73z8z2k</a>"
      ],
      "text/plain": [
       "<IPython.core.display.HTML object>"
      ]
     },
     "metadata": {},
     "output_type": "display_data"
    },
    {
     "data": {
      "text/html": [
       " View run at <a href='https://wandb.ai/r-yanagimoto/mlp-sweep/runs/ysrk7wna' target=\"_blank\">https://wandb.ai/r-yanagimoto/mlp-sweep/runs/ysrk7wna</a>"
      ],
      "text/plain": [
       "<IPython.core.display.HTML object>"
      ]
     },
     "metadata": {},
     "output_type": "display_data"
    },
    {
     "data": {
      "text/html": [
       "Waiting for W&B process to finish... <strong style=\"color:green\">(success).</strong>"
      ],
      "text/plain": [
       "<IPython.core.display.HTML object>"
      ]
     },
     "metadata": {},
     "output_type": "display_data"
    },
    {
     "data": {
      "text/html": [
       "<style>\n",
       "    table.wandb td:nth-child(1) { padding: 0 10px; text-align: left ; width: auto;} td:nth-child(2) {text-align: left ; width: 100%}\n",
       "    .wandb-row { display: flex; flex-direction: row; flex-wrap: wrap; justify-content: flex-start; width: 100% }\n",
       "    .wandb-col { display: flex; flex-direction: column; flex-basis: 100%; flex: 1; padding: 10px; }\n",
       "    </style>\n",
       "<div class=\"wandb-row\"><div class=\"wandb-col\"><h3>Run history:</h3><br/><table class=\"wandb\"><tr><td>1extr</td><td>▁</td></tr><tr><td>2agre</td><td>▁</td></tr><tr><td>3cons</td><td>▁</td></tr><tr><td>4neur</td><td>▁</td></tr><tr><td>5open</td><td>▁</td></tr><tr><td>acc</td><td>▁</td></tr></table><br/></div><div class=\"wandb-col\"><h3>Run summary:</h3><br/><table class=\"wandb\"><tr><td>1extr</td><td>0.53846</td></tr><tr><td>2agre</td><td>0.53846</td></tr><tr><td>3cons</td><td>0.61538</td></tr><tr><td>4neur</td><td>0.5</td></tr><tr><td>5open</td><td>0.46154</td></tr><tr><td>acc</td><td>0.53077</td></tr></table><br/></div></div>"
      ],
      "text/plain": [
       "<IPython.core.display.HTML object>"
      ]
     },
     "metadata": {},
     "output_type": "display_data"
    },
    {
     "data": {
      "text/html": [
       " View run <strong style=\"color:#cdcd00\">gallant-sweep-13</strong> at: <a href='https://wandb.ai/r-yanagimoto/mlp-sweep/runs/ysrk7wna' target=\"_blank\">https://wandb.ai/r-yanagimoto/mlp-sweep/runs/ysrk7wna</a><br/>Synced 5 W&B file(s), 0 media file(s), 0 artifact file(s) and 0 other file(s)"
      ],
      "text/plain": [
       "<IPython.core.display.HTML object>"
      ]
     },
     "metadata": {},
     "output_type": "display_data"
    },
    {
     "data": {
      "text/html": [
       "Find logs at: <code>./wandb/run-20230213_193819-ysrk7wna/logs</code>"
      ],
      "text/plain": [
       "<IPython.core.display.HTML object>"
      ]
     },
     "metadata": {},
     "output_type": "display_data"
    },
    {
     "name": "stderr",
     "output_type": "stream",
     "text": [
      "\u001b[34m\u001b[1mwandb\u001b[0m: Agent Starting Run: ztek0f6j with config:\n",
      "\u001b[34m\u001b[1mwandb\u001b[0m: \tactivation: tanh\n",
      "\u001b[34m\u001b[1mwandb\u001b[0m: \talpha: 0.05\n",
      "\u001b[34m\u001b[1mwandb\u001b[0m: \thidden_layer_sizes: [256, 256]\n",
      "\u001b[34m\u001b[1mwandb\u001b[0m: \tlearning_rate: constant\n",
      "\u001b[34m\u001b[1mwandb\u001b[0m: \tsolver: adam\n",
      "Failed to detect the name of this notebook, you can set it manually with the WANDB_NOTEBOOK_NAME environment variable to enable code saving.\n"
     ]
    },
    {
     "data": {
      "text/html": [
       "Tracking run with wandb version 0.13.10"
      ],
      "text/plain": [
       "<IPython.core.display.HTML object>"
      ]
     },
     "metadata": {},
     "output_type": "display_data"
    },
    {
     "data": {
      "text/html": [
       "Run data is saved locally in <code>/home/ryoyanagimoto/persona/src/wandb/run-20230213_194721-ztek0f6j</code>"
      ],
      "text/plain": [
       "<IPython.core.display.HTML object>"
      ]
     },
     "metadata": {},
     "output_type": "display_data"
    },
    {
     "data": {
      "text/html": [
       "Syncing run <strong><a href='https://wandb.ai/r-yanagimoto/mlp-sweep/runs/ztek0f6j' target=\"_blank\">vocal-sweep-14</a></strong> to <a href='https://wandb.ai/r-yanagimoto/mlp-sweep' target=\"_blank\">Weights & Biases</a> (<a href='https://wandb.me/run' target=\"_blank\">docs</a>)<br/>Sweep page: <a href='https://wandb.ai/r-yanagimoto/mlp-sweep/sweeps/r73z8z2k' target=\"_blank\">https://wandb.ai/r-yanagimoto/mlp-sweep/sweeps/r73z8z2k</a>"
      ],
      "text/plain": [
       "<IPython.core.display.HTML object>"
      ]
     },
     "metadata": {},
     "output_type": "display_data"
    },
    {
     "data": {
      "text/html": [
       " View project at <a href='https://wandb.ai/r-yanagimoto/mlp-sweep' target=\"_blank\">https://wandb.ai/r-yanagimoto/mlp-sweep</a>"
      ],
      "text/plain": [
       "<IPython.core.display.HTML object>"
      ]
     },
     "metadata": {},
     "output_type": "display_data"
    },
    {
     "data": {
      "text/html": [
       " View sweep at <a href='https://wandb.ai/r-yanagimoto/mlp-sweep/sweeps/r73z8z2k' target=\"_blank\">https://wandb.ai/r-yanagimoto/mlp-sweep/sweeps/r73z8z2k</a>"
      ],
      "text/plain": [
       "<IPython.core.display.HTML object>"
      ]
     },
     "metadata": {},
     "output_type": "display_data"
    },
    {
     "data": {
      "text/html": [
       " View run at <a href='https://wandb.ai/r-yanagimoto/mlp-sweep/runs/ztek0f6j' target=\"_blank\">https://wandb.ai/r-yanagimoto/mlp-sweep/runs/ztek0f6j</a>"
      ],
      "text/plain": [
       "<IPython.core.display.HTML object>"
      ]
     },
     "metadata": {},
     "output_type": "display_data"
    },
    {
     "data": {
      "text/html": [
       "Waiting for W&B process to finish... <strong style=\"color:green\">(success).</strong>"
      ],
      "text/plain": [
       "<IPython.core.display.HTML object>"
      ]
     },
     "metadata": {},
     "output_type": "display_data"
    },
    {
     "data": {
      "text/html": [
       "<style>\n",
       "    table.wandb td:nth-child(1) { padding: 0 10px; text-align: left ; width: auto;} td:nth-child(2) {text-align: left ; width: 100%}\n",
       "    .wandb-row { display: flex; flex-direction: row; flex-wrap: wrap; justify-content: flex-start; width: 100% }\n",
       "    .wandb-col { display: flex; flex-direction: column; flex-basis: 100%; flex: 1; padding: 10px; }\n",
       "    </style>\n",
       "<div class=\"wandb-row\"><div class=\"wandb-col\"><h3>Run history:</h3><br/><table class=\"wandb\"><tr><td>1extr</td><td>▁</td></tr><tr><td>2agre</td><td>▁</td></tr><tr><td>3cons</td><td>▁</td></tr><tr><td>4neur</td><td>▁</td></tr><tr><td>5open</td><td>▁</td></tr><tr><td>acc</td><td>▁</td></tr></table><br/></div><div class=\"wandb-col\"><h3>Run summary:</h3><br/><table class=\"wandb\"><tr><td>1extr</td><td>0.5</td></tr><tr><td>2agre</td><td>0.57692</td></tr><tr><td>3cons</td><td>0.46154</td></tr><tr><td>4neur</td><td>0.46154</td></tr><tr><td>5open</td><td>0.42308</td></tr><tr><td>acc</td><td>0.48462</td></tr></table><br/></div></div>"
      ],
      "text/plain": [
       "<IPython.core.display.HTML object>"
      ]
     },
     "metadata": {},
     "output_type": "display_data"
    },
    {
     "data": {
      "text/html": [
       " View run <strong style=\"color:#cdcd00\">vocal-sweep-14</strong> at: <a href='https://wandb.ai/r-yanagimoto/mlp-sweep/runs/ztek0f6j' target=\"_blank\">https://wandb.ai/r-yanagimoto/mlp-sweep/runs/ztek0f6j</a><br/>Synced 5 W&B file(s), 0 media file(s), 0 artifact file(s) and 0 other file(s)"
      ],
      "text/plain": [
       "<IPython.core.display.HTML object>"
      ]
     },
     "metadata": {},
     "output_type": "display_data"
    },
    {
     "data": {
      "text/html": [
       "Find logs at: <code>./wandb/run-20230213_194721-ztek0f6j/logs</code>"
      ],
      "text/plain": [
       "<IPython.core.display.HTML object>"
      ]
     },
     "metadata": {},
     "output_type": "display_data"
    },
    {
     "name": "stderr",
     "output_type": "stream",
     "text": [
      "\u001b[34m\u001b[1mwandb\u001b[0m: Agent Starting Run: sa3iksjh with config:\n",
      "\u001b[34m\u001b[1mwandb\u001b[0m: \tactivation: tanh\n",
      "\u001b[34m\u001b[1mwandb\u001b[0m: \talpha: 0.05\n",
      "\u001b[34m\u001b[1mwandb\u001b[0m: \thidden_layer_sizes: [256, 256]\n",
      "\u001b[34m\u001b[1mwandb\u001b[0m: \tlearning_rate: adaptive\n",
      "\u001b[34m\u001b[1mwandb\u001b[0m: \tsolver: sgd\n",
      "Failed to detect the name of this notebook, you can set it manually with the WANDB_NOTEBOOK_NAME environment variable to enable code saving.\n"
     ]
    },
    {
     "data": {
      "text/html": [
       "Tracking run with wandb version 0.13.10"
      ],
      "text/plain": [
       "<IPython.core.display.HTML object>"
      ]
     },
     "metadata": {},
     "output_type": "display_data"
    },
    {
     "data": {
      "text/html": [
       "Run data is saved locally in <code>/home/ryoyanagimoto/persona/src/wandb/run-20230213_195530-sa3iksjh</code>"
      ],
      "text/plain": [
       "<IPython.core.display.HTML object>"
      ]
     },
     "metadata": {},
     "output_type": "display_data"
    },
    {
     "data": {
      "text/html": [
       "Syncing run <strong><a href='https://wandb.ai/r-yanagimoto/mlp-sweep/runs/sa3iksjh' target=\"_blank\">sweepy-sweep-15</a></strong> to <a href='https://wandb.ai/r-yanagimoto/mlp-sweep' target=\"_blank\">Weights & Biases</a> (<a href='https://wandb.me/run' target=\"_blank\">docs</a>)<br/>Sweep page: <a href='https://wandb.ai/r-yanagimoto/mlp-sweep/sweeps/r73z8z2k' target=\"_blank\">https://wandb.ai/r-yanagimoto/mlp-sweep/sweeps/r73z8z2k</a>"
      ],
      "text/plain": [
       "<IPython.core.display.HTML object>"
      ]
     },
     "metadata": {},
     "output_type": "display_data"
    },
    {
     "data": {
      "text/html": [
       " View project at <a href='https://wandb.ai/r-yanagimoto/mlp-sweep' target=\"_blank\">https://wandb.ai/r-yanagimoto/mlp-sweep</a>"
      ],
      "text/plain": [
       "<IPython.core.display.HTML object>"
      ]
     },
     "metadata": {},
     "output_type": "display_data"
    },
    {
     "data": {
      "text/html": [
       " View sweep at <a href='https://wandb.ai/r-yanagimoto/mlp-sweep/sweeps/r73z8z2k' target=\"_blank\">https://wandb.ai/r-yanagimoto/mlp-sweep/sweeps/r73z8z2k</a>"
      ],
      "text/plain": [
       "<IPython.core.display.HTML object>"
      ]
     },
     "metadata": {},
     "output_type": "display_data"
    },
    {
     "data": {
      "text/html": [
       " View run at <a href='https://wandb.ai/r-yanagimoto/mlp-sweep/runs/sa3iksjh' target=\"_blank\">https://wandb.ai/r-yanagimoto/mlp-sweep/runs/sa3iksjh</a>"
      ],
      "text/plain": [
       "<IPython.core.display.HTML object>"
      ]
     },
     "metadata": {},
     "output_type": "display_data"
    },
    {
     "data": {
      "text/html": [
       "Waiting for W&B process to finish... <strong style=\"color:green\">(success).</strong>"
      ],
      "text/plain": [
       "<IPython.core.display.HTML object>"
      ]
     },
     "metadata": {},
     "output_type": "display_data"
    },
    {
     "data": {
      "text/html": [
       "<style>\n",
       "    table.wandb td:nth-child(1) { padding: 0 10px; text-align: left ; width: auto;} td:nth-child(2) {text-align: left ; width: 100%}\n",
       "    .wandb-row { display: flex; flex-direction: row; flex-wrap: wrap; justify-content: flex-start; width: 100% }\n",
       "    .wandb-col { display: flex; flex-direction: column; flex-basis: 100%; flex: 1; padding: 10px; }\n",
       "    </style>\n",
       "<div class=\"wandb-row\"><div class=\"wandb-col\"><h3>Run history:</h3><br/><table class=\"wandb\"><tr><td>1extr</td><td>▁</td></tr><tr><td>2agre</td><td>▁</td></tr><tr><td>3cons</td><td>▁</td></tr><tr><td>4neur</td><td>▁</td></tr><tr><td>5open</td><td>▁</td></tr><tr><td>acc</td><td>▁</td></tr></table><br/></div><div class=\"wandb-col\"><h3>Run summary:</h3><br/><table class=\"wandb\"><tr><td>1extr</td><td>0.61538</td></tr><tr><td>2agre</td><td>0.65385</td></tr><tr><td>3cons</td><td>0.46154</td></tr><tr><td>4neur</td><td>0.57692</td></tr><tr><td>5open</td><td>0.61538</td></tr><tr><td>acc</td><td>0.58462</td></tr></table><br/></div></div>"
      ],
      "text/plain": [
       "<IPython.core.display.HTML object>"
      ]
     },
     "metadata": {},
     "output_type": "display_data"
    },
    {
     "data": {
      "text/html": [
       " View run <strong style=\"color:#cdcd00\">sweepy-sweep-15</strong> at: <a href='https://wandb.ai/r-yanagimoto/mlp-sweep/runs/sa3iksjh' target=\"_blank\">https://wandb.ai/r-yanagimoto/mlp-sweep/runs/sa3iksjh</a><br/>Synced 5 W&B file(s), 0 media file(s), 0 artifact file(s) and 0 other file(s)"
      ],
      "text/plain": [
       "<IPython.core.display.HTML object>"
      ]
     },
     "metadata": {},
     "output_type": "display_data"
    },
    {
     "data": {
      "text/html": [
       "Find logs at: <code>./wandb/run-20230213_195530-sa3iksjh/logs</code>"
      ],
      "text/plain": [
       "<IPython.core.display.HTML object>"
      ]
     },
     "metadata": {},
     "output_type": "display_data"
    },
    {
     "name": "stderr",
     "output_type": "stream",
     "text": [
      "\u001b[34m\u001b[1mwandb\u001b[0m: Agent Starting Run: 1puaf0s9 with config:\n",
      "\u001b[34m\u001b[1mwandb\u001b[0m: \tactivation: tanh\n",
      "\u001b[34m\u001b[1mwandb\u001b[0m: \talpha: 0.05\n",
      "\u001b[34m\u001b[1mwandb\u001b[0m: \thidden_layer_sizes: [256, 256]\n",
      "\u001b[34m\u001b[1mwandb\u001b[0m: \tlearning_rate: adaptive\n",
      "\u001b[34m\u001b[1mwandb\u001b[0m: \tsolver: adam\n",
      "Failed to detect the name of this notebook, you can set it manually with the WANDB_NOTEBOOK_NAME environment variable to enable code saving.\n"
     ]
    },
    {
     "data": {
      "text/html": [
       "Tracking run with wandb version 0.13.10"
      ],
      "text/plain": [
       "<IPython.core.display.HTML object>"
      ]
     },
     "metadata": {},
     "output_type": "display_data"
    },
    {
     "data": {
      "text/html": [
       "Run data is saved locally in <code>/home/ryoyanagimoto/persona/src/wandb/run-20230213_201117-1puaf0s9</code>"
      ],
      "text/plain": [
       "<IPython.core.display.HTML object>"
      ]
     },
     "metadata": {},
     "output_type": "display_data"
    },
    {
     "data": {
      "text/html": [
       "Syncing run <strong><a href='https://wandb.ai/r-yanagimoto/mlp-sweep/runs/1puaf0s9' target=\"_blank\">unique-sweep-16</a></strong> to <a href='https://wandb.ai/r-yanagimoto/mlp-sweep' target=\"_blank\">Weights & Biases</a> (<a href='https://wandb.me/run' target=\"_blank\">docs</a>)<br/>Sweep page: <a href='https://wandb.ai/r-yanagimoto/mlp-sweep/sweeps/r73z8z2k' target=\"_blank\">https://wandb.ai/r-yanagimoto/mlp-sweep/sweeps/r73z8z2k</a>"
      ],
      "text/plain": [
       "<IPython.core.display.HTML object>"
      ]
     },
     "metadata": {},
     "output_type": "display_data"
    },
    {
     "data": {
      "text/html": [
       " View project at <a href='https://wandb.ai/r-yanagimoto/mlp-sweep' target=\"_blank\">https://wandb.ai/r-yanagimoto/mlp-sweep</a>"
      ],
      "text/plain": [
       "<IPython.core.display.HTML object>"
      ]
     },
     "metadata": {},
     "output_type": "display_data"
    },
    {
     "data": {
      "text/html": [
       " View sweep at <a href='https://wandb.ai/r-yanagimoto/mlp-sweep/sweeps/r73z8z2k' target=\"_blank\">https://wandb.ai/r-yanagimoto/mlp-sweep/sweeps/r73z8z2k</a>"
      ],
      "text/plain": [
       "<IPython.core.display.HTML object>"
      ]
     },
     "metadata": {},
     "output_type": "display_data"
    },
    {
     "data": {
      "text/html": [
       " View run at <a href='https://wandb.ai/r-yanagimoto/mlp-sweep/runs/1puaf0s9' target=\"_blank\">https://wandb.ai/r-yanagimoto/mlp-sweep/runs/1puaf0s9</a>"
      ],
      "text/plain": [
       "<IPython.core.display.HTML object>"
      ]
     },
     "metadata": {},
     "output_type": "display_data"
    },
    {
     "data": {
      "text/html": [
       "Waiting for W&B process to finish... <strong style=\"color:green\">(success).</strong>"
      ],
      "text/plain": [
       "<IPython.core.display.HTML object>"
      ]
     },
     "metadata": {},
     "output_type": "display_data"
    },
    {
     "data": {
      "text/html": [
       "<style>\n",
       "    table.wandb td:nth-child(1) { padding: 0 10px; text-align: left ; width: auto;} td:nth-child(2) {text-align: left ; width: 100%}\n",
       "    .wandb-row { display: flex; flex-direction: row; flex-wrap: wrap; justify-content: flex-start; width: 100% }\n",
       "    .wandb-col { display: flex; flex-direction: column; flex-basis: 100%; flex: 1; padding: 10px; }\n",
       "    </style>\n",
       "<div class=\"wandb-row\"><div class=\"wandb-col\"><h3>Run history:</h3><br/><table class=\"wandb\"><tr><td>1extr</td><td>▁</td></tr><tr><td>2agre</td><td>▁</td></tr><tr><td>3cons</td><td>▁</td></tr><tr><td>4neur</td><td>▁</td></tr><tr><td>5open</td><td>▁</td></tr><tr><td>acc</td><td>▁</td></tr></table><br/></div><div class=\"wandb-col\"><h3>Run summary:</h3><br/><table class=\"wandb\"><tr><td>1extr</td><td>0.46154</td></tr><tr><td>2agre</td><td>0.5</td></tr><tr><td>3cons</td><td>0.46154</td></tr><tr><td>4neur</td><td>0.5</td></tr><tr><td>5open</td><td>0.46154</td></tr><tr><td>acc</td><td>0.47692</td></tr></table><br/></div></div>"
      ],
      "text/plain": [
       "<IPython.core.display.HTML object>"
      ]
     },
     "metadata": {},
     "output_type": "display_data"
    },
    {
     "data": {
      "text/html": [
       " View run <strong style=\"color:#cdcd00\">unique-sweep-16</strong> at: <a href='https://wandb.ai/r-yanagimoto/mlp-sweep/runs/1puaf0s9' target=\"_blank\">https://wandb.ai/r-yanagimoto/mlp-sweep/runs/1puaf0s9</a><br/>Synced 5 W&B file(s), 0 media file(s), 0 artifact file(s) and 0 other file(s)"
      ],
      "text/plain": [
       "<IPython.core.display.HTML object>"
      ]
     },
     "metadata": {},
     "output_type": "display_data"
    },
    {
     "data": {
      "text/html": [
       "Find logs at: <code>./wandb/run-20230213_201117-1puaf0s9/logs</code>"
      ],
      "text/plain": [
       "<IPython.core.display.HTML object>"
      ]
     },
     "metadata": {},
     "output_type": "display_data"
    },
    {
     "name": "stderr",
     "output_type": "stream",
     "text": [
      "\u001b[34m\u001b[1mwandb\u001b[0m: Agent Starting Run: h9jp9wdp with config:\n",
      "\u001b[34m\u001b[1mwandb\u001b[0m: \tactivation: tanh\n",
      "\u001b[34m\u001b[1mwandb\u001b[0m: \talpha: 0.05\n",
      "\u001b[34m\u001b[1mwandb\u001b[0m: \thidden_layer_sizes: [256, 64]\n",
      "\u001b[34m\u001b[1mwandb\u001b[0m: \tlearning_rate: constant\n",
      "\u001b[34m\u001b[1mwandb\u001b[0m: \tsolver: sgd\n",
      "Failed to detect the name of this notebook, you can set it manually with the WANDB_NOTEBOOK_NAME environment variable to enable code saving.\n"
     ]
    },
    {
     "data": {
      "text/html": [
       "Tracking run with wandb version 0.13.10"
      ],
      "text/plain": [
       "<IPython.core.display.HTML object>"
      ]
     },
     "metadata": {},
     "output_type": "display_data"
    },
    {
     "data": {
      "text/html": [
       "Run data is saved locally in <code>/home/ryoyanagimoto/persona/src/wandb/run-20230213_201917-h9jp9wdp</code>"
      ],
      "text/plain": [
       "<IPython.core.display.HTML object>"
      ]
     },
     "metadata": {},
     "output_type": "display_data"
    },
    {
     "data": {
      "text/html": [
       "Syncing run <strong><a href='https://wandb.ai/r-yanagimoto/mlp-sweep/runs/h9jp9wdp' target=\"_blank\">rose-sweep-17</a></strong> to <a href='https://wandb.ai/r-yanagimoto/mlp-sweep' target=\"_blank\">Weights & Biases</a> (<a href='https://wandb.me/run' target=\"_blank\">docs</a>)<br/>Sweep page: <a href='https://wandb.ai/r-yanagimoto/mlp-sweep/sweeps/r73z8z2k' target=\"_blank\">https://wandb.ai/r-yanagimoto/mlp-sweep/sweeps/r73z8z2k</a>"
      ],
      "text/plain": [
       "<IPython.core.display.HTML object>"
      ]
     },
     "metadata": {},
     "output_type": "display_data"
    },
    {
     "data": {
      "text/html": [
       " View project at <a href='https://wandb.ai/r-yanagimoto/mlp-sweep' target=\"_blank\">https://wandb.ai/r-yanagimoto/mlp-sweep</a>"
      ],
      "text/plain": [
       "<IPython.core.display.HTML object>"
      ]
     },
     "metadata": {},
     "output_type": "display_data"
    },
    {
     "data": {
      "text/html": [
       " View sweep at <a href='https://wandb.ai/r-yanagimoto/mlp-sweep/sweeps/r73z8z2k' target=\"_blank\">https://wandb.ai/r-yanagimoto/mlp-sweep/sweeps/r73z8z2k</a>"
      ],
      "text/plain": [
       "<IPython.core.display.HTML object>"
      ]
     },
     "metadata": {},
     "output_type": "display_data"
    },
    {
     "data": {
      "text/html": [
       " View run at <a href='https://wandb.ai/r-yanagimoto/mlp-sweep/runs/h9jp9wdp' target=\"_blank\">https://wandb.ai/r-yanagimoto/mlp-sweep/runs/h9jp9wdp</a>"
      ],
      "text/plain": [
       "<IPython.core.display.HTML object>"
      ]
     },
     "metadata": {},
     "output_type": "display_data"
    },
    {
     "data": {
      "text/html": [
       "Waiting for W&B process to finish... <strong style=\"color:green\">(success).</strong>"
      ],
      "text/plain": [
       "<IPython.core.display.HTML object>"
      ]
     },
     "metadata": {},
     "output_type": "display_data"
    },
    {
     "data": {
      "text/html": [
       "<style>\n",
       "    table.wandb td:nth-child(1) { padding: 0 10px; text-align: left ; width: auto;} td:nth-child(2) {text-align: left ; width: 100%}\n",
       "    .wandb-row { display: flex; flex-direction: row; flex-wrap: wrap; justify-content: flex-start; width: 100% }\n",
       "    .wandb-col { display: flex; flex-direction: column; flex-basis: 100%; flex: 1; padding: 10px; }\n",
       "    </style>\n",
       "<div class=\"wandb-row\"><div class=\"wandb-col\"><h3>Run history:</h3><br/><table class=\"wandb\"><tr><td>1extr</td><td>▁</td></tr><tr><td>2agre</td><td>▁</td></tr><tr><td>3cons</td><td>▁</td></tr><tr><td>4neur</td><td>▁</td></tr><tr><td>5open</td><td>▁</td></tr><tr><td>acc</td><td>▁</td></tr></table><br/></div><div class=\"wandb-col\"><h3>Run summary:</h3><br/><table class=\"wandb\"><tr><td>1extr</td><td>0.61538</td></tr><tr><td>2agre</td><td>0.5</td></tr><tr><td>3cons</td><td>0.46154</td></tr><tr><td>4neur</td><td>0.42308</td></tr><tr><td>5open</td><td>0.46154</td></tr><tr><td>acc</td><td>0.49231</td></tr></table><br/></div></div>"
      ],
      "text/plain": [
       "<IPython.core.display.HTML object>"
      ]
     },
     "metadata": {},
     "output_type": "display_data"
    },
    {
     "data": {
      "text/html": [
       " View run <strong style=\"color:#cdcd00\">rose-sweep-17</strong> at: <a href='https://wandb.ai/r-yanagimoto/mlp-sweep/runs/h9jp9wdp' target=\"_blank\">https://wandb.ai/r-yanagimoto/mlp-sweep/runs/h9jp9wdp</a><br/>Synced 5 W&B file(s), 0 media file(s), 0 artifact file(s) and 0 other file(s)"
      ],
      "text/plain": [
       "<IPython.core.display.HTML object>"
      ]
     },
     "metadata": {},
     "output_type": "display_data"
    },
    {
     "data": {
      "text/html": [
       "Find logs at: <code>./wandb/run-20230213_201917-h9jp9wdp/logs</code>"
      ],
      "text/plain": [
       "<IPython.core.display.HTML object>"
      ]
     },
     "metadata": {},
     "output_type": "display_data"
    },
    {
     "name": "stderr",
     "output_type": "stream",
     "text": [
      "\u001b[34m\u001b[1mwandb\u001b[0m: Agent Starting Run: rqt2noeg with config:\n",
      "\u001b[34m\u001b[1mwandb\u001b[0m: \tactivation: tanh\n",
      "\u001b[34m\u001b[1mwandb\u001b[0m: \talpha: 0.05\n",
      "\u001b[34m\u001b[1mwandb\u001b[0m: \thidden_layer_sizes: [256, 64]\n",
      "\u001b[34m\u001b[1mwandb\u001b[0m: \tlearning_rate: constant\n",
      "\u001b[34m\u001b[1mwandb\u001b[0m: \tsolver: adam\n",
      "Failed to detect the name of this notebook, you can set it manually with the WANDB_NOTEBOOK_NAME environment variable to enable code saving.\n"
     ]
    },
    {
     "data": {
      "text/html": [
       "Tracking run with wandb version 0.13.10"
      ],
      "text/plain": [
       "<IPython.core.display.HTML object>"
      ]
     },
     "metadata": {},
     "output_type": "display_data"
    },
    {
     "data": {
      "text/html": [
       "Run data is saved locally in <code>/home/ryoyanagimoto/persona/src/wandb/run-20230213_202651-rqt2noeg</code>"
      ],
      "text/plain": [
       "<IPython.core.display.HTML object>"
      ]
     },
     "metadata": {},
     "output_type": "display_data"
    },
    {
     "data": {
      "text/html": [
       "Syncing run <strong><a href='https://wandb.ai/r-yanagimoto/mlp-sweep/runs/rqt2noeg' target=\"_blank\">laced-sweep-18</a></strong> to <a href='https://wandb.ai/r-yanagimoto/mlp-sweep' target=\"_blank\">Weights & Biases</a> (<a href='https://wandb.me/run' target=\"_blank\">docs</a>)<br/>Sweep page: <a href='https://wandb.ai/r-yanagimoto/mlp-sweep/sweeps/r73z8z2k' target=\"_blank\">https://wandb.ai/r-yanagimoto/mlp-sweep/sweeps/r73z8z2k</a>"
      ],
      "text/plain": [
       "<IPython.core.display.HTML object>"
      ]
     },
     "metadata": {},
     "output_type": "display_data"
    },
    {
     "data": {
      "text/html": [
       " View project at <a href='https://wandb.ai/r-yanagimoto/mlp-sweep' target=\"_blank\">https://wandb.ai/r-yanagimoto/mlp-sweep</a>"
      ],
      "text/plain": [
       "<IPython.core.display.HTML object>"
      ]
     },
     "metadata": {},
     "output_type": "display_data"
    },
    {
     "data": {
      "text/html": [
       " View sweep at <a href='https://wandb.ai/r-yanagimoto/mlp-sweep/sweeps/r73z8z2k' target=\"_blank\">https://wandb.ai/r-yanagimoto/mlp-sweep/sweeps/r73z8z2k</a>"
      ],
      "text/plain": [
       "<IPython.core.display.HTML object>"
      ]
     },
     "metadata": {},
     "output_type": "display_data"
    },
    {
     "data": {
      "text/html": [
       " View run at <a href='https://wandb.ai/r-yanagimoto/mlp-sweep/runs/rqt2noeg' target=\"_blank\">https://wandb.ai/r-yanagimoto/mlp-sweep/runs/rqt2noeg</a>"
      ],
      "text/plain": [
       "<IPython.core.display.HTML object>"
      ]
     },
     "metadata": {},
     "output_type": "display_data"
    },
    {
     "data": {
      "text/html": [
       "Waiting for W&B process to finish... <strong style=\"color:green\">(success).</strong>"
      ],
      "text/plain": [
       "<IPython.core.display.HTML object>"
      ]
     },
     "metadata": {},
     "output_type": "display_data"
    },
    {
     "data": {
      "text/html": [
       "<style>\n",
       "    table.wandb td:nth-child(1) { padding: 0 10px; text-align: left ; width: auto;} td:nth-child(2) {text-align: left ; width: 100%}\n",
       "    .wandb-row { display: flex; flex-direction: row; flex-wrap: wrap; justify-content: flex-start; width: 100% }\n",
       "    .wandb-col { display: flex; flex-direction: column; flex-basis: 100%; flex: 1; padding: 10px; }\n",
       "    </style>\n",
       "<div class=\"wandb-row\"><div class=\"wandb-col\"><h3>Run history:</h3><br/><table class=\"wandb\"><tr><td>1extr</td><td>▁</td></tr><tr><td>2agre</td><td>▁</td></tr><tr><td>3cons</td><td>▁</td></tr><tr><td>4neur</td><td>▁</td></tr><tr><td>5open</td><td>▁</td></tr><tr><td>acc</td><td>▁</td></tr></table><br/></div><div class=\"wandb-col\"><h3>Run summary:</h3><br/><table class=\"wandb\"><tr><td>1extr</td><td>0.57692</td></tr><tr><td>2agre</td><td>0.53846</td></tr><tr><td>3cons</td><td>0.46154</td></tr><tr><td>4neur</td><td>0.46154</td></tr><tr><td>5open</td><td>0.46154</td></tr><tr><td>acc</td><td>0.5</td></tr></table><br/></div></div>"
      ],
      "text/plain": [
       "<IPython.core.display.HTML object>"
      ]
     },
     "metadata": {},
     "output_type": "display_data"
    },
    {
     "data": {
      "text/html": [
       " View run <strong style=\"color:#cdcd00\">laced-sweep-18</strong> at: <a href='https://wandb.ai/r-yanagimoto/mlp-sweep/runs/rqt2noeg' target=\"_blank\">https://wandb.ai/r-yanagimoto/mlp-sweep/runs/rqt2noeg</a><br/>Synced 5 W&B file(s), 0 media file(s), 0 artifact file(s) and 0 other file(s)"
      ],
      "text/plain": [
       "<IPython.core.display.HTML object>"
      ]
     },
     "metadata": {},
     "output_type": "display_data"
    },
    {
     "data": {
      "text/html": [
       "Find logs at: <code>./wandb/run-20230213_202651-rqt2noeg/logs</code>"
      ],
      "text/plain": [
       "<IPython.core.display.HTML object>"
      ]
     },
     "metadata": {},
     "output_type": "display_data"
    },
    {
     "name": "stderr",
     "output_type": "stream",
     "text": [
      "\u001b[34m\u001b[1mwandb\u001b[0m: Agent Starting Run: hbfjs1id with config:\n",
      "\u001b[34m\u001b[1mwandb\u001b[0m: \tactivation: tanh\n",
      "\u001b[34m\u001b[1mwandb\u001b[0m: \talpha: 0.05\n",
      "\u001b[34m\u001b[1mwandb\u001b[0m: \thidden_layer_sizes: [256, 64]\n",
      "\u001b[34m\u001b[1mwandb\u001b[0m: \tlearning_rate: adaptive\n",
      "\u001b[34m\u001b[1mwandb\u001b[0m: \tsolver: sgd\n",
      "Failed to detect the name of this notebook, you can set it manually with the WANDB_NOTEBOOK_NAME environment variable to enable code saving.\n"
     ]
    },
    {
     "data": {
      "text/html": [
       "Tracking run with wandb version 0.13.10"
      ],
      "text/plain": [
       "<IPython.core.display.HTML object>"
      ]
     },
     "metadata": {},
     "output_type": "display_data"
    },
    {
     "data": {
      "text/html": [
       "Run data is saved locally in <code>/home/ryoyanagimoto/persona/src/wandb/run-20230213_203352-hbfjs1id</code>"
      ],
      "text/plain": [
       "<IPython.core.display.HTML object>"
      ]
     },
     "metadata": {},
     "output_type": "display_data"
    },
    {
     "data": {
      "text/html": [
       "Syncing run <strong><a href='https://wandb.ai/r-yanagimoto/mlp-sweep/runs/hbfjs1id' target=\"_blank\">balmy-sweep-19</a></strong> to <a href='https://wandb.ai/r-yanagimoto/mlp-sweep' target=\"_blank\">Weights & Biases</a> (<a href='https://wandb.me/run' target=\"_blank\">docs</a>)<br/>Sweep page: <a href='https://wandb.ai/r-yanagimoto/mlp-sweep/sweeps/r73z8z2k' target=\"_blank\">https://wandb.ai/r-yanagimoto/mlp-sweep/sweeps/r73z8z2k</a>"
      ],
      "text/plain": [
       "<IPython.core.display.HTML object>"
      ]
     },
     "metadata": {},
     "output_type": "display_data"
    },
    {
     "data": {
      "text/html": [
       " View project at <a href='https://wandb.ai/r-yanagimoto/mlp-sweep' target=\"_blank\">https://wandb.ai/r-yanagimoto/mlp-sweep</a>"
      ],
      "text/plain": [
       "<IPython.core.display.HTML object>"
      ]
     },
     "metadata": {},
     "output_type": "display_data"
    },
    {
     "data": {
      "text/html": [
       " View sweep at <a href='https://wandb.ai/r-yanagimoto/mlp-sweep/sweeps/r73z8z2k' target=\"_blank\">https://wandb.ai/r-yanagimoto/mlp-sweep/sweeps/r73z8z2k</a>"
      ],
      "text/plain": [
       "<IPython.core.display.HTML object>"
      ]
     },
     "metadata": {},
     "output_type": "display_data"
    },
    {
     "data": {
      "text/html": [
       " View run at <a href='https://wandb.ai/r-yanagimoto/mlp-sweep/runs/hbfjs1id' target=\"_blank\">https://wandb.ai/r-yanagimoto/mlp-sweep/runs/hbfjs1id</a>"
      ],
      "text/plain": [
       "<IPython.core.display.HTML object>"
      ]
     },
     "metadata": {},
     "output_type": "display_data"
    },
    {
     "data": {
      "text/html": [
       "Waiting for W&B process to finish... <strong style=\"color:green\">(success).</strong>"
      ],
      "text/plain": [
       "<IPython.core.display.HTML object>"
      ]
     },
     "metadata": {},
     "output_type": "display_data"
    },
    {
     "data": {
      "text/html": [
       "<style>\n",
       "    table.wandb td:nth-child(1) { padding: 0 10px; text-align: left ; width: auto;} td:nth-child(2) {text-align: left ; width: 100%}\n",
       "    .wandb-row { display: flex; flex-direction: row; flex-wrap: wrap; justify-content: flex-start; width: 100% }\n",
       "    .wandb-col { display: flex; flex-direction: column; flex-basis: 100%; flex: 1; padding: 10px; }\n",
       "    </style>\n",
       "<div class=\"wandb-row\"><div class=\"wandb-col\"><h3>Run history:</h3><br/><table class=\"wandb\"><tr><td>1extr</td><td>▁</td></tr><tr><td>2agre</td><td>▁</td></tr><tr><td>3cons</td><td>▁</td></tr><tr><td>4neur</td><td>▁</td></tr><tr><td>5open</td><td>▁</td></tr><tr><td>acc</td><td>▁</td></tr></table><br/></div><div class=\"wandb-col\"><h3>Run summary:</h3><br/><table class=\"wandb\"><tr><td>1extr</td><td>0.61538</td></tr><tr><td>2agre</td><td>0.57692</td></tr><tr><td>3cons</td><td>0.46154</td></tr><tr><td>4neur</td><td>0.57692</td></tr><tr><td>5open</td><td>0.53846</td></tr><tr><td>acc</td><td>0.55385</td></tr></table><br/></div></div>"
      ],
      "text/plain": [
       "<IPython.core.display.HTML object>"
      ]
     },
     "metadata": {},
     "output_type": "display_data"
    },
    {
     "data": {
      "text/html": [
       " View run <strong style=\"color:#cdcd00\">balmy-sweep-19</strong> at: <a href='https://wandb.ai/r-yanagimoto/mlp-sweep/runs/hbfjs1id' target=\"_blank\">https://wandb.ai/r-yanagimoto/mlp-sweep/runs/hbfjs1id</a><br/>Synced 5 W&B file(s), 0 media file(s), 0 artifact file(s) and 0 other file(s)"
      ],
      "text/plain": [
       "<IPython.core.display.HTML object>"
      ]
     },
     "metadata": {},
     "output_type": "display_data"
    },
    {
     "data": {
      "text/html": [
       "Find logs at: <code>./wandb/run-20230213_203352-hbfjs1id/logs</code>"
      ],
      "text/plain": [
       "<IPython.core.display.HTML object>"
      ]
     },
     "metadata": {},
     "output_type": "display_data"
    },
    {
     "name": "stderr",
     "output_type": "stream",
     "text": [
      "\u001b[34m\u001b[1mwandb\u001b[0m: Agent Starting Run: 8st5sr57 with config:\n",
      "\u001b[34m\u001b[1mwandb\u001b[0m: \tactivation: tanh\n",
      "\u001b[34m\u001b[1mwandb\u001b[0m: \talpha: 0.05\n",
      "\u001b[34m\u001b[1mwandb\u001b[0m: \thidden_layer_sizes: [256, 64]\n",
      "\u001b[34m\u001b[1mwandb\u001b[0m: \tlearning_rate: adaptive\n",
      "\u001b[34m\u001b[1mwandb\u001b[0m: \tsolver: adam\n",
      "Failed to detect the name of this notebook, you can set it manually with the WANDB_NOTEBOOK_NAME environment variable to enable code saving.\n"
     ]
    },
    {
     "data": {
      "text/html": [
       "Tracking run with wandb version 0.13.10"
      ],
      "text/plain": [
       "<IPython.core.display.HTML object>"
      ]
     },
     "metadata": {},
     "output_type": "display_data"
    },
    {
     "data": {
      "text/html": [
       "Run data is saved locally in <code>/home/ryoyanagimoto/persona/src/wandb/run-20230213_204731-8st5sr57</code>"
      ],
      "text/plain": [
       "<IPython.core.display.HTML object>"
      ]
     },
     "metadata": {},
     "output_type": "display_data"
    },
    {
     "data": {
      "text/html": [
       "Syncing run <strong><a href='https://wandb.ai/r-yanagimoto/mlp-sweep/runs/8st5sr57' target=\"_blank\">effortless-sweep-20</a></strong> to <a href='https://wandb.ai/r-yanagimoto/mlp-sweep' target=\"_blank\">Weights & Biases</a> (<a href='https://wandb.me/run' target=\"_blank\">docs</a>)<br/>Sweep page: <a href='https://wandb.ai/r-yanagimoto/mlp-sweep/sweeps/r73z8z2k' target=\"_blank\">https://wandb.ai/r-yanagimoto/mlp-sweep/sweeps/r73z8z2k</a>"
      ],
      "text/plain": [
       "<IPython.core.display.HTML object>"
      ]
     },
     "metadata": {},
     "output_type": "display_data"
    },
    {
     "data": {
      "text/html": [
       " View project at <a href='https://wandb.ai/r-yanagimoto/mlp-sweep' target=\"_blank\">https://wandb.ai/r-yanagimoto/mlp-sweep</a>"
      ],
      "text/plain": [
       "<IPython.core.display.HTML object>"
      ]
     },
     "metadata": {},
     "output_type": "display_data"
    },
    {
     "data": {
      "text/html": [
       " View sweep at <a href='https://wandb.ai/r-yanagimoto/mlp-sweep/sweeps/r73z8z2k' target=\"_blank\">https://wandb.ai/r-yanagimoto/mlp-sweep/sweeps/r73z8z2k</a>"
      ],
      "text/plain": [
       "<IPython.core.display.HTML object>"
      ]
     },
     "metadata": {},
     "output_type": "display_data"
    },
    {
     "data": {
      "text/html": [
       " View run at <a href='https://wandb.ai/r-yanagimoto/mlp-sweep/runs/8st5sr57' target=\"_blank\">https://wandb.ai/r-yanagimoto/mlp-sweep/runs/8st5sr57</a>"
      ],
      "text/plain": [
       "<IPython.core.display.HTML object>"
      ]
     },
     "metadata": {},
     "output_type": "display_data"
    },
    {
     "data": {
      "text/html": [
       "Waiting for W&B process to finish... <strong style=\"color:green\">(success).</strong>"
      ],
      "text/plain": [
       "<IPython.core.display.HTML object>"
      ]
     },
     "metadata": {},
     "output_type": "display_data"
    },
    {
     "data": {
      "text/html": [
       "<style>\n",
       "    table.wandb td:nth-child(1) { padding: 0 10px; text-align: left ; width: auto;} td:nth-child(2) {text-align: left ; width: 100%}\n",
       "    .wandb-row { display: flex; flex-direction: row; flex-wrap: wrap; justify-content: flex-start; width: 100% }\n",
       "    .wandb-col { display: flex; flex-direction: column; flex-basis: 100%; flex: 1; padding: 10px; }\n",
       "    </style>\n",
       "<div class=\"wandb-row\"><div class=\"wandb-col\"><h3>Run history:</h3><br/><table class=\"wandb\"><tr><td>1extr</td><td>▁</td></tr><tr><td>2agre</td><td>▁</td></tr><tr><td>3cons</td><td>▁</td></tr><tr><td>4neur</td><td>▁</td></tr><tr><td>5open</td><td>▁</td></tr><tr><td>acc</td><td>▁</td></tr></table><br/></div><div class=\"wandb-col\"><h3>Run summary:</h3><br/><table class=\"wandb\"><tr><td>1extr</td><td>0.53846</td></tr><tr><td>2agre</td><td>0.53846</td></tr><tr><td>3cons</td><td>0.46154</td></tr><tr><td>4neur</td><td>0.46154</td></tr><tr><td>5open</td><td>0.34615</td></tr><tr><td>acc</td><td>0.46923</td></tr></table><br/></div></div>"
      ],
      "text/plain": [
       "<IPython.core.display.HTML object>"
      ]
     },
     "metadata": {},
     "output_type": "display_data"
    },
    {
     "data": {
      "text/html": [
       " View run <strong style=\"color:#cdcd00\">effortless-sweep-20</strong> at: <a href='https://wandb.ai/r-yanagimoto/mlp-sweep/runs/8st5sr57' target=\"_blank\">https://wandb.ai/r-yanagimoto/mlp-sweep/runs/8st5sr57</a><br/>Synced 5 W&B file(s), 0 media file(s), 0 artifact file(s) and 0 other file(s)"
      ],
      "text/plain": [
       "<IPython.core.display.HTML object>"
      ]
     },
     "metadata": {},
     "output_type": "display_data"
    },
    {
     "data": {
      "text/html": [
       "Find logs at: <code>./wandb/run-20230213_204731-8st5sr57/logs</code>"
      ],
      "text/plain": [
       "<IPython.core.display.HTML object>"
      ]
     },
     "metadata": {},
     "output_type": "display_data"
    },
    {
     "name": "stderr",
     "output_type": "stream",
     "text": [
      "\u001b[34m\u001b[1mwandb\u001b[0m: Agent Starting Run: febsz71v with config:\n",
      "\u001b[34m\u001b[1mwandb\u001b[0m: \tactivation: tanh\n",
      "\u001b[34m\u001b[1mwandb\u001b[0m: \talpha: 0.05\n",
      "\u001b[34m\u001b[1mwandb\u001b[0m: \thidden_layer_sizes: [512]\n",
      "\u001b[34m\u001b[1mwandb\u001b[0m: \tlearning_rate: constant\n",
      "\u001b[34m\u001b[1mwandb\u001b[0m: \tsolver: sgd\n",
      "Failed to detect the name of this notebook, you can set it manually with the WANDB_NOTEBOOK_NAME environment variable to enable code saving.\n"
     ]
    },
    {
     "data": {
      "text/html": [
       "Tracking run with wandb version 0.13.10"
      ],
      "text/plain": [
       "<IPython.core.display.HTML object>"
      ]
     },
     "metadata": {},
     "output_type": "display_data"
    },
    {
     "data": {
      "text/html": [
       "Run data is saved locally in <code>/home/ryoyanagimoto/persona/src/wandb/run-20230213_205443-febsz71v</code>"
      ],
      "text/plain": [
       "<IPython.core.display.HTML object>"
      ]
     },
     "metadata": {},
     "output_type": "display_data"
    },
    {
     "data": {
      "text/html": [
       "Syncing run <strong><a href='https://wandb.ai/r-yanagimoto/mlp-sweep/runs/febsz71v' target=\"_blank\">stellar-sweep-21</a></strong> to <a href='https://wandb.ai/r-yanagimoto/mlp-sweep' target=\"_blank\">Weights & Biases</a> (<a href='https://wandb.me/run' target=\"_blank\">docs</a>)<br/>Sweep page: <a href='https://wandb.ai/r-yanagimoto/mlp-sweep/sweeps/r73z8z2k' target=\"_blank\">https://wandb.ai/r-yanagimoto/mlp-sweep/sweeps/r73z8z2k</a>"
      ],
      "text/plain": [
       "<IPython.core.display.HTML object>"
      ]
     },
     "metadata": {},
     "output_type": "display_data"
    },
    {
     "data": {
      "text/html": [
       " View project at <a href='https://wandb.ai/r-yanagimoto/mlp-sweep' target=\"_blank\">https://wandb.ai/r-yanagimoto/mlp-sweep</a>"
      ],
      "text/plain": [
       "<IPython.core.display.HTML object>"
      ]
     },
     "metadata": {},
     "output_type": "display_data"
    },
    {
     "data": {
      "text/html": [
       " View sweep at <a href='https://wandb.ai/r-yanagimoto/mlp-sweep/sweeps/r73z8z2k' target=\"_blank\">https://wandb.ai/r-yanagimoto/mlp-sweep/sweeps/r73z8z2k</a>"
      ],
      "text/plain": [
       "<IPython.core.display.HTML object>"
      ]
     },
     "metadata": {},
     "output_type": "display_data"
    },
    {
     "data": {
      "text/html": [
       " View run at <a href='https://wandb.ai/r-yanagimoto/mlp-sweep/runs/febsz71v' target=\"_blank\">https://wandb.ai/r-yanagimoto/mlp-sweep/runs/febsz71v</a>"
      ],
      "text/plain": [
       "<IPython.core.display.HTML object>"
      ]
     },
     "metadata": {},
     "output_type": "display_data"
    },
    {
     "data": {
      "text/html": [
       "Waiting for W&B process to finish... <strong style=\"color:green\">(success).</strong>"
      ],
      "text/plain": [
       "<IPython.core.display.HTML object>"
      ]
     },
     "metadata": {},
     "output_type": "display_data"
    },
    {
     "data": {
      "text/html": [
       "<style>\n",
       "    table.wandb td:nth-child(1) { padding: 0 10px; text-align: left ; width: auto;} td:nth-child(2) {text-align: left ; width: 100%}\n",
       "    .wandb-row { display: flex; flex-direction: row; flex-wrap: wrap; justify-content: flex-start; width: 100% }\n",
       "    .wandb-col { display: flex; flex-direction: column; flex-basis: 100%; flex: 1; padding: 10px; }\n",
       "    </style>\n",
       "<div class=\"wandb-row\"><div class=\"wandb-col\"><h3>Run history:</h3><br/><table class=\"wandb\"><tr><td>1extr</td><td>▁</td></tr><tr><td>2agre</td><td>▁</td></tr><tr><td>3cons</td><td>▁</td></tr><tr><td>4neur</td><td>▁</td></tr><tr><td>5open</td><td>▁</td></tr><tr><td>acc</td><td>▁</td></tr></table><br/></div><div class=\"wandb-col\"><h3>Run summary:</h3><br/><table class=\"wandb\"><tr><td>1extr</td><td>0.53846</td></tr><tr><td>2agre</td><td>0.5</td></tr><tr><td>3cons</td><td>0.61538</td></tr><tr><td>4neur</td><td>0.57692</td></tr><tr><td>5open</td><td>0.46154</td></tr><tr><td>acc</td><td>0.53846</td></tr></table><br/></div></div>"
      ],
      "text/plain": [
       "<IPython.core.display.HTML object>"
      ]
     },
     "metadata": {},
     "output_type": "display_data"
    },
    {
     "data": {
      "text/html": [
       " View run <strong style=\"color:#cdcd00\">stellar-sweep-21</strong> at: <a href='https://wandb.ai/r-yanagimoto/mlp-sweep/runs/febsz71v' target=\"_blank\">https://wandb.ai/r-yanagimoto/mlp-sweep/runs/febsz71v</a><br/>Synced 5 W&B file(s), 0 media file(s), 0 artifact file(s) and 0 other file(s)"
      ],
      "text/plain": [
       "<IPython.core.display.HTML object>"
      ]
     },
     "metadata": {},
     "output_type": "display_data"
    },
    {
     "data": {
      "text/html": [
       "Find logs at: <code>./wandb/run-20230213_205443-febsz71v/logs</code>"
      ],
      "text/plain": [
       "<IPython.core.display.HTML object>"
      ]
     },
     "metadata": {},
     "output_type": "display_data"
    },
    {
     "name": "stderr",
     "output_type": "stream",
     "text": [
      "\u001b[34m\u001b[1mwandb\u001b[0m: Agent Starting Run: qryrx6ox with config:\n",
      "\u001b[34m\u001b[1mwandb\u001b[0m: \tactivation: tanh\n",
      "\u001b[34m\u001b[1mwandb\u001b[0m: \talpha: 0.05\n",
      "\u001b[34m\u001b[1mwandb\u001b[0m: \thidden_layer_sizes: [512]\n",
      "\u001b[34m\u001b[1mwandb\u001b[0m: \tlearning_rate: constant\n",
      "\u001b[34m\u001b[1mwandb\u001b[0m: \tsolver: adam\n",
      "Failed to detect the name of this notebook, you can set it manually with the WANDB_NOTEBOOK_NAME environment variable to enable code saving.\n"
     ]
    },
    {
     "data": {
      "text/html": [
       "Tracking run with wandb version 0.13.10"
      ],
      "text/plain": [
       "<IPython.core.display.HTML object>"
      ]
     },
     "metadata": {},
     "output_type": "display_data"
    },
    {
     "data": {
      "text/html": [
       "Run data is saved locally in <code>/home/ryoyanagimoto/persona/src/wandb/run-20230213_210535-qryrx6ox</code>"
      ],
      "text/plain": [
       "<IPython.core.display.HTML object>"
      ]
     },
     "metadata": {},
     "output_type": "display_data"
    },
    {
     "data": {
      "text/html": [
       "Syncing run <strong><a href='https://wandb.ai/r-yanagimoto/mlp-sweep/runs/qryrx6ox' target=\"_blank\">misunderstood-sweep-22</a></strong> to <a href='https://wandb.ai/r-yanagimoto/mlp-sweep' target=\"_blank\">Weights & Biases</a> (<a href='https://wandb.me/run' target=\"_blank\">docs</a>)<br/>Sweep page: <a href='https://wandb.ai/r-yanagimoto/mlp-sweep/sweeps/r73z8z2k' target=\"_blank\">https://wandb.ai/r-yanagimoto/mlp-sweep/sweeps/r73z8z2k</a>"
      ],
      "text/plain": [
       "<IPython.core.display.HTML object>"
      ]
     },
     "metadata": {},
     "output_type": "display_data"
    },
    {
     "data": {
      "text/html": [
       " View project at <a href='https://wandb.ai/r-yanagimoto/mlp-sweep' target=\"_blank\">https://wandb.ai/r-yanagimoto/mlp-sweep</a>"
      ],
      "text/plain": [
       "<IPython.core.display.HTML object>"
      ]
     },
     "metadata": {},
     "output_type": "display_data"
    },
    {
     "data": {
      "text/html": [
       " View sweep at <a href='https://wandb.ai/r-yanagimoto/mlp-sweep/sweeps/r73z8z2k' target=\"_blank\">https://wandb.ai/r-yanagimoto/mlp-sweep/sweeps/r73z8z2k</a>"
      ],
      "text/plain": [
       "<IPython.core.display.HTML object>"
      ]
     },
     "metadata": {},
     "output_type": "display_data"
    },
    {
     "data": {
      "text/html": [
       " View run at <a href='https://wandb.ai/r-yanagimoto/mlp-sweep/runs/qryrx6ox' target=\"_blank\">https://wandb.ai/r-yanagimoto/mlp-sweep/runs/qryrx6ox</a>"
      ],
      "text/plain": [
       "<IPython.core.display.HTML object>"
      ]
     },
     "metadata": {},
     "output_type": "display_data"
    },
    {
     "data": {
      "text/html": [
       "Waiting for W&B process to finish... <strong style=\"color:green\">(success).</strong>"
      ],
      "text/plain": [
       "<IPython.core.display.HTML object>"
      ]
     },
     "metadata": {},
     "output_type": "display_data"
    },
    {
     "data": {
      "text/html": [
       "<style>\n",
       "    table.wandb td:nth-child(1) { padding: 0 10px; text-align: left ; width: auto;} td:nth-child(2) {text-align: left ; width: 100%}\n",
       "    .wandb-row { display: flex; flex-direction: row; flex-wrap: wrap; justify-content: flex-start; width: 100% }\n",
       "    .wandb-col { display: flex; flex-direction: column; flex-basis: 100%; flex: 1; padding: 10px; }\n",
       "    </style>\n",
       "<div class=\"wandb-row\"><div class=\"wandb-col\"><h3>Run history:</h3><br/><table class=\"wandb\"><tr><td>1extr</td><td>▁</td></tr><tr><td>2agre</td><td>▁</td></tr><tr><td>3cons</td><td>▁</td></tr><tr><td>4neur</td><td>▁</td></tr><tr><td>5open</td><td>▁</td></tr><tr><td>acc</td><td>▁</td></tr></table><br/></div><div class=\"wandb-col\"><h3>Run summary:</h3><br/><table class=\"wandb\"><tr><td>1extr</td><td>0.5</td></tr><tr><td>2agre</td><td>0.53846</td></tr><tr><td>3cons</td><td>0.38462</td></tr><tr><td>4neur</td><td>0.5</td></tr><tr><td>5open</td><td>0.5</td></tr><tr><td>acc</td><td>0.48462</td></tr></table><br/></div></div>"
      ],
      "text/plain": [
       "<IPython.core.display.HTML object>"
      ]
     },
     "metadata": {},
     "output_type": "display_data"
    },
    {
     "data": {
      "text/html": [
       " View run <strong style=\"color:#cdcd00\">misunderstood-sweep-22</strong> at: <a href='https://wandb.ai/r-yanagimoto/mlp-sweep/runs/qryrx6ox' target=\"_blank\">https://wandb.ai/r-yanagimoto/mlp-sweep/runs/qryrx6ox</a><br/>Synced 5 W&B file(s), 0 media file(s), 0 artifact file(s) and 0 other file(s)"
      ],
      "text/plain": [
       "<IPython.core.display.HTML object>"
      ]
     },
     "metadata": {},
     "output_type": "display_data"
    },
    {
     "data": {
      "text/html": [
       "Find logs at: <code>./wandb/run-20230213_210535-qryrx6ox/logs</code>"
      ],
      "text/plain": [
       "<IPython.core.display.HTML object>"
      ]
     },
     "metadata": {},
     "output_type": "display_data"
    },
    {
     "name": "stderr",
     "output_type": "stream",
     "text": [
      "\u001b[34m\u001b[1mwandb\u001b[0m: Agent Starting Run: gv0zh4iv with config:\n",
      "\u001b[34m\u001b[1mwandb\u001b[0m: \tactivation: tanh\n",
      "\u001b[34m\u001b[1mwandb\u001b[0m: \talpha: 0.05\n",
      "\u001b[34m\u001b[1mwandb\u001b[0m: \thidden_layer_sizes: [512]\n",
      "\u001b[34m\u001b[1mwandb\u001b[0m: \tlearning_rate: adaptive\n",
      "\u001b[34m\u001b[1mwandb\u001b[0m: \tsolver: sgd\n",
      "Failed to detect the name of this notebook, you can set it manually with the WANDB_NOTEBOOK_NAME environment variable to enable code saving.\n"
     ]
    },
    {
     "data": {
      "text/html": [
       "Tracking run with wandb version 0.13.10"
      ],
      "text/plain": [
       "<IPython.core.display.HTML object>"
      ]
     },
     "metadata": {},
     "output_type": "display_data"
    },
    {
     "data": {
      "text/html": [
       "Run data is saved locally in <code>/home/ryoyanagimoto/persona/src/wandb/run-20230213_211729-gv0zh4iv</code>"
      ],
      "text/plain": [
       "<IPython.core.display.HTML object>"
      ]
     },
     "metadata": {},
     "output_type": "display_data"
    },
    {
     "data": {
      "text/html": [
       "Syncing run <strong><a href='https://wandb.ai/r-yanagimoto/mlp-sweep/runs/gv0zh4iv' target=\"_blank\">effortless-sweep-23</a></strong> to <a href='https://wandb.ai/r-yanagimoto/mlp-sweep' target=\"_blank\">Weights & Biases</a> (<a href='https://wandb.me/run' target=\"_blank\">docs</a>)<br/>Sweep page: <a href='https://wandb.ai/r-yanagimoto/mlp-sweep/sweeps/r73z8z2k' target=\"_blank\">https://wandb.ai/r-yanagimoto/mlp-sweep/sweeps/r73z8z2k</a>"
      ],
      "text/plain": [
       "<IPython.core.display.HTML object>"
      ]
     },
     "metadata": {},
     "output_type": "display_data"
    },
    {
     "data": {
      "text/html": [
       " View project at <a href='https://wandb.ai/r-yanagimoto/mlp-sweep' target=\"_blank\">https://wandb.ai/r-yanagimoto/mlp-sweep</a>"
      ],
      "text/plain": [
       "<IPython.core.display.HTML object>"
      ]
     },
     "metadata": {},
     "output_type": "display_data"
    },
    {
     "data": {
      "text/html": [
       " View sweep at <a href='https://wandb.ai/r-yanagimoto/mlp-sweep/sweeps/r73z8z2k' target=\"_blank\">https://wandb.ai/r-yanagimoto/mlp-sweep/sweeps/r73z8z2k</a>"
      ],
      "text/plain": [
       "<IPython.core.display.HTML object>"
      ]
     },
     "metadata": {},
     "output_type": "display_data"
    },
    {
     "data": {
      "text/html": [
       " View run at <a href='https://wandb.ai/r-yanagimoto/mlp-sweep/runs/gv0zh4iv' target=\"_blank\">https://wandb.ai/r-yanagimoto/mlp-sweep/runs/gv0zh4iv</a>"
      ],
      "text/plain": [
       "<IPython.core.display.HTML object>"
      ]
     },
     "metadata": {},
     "output_type": "display_data"
    },
    {
     "data": {
      "text/html": [
       "Waiting for W&B process to finish... <strong style=\"color:green\">(success).</strong>"
      ],
      "text/plain": [
       "<IPython.core.display.HTML object>"
      ]
     },
     "metadata": {},
     "output_type": "display_data"
    },
    {
     "data": {
      "text/html": [
       "<style>\n",
       "    table.wandb td:nth-child(1) { padding: 0 10px; text-align: left ; width: auto;} td:nth-child(2) {text-align: left ; width: 100%}\n",
       "    .wandb-row { display: flex; flex-direction: row; flex-wrap: wrap; justify-content: flex-start; width: 100% }\n",
       "    .wandb-col { display: flex; flex-direction: column; flex-basis: 100%; flex: 1; padding: 10px; }\n",
       "    </style>\n",
       "<div class=\"wandb-row\"><div class=\"wandb-col\"><h3>Run history:</h3><br/><table class=\"wandb\"><tr><td>1extr</td><td>▁</td></tr><tr><td>2agre</td><td>▁</td></tr><tr><td>3cons</td><td>▁</td></tr><tr><td>4neur</td><td>▁</td></tr><tr><td>5open</td><td>▁</td></tr><tr><td>acc</td><td>▁</td></tr></table><br/></div><div class=\"wandb-col\"><h3>Run summary:</h3><br/><table class=\"wandb\"><tr><td>1extr</td><td>0.5</td></tr><tr><td>2agre</td><td>0.57692</td></tr><tr><td>3cons</td><td>0.57692</td></tr><tr><td>4neur</td><td>0.53846</td></tr><tr><td>5open</td><td>0.46154</td></tr><tr><td>acc</td><td>0.53077</td></tr></table><br/></div></div>"
      ],
      "text/plain": [
       "<IPython.core.display.HTML object>"
      ]
     },
     "metadata": {},
     "output_type": "display_data"
    },
    {
     "data": {
      "text/html": [
       " View run <strong style=\"color:#cdcd00\">effortless-sweep-23</strong> at: <a href='https://wandb.ai/r-yanagimoto/mlp-sweep/runs/gv0zh4iv' target=\"_blank\">https://wandb.ai/r-yanagimoto/mlp-sweep/runs/gv0zh4iv</a><br/>Synced 5 W&B file(s), 0 media file(s), 0 artifact file(s) and 0 other file(s)"
      ],
      "text/plain": [
       "<IPython.core.display.HTML object>"
      ]
     },
     "metadata": {},
     "output_type": "display_data"
    },
    {
     "data": {
      "text/html": [
       "Find logs at: <code>./wandb/run-20230213_211729-gv0zh4iv/logs</code>"
      ],
      "text/plain": [
       "<IPython.core.display.HTML object>"
      ]
     },
     "metadata": {},
     "output_type": "display_data"
    },
    {
     "name": "stderr",
     "output_type": "stream",
     "text": [
      "\u001b[34m\u001b[1mwandb\u001b[0m: Agent Starting Run: szxek08y with config:\n",
      "\u001b[34m\u001b[1mwandb\u001b[0m: \tactivation: tanh\n",
      "\u001b[34m\u001b[1mwandb\u001b[0m: \talpha: 0.05\n",
      "\u001b[34m\u001b[1mwandb\u001b[0m: \thidden_layer_sizes: [512]\n",
      "\u001b[34m\u001b[1mwandb\u001b[0m: \tlearning_rate: adaptive\n",
      "\u001b[34m\u001b[1mwandb\u001b[0m: \tsolver: adam\n",
      "Failed to detect the name of this notebook, you can set it manually with the WANDB_NOTEBOOK_NAME environment variable to enable code saving.\n"
     ]
    },
    {
     "data": {
      "text/html": [
       "Tracking run with wandb version 0.13.10"
      ],
      "text/plain": [
       "<IPython.core.display.HTML object>"
      ]
     },
     "metadata": {},
     "output_type": "display_data"
    },
    {
     "data": {
      "text/html": [
       "Run data is saved locally in <code>/home/ryoyanagimoto/persona/src/wandb/run-20230213_213812-szxek08y</code>"
      ],
      "text/plain": [
       "<IPython.core.display.HTML object>"
      ]
     },
     "metadata": {},
     "output_type": "display_data"
    },
    {
     "data": {
      "text/html": [
       "Syncing run <strong><a href='https://wandb.ai/r-yanagimoto/mlp-sweep/runs/szxek08y' target=\"_blank\">fast-sweep-24</a></strong> to <a href='https://wandb.ai/r-yanagimoto/mlp-sweep' target=\"_blank\">Weights & Biases</a> (<a href='https://wandb.me/run' target=\"_blank\">docs</a>)<br/>Sweep page: <a href='https://wandb.ai/r-yanagimoto/mlp-sweep/sweeps/r73z8z2k' target=\"_blank\">https://wandb.ai/r-yanagimoto/mlp-sweep/sweeps/r73z8z2k</a>"
      ],
      "text/plain": [
       "<IPython.core.display.HTML object>"
      ]
     },
     "metadata": {},
     "output_type": "display_data"
    },
    {
     "data": {
      "text/html": [
       " View project at <a href='https://wandb.ai/r-yanagimoto/mlp-sweep' target=\"_blank\">https://wandb.ai/r-yanagimoto/mlp-sweep</a>"
      ],
      "text/plain": [
       "<IPython.core.display.HTML object>"
      ]
     },
     "metadata": {},
     "output_type": "display_data"
    },
    {
     "data": {
      "text/html": [
       " View sweep at <a href='https://wandb.ai/r-yanagimoto/mlp-sweep/sweeps/r73z8z2k' target=\"_blank\">https://wandb.ai/r-yanagimoto/mlp-sweep/sweeps/r73z8z2k</a>"
      ],
      "text/plain": [
       "<IPython.core.display.HTML object>"
      ]
     },
     "metadata": {},
     "output_type": "display_data"
    },
    {
     "data": {
      "text/html": [
       " View run at <a href='https://wandb.ai/r-yanagimoto/mlp-sweep/runs/szxek08y' target=\"_blank\">https://wandb.ai/r-yanagimoto/mlp-sweep/runs/szxek08y</a>"
      ],
      "text/plain": [
       "<IPython.core.display.HTML object>"
      ]
     },
     "metadata": {},
     "output_type": "display_data"
    },
    {
     "data": {
      "text/html": [
       "Waiting for W&B process to finish... <strong style=\"color:green\">(success).</strong>"
      ],
      "text/plain": [
       "<IPython.core.display.HTML object>"
      ]
     },
     "metadata": {},
     "output_type": "display_data"
    },
    {
     "data": {
      "text/html": [
       "<style>\n",
       "    table.wandb td:nth-child(1) { padding: 0 10px; text-align: left ; width: auto;} td:nth-child(2) {text-align: left ; width: 100%}\n",
       "    .wandb-row { display: flex; flex-direction: row; flex-wrap: wrap; justify-content: flex-start; width: 100% }\n",
       "    .wandb-col { display: flex; flex-direction: column; flex-basis: 100%; flex: 1; padding: 10px; }\n",
       "    </style>\n",
       "<div class=\"wandb-row\"><div class=\"wandb-col\"><h3>Run history:</h3><br/><table class=\"wandb\"><tr><td>1extr</td><td>▁</td></tr><tr><td>2agre</td><td>▁</td></tr><tr><td>3cons</td><td>▁</td></tr><tr><td>4neur</td><td>▁</td></tr><tr><td>5open</td><td>▁</td></tr><tr><td>acc</td><td>▁</td></tr></table><br/></div><div class=\"wandb-col\"><h3>Run summary:</h3><br/><table class=\"wandb\"><tr><td>1extr</td><td>0.57692</td></tr><tr><td>2agre</td><td>0.5</td></tr><tr><td>3cons</td><td>0.5</td></tr><tr><td>4neur</td><td>0.42308</td></tr><tr><td>5open</td><td>0.57692</td></tr><tr><td>acc</td><td>0.51538</td></tr></table><br/></div></div>"
      ],
      "text/plain": [
       "<IPython.core.display.HTML object>"
      ]
     },
     "metadata": {},
     "output_type": "display_data"
    },
    {
     "data": {
      "text/html": [
       " View run <strong style=\"color:#cdcd00\">fast-sweep-24</strong> at: <a href='https://wandb.ai/r-yanagimoto/mlp-sweep/runs/szxek08y' target=\"_blank\">https://wandb.ai/r-yanagimoto/mlp-sweep/runs/szxek08y</a><br/>Synced 5 W&B file(s), 0 media file(s), 0 artifact file(s) and 0 other file(s)"
      ],
      "text/plain": [
       "<IPython.core.display.HTML object>"
      ]
     },
     "metadata": {},
     "output_type": "display_data"
    },
    {
     "data": {
      "text/html": [
       "Find logs at: <code>./wandb/run-20230213_213812-szxek08y/logs</code>"
      ],
      "text/plain": [
       "<IPython.core.display.HTML object>"
      ]
     },
     "metadata": {},
     "output_type": "display_data"
    },
    {
     "name": "stderr",
     "output_type": "stream",
     "text": [
      "\u001b[34m\u001b[1mwandb\u001b[0m: Sweep Agent: Waiting for job.\n",
      "\u001b[34m\u001b[1mwandb\u001b[0m: Job received.\n",
      "\u001b[34m\u001b[1mwandb\u001b[0m: Agent Starting Run: 7bzsytlv with config:\n",
      "\u001b[34m\u001b[1mwandb\u001b[0m: \tactivation: relu\n",
      "\u001b[34m\u001b[1mwandb\u001b[0m: \talpha: 0.0001\n",
      "\u001b[34m\u001b[1mwandb\u001b[0m: \thidden_layer_sizes: [256, 256]\n",
      "\u001b[34m\u001b[1mwandb\u001b[0m: \tlearning_rate: constant\n",
      "\u001b[34m\u001b[1mwandb\u001b[0m: \tsolver: sgd\n",
      "Failed to detect the name of this notebook, you can set it manually with the WANDB_NOTEBOOK_NAME environment variable to enable code saving.\n"
     ]
    },
    {
     "data": {
      "text/html": [
       "Tracking run with wandb version 0.13.10"
      ],
      "text/plain": [
       "<IPython.core.display.HTML object>"
      ]
     },
     "metadata": {},
     "output_type": "display_data"
    },
    {
     "data": {
      "text/html": [
       "Run data is saved locally in <code>/home/ryoyanagimoto/persona/src/wandb/run-20230213_214956-7bzsytlv</code>"
      ],
      "text/plain": [
       "<IPython.core.display.HTML object>"
      ]
     },
     "metadata": {},
     "output_type": "display_data"
    },
    {
     "data": {
      "text/html": [
       "Syncing run <strong><a href='https://wandb.ai/r-yanagimoto/mlp-sweep/runs/7bzsytlv' target=\"_blank\">ethereal-sweep-25</a></strong> to <a href='https://wandb.ai/r-yanagimoto/mlp-sweep' target=\"_blank\">Weights & Biases</a> (<a href='https://wandb.me/run' target=\"_blank\">docs</a>)<br/>Sweep page: <a href='https://wandb.ai/r-yanagimoto/mlp-sweep/sweeps/r73z8z2k' target=\"_blank\">https://wandb.ai/r-yanagimoto/mlp-sweep/sweeps/r73z8z2k</a>"
      ],
      "text/plain": [
       "<IPython.core.display.HTML object>"
      ]
     },
     "metadata": {},
     "output_type": "display_data"
    },
    {
     "data": {
      "text/html": [
       " View project at <a href='https://wandb.ai/r-yanagimoto/mlp-sweep' target=\"_blank\">https://wandb.ai/r-yanagimoto/mlp-sweep</a>"
      ],
      "text/plain": [
       "<IPython.core.display.HTML object>"
      ]
     },
     "metadata": {},
     "output_type": "display_data"
    },
    {
     "data": {
      "text/html": [
       " View sweep at <a href='https://wandb.ai/r-yanagimoto/mlp-sweep/sweeps/r73z8z2k' target=\"_blank\">https://wandb.ai/r-yanagimoto/mlp-sweep/sweeps/r73z8z2k</a>"
      ],
      "text/plain": [
       "<IPython.core.display.HTML object>"
      ]
     },
     "metadata": {},
     "output_type": "display_data"
    },
    {
     "data": {
      "text/html": [
       " View run at <a href='https://wandb.ai/r-yanagimoto/mlp-sweep/runs/7bzsytlv' target=\"_blank\">https://wandb.ai/r-yanagimoto/mlp-sweep/runs/7bzsytlv</a>"
      ],
      "text/plain": [
       "<IPython.core.display.HTML object>"
      ]
     },
     "metadata": {},
     "output_type": "display_data"
    },
    {
     "data": {
      "text/html": [
       "Waiting for W&B process to finish... <strong style=\"color:green\">(success).</strong>"
      ],
      "text/plain": [
       "<IPython.core.display.HTML object>"
      ]
     },
     "metadata": {},
     "output_type": "display_data"
    },
    {
     "data": {
      "text/html": [
       "<style>\n",
       "    table.wandb td:nth-child(1) { padding: 0 10px; text-align: left ; width: auto;} td:nth-child(2) {text-align: left ; width: 100%}\n",
       "    .wandb-row { display: flex; flex-direction: row; flex-wrap: wrap; justify-content: flex-start; width: 100% }\n",
       "    .wandb-col { display: flex; flex-direction: column; flex-basis: 100%; flex: 1; padding: 10px; }\n",
       "    </style>\n",
       "<div class=\"wandb-row\"><div class=\"wandb-col\"><h3>Run history:</h3><br/><table class=\"wandb\"><tr><td>1extr</td><td>▁</td></tr><tr><td>2agre</td><td>▁</td></tr><tr><td>3cons</td><td>▁</td></tr><tr><td>4neur</td><td>▁</td></tr><tr><td>5open</td><td>▁</td></tr><tr><td>acc</td><td>▁</td></tr></table><br/></div><div class=\"wandb-col\"><h3>Run summary:</h3><br/><table class=\"wandb\"><tr><td>1extr</td><td>0.57692</td></tr><tr><td>2agre</td><td>0.53846</td></tr><tr><td>3cons</td><td>0.5</td></tr><tr><td>4neur</td><td>0.57692</td></tr><tr><td>5open</td><td>0.53846</td></tr><tr><td>acc</td><td>0.54615</td></tr></table><br/></div></div>"
      ],
      "text/plain": [
       "<IPython.core.display.HTML object>"
      ]
     },
     "metadata": {},
     "output_type": "display_data"
    },
    {
     "data": {
      "text/html": [
       " View run <strong style=\"color:#cdcd00\">ethereal-sweep-25</strong> at: <a href='https://wandb.ai/r-yanagimoto/mlp-sweep/runs/7bzsytlv' target=\"_blank\">https://wandb.ai/r-yanagimoto/mlp-sweep/runs/7bzsytlv</a><br/>Synced 5 W&B file(s), 0 media file(s), 0 artifact file(s) and 0 other file(s)"
      ],
      "text/plain": [
       "<IPython.core.display.HTML object>"
      ]
     },
     "metadata": {},
     "output_type": "display_data"
    },
    {
     "data": {
      "text/html": [
       "Find logs at: <code>./wandb/run-20230213_214956-7bzsytlv/logs</code>"
      ],
      "text/plain": [
       "<IPython.core.display.HTML object>"
      ]
     },
     "metadata": {},
     "output_type": "display_data"
    },
    {
     "name": "stderr",
     "output_type": "stream",
     "text": [
      "\u001b[34m\u001b[1mwandb\u001b[0m: Agent Starting Run: 0qh9lmzj with config:\n",
      "\u001b[34m\u001b[1mwandb\u001b[0m: \tactivation: relu\n",
      "\u001b[34m\u001b[1mwandb\u001b[0m: \talpha: 0.0001\n",
      "\u001b[34m\u001b[1mwandb\u001b[0m: \thidden_layer_sizes: [256, 256]\n",
      "\u001b[34m\u001b[1mwandb\u001b[0m: \tlearning_rate: constant\n",
      "\u001b[34m\u001b[1mwandb\u001b[0m: \tsolver: adam\n",
      "Failed to detect the name of this notebook, you can set it manually with the WANDB_NOTEBOOK_NAME environment variable to enable code saving.\n"
     ]
    },
    {
     "data": {
      "text/html": [
       "Tracking run with wandb version 0.13.10"
      ],
      "text/plain": [
       "<IPython.core.display.HTML object>"
      ]
     },
     "metadata": {},
     "output_type": "display_data"
    },
    {
     "data": {
      "text/html": [
       "Run data is saved locally in <code>/home/ryoyanagimoto/persona/src/wandb/run-20230213_215754-0qh9lmzj</code>"
      ],
      "text/plain": [
       "<IPython.core.display.HTML object>"
      ]
     },
     "metadata": {},
     "output_type": "display_data"
    },
    {
     "data": {
      "text/html": [
       "Syncing run <strong><a href='https://wandb.ai/r-yanagimoto/mlp-sweep/runs/0qh9lmzj' target=\"_blank\">stoic-sweep-26</a></strong> to <a href='https://wandb.ai/r-yanagimoto/mlp-sweep' target=\"_blank\">Weights & Biases</a> (<a href='https://wandb.me/run' target=\"_blank\">docs</a>)<br/>Sweep page: <a href='https://wandb.ai/r-yanagimoto/mlp-sweep/sweeps/r73z8z2k' target=\"_blank\">https://wandb.ai/r-yanagimoto/mlp-sweep/sweeps/r73z8z2k</a>"
      ],
      "text/plain": [
       "<IPython.core.display.HTML object>"
      ]
     },
     "metadata": {},
     "output_type": "display_data"
    },
    {
     "data": {
      "text/html": [
       " View project at <a href='https://wandb.ai/r-yanagimoto/mlp-sweep' target=\"_blank\">https://wandb.ai/r-yanagimoto/mlp-sweep</a>"
      ],
      "text/plain": [
       "<IPython.core.display.HTML object>"
      ]
     },
     "metadata": {},
     "output_type": "display_data"
    },
    {
     "data": {
      "text/html": [
       " View sweep at <a href='https://wandb.ai/r-yanagimoto/mlp-sweep/sweeps/r73z8z2k' target=\"_blank\">https://wandb.ai/r-yanagimoto/mlp-sweep/sweeps/r73z8z2k</a>"
      ],
      "text/plain": [
       "<IPython.core.display.HTML object>"
      ]
     },
     "metadata": {},
     "output_type": "display_data"
    },
    {
     "data": {
      "text/html": [
       " View run at <a href='https://wandb.ai/r-yanagimoto/mlp-sweep/runs/0qh9lmzj' target=\"_blank\">https://wandb.ai/r-yanagimoto/mlp-sweep/runs/0qh9lmzj</a>"
      ],
      "text/plain": [
       "<IPython.core.display.HTML object>"
      ]
     },
     "metadata": {},
     "output_type": "display_data"
    },
    {
     "data": {
      "text/html": [
       "Waiting for W&B process to finish... <strong style=\"color:green\">(success).</strong>"
      ],
      "text/plain": [
       "<IPython.core.display.HTML object>"
      ]
     },
     "metadata": {},
     "output_type": "display_data"
    },
    {
     "data": {
      "text/html": [
       "<style>\n",
       "    table.wandb td:nth-child(1) { padding: 0 10px; text-align: left ; width: auto;} td:nth-child(2) {text-align: left ; width: 100%}\n",
       "    .wandb-row { display: flex; flex-direction: row; flex-wrap: wrap; justify-content: flex-start; width: 100% }\n",
       "    .wandb-col { display: flex; flex-direction: column; flex-basis: 100%; flex: 1; padding: 10px; }\n",
       "    </style>\n",
       "<div class=\"wandb-row\"><div class=\"wandb-col\"><h3>Run history:</h3><br/><table class=\"wandb\"><tr><td>1extr</td><td>▁</td></tr><tr><td>2agre</td><td>▁</td></tr><tr><td>3cons</td><td>▁</td></tr><tr><td>4neur</td><td>▁</td></tr><tr><td>5open</td><td>▁</td></tr><tr><td>acc</td><td>▁</td></tr></table><br/></div><div class=\"wandb-col\"><h3>Run summary:</h3><br/><table class=\"wandb\"><tr><td>1extr</td><td>0.42308</td></tr><tr><td>2agre</td><td>0.53846</td></tr><tr><td>3cons</td><td>0.42308</td></tr><tr><td>4neur</td><td>0.53846</td></tr><tr><td>5open</td><td>0.38462</td></tr><tr><td>acc</td><td>0.46154</td></tr></table><br/></div></div>"
      ],
      "text/plain": [
       "<IPython.core.display.HTML object>"
      ]
     },
     "metadata": {},
     "output_type": "display_data"
    },
    {
     "data": {
      "text/html": [
       " View run <strong style=\"color:#cdcd00\">stoic-sweep-26</strong> at: <a href='https://wandb.ai/r-yanagimoto/mlp-sweep/runs/0qh9lmzj' target=\"_blank\">https://wandb.ai/r-yanagimoto/mlp-sweep/runs/0qh9lmzj</a><br/>Synced 5 W&B file(s), 0 media file(s), 0 artifact file(s) and 0 other file(s)"
      ],
      "text/plain": [
       "<IPython.core.display.HTML object>"
      ]
     },
     "metadata": {},
     "output_type": "display_data"
    },
    {
     "data": {
      "text/html": [
       "Find logs at: <code>./wandb/run-20230213_215754-0qh9lmzj/logs</code>"
      ],
      "text/plain": [
       "<IPython.core.display.HTML object>"
      ]
     },
     "metadata": {},
     "output_type": "display_data"
    },
    {
     "name": "stderr",
     "output_type": "stream",
     "text": [
      "\u001b[34m\u001b[1mwandb\u001b[0m: Sweep Agent: Waiting for job.\n",
      "\u001b[34m\u001b[1mwandb\u001b[0m: Job received.\n",
      "\u001b[34m\u001b[1mwandb\u001b[0m: Agent Starting Run: 4qxjduq4 with config:\n",
      "\u001b[34m\u001b[1mwandb\u001b[0m: \tactivation: relu\n",
      "\u001b[34m\u001b[1mwandb\u001b[0m: \talpha: 0.0001\n",
      "\u001b[34m\u001b[1mwandb\u001b[0m: \thidden_layer_sizes: [256, 256]\n",
      "\u001b[34m\u001b[1mwandb\u001b[0m: \tlearning_rate: adaptive\n",
      "\u001b[34m\u001b[1mwandb\u001b[0m: \tsolver: sgd\n",
      "Failed to detect the name of this notebook, you can set it manually with the WANDB_NOTEBOOK_NAME environment variable to enable code saving.\n"
     ]
    },
    {
     "data": {
      "text/html": [
       "Tracking run with wandb version 0.13.10"
      ],
      "text/plain": [
       "<IPython.core.display.HTML object>"
      ]
     },
     "metadata": {},
     "output_type": "display_data"
    },
    {
     "data": {
      "text/html": [
       "Run data is saved locally in <code>/home/ryoyanagimoto/persona/src/wandb/run-20230213_220624-4qxjduq4</code>"
      ],
      "text/plain": [
       "<IPython.core.display.HTML object>"
      ]
     },
     "metadata": {},
     "output_type": "display_data"
    },
    {
     "data": {
      "text/html": [
       "Syncing run <strong><a href='https://wandb.ai/r-yanagimoto/mlp-sweep/runs/4qxjduq4' target=\"_blank\">jumping-sweep-27</a></strong> to <a href='https://wandb.ai/r-yanagimoto/mlp-sweep' target=\"_blank\">Weights & Biases</a> (<a href='https://wandb.me/run' target=\"_blank\">docs</a>)<br/>Sweep page: <a href='https://wandb.ai/r-yanagimoto/mlp-sweep/sweeps/r73z8z2k' target=\"_blank\">https://wandb.ai/r-yanagimoto/mlp-sweep/sweeps/r73z8z2k</a>"
      ],
      "text/plain": [
       "<IPython.core.display.HTML object>"
      ]
     },
     "metadata": {},
     "output_type": "display_data"
    },
    {
     "data": {
      "text/html": [
       " View project at <a href='https://wandb.ai/r-yanagimoto/mlp-sweep' target=\"_blank\">https://wandb.ai/r-yanagimoto/mlp-sweep</a>"
      ],
      "text/plain": [
       "<IPython.core.display.HTML object>"
      ]
     },
     "metadata": {},
     "output_type": "display_data"
    },
    {
     "data": {
      "text/html": [
       " View sweep at <a href='https://wandb.ai/r-yanagimoto/mlp-sweep/sweeps/r73z8z2k' target=\"_blank\">https://wandb.ai/r-yanagimoto/mlp-sweep/sweeps/r73z8z2k</a>"
      ],
      "text/plain": [
       "<IPython.core.display.HTML object>"
      ]
     },
     "metadata": {},
     "output_type": "display_data"
    },
    {
     "data": {
      "text/html": [
       " View run at <a href='https://wandb.ai/r-yanagimoto/mlp-sweep/runs/4qxjduq4' target=\"_blank\">https://wandb.ai/r-yanagimoto/mlp-sweep/runs/4qxjduq4</a>"
      ],
      "text/plain": [
       "<IPython.core.display.HTML object>"
      ]
     },
     "metadata": {},
     "output_type": "display_data"
    },
    {
     "data": {
      "text/html": [
       "Waiting for W&B process to finish... <strong style=\"color:green\">(success).</strong>"
      ],
      "text/plain": [
       "<IPython.core.display.HTML object>"
      ]
     },
     "metadata": {},
     "output_type": "display_data"
    },
    {
     "data": {
      "text/html": [
       "<style>\n",
       "    table.wandb td:nth-child(1) { padding: 0 10px; text-align: left ; width: auto;} td:nth-child(2) {text-align: left ; width: 100%}\n",
       "    .wandb-row { display: flex; flex-direction: row; flex-wrap: wrap; justify-content: flex-start; width: 100% }\n",
       "    .wandb-col { display: flex; flex-direction: column; flex-basis: 100%; flex: 1; padding: 10px; }\n",
       "    </style>\n",
       "<div class=\"wandb-row\"><div class=\"wandb-col\"><h3>Run history:</h3><br/><table class=\"wandb\"><tr><td>1extr</td><td>▁</td></tr><tr><td>2agre</td><td>▁</td></tr><tr><td>3cons</td><td>▁</td></tr><tr><td>4neur</td><td>▁</td></tr><tr><td>5open</td><td>▁</td></tr><tr><td>acc</td><td>▁</td></tr></table><br/></div><div class=\"wandb-col\"><h3>Run summary:</h3><br/><table class=\"wandb\"><tr><td>1extr</td><td>0.57692</td></tr><tr><td>2agre</td><td>0.46154</td></tr><tr><td>3cons</td><td>0.57692</td></tr><tr><td>4neur</td><td>0.61538</td></tr><tr><td>5open</td><td>0.53846</td></tr><tr><td>acc</td><td>0.55385</td></tr></table><br/></div></div>"
      ],
      "text/plain": [
       "<IPython.core.display.HTML object>"
      ]
     },
     "metadata": {},
     "output_type": "display_data"
    },
    {
     "data": {
      "text/html": [
       " View run <strong style=\"color:#cdcd00\">jumping-sweep-27</strong> at: <a href='https://wandb.ai/r-yanagimoto/mlp-sweep/runs/4qxjduq4' target=\"_blank\">https://wandb.ai/r-yanagimoto/mlp-sweep/runs/4qxjduq4</a><br/>Synced 5 W&B file(s), 0 media file(s), 0 artifact file(s) and 0 other file(s)"
      ],
      "text/plain": [
       "<IPython.core.display.HTML object>"
      ]
     },
     "metadata": {},
     "output_type": "display_data"
    },
    {
     "data": {
      "text/html": [
       "Find logs at: <code>./wandb/run-20230213_220624-4qxjduq4/logs</code>"
      ],
      "text/plain": [
       "<IPython.core.display.HTML object>"
      ]
     },
     "metadata": {},
     "output_type": "display_data"
    },
    {
     "name": "stderr",
     "output_type": "stream",
     "text": [
      "\u001b[34m\u001b[1mwandb\u001b[0m: Agent Starting Run: 7ofum92h with config:\n",
      "\u001b[34m\u001b[1mwandb\u001b[0m: \tactivation: relu\n",
      "\u001b[34m\u001b[1mwandb\u001b[0m: \talpha: 0.0001\n",
      "\u001b[34m\u001b[1mwandb\u001b[0m: \thidden_layer_sizes: [256, 256]\n",
      "\u001b[34m\u001b[1mwandb\u001b[0m: \tlearning_rate: adaptive\n",
      "\u001b[34m\u001b[1mwandb\u001b[0m: \tsolver: adam\n",
      "Failed to detect the name of this notebook, you can set it manually with the WANDB_NOTEBOOK_NAME environment variable to enable code saving.\n"
     ]
    },
    {
     "data": {
      "text/html": [
       "Tracking run with wandb version 0.13.10"
      ],
      "text/plain": [
       "<IPython.core.display.HTML object>"
      ]
     },
     "metadata": {},
     "output_type": "display_data"
    },
    {
     "data": {
      "text/html": [
       "Run data is saved locally in <code>/home/ryoyanagimoto/persona/src/wandb/run-20230213_222105-7ofum92h</code>"
      ],
      "text/plain": [
       "<IPython.core.display.HTML object>"
      ]
     },
     "metadata": {},
     "output_type": "display_data"
    },
    {
     "data": {
      "text/html": [
       "Syncing run <strong><a href='https://wandb.ai/r-yanagimoto/mlp-sweep/runs/7ofum92h' target=\"_blank\">toasty-sweep-28</a></strong> to <a href='https://wandb.ai/r-yanagimoto/mlp-sweep' target=\"_blank\">Weights & Biases</a> (<a href='https://wandb.me/run' target=\"_blank\">docs</a>)<br/>Sweep page: <a href='https://wandb.ai/r-yanagimoto/mlp-sweep/sweeps/r73z8z2k' target=\"_blank\">https://wandb.ai/r-yanagimoto/mlp-sweep/sweeps/r73z8z2k</a>"
      ],
      "text/plain": [
       "<IPython.core.display.HTML object>"
      ]
     },
     "metadata": {},
     "output_type": "display_data"
    },
    {
     "data": {
      "text/html": [
       " View project at <a href='https://wandb.ai/r-yanagimoto/mlp-sweep' target=\"_blank\">https://wandb.ai/r-yanagimoto/mlp-sweep</a>"
      ],
      "text/plain": [
       "<IPython.core.display.HTML object>"
      ]
     },
     "metadata": {},
     "output_type": "display_data"
    },
    {
     "data": {
      "text/html": [
       " View sweep at <a href='https://wandb.ai/r-yanagimoto/mlp-sweep/sweeps/r73z8z2k' target=\"_blank\">https://wandb.ai/r-yanagimoto/mlp-sweep/sweeps/r73z8z2k</a>"
      ],
      "text/plain": [
       "<IPython.core.display.HTML object>"
      ]
     },
     "metadata": {},
     "output_type": "display_data"
    },
    {
     "data": {
      "text/html": [
       " View run at <a href='https://wandb.ai/r-yanagimoto/mlp-sweep/runs/7ofum92h' target=\"_blank\">https://wandb.ai/r-yanagimoto/mlp-sweep/runs/7ofum92h</a>"
      ],
      "text/plain": [
       "<IPython.core.display.HTML object>"
      ]
     },
     "metadata": {},
     "output_type": "display_data"
    },
    {
     "data": {
      "text/html": [
       "Waiting for W&B process to finish... <strong style=\"color:green\">(success).</strong>"
      ],
      "text/plain": [
       "<IPython.core.display.HTML object>"
      ]
     },
     "metadata": {},
     "output_type": "display_data"
    },
    {
     "data": {
      "text/html": [
       "<style>\n",
       "    table.wandb td:nth-child(1) { padding: 0 10px; text-align: left ; width: auto;} td:nth-child(2) {text-align: left ; width: 100%}\n",
       "    .wandb-row { display: flex; flex-direction: row; flex-wrap: wrap; justify-content: flex-start; width: 100% }\n",
       "    .wandb-col { display: flex; flex-direction: column; flex-basis: 100%; flex: 1; padding: 10px; }\n",
       "    </style>\n",
       "<div class=\"wandb-row\"><div class=\"wandb-col\"><h3>Run history:</h3><br/><table class=\"wandb\"><tr><td>1extr</td><td>▁</td></tr><tr><td>2agre</td><td>▁</td></tr><tr><td>3cons</td><td>▁</td></tr><tr><td>4neur</td><td>▁</td></tr><tr><td>5open</td><td>▁</td></tr><tr><td>acc</td><td>▁</td></tr></table><br/></div><div class=\"wandb-col\"><h3>Run summary:</h3><br/><table class=\"wandb\"><tr><td>1extr</td><td>0.61538</td></tr><tr><td>2agre</td><td>0.53846</td></tr><tr><td>3cons</td><td>0.53846</td></tr><tr><td>4neur</td><td>0.46154</td></tr><tr><td>5open</td><td>0.42308</td></tr><tr><td>acc</td><td>0.51538</td></tr></table><br/></div></div>"
      ],
      "text/plain": [
       "<IPython.core.display.HTML object>"
      ]
     },
     "metadata": {},
     "output_type": "display_data"
    },
    {
     "data": {
      "text/html": [
       " View run <strong style=\"color:#cdcd00\">toasty-sweep-28</strong> at: <a href='https://wandb.ai/r-yanagimoto/mlp-sweep/runs/7ofum92h' target=\"_blank\">https://wandb.ai/r-yanagimoto/mlp-sweep/runs/7ofum92h</a><br/>Synced 5 W&B file(s), 0 media file(s), 0 artifact file(s) and 0 other file(s)"
      ],
      "text/plain": [
       "<IPython.core.display.HTML object>"
      ]
     },
     "metadata": {},
     "output_type": "display_data"
    },
    {
     "data": {
      "text/html": [
       "Find logs at: <code>./wandb/run-20230213_222105-7ofum92h/logs</code>"
      ],
      "text/plain": [
       "<IPython.core.display.HTML object>"
      ]
     },
     "metadata": {},
     "output_type": "display_data"
    },
    {
     "name": "stderr",
     "output_type": "stream",
     "text": [
      "\u001b[34m\u001b[1mwandb\u001b[0m: Agent Starting Run: t8zofhiq with config:\n",
      "\u001b[34m\u001b[1mwandb\u001b[0m: \tactivation: relu\n",
      "\u001b[34m\u001b[1mwandb\u001b[0m: \talpha: 0.0001\n",
      "\u001b[34m\u001b[1mwandb\u001b[0m: \thidden_layer_sizes: [256, 64]\n",
      "\u001b[34m\u001b[1mwandb\u001b[0m: \tlearning_rate: constant\n",
      "\u001b[34m\u001b[1mwandb\u001b[0m: \tsolver: sgd\n",
      "Failed to detect the name of this notebook, you can set it manually with the WANDB_NOTEBOOK_NAME environment variable to enable code saving.\n"
     ]
    },
    {
     "data": {
      "text/html": [
       "Tracking run with wandb version 0.13.10"
      ],
      "text/plain": [
       "<IPython.core.display.HTML object>"
      ]
     },
     "metadata": {},
     "output_type": "display_data"
    },
    {
     "data": {
      "text/html": [
       "Run data is saved locally in <code>/home/ryoyanagimoto/persona/src/wandb/run-20230213_222937-t8zofhiq</code>"
      ],
      "text/plain": [
       "<IPython.core.display.HTML object>"
      ]
     },
     "metadata": {},
     "output_type": "display_data"
    },
    {
     "data": {
      "text/html": [
       "Syncing run <strong><a href='https://wandb.ai/r-yanagimoto/mlp-sweep/runs/t8zofhiq' target=\"_blank\">fanciful-sweep-29</a></strong> to <a href='https://wandb.ai/r-yanagimoto/mlp-sweep' target=\"_blank\">Weights & Biases</a> (<a href='https://wandb.me/run' target=\"_blank\">docs</a>)<br/>Sweep page: <a href='https://wandb.ai/r-yanagimoto/mlp-sweep/sweeps/r73z8z2k' target=\"_blank\">https://wandb.ai/r-yanagimoto/mlp-sweep/sweeps/r73z8z2k</a>"
      ],
      "text/plain": [
       "<IPython.core.display.HTML object>"
      ]
     },
     "metadata": {},
     "output_type": "display_data"
    },
    {
     "data": {
      "text/html": [
       " View project at <a href='https://wandb.ai/r-yanagimoto/mlp-sweep' target=\"_blank\">https://wandb.ai/r-yanagimoto/mlp-sweep</a>"
      ],
      "text/plain": [
       "<IPython.core.display.HTML object>"
      ]
     },
     "metadata": {},
     "output_type": "display_data"
    },
    {
     "data": {
      "text/html": [
       " View sweep at <a href='https://wandb.ai/r-yanagimoto/mlp-sweep/sweeps/r73z8z2k' target=\"_blank\">https://wandb.ai/r-yanagimoto/mlp-sweep/sweeps/r73z8z2k</a>"
      ],
      "text/plain": [
       "<IPython.core.display.HTML object>"
      ]
     },
     "metadata": {},
     "output_type": "display_data"
    },
    {
     "data": {
      "text/html": [
       " View run at <a href='https://wandb.ai/r-yanagimoto/mlp-sweep/runs/t8zofhiq' target=\"_blank\">https://wandb.ai/r-yanagimoto/mlp-sweep/runs/t8zofhiq</a>"
      ],
      "text/plain": [
       "<IPython.core.display.HTML object>"
      ]
     },
     "metadata": {},
     "output_type": "display_data"
    },
    {
     "data": {
      "text/html": [
       "Waiting for W&B process to finish... <strong style=\"color:green\">(success).</strong>"
      ],
      "text/plain": [
       "<IPython.core.display.HTML object>"
      ]
     },
     "metadata": {},
     "output_type": "display_data"
    },
    {
     "data": {
      "text/html": [
       "<style>\n",
       "    table.wandb td:nth-child(1) { padding: 0 10px; text-align: left ; width: auto;} td:nth-child(2) {text-align: left ; width: 100%}\n",
       "    .wandb-row { display: flex; flex-direction: row; flex-wrap: wrap; justify-content: flex-start; width: 100% }\n",
       "    .wandb-col { display: flex; flex-direction: column; flex-basis: 100%; flex: 1; padding: 10px; }\n",
       "    </style>\n",
       "<div class=\"wandb-row\"><div class=\"wandb-col\"><h3>Run history:</h3><br/><table class=\"wandb\"><tr><td>1extr</td><td>▁</td></tr><tr><td>2agre</td><td>▁</td></tr><tr><td>3cons</td><td>▁</td></tr><tr><td>4neur</td><td>▁</td></tr><tr><td>5open</td><td>▁</td></tr><tr><td>acc</td><td>▁</td></tr></table><br/></div><div class=\"wandb-col\"><h3>Run summary:</h3><br/><table class=\"wandb\"><tr><td>1extr</td><td>0.57692</td></tr><tr><td>2agre</td><td>0.57692</td></tr><tr><td>3cons</td><td>0.53846</td></tr><tr><td>4neur</td><td>0.57692</td></tr><tr><td>5open</td><td>0.53846</td></tr><tr><td>acc</td><td>0.56154</td></tr></table><br/></div></div>"
      ],
      "text/plain": [
       "<IPython.core.display.HTML object>"
      ]
     },
     "metadata": {},
     "output_type": "display_data"
    },
    {
     "data": {
      "text/html": [
       " View run <strong style=\"color:#cdcd00\">fanciful-sweep-29</strong> at: <a href='https://wandb.ai/r-yanagimoto/mlp-sweep/runs/t8zofhiq' target=\"_blank\">https://wandb.ai/r-yanagimoto/mlp-sweep/runs/t8zofhiq</a><br/>Synced 5 W&B file(s), 0 media file(s), 0 artifact file(s) and 0 other file(s)"
      ],
      "text/plain": [
       "<IPython.core.display.HTML object>"
      ]
     },
     "metadata": {},
     "output_type": "display_data"
    },
    {
     "data": {
      "text/html": [
       "Find logs at: <code>./wandb/run-20230213_222937-t8zofhiq/logs</code>"
      ],
      "text/plain": [
       "<IPython.core.display.HTML object>"
      ]
     },
     "metadata": {},
     "output_type": "display_data"
    },
    {
     "name": "stderr",
     "output_type": "stream",
     "text": [
      "\u001b[34m\u001b[1mwandb\u001b[0m: Agent Starting Run: jkzm2uz1 with config:\n",
      "\u001b[34m\u001b[1mwandb\u001b[0m: \tactivation: relu\n",
      "\u001b[34m\u001b[1mwandb\u001b[0m: \talpha: 0.0001\n",
      "\u001b[34m\u001b[1mwandb\u001b[0m: \thidden_layer_sizes: [256, 64]\n",
      "\u001b[34m\u001b[1mwandb\u001b[0m: \tlearning_rate: constant\n",
      "\u001b[34m\u001b[1mwandb\u001b[0m: \tsolver: adam\n",
      "Failed to detect the name of this notebook, you can set it manually with the WANDB_NOTEBOOK_NAME environment variable to enable code saving.\n"
     ]
    },
    {
     "data": {
      "text/html": [
       "Tracking run with wandb version 0.13.10"
      ],
      "text/plain": [
       "<IPython.core.display.HTML object>"
      ]
     },
     "metadata": {},
     "output_type": "display_data"
    },
    {
     "data": {
      "text/html": [
       "Run data is saved locally in <code>/home/ryoyanagimoto/persona/src/wandb/run-20230213_223645-jkzm2uz1</code>"
      ],
      "text/plain": [
       "<IPython.core.display.HTML object>"
      ]
     },
     "metadata": {},
     "output_type": "display_data"
    },
    {
     "data": {
      "text/html": [
       "Syncing run <strong><a href='https://wandb.ai/r-yanagimoto/mlp-sweep/runs/jkzm2uz1' target=\"_blank\">lilac-sweep-30</a></strong> to <a href='https://wandb.ai/r-yanagimoto/mlp-sweep' target=\"_blank\">Weights & Biases</a> (<a href='https://wandb.me/run' target=\"_blank\">docs</a>)<br/>Sweep page: <a href='https://wandb.ai/r-yanagimoto/mlp-sweep/sweeps/r73z8z2k' target=\"_blank\">https://wandb.ai/r-yanagimoto/mlp-sweep/sweeps/r73z8z2k</a>"
      ],
      "text/plain": [
       "<IPython.core.display.HTML object>"
      ]
     },
     "metadata": {},
     "output_type": "display_data"
    },
    {
     "data": {
      "text/html": [
       " View project at <a href='https://wandb.ai/r-yanagimoto/mlp-sweep' target=\"_blank\">https://wandb.ai/r-yanagimoto/mlp-sweep</a>"
      ],
      "text/plain": [
       "<IPython.core.display.HTML object>"
      ]
     },
     "metadata": {},
     "output_type": "display_data"
    },
    {
     "data": {
      "text/html": [
       " View sweep at <a href='https://wandb.ai/r-yanagimoto/mlp-sweep/sweeps/r73z8z2k' target=\"_blank\">https://wandb.ai/r-yanagimoto/mlp-sweep/sweeps/r73z8z2k</a>"
      ],
      "text/plain": [
       "<IPython.core.display.HTML object>"
      ]
     },
     "metadata": {},
     "output_type": "display_data"
    },
    {
     "data": {
      "text/html": [
       " View run at <a href='https://wandb.ai/r-yanagimoto/mlp-sweep/runs/jkzm2uz1' target=\"_blank\">https://wandb.ai/r-yanagimoto/mlp-sweep/runs/jkzm2uz1</a>"
      ],
      "text/plain": [
       "<IPython.core.display.HTML object>"
      ]
     },
     "metadata": {},
     "output_type": "display_data"
    },
    {
     "data": {
      "text/html": [
       "Waiting for W&B process to finish... <strong style=\"color:green\">(success).</strong>"
      ],
      "text/plain": [
       "<IPython.core.display.HTML object>"
      ]
     },
     "metadata": {},
     "output_type": "display_data"
    },
    {
     "data": {
      "text/html": [
       "<style>\n",
       "    table.wandb td:nth-child(1) { padding: 0 10px; text-align: left ; width: auto;} td:nth-child(2) {text-align: left ; width: 100%}\n",
       "    .wandb-row { display: flex; flex-direction: row; flex-wrap: wrap; justify-content: flex-start; width: 100% }\n",
       "    .wandb-col { display: flex; flex-direction: column; flex-basis: 100%; flex: 1; padding: 10px; }\n",
       "    </style>\n",
       "<div class=\"wandb-row\"><div class=\"wandb-col\"><h3>Run history:</h3><br/><table class=\"wandb\"><tr><td>1extr</td><td>▁</td></tr><tr><td>2agre</td><td>▁</td></tr><tr><td>3cons</td><td>▁</td></tr><tr><td>4neur</td><td>▁</td></tr><tr><td>5open</td><td>▁</td></tr><tr><td>acc</td><td>▁</td></tr></table><br/></div><div class=\"wandb-col\"><h3>Run summary:</h3><br/><table class=\"wandb\"><tr><td>1extr</td><td>0.61538</td></tr><tr><td>2agre</td><td>0.53846</td></tr><tr><td>3cons</td><td>0.34615</td></tr><tr><td>4neur</td><td>0.46154</td></tr><tr><td>5open</td><td>0.38462</td></tr><tr><td>acc</td><td>0.46923</td></tr></table><br/></div></div>"
      ],
      "text/plain": [
       "<IPython.core.display.HTML object>"
      ]
     },
     "metadata": {},
     "output_type": "display_data"
    },
    {
     "data": {
      "text/html": [
       " View run <strong style=\"color:#cdcd00\">lilac-sweep-30</strong> at: <a href='https://wandb.ai/r-yanagimoto/mlp-sweep/runs/jkzm2uz1' target=\"_blank\">https://wandb.ai/r-yanagimoto/mlp-sweep/runs/jkzm2uz1</a><br/>Synced 5 W&B file(s), 0 media file(s), 0 artifact file(s) and 0 other file(s)"
      ],
      "text/plain": [
       "<IPython.core.display.HTML object>"
      ]
     },
     "metadata": {},
     "output_type": "display_data"
    },
    {
     "data": {
      "text/html": [
       "Find logs at: <code>./wandb/run-20230213_223645-jkzm2uz1/logs</code>"
      ],
      "text/plain": [
       "<IPython.core.display.HTML object>"
      ]
     },
     "metadata": {},
     "output_type": "display_data"
    },
    {
     "name": "stderr",
     "output_type": "stream",
     "text": [
      "\u001b[34m\u001b[1mwandb\u001b[0m: Agent Starting Run: rsitriix with config:\n",
      "\u001b[34m\u001b[1mwandb\u001b[0m: \tactivation: relu\n",
      "\u001b[34m\u001b[1mwandb\u001b[0m: \talpha: 0.0001\n",
      "\u001b[34m\u001b[1mwandb\u001b[0m: \thidden_layer_sizes: [256, 64]\n",
      "\u001b[34m\u001b[1mwandb\u001b[0m: \tlearning_rate: adaptive\n",
      "\u001b[34m\u001b[1mwandb\u001b[0m: \tsolver: sgd\n",
      "Failed to detect the name of this notebook, you can set it manually with the WANDB_NOTEBOOK_NAME environment variable to enable code saving.\n"
     ]
    },
    {
     "data": {
      "text/html": [
       "Tracking run with wandb version 0.13.10"
      ],
      "text/plain": [
       "<IPython.core.display.HTML object>"
      ]
     },
     "metadata": {},
     "output_type": "display_data"
    },
    {
     "data": {
      "text/html": [
       "Run data is saved locally in <code>/home/ryoyanagimoto/persona/src/wandb/run-20230213_224359-rsitriix</code>"
      ],
      "text/plain": [
       "<IPython.core.display.HTML object>"
      ]
     },
     "metadata": {},
     "output_type": "display_data"
    },
    {
     "data": {
      "text/html": [
       "Syncing run <strong><a href='https://wandb.ai/r-yanagimoto/mlp-sweep/runs/rsitriix' target=\"_blank\">fast-sweep-31</a></strong> to <a href='https://wandb.ai/r-yanagimoto/mlp-sweep' target=\"_blank\">Weights & Biases</a> (<a href='https://wandb.me/run' target=\"_blank\">docs</a>)<br/>Sweep page: <a href='https://wandb.ai/r-yanagimoto/mlp-sweep/sweeps/r73z8z2k' target=\"_blank\">https://wandb.ai/r-yanagimoto/mlp-sweep/sweeps/r73z8z2k</a>"
      ],
      "text/plain": [
       "<IPython.core.display.HTML object>"
      ]
     },
     "metadata": {},
     "output_type": "display_data"
    },
    {
     "data": {
      "text/html": [
       " View project at <a href='https://wandb.ai/r-yanagimoto/mlp-sweep' target=\"_blank\">https://wandb.ai/r-yanagimoto/mlp-sweep</a>"
      ],
      "text/plain": [
       "<IPython.core.display.HTML object>"
      ]
     },
     "metadata": {},
     "output_type": "display_data"
    },
    {
     "data": {
      "text/html": [
       " View sweep at <a href='https://wandb.ai/r-yanagimoto/mlp-sweep/sweeps/r73z8z2k' target=\"_blank\">https://wandb.ai/r-yanagimoto/mlp-sweep/sweeps/r73z8z2k</a>"
      ],
      "text/plain": [
       "<IPython.core.display.HTML object>"
      ]
     },
     "metadata": {},
     "output_type": "display_data"
    },
    {
     "data": {
      "text/html": [
       " View run at <a href='https://wandb.ai/r-yanagimoto/mlp-sweep/runs/rsitriix' target=\"_blank\">https://wandb.ai/r-yanagimoto/mlp-sweep/runs/rsitriix</a>"
      ],
      "text/plain": [
       "<IPython.core.display.HTML object>"
      ]
     },
     "metadata": {},
     "output_type": "display_data"
    },
    {
     "data": {
      "text/html": [
       "Waiting for W&B process to finish... <strong style=\"color:green\">(success).</strong>"
      ],
      "text/plain": [
       "<IPython.core.display.HTML object>"
      ]
     },
     "metadata": {},
     "output_type": "display_data"
    },
    {
     "data": {
      "text/html": [
       "<style>\n",
       "    table.wandb td:nth-child(1) { padding: 0 10px; text-align: left ; width: auto;} td:nth-child(2) {text-align: left ; width: 100%}\n",
       "    .wandb-row { display: flex; flex-direction: row; flex-wrap: wrap; justify-content: flex-start; width: 100% }\n",
       "    .wandb-col { display: flex; flex-direction: column; flex-basis: 100%; flex: 1; padding: 10px; }\n",
       "    </style>\n",
       "<div class=\"wandb-row\"><div class=\"wandb-col\"><h3>Run history:</h3><br/><table class=\"wandb\"><tr><td>1extr</td><td>▁</td></tr><tr><td>2agre</td><td>▁</td></tr><tr><td>3cons</td><td>▁</td></tr><tr><td>4neur</td><td>▁</td></tr><tr><td>5open</td><td>▁</td></tr><tr><td>acc</td><td>▁</td></tr></table><br/></div><div class=\"wandb-col\"><h3>Run summary:</h3><br/><table class=\"wandb\"><tr><td>1extr</td><td>0.53846</td></tr><tr><td>2agre</td><td>0.53846</td></tr><tr><td>3cons</td><td>0.42308</td></tr><tr><td>4neur</td><td>0.57692</td></tr><tr><td>5open</td><td>0.53846</td></tr><tr><td>acc</td><td>0.52308</td></tr></table><br/></div></div>"
      ],
      "text/plain": [
       "<IPython.core.display.HTML object>"
      ]
     },
     "metadata": {},
     "output_type": "display_data"
    },
    {
     "data": {
      "text/html": [
       " View run <strong style=\"color:#cdcd00\">fast-sweep-31</strong> at: <a href='https://wandb.ai/r-yanagimoto/mlp-sweep/runs/rsitriix' target=\"_blank\">https://wandb.ai/r-yanagimoto/mlp-sweep/runs/rsitriix</a><br/>Synced 5 W&B file(s), 0 media file(s), 0 artifact file(s) and 0 other file(s)"
      ],
      "text/plain": [
       "<IPython.core.display.HTML object>"
      ]
     },
     "metadata": {},
     "output_type": "display_data"
    },
    {
     "data": {
      "text/html": [
       "Find logs at: <code>./wandb/run-20230213_224359-rsitriix/logs</code>"
      ],
      "text/plain": [
       "<IPython.core.display.HTML object>"
      ]
     },
     "metadata": {},
     "output_type": "display_data"
    },
    {
     "name": "stderr",
     "output_type": "stream",
     "text": [
      "\u001b[34m\u001b[1mwandb\u001b[0m: Agent Starting Run: e0pvxy9k with config:\n",
      "\u001b[34m\u001b[1mwandb\u001b[0m: \tactivation: relu\n",
      "\u001b[34m\u001b[1mwandb\u001b[0m: \talpha: 0.0001\n",
      "\u001b[34m\u001b[1mwandb\u001b[0m: \thidden_layer_sizes: [256, 64]\n",
      "\u001b[34m\u001b[1mwandb\u001b[0m: \tlearning_rate: adaptive\n",
      "\u001b[34m\u001b[1mwandb\u001b[0m: \tsolver: adam\n",
      "Failed to detect the name of this notebook, you can set it manually with the WANDB_NOTEBOOK_NAME environment variable to enable code saving.\n"
     ]
    },
    {
     "data": {
      "text/html": [
       "Tracking run with wandb version 0.13.10"
      ],
      "text/plain": [
       "<IPython.core.display.HTML object>"
      ]
     },
     "metadata": {},
     "output_type": "display_data"
    },
    {
     "data": {
      "text/html": [
       "Run data is saved locally in <code>/home/ryoyanagimoto/persona/src/wandb/run-20230213_225712-e0pvxy9k</code>"
      ],
      "text/plain": [
       "<IPython.core.display.HTML object>"
      ]
     },
     "metadata": {},
     "output_type": "display_data"
    },
    {
     "data": {
      "text/html": [
       "Syncing run <strong><a href='https://wandb.ai/r-yanagimoto/mlp-sweep/runs/e0pvxy9k' target=\"_blank\">splendid-sweep-32</a></strong> to <a href='https://wandb.ai/r-yanagimoto/mlp-sweep' target=\"_blank\">Weights & Biases</a> (<a href='https://wandb.me/run' target=\"_blank\">docs</a>)<br/>Sweep page: <a href='https://wandb.ai/r-yanagimoto/mlp-sweep/sweeps/r73z8z2k' target=\"_blank\">https://wandb.ai/r-yanagimoto/mlp-sweep/sweeps/r73z8z2k</a>"
      ],
      "text/plain": [
       "<IPython.core.display.HTML object>"
      ]
     },
     "metadata": {},
     "output_type": "display_data"
    },
    {
     "data": {
      "text/html": [
       " View project at <a href='https://wandb.ai/r-yanagimoto/mlp-sweep' target=\"_blank\">https://wandb.ai/r-yanagimoto/mlp-sweep</a>"
      ],
      "text/plain": [
       "<IPython.core.display.HTML object>"
      ]
     },
     "metadata": {},
     "output_type": "display_data"
    },
    {
     "data": {
      "text/html": [
       " View sweep at <a href='https://wandb.ai/r-yanagimoto/mlp-sweep/sweeps/r73z8z2k' target=\"_blank\">https://wandb.ai/r-yanagimoto/mlp-sweep/sweeps/r73z8z2k</a>"
      ],
      "text/plain": [
       "<IPython.core.display.HTML object>"
      ]
     },
     "metadata": {},
     "output_type": "display_data"
    },
    {
     "data": {
      "text/html": [
       " View run at <a href='https://wandb.ai/r-yanagimoto/mlp-sweep/runs/e0pvxy9k' target=\"_blank\">https://wandb.ai/r-yanagimoto/mlp-sweep/runs/e0pvxy9k</a>"
      ],
      "text/plain": [
       "<IPython.core.display.HTML object>"
      ]
     },
     "metadata": {},
     "output_type": "display_data"
    },
    {
     "data": {
      "text/html": [
       "Waiting for W&B process to finish... <strong style=\"color:green\">(success).</strong>"
      ],
      "text/plain": [
       "<IPython.core.display.HTML object>"
      ]
     },
     "metadata": {},
     "output_type": "display_data"
    },
    {
     "data": {
      "text/html": [
       "<style>\n",
       "    table.wandb td:nth-child(1) { padding: 0 10px; text-align: left ; width: auto;} td:nth-child(2) {text-align: left ; width: 100%}\n",
       "    .wandb-row { display: flex; flex-direction: row; flex-wrap: wrap; justify-content: flex-start; width: 100% }\n",
       "    .wandb-col { display: flex; flex-direction: column; flex-basis: 100%; flex: 1; padding: 10px; }\n",
       "    </style>\n",
       "<div class=\"wandb-row\"><div class=\"wandb-col\"><h3>Run history:</h3><br/><table class=\"wandb\"><tr><td>1extr</td><td>▁</td></tr><tr><td>2agre</td><td>▁</td></tr><tr><td>3cons</td><td>▁</td></tr><tr><td>4neur</td><td>▁</td></tr><tr><td>5open</td><td>▁</td></tr><tr><td>acc</td><td>▁</td></tr></table><br/></div><div class=\"wandb-col\"><h3>Run summary:</h3><br/><table class=\"wandb\"><tr><td>1extr</td><td>0.5</td></tr><tr><td>2agre</td><td>0.5</td></tr><tr><td>3cons</td><td>0.42308</td></tr><tr><td>4neur</td><td>0.53846</td></tr><tr><td>5open</td><td>0.42308</td></tr><tr><td>acc</td><td>0.47692</td></tr></table><br/></div></div>"
      ],
      "text/plain": [
       "<IPython.core.display.HTML object>"
      ]
     },
     "metadata": {},
     "output_type": "display_data"
    },
    {
     "data": {
      "text/html": [
       " View run <strong style=\"color:#cdcd00\">splendid-sweep-32</strong> at: <a href='https://wandb.ai/r-yanagimoto/mlp-sweep/runs/e0pvxy9k' target=\"_blank\">https://wandb.ai/r-yanagimoto/mlp-sweep/runs/e0pvxy9k</a><br/>Synced 5 W&B file(s), 0 media file(s), 0 artifact file(s) and 0 other file(s)"
      ],
      "text/plain": [
       "<IPython.core.display.HTML object>"
      ]
     },
     "metadata": {},
     "output_type": "display_data"
    },
    {
     "data": {
      "text/html": [
       "Find logs at: <code>./wandb/run-20230213_225712-e0pvxy9k/logs</code>"
      ],
      "text/plain": [
       "<IPython.core.display.HTML object>"
      ]
     },
     "metadata": {},
     "output_type": "display_data"
    },
    {
     "name": "stderr",
     "output_type": "stream",
     "text": [
      "\u001b[34m\u001b[1mwandb\u001b[0m: Agent Starting Run: zse0jsyr with config:\n",
      "\u001b[34m\u001b[1mwandb\u001b[0m: \tactivation: relu\n",
      "\u001b[34m\u001b[1mwandb\u001b[0m: \talpha: 0.0001\n",
      "\u001b[34m\u001b[1mwandb\u001b[0m: \thidden_layer_sizes: [512]\n",
      "\u001b[34m\u001b[1mwandb\u001b[0m: \tlearning_rate: constant\n",
      "\u001b[34m\u001b[1mwandb\u001b[0m: \tsolver: sgd\n",
      "Failed to detect the name of this notebook, you can set it manually with the WANDB_NOTEBOOK_NAME environment variable to enable code saving.\n"
     ]
    },
    {
     "data": {
      "text/html": [
       "Tracking run with wandb version 0.13.10"
      ],
      "text/plain": [
       "<IPython.core.display.HTML object>"
      ]
     },
     "metadata": {},
     "output_type": "display_data"
    },
    {
     "data": {
      "text/html": [
       "Run data is saved locally in <code>/home/ryoyanagimoto/persona/src/wandb/run-20230213_230425-zse0jsyr</code>"
      ],
      "text/plain": [
       "<IPython.core.display.HTML object>"
      ]
     },
     "metadata": {},
     "output_type": "display_data"
    },
    {
     "data": {
      "text/html": [
       "Syncing run <strong><a href='https://wandb.ai/r-yanagimoto/mlp-sweep/runs/zse0jsyr' target=\"_blank\">vague-sweep-33</a></strong> to <a href='https://wandb.ai/r-yanagimoto/mlp-sweep' target=\"_blank\">Weights & Biases</a> (<a href='https://wandb.me/run' target=\"_blank\">docs</a>)<br/>Sweep page: <a href='https://wandb.ai/r-yanagimoto/mlp-sweep/sweeps/r73z8z2k' target=\"_blank\">https://wandb.ai/r-yanagimoto/mlp-sweep/sweeps/r73z8z2k</a>"
      ],
      "text/plain": [
       "<IPython.core.display.HTML object>"
      ]
     },
     "metadata": {},
     "output_type": "display_data"
    },
    {
     "data": {
      "text/html": [
       " View project at <a href='https://wandb.ai/r-yanagimoto/mlp-sweep' target=\"_blank\">https://wandb.ai/r-yanagimoto/mlp-sweep</a>"
      ],
      "text/plain": [
       "<IPython.core.display.HTML object>"
      ]
     },
     "metadata": {},
     "output_type": "display_data"
    },
    {
     "data": {
      "text/html": [
       " View sweep at <a href='https://wandb.ai/r-yanagimoto/mlp-sweep/sweeps/r73z8z2k' target=\"_blank\">https://wandb.ai/r-yanagimoto/mlp-sweep/sweeps/r73z8z2k</a>"
      ],
      "text/plain": [
       "<IPython.core.display.HTML object>"
      ]
     },
     "metadata": {},
     "output_type": "display_data"
    },
    {
     "data": {
      "text/html": [
       " View run at <a href='https://wandb.ai/r-yanagimoto/mlp-sweep/runs/zse0jsyr' target=\"_blank\">https://wandb.ai/r-yanagimoto/mlp-sweep/runs/zse0jsyr</a>"
      ],
      "text/plain": [
       "<IPython.core.display.HTML object>"
      ]
     },
     "metadata": {},
     "output_type": "display_data"
    },
    {
     "data": {
      "text/html": [
       "Waiting for W&B process to finish... <strong style=\"color:green\">(success).</strong>"
      ],
      "text/plain": [
       "<IPython.core.display.HTML object>"
      ]
     },
     "metadata": {},
     "output_type": "display_data"
    },
    {
     "data": {
      "text/html": [
       "<style>\n",
       "    table.wandb td:nth-child(1) { padding: 0 10px; text-align: left ; width: auto;} td:nth-child(2) {text-align: left ; width: 100%}\n",
       "    .wandb-row { display: flex; flex-direction: row; flex-wrap: wrap; justify-content: flex-start; width: 100% }\n",
       "    .wandb-col { display: flex; flex-direction: column; flex-basis: 100%; flex: 1; padding: 10px; }\n",
       "    </style>\n",
       "<div class=\"wandb-row\"><div class=\"wandb-col\"><h3>Run history:</h3><br/><table class=\"wandb\"><tr><td>1extr</td><td>▁</td></tr><tr><td>2agre</td><td>▁</td></tr><tr><td>3cons</td><td>▁</td></tr><tr><td>4neur</td><td>▁</td></tr><tr><td>5open</td><td>▁</td></tr><tr><td>acc</td><td>▁</td></tr></table><br/></div><div class=\"wandb-col\"><h3>Run summary:</h3><br/><table class=\"wandb\"><tr><td>1extr</td><td>0.53846</td></tr><tr><td>2agre</td><td>0.61538</td></tr><tr><td>3cons</td><td>0.5</td></tr><tr><td>4neur</td><td>0.61538</td></tr><tr><td>5open</td><td>0.61538</td></tr><tr><td>acc</td><td>0.57692</td></tr></table><br/></div></div>"
      ],
      "text/plain": [
       "<IPython.core.display.HTML object>"
      ]
     },
     "metadata": {},
     "output_type": "display_data"
    },
    {
     "data": {
      "text/html": [
       " View run <strong style=\"color:#cdcd00\">vague-sweep-33</strong> at: <a href='https://wandb.ai/r-yanagimoto/mlp-sweep/runs/zse0jsyr' target=\"_blank\">https://wandb.ai/r-yanagimoto/mlp-sweep/runs/zse0jsyr</a><br/>Synced 5 W&B file(s), 0 media file(s), 0 artifact file(s) and 0 other file(s)"
      ],
      "text/plain": [
       "<IPython.core.display.HTML object>"
      ]
     },
     "metadata": {},
     "output_type": "display_data"
    },
    {
     "data": {
      "text/html": [
       "Find logs at: <code>./wandb/run-20230213_230425-zse0jsyr/logs</code>"
      ],
      "text/plain": [
       "<IPython.core.display.HTML object>"
      ]
     },
     "metadata": {},
     "output_type": "display_data"
    },
    {
     "name": "stderr",
     "output_type": "stream",
     "text": [
      "\u001b[34m\u001b[1mwandb\u001b[0m: Agent Starting Run: vvnjdvk9 with config:\n",
      "\u001b[34m\u001b[1mwandb\u001b[0m: \tactivation: relu\n",
      "\u001b[34m\u001b[1mwandb\u001b[0m: \talpha: 0.0001\n",
      "\u001b[34m\u001b[1mwandb\u001b[0m: \thidden_layer_sizes: [512]\n",
      "\u001b[34m\u001b[1mwandb\u001b[0m: \tlearning_rate: constant\n",
      "\u001b[34m\u001b[1mwandb\u001b[0m: \tsolver: adam\n",
      "Failed to detect the name of this notebook, you can set it manually with the WANDB_NOTEBOOK_NAME environment variable to enable code saving.\n"
     ]
    },
    {
     "data": {
      "text/html": [
       "Tracking run with wandb version 0.13.10"
      ],
      "text/plain": [
       "<IPython.core.display.HTML object>"
      ]
     },
     "metadata": {},
     "output_type": "display_data"
    },
    {
     "data": {
      "text/html": [
       "Run data is saved locally in <code>/home/ryoyanagimoto/persona/src/wandb/run-20230213_231442-vvnjdvk9</code>"
      ],
      "text/plain": [
       "<IPython.core.display.HTML object>"
      ]
     },
     "metadata": {},
     "output_type": "display_data"
    },
    {
     "data": {
      "text/html": [
       "Syncing run <strong><a href='https://wandb.ai/r-yanagimoto/mlp-sweep/runs/vvnjdvk9' target=\"_blank\">stoic-sweep-34</a></strong> to <a href='https://wandb.ai/r-yanagimoto/mlp-sweep' target=\"_blank\">Weights & Biases</a> (<a href='https://wandb.me/run' target=\"_blank\">docs</a>)<br/>Sweep page: <a href='https://wandb.ai/r-yanagimoto/mlp-sweep/sweeps/r73z8z2k' target=\"_blank\">https://wandb.ai/r-yanagimoto/mlp-sweep/sweeps/r73z8z2k</a>"
      ],
      "text/plain": [
       "<IPython.core.display.HTML object>"
      ]
     },
     "metadata": {},
     "output_type": "display_data"
    },
    {
     "data": {
      "text/html": [
       " View project at <a href='https://wandb.ai/r-yanagimoto/mlp-sweep' target=\"_blank\">https://wandb.ai/r-yanagimoto/mlp-sweep</a>"
      ],
      "text/plain": [
       "<IPython.core.display.HTML object>"
      ]
     },
     "metadata": {},
     "output_type": "display_data"
    },
    {
     "data": {
      "text/html": [
       " View sweep at <a href='https://wandb.ai/r-yanagimoto/mlp-sweep/sweeps/r73z8z2k' target=\"_blank\">https://wandb.ai/r-yanagimoto/mlp-sweep/sweeps/r73z8z2k</a>"
      ],
      "text/plain": [
       "<IPython.core.display.HTML object>"
      ]
     },
     "metadata": {},
     "output_type": "display_data"
    },
    {
     "data": {
      "text/html": [
       " View run at <a href='https://wandb.ai/r-yanagimoto/mlp-sweep/runs/vvnjdvk9' target=\"_blank\">https://wandb.ai/r-yanagimoto/mlp-sweep/runs/vvnjdvk9</a>"
      ],
      "text/plain": [
       "<IPython.core.display.HTML object>"
      ]
     },
     "metadata": {},
     "output_type": "display_data"
    },
    {
     "data": {
      "text/html": [
       "Waiting for W&B process to finish... <strong style=\"color:green\">(success).</strong>"
      ],
      "text/plain": [
       "<IPython.core.display.HTML object>"
      ]
     },
     "metadata": {},
     "output_type": "display_data"
    },
    {
     "data": {
      "text/html": [
       "<style>\n",
       "    table.wandb td:nth-child(1) { padding: 0 10px; text-align: left ; width: auto;} td:nth-child(2) {text-align: left ; width: 100%}\n",
       "    .wandb-row { display: flex; flex-direction: row; flex-wrap: wrap; justify-content: flex-start; width: 100% }\n",
       "    .wandb-col { display: flex; flex-direction: column; flex-basis: 100%; flex: 1; padding: 10px; }\n",
       "    </style>\n",
       "<div class=\"wandb-row\"><div class=\"wandb-col\"><h3>Run history:</h3><br/><table class=\"wandb\"><tr><td>1extr</td><td>▁</td></tr><tr><td>2agre</td><td>▁</td></tr><tr><td>3cons</td><td>▁</td></tr><tr><td>4neur</td><td>▁</td></tr><tr><td>5open</td><td>▁</td></tr><tr><td>acc</td><td>▁</td></tr></table><br/></div><div class=\"wandb-col\"><h3>Run summary:</h3><br/><table class=\"wandb\"><tr><td>1extr</td><td>0.53846</td></tr><tr><td>2agre</td><td>0.61538</td></tr><tr><td>3cons</td><td>0.46154</td></tr><tr><td>4neur</td><td>0.5</td></tr><tr><td>5open</td><td>0.42308</td></tr><tr><td>acc</td><td>0.50769</td></tr></table><br/></div></div>"
      ],
      "text/plain": [
       "<IPython.core.display.HTML object>"
      ]
     },
     "metadata": {},
     "output_type": "display_data"
    },
    {
     "data": {
      "text/html": [
       " View run <strong style=\"color:#cdcd00\">stoic-sweep-34</strong> at: <a href='https://wandb.ai/r-yanagimoto/mlp-sweep/runs/vvnjdvk9' target=\"_blank\">https://wandb.ai/r-yanagimoto/mlp-sweep/runs/vvnjdvk9</a><br/>Synced 5 W&B file(s), 0 media file(s), 0 artifact file(s) and 0 other file(s)"
      ],
      "text/plain": [
       "<IPython.core.display.HTML object>"
      ]
     },
     "metadata": {},
     "output_type": "display_data"
    },
    {
     "data": {
      "text/html": [
       "Find logs at: <code>./wandb/run-20230213_231442-vvnjdvk9/logs</code>"
      ],
      "text/plain": [
       "<IPython.core.display.HTML object>"
      ]
     },
     "metadata": {},
     "output_type": "display_data"
    },
    {
     "name": "stderr",
     "output_type": "stream",
     "text": [
      "\u001b[34m\u001b[1mwandb\u001b[0m: Agent Starting Run: 559e8qez with config:\n",
      "\u001b[34m\u001b[1mwandb\u001b[0m: \tactivation: relu\n",
      "\u001b[34m\u001b[1mwandb\u001b[0m: \talpha: 0.0001\n",
      "\u001b[34m\u001b[1mwandb\u001b[0m: \thidden_layer_sizes: [512]\n",
      "\u001b[34m\u001b[1mwandb\u001b[0m: \tlearning_rate: adaptive\n",
      "\u001b[34m\u001b[1mwandb\u001b[0m: \tsolver: sgd\n",
      "Failed to detect the name of this notebook, you can set it manually with the WANDB_NOTEBOOK_NAME environment variable to enable code saving.\n"
     ]
    },
    {
     "data": {
      "text/html": [
       "Tracking run with wandb version 0.13.10"
      ],
      "text/plain": [
       "<IPython.core.display.HTML object>"
      ]
     },
     "metadata": {},
     "output_type": "display_data"
    },
    {
     "data": {
      "text/html": [
       "Run data is saved locally in <code>/home/ryoyanagimoto/persona/src/wandb/run-20230213_232712-559e8qez</code>"
      ],
      "text/plain": [
       "<IPython.core.display.HTML object>"
      ]
     },
     "metadata": {},
     "output_type": "display_data"
    },
    {
     "data": {
      "text/html": [
       "Syncing run <strong><a href='https://wandb.ai/r-yanagimoto/mlp-sweep/runs/559e8qez' target=\"_blank\">revived-sweep-35</a></strong> to <a href='https://wandb.ai/r-yanagimoto/mlp-sweep' target=\"_blank\">Weights & Biases</a> (<a href='https://wandb.me/run' target=\"_blank\">docs</a>)<br/>Sweep page: <a href='https://wandb.ai/r-yanagimoto/mlp-sweep/sweeps/r73z8z2k' target=\"_blank\">https://wandb.ai/r-yanagimoto/mlp-sweep/sweeps/r73z8z2k</a>"
      ],
      "text/plain": [
       "<IPython.core.display.HTML object>"
      ]
     },
     "metadata": {},
     "output_type": "display_data"
    },
    {
     "data": {
      "text/html": [
       " View project at <a href='https://wandb.ai/r-yanagimoto/mlp-sweep' target=\"_blank\">https://wandb.ai/r-yanagimoto/mlp-sweep</a>"
      ],
      "text/plain": [
       "<IPython.core.display.HTML object>"
      ]
     },
     "metadata": {},
     "output_type": "display_data"
    },
    {
     "data": {
      "text/html": [
       " View sweep at <a href='https://wandb.ai/r-yanagimoto/mlp-sweep/sweeps/r73z8z2k' target=\"_blank\">https://wandb.ai/r-yanagimoto/mlp-sweep/sweeps/r73z8z2k</a>"
      ],
      "text/plain": [
       "<IPython.core.display.HTML object>"
      ]
     },
     "metadata": {},
     "output_type": "display_data"
    },
    {
     "data": {
      "text/html": [
       " View run at <a href='https://wandb.ai/r-yanagimoto/mlp-sweep/runs/559e8qez' target=\"_blank\">https://wandb.ai/r-yanagimoto/mlp-sweep/runs/559e8qez</a>"
      ],
      "text/plain": [
       "<IPython.core.display.HTML object>"
      ]
     },
     "metadata": {},
     "output_type": "display_data"
    },
    {
     "data": {
      "text/html": [
       "Waiting for W&B process to finish... <strong style=\"color:green\">(success).</strong>"
      ],
      "text/plain": [
       "<IPython.core.display.HTML object>"
      ]
     },
     "metadata": {},
     "output_type": "display_data"
    },
    {
     "data": {
      "text/html": [
       "<style>\n",
       "    table.wandb td:nth-child(1) { padding: 0 10px; text-align: left ; width: auto;} td:nth-child(2) {text-align: left ; width: 100%}\n",
       "    .wandb-row { display: flex; flex-direction: row; flex-wrap: wrap; justify-content: flex-start; width: 100% }\n",
       "    .wandb-col { display: flex; flex-direction: column; flex-basis: 100%; flex: 1; padding: 10px; }\n",
       "    </style>\n",
       "<div class=\"wandb-row\"><div class=\"wandb-col\"><h3>Run history:</h3><br/><table class=\"wandb\"><tr><td>1extr</td><td>▁</td></tr><tr><td>2agre</td><td>▁</td></tr><tr><td>3cons</td><td>▁</td></tr><tr><td>4neur</td><td>▁</td></tr><tr><td>5open</td><td>▁</td></tr><tr><td>acc</td><td>▁</td></tr></table><br/></div><div class=\"wandb-col\"><h3>Run summary:</h3><br/><table class=\"wandb\"><tr><td>1extr</td><td>0.5</td></tr><tr><td>2agre</td><td>0.53846</td></tr><tr><td>3cons</td><td>0.5</td></tr><tr><td>4neur</td><td>0.61538</td></tr><tr><td>5open</td><td>0.57692</td></tr><tr><td>acc</td><td>0.54615</td></tr></table><br/></div></div>"
      ],
      "text/plain": [
       "<IPython.core.display.HTML object>"
      ]
     },
     "metadata": {},
     "output_type": "display_data"
    },
    {
     "data": {
      "text/html": [
       " View run <strong style=\"color:#cdcd00\">revived-sweep-35</strong> at: <a href='https://wandb.ai/r-yanagimoto/mlp-sweep/runs/559e8qez' target=\"_blank\">https://wandb.ai/r-yanagimoto/mlp-sweep/runs/559e8qez</a><br/>Synced 5 W&B file(s), 0 media file(s), 0 artifact file(s) and 0 other file(s)"
      ],
      "text/plain": [
       "<IPython.core.display.HTML object>"
      ]
     },
     "metadata": {},
     "output_type": "display_data"
    },
    {
     "data": {
      "text/html": [
       "Find logs at: <code>./wandb/run-20230213_232712-559e8qez/logs</code>"
      ],
      "text/plain": [
       "<IPython.core.display.HTML object>"
      ]
     },
     "metadata": {},
     "output_type": "display_data"
    },
    {
     "name": "stderr",
     "output_type": "stream",
     "text": [
      "\u001b[34m\u001b[1mwandb\u001b[0m: Agent Starting Run: 5gfzg9o3 with config:\n",
      "\u001b[34m\u001b[1mwandb\u001b[0m: \tactivation: relu\n",
      "\u001b[34m\u001b[1mwandb\u001b[0m: \talpha: 0.0001\n",
      "\u001b[34m\u001b[1mwandb\u001b[0m: \thidden_layer_sizes: [512]\n",
      "\u001b[34m\u001b[1mwandb\u001b[0m: \tlearning_rate: adaptive\n",
      "\u001b[34m\u001b[1mwandb\u001b[0m: \tsolver: adam\n",
      "Failed to detect the name of this notebook, you can set it manually with the WANDB_NOTEBOOK_NAME environment variable to enable code saving.\n"
     ]
    },
    {
     "data": {
      "text/html": [
       "Tracking run with wandb version 0.13.10"
      ],
      "text/plain": [
       "<IPython.core.display.HTML object>"
      ]
     },
     "metadata": {},
     "output_type": "display_data"
    },
    {
     "data": {
      "text/html": [
       "Run data is saved locally in <code>/home/ryoyanagimoto/persona/src/wandb/run-20230213_234733-5gfzg9o3</code>"
      ],
      "text/plain": [
       "<IPython.core.display.HTML object>"
      ]
     },
     "metadata": {},
     "output_type": "display_data"
    },
    {
     "data": {
      "text/html": [
       "Syncing run <strong><a href='https://wandb.ai/r-yanagimoto/mlp-sweep/runs/5gfzg9o3' target=\"_blank\">super-sweep-36</a></strong> to <a href='https://wandb.ai/r-yanagimoto/mlp-sweep' target=\"_blank\">Weights & Biases</a> (<a href='https://wandb.me/run' target=\"_blank\">docs</a>)<br/>Sweep page: <a href='https://wandb.ai/r-yanagimoto/mlp-sweep/sweeps/r73z8z2k' target=\"_blank\">https://wandb.ai/r-yanagimoto/mlp-sweep/sweeps/r73z8z2k</a>"
      ],
      "text/plain": [
       "<IPython.core.display.HTML object>"
      ]
     },
     "metadata": {},
     "output_type": "display_data"
    },
    {
     "data": {
      "text/html": [
       " View project at <a href='https://wandb.ai/r-yanagimoto/mlp-sweep' target=\"_blank\">https://wandb.ai/r-yanagimoto/mlp-sweep</a>"
      ],
      "text/plain": [
       "<IPython.core.display.HTML object>"
      ]
     },
     "metadata": {},
     "output_type": "display_data"
    },
    {
     "data": {
      "text/html": [
       " View sweep at <a href='https://wandb.ai/r-yanagimoto/mlp-sweep/sweeps/r73z8z2k' target=\"_blank\">https://wandb.ai/r-yanagimoto/mlp-sweep/sweeps/r73z8z2k</a>"
      ],
      "text/plain": [
       "<IPython.core.display.HTML object>"
      ]
     },
     "metadata": {},
     "output_type": "display_data"
    },
    {
     "data": {
      "text/html": [
       " View run at <a href='https://wandb.ai/r-yanagimoto/mlp-sweep/runs/5gfzg9o3' target=\"_blank\">https://wandb.ai/r-yanagimoto/mlp-sweep/runs/5gfzg9o3</a>"
      ],
      "text/plain": [
       "<IPython.core.display.HTML object>"
      ]
     },
     "metadata": {},
     "output_type": "display_data"
    },
    {
     "data": {
      "text/html": [
       "Waiting for W&B process to finish... <strong style=\"color:green\">(success).</strong>"
      ],
      "text/plain": [
       "<IPython.core.display.HTML object>"
      ]
     },
     "metadata": {},
     "output_type": "display_data"
    },
    {
     "data": {
      "text/html": [
       "<style>\n",
       "    table.wandb td:nth-child(1) { padding: 0 10px; text-align: left ; width: auto;} td:nth-child(2) {text-align: left ; width: 100%}\n",
       "    .wandb-row { display: flex; flex-direction: row; flex-wrap: wrap; justify-content: flex-start; width: 100% }\n",
       "    .wandb-col { display: flex; flex-direction: column; flex-basis: 100%; flex: 1; padding: 10px; }\n",
       "    </style>\n",
       "<div class=\"wandb-row\"><div class=\"wandb-col\"><h3>Run history:</h3><br/><table class=\"wandb\"><tr><td>1extr</td><td>▁</td></tr><tr><td>2agre</td><td>▁</td></tr><tr><td>3cons</td><td>▁</td></tr><tr><td>4neur</td><td>▁</td></tr><tr><td>5open</td><td>▁</td></tr><tr><td>acc</td><td>▁</td></tr></table><br/></div><div class=\"wandb-col\"><h3>Run summary:</h3><br/><table class=\"wandb\"><tr><td>1extr</td><td>0.53846</td></tr><tr><td>2agre</td><td>0.5</td></tr><tr><td>3cons</td><td>0.42308</td></tr><tr><td>4neur</td><td>0.5</td></tr><tr><td>5open</td><td>0.38462</td></tr><tr><td>acc</td><td>0.46923</td></tr></table><br/></div></div>"
      ],
      "text/plain": [
       "<IPython.core.display.HTML object>"
      ]
     },
     "metadata": {},
     "output_type": "display_data"
    },
    {
     "data": {
      "text/html": [
       " View run <strong style=\"color:#cdcd00\">super-sweep-36</strong> at: <a href='https://wandb.ai/r-yanagimoto/mlp-sweep/runs/5gfzg9o3' target=\"_blank\">https://wandb.ai/r-yanagimoto/mlp-sweep/runs/5gfzg9o3</a><br/>Synced 5 W&B file(s), 0 media file(s), 0 artifact file(s) and 0 other file(s)"
      ],
      "text/plain": [
       "<IPython.core.display.HTML object>"
      ]
     },
     "metadata": {},
     "output_type": "display_data"
    },
    {
     "data": {
      "text/html": [
       "Find logs at: <code>./wandb/run-20230213_234733-5gfzg9o3/logs</code>"
      ],
      "text/plain": [
       "<IPython.core.display.HTML object>"
      ]
     },
     "metadata": {},
     "output_type": "display_data"
    },
    {
     "name": "stderr",
     "output_type": "stream",
     "text": [
      "\u001b[34m\u001b[1mwandb\u001b[0m: Agent Starting Run: nfey9989 with config:\n",
      "\u001b[34m\u001b[1mwandb\u001b[0m: \tactivation: relu\n",
      "\u001b[34m\u001b[1mwandb\u001b[0m: \talpha: 0.05\n",
      "\u001b[34m\u001b[1mwandb\u001b[0m: \thidden_layer_sizes: [256, 256]\n",
      "\u001b[34m\u001b[1mwandb\u001b[0m: \tlearning_rate: constant\n",
      "\u001b[34m\u001b[1mwandb\u001b[0m: \tsolver: sgd\n",
      "Failed to detect the name of this notebook, you can set it manually with the WANDB_NOTEBOOK_NAME environment variable to enable code saving.\n"
     ]
    },
    {
     "data": {
      "text/html": [
       "Tracking run with wandb version 0.13.10"
      ],
      "text/plain": [
       "<IPython.core.display.HTML object>"
      ]
     },
     "metadata": {},
     "output_type": "display_data"
    },
    {
     "data": {
      "text/html": [
       "Run data is saved locally in <code>/home/ryoyanagimoto/persona/src/wandb/run-20230214_000006-nfey9989</code>"
      ],
      "text/plain": [
       "<IPython.core.display.HTML object>"
      ]
     },
     "metadata": {},
     "output_type": "display_data"
    },
    {
     "data": {
      "text/html": [
       "Syncing run <strong><a href='https://wandb.ai/r-yanagimoto/mlp-sweep/runs/nfey9989' target=\"_blank\">flowing-sweep-37</a></strong> to <a href='https://wandb.ai/r-yanagimoto/mlp-sweep' target=\"_blank\">Weights & Biases</a> (<a href='https://wandb.me/run' target=\"_blank\">docs</a>)<br/>Sweep page: <a href='https://wandb.ai/r-yanagimoto/mlp-sweep/sweeps/r73z8z2k' target=\"_blank\">https://wandb.ai/r-yanagimoto/mlp-sweep/sweeps/r73z8z2k</a>"
      ],
      "text/plain": [
       "<IPython.core.display.HTML object>"
      ]
     },
     "metadata": {},
     "output_type": "display_data"
    },
    {
     "data": {
      "text/html": [
       " View project at <a href='https://wandb.ai/r-yanagimoto/mlp-sweep' target=\"_blank\">https://wandb.ai/r-yanagimoto/mlp-sweep</a>"
      ],
      "text/plain": [
       "<IPython.core.display.HTML object>"
      ]
     },
     "metadata": {},
     "output_type": "display_data"
    },
    {
     "data": {
      "text/html": [
       " View sweep at <a href='https://wandb.ai/r-yanagimoto/mlp-sweep/sweeps/r73z8z2k' target=\"_blank\">https://wandb.ai/r-yanagimoto/mlp-sweep/sweeps/r73z8z2k</a>"
      ],
      "text/plain": [
       "<IPython.core.display.HTML object>"
      ]
     },
     "metadata": {},
     "output_type": "display_data"
    },
    {
     "data": {
      "text/html": [
       " View run at <a href='https://wandb.ai/r-yanagimoto/mlp-sweep/runs/nfey9989' target=\"_blank\">https://wandb.ai/r-yanagimoto/mlp-sweep/runs/nfey9989</a>"
      ],
      "text/plain": [
       "<IPython.core.display.HTML object>"
      ]
     },
     "metadata": {},
     "output_type": "display_data"
    },
    {
     "data": {
      "text/html": [
       "Waiting for W&B process to finish... <strong style=\"color:green\">(success).</strong>"
      ],
      "text/plain": [
       "<IPython.core.display.HTML object>"
      ]
     },
     "metadata": {},
     "output_type": "display_data"
    },
    {
     "data": {
      "text/html": [
       "<style>\n",
       "    table.wandb td:nth-child(1) { padding: 0 10px; text-align: left ; width: auto;} td:nth-child(2) {text-align: left ; width: 100%}\n",
       "    .wandb-row { display: flex; flex-direction: row; flex-wrap: wrap; justify-content: flex-start; width: 100% }\n",
       "    .wandb-col { display: flex; flex-direction: column; flex-basis: 100%; flex: 1; padding: 10px; }\n",
       "    </style>\n",
       "<div class=\"wandb-row\"><div class=\"wandb-col\"><h3>Run history:</h3><br/><table class=\"wandb\"><tr><td>1extr</td><td>▁</td></tr><tr><td>2agre</td><td>▁</td></tr><tr><td>3cons</td><td>▁</td></tr><tr><td>4neur</td><td>▁</td></tr><tr><td>5open</td><td>▁</td></tr><tr><td>acc</td><td>▁</td></tr></table><br/></div><div class=\"wandb-col\"><h3>Run summary:</h3><br/><table class=\"wandb\"><tr><td>1extr</td><td>0.5</td></tr><tr><td>2agre</td><td>0.53846</td></tr><tr><td>3cons</td><td>0.46154</td></tr><tr><td>4neur</td><td>0.57692</td></tr><tr><td>5open</td><td>0.57692</td></tr><tr><td>acc</td><td>0.53077</td></tr></table><br/></div></div>"
      ],
      "text/plain": [
       "<IPython.core.display.HTML object>"
      ]
     },
     "metadata": {},
     "output_type": "display_data"
    },
    {
     "data": {
      "text/html": [
       " View run <strong style=\"color:#cdcd00\">flowing-sweep-37</strong> at: <a href='https://wandb.ai/r-yanagimoto/mlp-sweep/runs/nfey9989' target=\"_blank\">https://wandb.ai/r-yanagimoto/mlp-sweep/runs/nfey9989</a><br/>Synced 5 W&B file(s), 0 media file(s), 0 artifact file(s) and 0 other file(s)"
      ],
      "text/plain": [
       "<IPython.core.display.HTML object>"
      ]
     },
     "metadata": {},
     "output_type": "display_data"
    },
    {
     "data": {
      "text/html": [
       "Find logs at: <code>./wandb/run-20230214_000006-nfey9989/logs</code>"
      ],
      "text/plain": [
       "<IPython.core.display.HTML object>"
      ]
     },
     "metadata": {},
     "output_type": "display_data"
    },
    {
     "name": "stderr",
     "output_type": "stream",
     "text": [
      "\u001b[34m\u001b[1mwandb\u001b[0m: Sweep Agent: Waiting for job.\n",
      "\u001b[34m\u001b[1mwandb\u001b[0m: Job received.\n",
      "\u001b[34m\u001b[1mwandb\u001b[0m: Agent Starting Run: 8mbshrn7 with config:\n",
      "\u001b[34m\u001b[1mwandb\u001b[0m: \tactivation: relu\n",
      "\u001b[34m\u001b[1mwandb\u001b[0m: \talpha: 0.05\n",
      "\u001b[34m\u001b[1mwandb\u001b[0m: \thidden_layer_sizes: [256, 256]\n",
      "\u001b[34m\u001b[1mwandb\u001b[0m: \tlearning_rate: constant\n",
      "\u001b[34m\u001b[1mwandb\u001b[0m: \tsolver: adam\n",
      "Failed to detect the name of this notebook, you can set it manually with the WANDB_NOTEBOOK_NAME environment variable to enable code saving.\n"
     ]
    },
    {
     "data": {
      "text/html": [
       "Tracking run with wandb version 0.13.10"
      ],
      "text/plain": [
       "<IPython.core.display.HTML object>"
      ]
     },
     "metadata": {},
     "output_type": "display_data"
    },
    {
     "data": {
      "text/html": [
       "Run data is saved locally in <code>/home/ryoyanagimoto/persona/src/wandb/run-20230214_000751-8mbshrn7</code>"
      ],
      "text/plain": [
       "<IPython.core.display.HTML object>"
      ]
     },
     "metadata": {},
     "output_type": "display_data"
    },
    {
     "data": {
      "text/html": [
       "Syncing run <strong><a href='https://wandb.ai/r-yanagimoto/mlp-sweep/runs/8mbshrn7' target=\"_blank\">polar-sweep-38</a></strong> to <a href='https://wandb.ai/r-yanagimoto/mlp-sweep' target=\"_blank\">Weights & Biases</a> (<a href='https://wandb.me/run' target=\"_blank\">docs</a>)<br/>Sweep page: <a href='https://wandb.ai/r-yanagimoto/mlp-sweep/sweeps/r73z8z2k' target=\"_blank\">https://wandb.ai/r-yanagimoto/mlp-sweep/sweeps/r73z8z2k</a>"
      ],
      "text/plain": [
       "<IPython.core.display.HTML object>"
      ]
     },
     "metadata": {},
     "output_type": "display_data"
    },
    {
     "data": {
      "text/html": [
       " View project at <a href='https://wandb.ai/r-yanagimoto/mlp-sweep' target=\"_blank\">https://wandb.ai/r-yanagimoto/mlp-sweep</a>"
      ],
      "text/plain": [
       "<IPython.core.display.HTML object>"
      ]
     },
     "metadata": {},
     "output_type": "display_data"
    },
    {
     "data": {
      "text/html": [
       " View sweep at <a href='https://wandb.ai/r-yanagimoto/mlp-sweep/sweeps/r73z8z2k' target=\"_blank\">https://wandb.ai/r-yanagimoto/mlp-sweep/sweeps/r73z8z2k</a>"
      ],
      "text/plain": [
       "<IPython.core.display.HTML object>"
      ]
     },
     "metadata": {},
     "output_type": "display_data"
    },
    {
     "data": {
      "text/html": [
       " View run at <a href='https://wandb.ai/r-yanagimoto/mlp-sweep/runs/8mbshrn7' target=\"_blank\">https://wandb.ai/r-yanagimoto/mlp-sweep/runs/8mbshrn7</a>"
      ],
      "text/plain": [
       "<IPython.core.display.HTML object>"
      ]
     },
     "metadata": {},
     "output_type": "display_data"
    },
    {
     "data": {
      "text/html": [
       "Waiting for W&B process to finish... <strong style=\"color:green\">(success).</strong>"
      ],
      "text/plain": [
       "<IPython.core.display.HTML object>"
      ]
     },
     "metadata": {},
     "output_type": "display_data"
    },
    {
     "data": {
      "text/html": [
       "<style>\n",
       "    table.wandb td:nth-child(1) { padding: 0 10px; text-align: left ; width: auto;} td:nth-child(2) {text-align: left ; width: 100%}\n",
       "    .wandb-row { display: flex; flex-direction: row; flex-wrap: wrap; justify-content: flex-start; width: 100% }\n",
       "    .wandb-col { display: flex; flex-direction: column; flex-basis: 100%; flex: 1; padding: 10px; }\n",
       "    </style>\n",
       "<div class=\"wandb-row\"><div class=\"wandb-col\"><h3>Run history:</h3><br/><table class=\"wandb\"><tr><td>1extr</td><td>▁</td></tr><tr><td>2agre</td><td>▁</td></tr><tr><td>3cons</td><td>▁</td></tr><tr><td>4neur</td><td>▁</td></tr><tr><td>5open</td><td>▁</td></tr><tr><td>acc</td><td>▁</td></tr></table><br/></div><div class=\"wandb-col\"><h3>Run summary:</h3><br/><table class=\"wandb\"><tr><td>1extr</td><td>0.5</td></tr><tr><td>2agre</td><td>0.61538</td></tr><tr><td>3cons</td><td>0.5</td></tr><tr><td>4neur</td><td>0.46154</td></tr><tr><td>5open</td><td>0.42308</td></tr><tr><td>acc</td><td>0.5</td></tr></table><br/></div></div>"
      ],
      "text/plain": [
       "<IPython.core.display.HTML object>"
      ]
     },
     "metadata": {},
     "output_type": "display_data"
    },
    {
     "data": {
      "text/html": [
       " View run <strong style=\"color:#cdcd00\">polar-sweep-38</strong> at: <a href='https://wandb.ai/r-yanagimoto/mlp-sweep/runs/8mbshrn7' target=\"_blank\">https://wandb.ai/r-yanagimoto/mlp-sweep/runs/8mbshrn7</a><br/>Synced 5 W&B file(s), 0 media file(s), 0 artifact file(s) and 0 other file(s)"
      ],
      "text/plain": [
       "<IPython.core.display.HTML object>"
      ]
     },
     "metadata": {},
     "output_type": "display_data"
    },
    {
     "data": {
      "text/html": [
       "Find logs at: <code>./wandb/run-20230214_000751-8mbshrn7/logs</code>"
      ],
      "text/plain": [
       "<IPython.core.display.HTML object>"
      ]
     },
     "metadata": {},
     "output_type": "display_data"
    },
    {
     "name": "stderr",
     "output_type": "stream",
     "text": [
      "\u001b[34m\u001b[1mwandb\u001b[0m: Agent Starting Run: s4ycpaz1 with config:\n",
      "\u001b[34m\u001b[1mwandb\u001b[0m: \tactivation: relu\n",
      "\u001b[34m\u001b[1mwandb\u001b[0m: \talpha: 0.05\n",
      "\u001b[34m\u001b[1mwandb\u001b[0m: \thidden_layer_sizes: [256, 256]\n",
      "\u001b[34m\u001b[1mwandb\u001b[0m: \tlearning_rate: adaptive\n",
      "\u001b[34m\u001b[1mwandb\u001b[0m: \tsolver: sgd\n",
      "Failed to detect the name of this notebook, you can set it manually with the WANDB_NOTEBOOK_NAME environment variable to enable code saving.\n"
     ]
    },
    {
     "data": {
      "text/html": [
       "Tracking run with wandb version 0.13.10"
      ],
      "text/plain": [
       "<IPython.core.display.HTML object>"
      ]
     },
     "metadata": {},
     "output_type": "display_data"
    },
    {
     "data": {
      "text/html": [
       "Run data is saved locally in <code>/home/ryoyanagimoto/persona/src/wandb/run-20230214_001627-s4ycpaz1</code>"
      ],
      "text/plain": [
       "<IPython.core.display.HTML object>"
      ]
     },
     "metadata": {},
     "output_type": "display_data"
    },
    {
     "data": {
      "text/html": [
       "Syncing run <strong><a href='https://wandb.ai/r-yanagimoto/mlp-sweep/runs/s4ycpaz1' target=\"_blank\">jolly-sweep-39</a></strong> to <a href='https://wandb.ai/r-yanagimoto/mlp-sweep' target=\"_blank\">Weights & Biases</a> (<a href='https://wandb.me/run' target=\"_blank\">docs</a>)<br/>Sweep page: <a href='https://wandb.ai/r-yanagimoto/mlp-sweep/sweeps/r73z8z2k' target=\"_blank\">https://wandb.ai/r-yanagimoto/mlp-sweep/sweeps/r73z8z2k</a>"
      ],
      "text/plain": [
       "<IPython.core.display.HTML object>"
      ]
     },
     "metadata": {},
     "output_type": "display_data"
    },
    {
     "data": {
      "text/html": [
       " View project at <a href='https://wandb.ai/r-yanagimoto/mlp-sweep' target=\"_blank\">https://wandb.ai/r-yanagimoto/mlp-sweep</a>"
      ],
      "text/plain": [
       "<IPython.core.display.HTML object>"
      ]
     },
     "metadata": {},
     "output_type": "display_data"
    },
    {
     "data": {
      "text/html": [
       " View sweep at <a href='https://wandb.ai/r-yanagimoto/mlp-sweep/sweeps/r73z8z2k' target=\"_blank\">https://wandb.ai/r-yanagimoto/mlp-sweep/sweeps/r73z8z2k</a>"
      ],
      "text/plain": [
       "<IPython.core.display.HTML object>"
      ]
     },
     "metadata": {},
     "output_type": "display_data"
    },
    {
     "data": {
      "text/html": [
       " View run at <a href='https://wandb.ai/r-yanagimoto/mlp-sweep/runs/s4ycpaz1' target=\"_blank\">https://wandb.ai/r-yanagimoto/mlp-sweep/runs/s4ycpaz1</a>"
      ],
      "text/plain": [
       "<IPython.core.display.HTML object>"
      ]
     },
     "metadata": {},
     "output_type": "display_data"
    },
    {
     "data": {
      "text/html": [
       "Waiting for W&B process to finish... <strong style=\"color:green\">(success).</strong>"
      ],
      "text/plain": [
       "<IPython.core.display.HTML object>"
      ]
     },
     "metadata": {},
     "output_type": "display_data"
    },
    {
     "data": {
      "text/html": [
       "<style>\n",
       "    table.wandb td:nth-child(1) { padding: 0 10px; text-align: left ; width: auto;} td:nth-child(2) {text-align: left ; width: 100%}\n",
       "    .wandb-row { display: flex; flex-direction: row; flex-wrap: wrap; justify-content: flex-start; width: 100% }\n",
       "    .wandb-col { display: flex; flex-direction: column; flex-basis: 100%; flex: 1; padding: 10px; }\n",
       "    </style>\n",
       "<div class=\"wandb-row\"><div class=\"wandb-col\"><h3>Run history:</h3><br/><table class=\"wandb\"><tr><td>1extr</td><td>▁</td></tr><tr><td>2agre</td><td>▁</td></tr><tr><td>3cons</td><td>▁</td></tr><tr><td>4neur</td><td>▁</td></tr><tr><td>5open</td><td>▁</td></tr><tr><td>acc</td><td>▁</td></tr></table><br/></div><div class=\"wandb-col\"><h3>Run summary:</h3><br/><table class=\"wandb\"><tr><td>1extr</td><td>0.5</td></tr><tr><td>2agre</td><td>0.57692</td></tr><tr><td>3cons</td><td>0.5</td></tr><tr><td>4neur</td><td>0.61538</td></tr><tr><td>5open</td><td>0.65385</td></tr><tr><td>acc</td><td>0.56923</td></tr></table><br/></div></div>"
      ],
      "text/plain": [
       "<IPython.core.display.HTML object>"
      ]
     },
     "metadata": {},
     "output_type": "display_data"
    },
    {
     "data": {
      "text/html": [
       " View run <strong style=\"color:#cdcd00\">jolly-sweep-39</strong> at: <a href='https://wandb.ai/r-yanagimoto/mlp-sweep/runs/s4ycpaz1' target=\"_blank\">https://wandb.ai/r-yanagimoto/mlp-sweep/runs/s4ycpaz1</a><br/>Synced 5 W&B file(s), 0 media file(s), 0 artifact file(s) and 0 other file(s)"
      ],
      "text/plain": [
       "<IPython.core.display.HTML object>"
      ]
     },
     "metadata": {},
     "output_type": "display_data"
    },
    {
     "data": {
      "text/html": [
       "Find logs at: <code>./wandb/run-20230214_001627-s4ycpaz1/logs</code>"
      ],
      "text/plain": [
       "<IPython.core.display.HTML object>"
      ]
     },
     "metadata": {},
     "output_type": "display_data"
    },
    {
     "name": "stderr",
     "output_type": "stream",
     "text": [
      "\u001b[34m\u001b[1mwandb\u001b[0m: Agent Starting Run: 9alm0nju with config:\n",
      "\u001b[34m\u001b[1mwandb\u001b[0m: \tactivation: relu\n",
      "\u001b[34m\u001b[1mwandb\u001b[0m: \talpha: 0.05\n",
      "\u001b[34m\u001b[1mwandb\u001b[0m: \thidden_layer_sizes: [256, 256]\n",
      "\u001b[34m\u001b[1mwandb\u001b[0m: \tlearning_rate: adaptive\n",
      "\u001b[34m\u001b[1mwandb\u001b[0m: \tsolver: adam\n",
      "Failed to detect the name of this notebook, you can set it manually with the WANDB_NOTEBOOK_NAME environment variable to enable code saving.\n"
     ]
    },
    {
     "data": {
      "text/html": [
       "Tracking run with wandb version 0.13.10"
      ],
      "text/plain": [
       "<IPython.core.display.HTML object>"
      ]
     },
     "metadata": {},
     "output_type": "display_data"
    },
    {
     "data": {
      "text/html": [
       "Run data is saved locally in <code>/home/ryoyanagimoto/persona/src/wandb/run-20230214_003133-9alm0nju</code>"
      ],
      "text/plain": [
       "<IPython.core.display.HTML object>"
      ]
     },
     "metadata": {},
     "output_type": "display_data"
    },
    {
     "data": {
      "text/html": [
       "Syncing run <strong><a href='https://wandb.ai/r-yanagimoto/mlp-sweep/runs/9alm0nju' target=\"_blank\">pretty-sweep-40</a></strong> to <a href='https://wandb.ai/r-yanagimoto/mlp-sweep' target=\"_blank\">Weights & Biases</a> (<a href='https://wandb.me/run' target=\"_blank\">docs</a>)<br/>Sweep page: <a href='https://wandb.ai/r-yanagimoto/mlp-sweep/sweeps/r73z8z2k' target=\"_blank\">https://wandb.ai/r-yanagimoto/mlp-sweep/sweeps/r73z8z2k</a>"
      ],
      "text/plain": [
       "<IPython.core.display.HTML object>"
      ]
     },
     "metadata": {},
     "output_type": "display_data"
    },
    {
     "data": {
      "text/html": [
       " View project at <a href='https://wandb.ai/r-yanagimoto/mlp-sweep' target=\"_blank\">https://wandb.ai/r-yanagimoto/mlp-sweep</a>"
      ],
      "text/plain": [
       "<IPython.core.display.HTML object>"
      ]
     },
     "metadata": {},
     "output_type": "display_data"
    },
    {
     "data": {
      "text/html": [
       " View sweep at <a href='https://wandb.ai/r-yanagimoto/mlp-sweep/sweeps/r73z8z2k' target=\"_blank\">https://wandb.ai/r-yanagimoto/mlp-sweep/sweeps/r73z8z2k</a>"
      ],
      "text/plain": [
       "<IPython.core.display.HTML object>"
      ]
     },
     "metadata": {},
     "output_type": "display_data"
    },
    {
     "data": {
      "text/html": [
       " View run at <a href='https://wandb.ai/r-yanagimoto/mlp-sweep/runs/9alm0nju' target=\"_blank\">https://wandb.ai/r-yanagimoto/mlp-sweep/runs/9alm0nju</a>"
      ],
      "text/plain": [
       "<IPython.core.display.HTML object>"
      ]
     },
     "metadata": {},
     "output_type": "display_data"
    },
    {
     "data": {
      "text/html": [
       "Waiting for W&B process to finish... <strong style=\"color:green\">(success).</strong>"
      ],
      "text/plain": [
       "<IPython.core.display.HTML object>"
      ]
     },
     "metadata": {},
     "output_type": "display_data"
    },
    {
     "data": {
      "text/html": [
       "<style>\n",
       "    table.wandb td:nth-child(1) { padding: 0 10px; text-align: left ; width: auto;} td:nth-child(2) {text-align: left ; width: 100%}\n",
       "    .wandb-row { display: flex; flex-direction: row; flex-wrap: wrap; justify-content: flex-start; width: 100% }\n",
       "    .wandb-col { display: flex; flex-direction: column; flex-basis: 100%; flex: 1; padding: 10px; }\n",
       "    </style>\n",
       "<div class=\"wandb-row\"><div class=\"wandb-col\"><h3>Run history:</h3><br/><table class=\"wandb\"><tr><td>1extr</td><td>▁</td></tr><tr><td>2agre</td><td>▁</td></tr><tr><td>3cons</td><td>▁</td></tr><tr><td>4neur</td><td>▁</td></tr><tr><td>5open</td><td>▁</td></tr><tr><td>acc</td><td>▁</td></tr></table><br/></div><div class=\"wandb-col\"><h3>Run summary:</h3><br/><table class=\"wandb\"><tr><td>1extr</td><td>0.57692</td></tr><tr><td>2agre</td><td>0.53846</td></tr><tr><td>3cons</td><td>0.42308</td></tr><tr><td>4neur</td><td>0.5</td></tr><tr><td>5open</td><td>0.38462</td></tr><tr><td>acc</td><td>0.48462</td></tr></table><br/></div></div>"
      ],
      "text/plain": [
       "<IPython.core.display.HTML object>"
      ]
     },
     "metadata": {},
     "output_type": "display_data"
    },
    {
     "data": {
      "text/html": [
       " View run <strong style=\"color:#cdcd00\">pretty-sweep-40</strong> at: <a href='https://wandb.ai/r-yanagimoto/mlp-sweep/runs/9alm0nju' target=\"_blank\">https://wandb.ai/r-yanagimoto/mlp-sweep/runs/9alm0nju</a><br/>Synced 5 W&B file(s), 0 media file(s), 0 artifact file(s) and 0 other file(s)"
      ],
      "text/plain": [
       "<IPython.core.display.HTML object>"
      ]
     },
     "metadata": {},
     "output_type": "display_data"
    },
    {
     "data": {
      "text/html": [
       "Find logs at: <code>./wandb/run-20230214_003133-9alm0nju/logs</code>"
      ],
      "text/plain": [
       "<IPython.core.display.HTML object>"
      ]
     },
     "metadata": {},
     "output_type": "display_data"
    },
    {
     "name": "stderr",
     "output_type": "stream",
     "text": [
      "\u001b[34m\u001b[1mwandb\u001b[0m: Agent Starting Run: e253wk4z with config:\n",
      "\u001b[34m\u001b[1mwandb\u001b[0m: \tactivation: relu\n",
      "\u001b[34m\u001b[1mwandb\u001b[0m: \talpha: 0.05\n",
      "\u001b[34m\u001b[1mwandb\u001b[0m: \thidden_layer_sizes: [256, 64]\n",
      "\u001b[34m\u001b[1mwandb\u001b[0m: \tlearning_rate: constant\n",
      "\u001b[34m\u001b[1mwandb\u001b[0m: \tsolver: sgd\n",
      "Failed to detect the name of this notebook, you can set it manually with the WANDB_NOTEBOOK_NAME environment variable to enable code saving.\n"
     ]
    },
    {
     "data": {
      "text/html": [
       "Tracking run with wandb version 0.13.10"
      ],
      "text/plain": [
       "<IPython.core.display.HTML object>"
      ]
     },
     "metadata": {},
     "output_type": "display_data"
    },
    {
     "data": {
      "text/html": [
       "Run data is saved locally in <code>/home/ryoyanagimoto/persona/src/wandb/run-20230214_003942-e253wk4z</code>"
      ],
      "text/plain": [
       "<IPython.core.display.HTML object>"
      ]
     },
     "metadata": {},
     "output_type": "display_data"
    },
    {
     "data": {
      "text/html": [
       "Syncing run <strong><a href='https://wandb.ai/r-yanagimoto/mlp-sweep/runs/e253wk4z' target=\"_blank\">rich-sweep-41</a></strong> to <a href='https://wandb.ai/r-yanagimoto/mlp-sweep' target=\"_blank\">Weights & Biases</a> (<a href='https://wandb.me/run' target=\"_blank\">docs</a>)<br/>Sweep page: <a href='https://wandb.ai/r-yanagimoto/mlp-sweep/sweeps/r73z8z2k' target=\"_blank\">https://wandb.ai/r-yanagimoto/mlp-sweep/sweeps/r73z8z2k</a>"
      ],
      "text/plain": [
       "<IPython.core.display.HTML object>"
      ]
     },
     "metadata": {},
     "output_type": "display_data"
    },
    {
     "data": {
      "text/html": [
       " View project at <a href='https://wandb.ai/r-yanagimoto/mlp-sweep' target=\"_blank\">https://wandb.ai/r-yanagimoto/mlp-sweep</a>"
      ],
      "text/plain": [
       "<IPython.core.display.HTML object>"
      ]
     },
     "metadata": {},
     "output_type": "display_data"
    },
    {
     "data": {
      "text/html": [
       " View sweep at <a href='https://wandb.ai/r-yanagimoto/mlp-sweep/sweeps/r73z8z2k' target=\"_blank\">https://wandb.ai/r-yanagimoto/mlp-sweep/sweeps/r73z8z2k</a>"
      ],
      "text/plain": [
       "<IPython.core.display.HTML object>"
      ]
     },
     "metadata": {},
     "output_type": "display_data"
    },
    {
     "data": {
      "text/html": [
       " View run at <a href='https://wandb.ai/r-yanagimoto/mlp-sweep/runs/e253wk4z' target=\"_blank\">https://wandb.ai/r-yanagimoto/mlp-sweep/runs/e253wk4z</a>"
      ],
      "text/plain": [
       "<IPython.core.display.HTML object>"
      ]
     },
     "metadata": {},
     "output_type": "display_data"
    },
    {
     "data": {
      "text/html": [
       "Waiting for W&B process to finish... <strong style=\"color:green\">(success).</strong>"
      ],
      "text/plain": [
       "<IPython.core.display.HTML object>"
      ]
     },
     "metadata": {},
     "output_type": "display_data"
    },
    {
     "data": {
      "text/html": [
       "<style>\n",
       "    table.wandb td:nth-child(1) { padding: 0 10px; text-align: left ; width: auto;} td:nth-child(2) {text-align: left ; width: 100%}\n",
       "    .wandb-row { display: flex; flex-direction: row; flex-wrap: wrap; justify-content: flex-start; width: 100% }\n",
       "    .wandb-col { display: flex; flex-direction: column; flex-basis: 100%; flex: 1; padding: 10px; }\n",
       "    </style>\n",
       "<div class=\"wandb-row\"><div class=\"wandb-col\"><h3>Run history:</h3><br/><table class=\"wandb\"><tr><td>1extr</td><td>▁</td></tr><tr><td>2agre</td><td>▁</td></tr><tr><td>3cons</td><td>▁</td></tr><tr><td>4neur</td><td>▁</td></tr><tr><td>5open</td><td>▁</td></tr><tr><td>acc</td><td>▁</td></tr></table><br/></div><div class=\"wandb-col\"><h3>Run summary:</h3><br/><table class=\"wandb\"><tr><td>1extr</td><td>0.5</td></tr><tr><td>2agre</td><td>0.53846</td></tr><tr><td>3cons</td><td>0.38462</td></tr><tr><td>4neur</td><td>0.53846</td></tr><tr><td>5open</td><td>0.5</td></tr><tr><td>acc</td><td>0.49231</td></tr></table><br/></div></div>"
      ],
      "text/plain": [
       "<IPython.core.display.HTML object>"
      ]
     },
     "metadata": {},
     "output_type": "display_data"
    },
    {
     "data": {
      "text/html": [
       " View run <strong style=\"color:#cdcd00\">rich-sweep-41</strong> at: <a href='https://wandb.ai/r-yanagimoto/mlp-sweep/runs/e253wk4z' target=\"_blank\">https://wandb.ai/r-yanagimoto/mlp-sweep/runs/e253wk4z</a><br/>Synced 5 W&B file(s), 0 media file(s), 0 artifact file(s) and 0 other file(s)"
      ],
      "text/plain": [
       "<IPython.core.display.HTML object>"
      ]
     },
     "metadata": {},
     "output_type": "display_data"
    },
    {
     "data": {
      "text/html": [
       "Find logs at: <code>./wandb/run-20230214_003942-e253wk4z/logs</code>"
      ],
      "text/plain": [
       "<IPython.core.display.HTML object>"
      ]
     },
     "metadata": {},
     "output_type": "display_data"
    },
    {
     "name": "stderr",
     "output_type": "stream",
     "text": [
      "\u001b[34m\u001b[1mwandb\u001b[0m: Agent Starting Run: 1sz2t5sd with config:\n",
      "\u001b[34m\u001b[1mwandb\u001b[0m: \tactivation: relu\n",
      "\u001b[34m\u001b[1mwandb\u001b[0m: \talpha: 0.05\n",
      "\u001b[34m\u001b[1mwandb\u001b[0m: \thidden_layer_sizes: [256, 64]\n",
      "\u001b[34m\u001b[1mwandb\u001b[0m: \tlearning_rate: constant\n",
      "\u001b[34m\u001b[1mwandb\u001b[0m: \tsolver: adam\n",
      "Failed to detect the name of this notebook, you can set it manually with the WANDB_NOTEBOOK_NAME environment variable to enable code saving.\n"
     ]
    },
    {
     "data": {
      "text/html": [
       "Tracking run with wandb version 0.13.10"
      ],
      "text/plain": [
       "<IPython.core.display.HTML object>"
      ]
     },
     "metadata": {},
     "output_type": "display_data"
    },
    {
     "data": {
      "text/html": [
       "Run data is saved locally in <code>/home/ryoyanagimoto/persona/src/wandb/run-20230214_004713-1sz2t5sd</code>"
      ],
      "text/plain": [
       "<IPython.core.display.HTML object>"
      ]
     },
     "metadata": {},
     "output_type": "display_data"
    },
    {
     "data": {
      "text/html": [
       "Syncing run <strong><a href='https://wandb.ai/r-yanagimoto/mlp-sweep/runs/1sz2t5sd' target=\"_blank\">curious-sweep-42</a></strong> to <a href='https://wandb.ai/r-yanagimoto/mlp-sweep' target=\"_blank\">Weights & Biases</a> (<a href='https://wandb.me/run' target=\"_blank\">docs</a>)<br/>Sweep page: <a href='https://wandb.ai/r-yanagimoto/mlp-sweep/sweeps/r73z8z2k' target=\"_blank\">https://wandb.ai/r-yanagimoto/mlp-sweep/sweeps/r73z8z2k</a>"
      ],
      "text/plain": [
       "<IPython.core.display.HTML object>"
      ]
     },
     "metadata": {},
     "output_type": "display_data"
    },
    {
     "data": {
      "text/html": [
       " View project at <a href='https://wandb.ai/r-yanagimoto/mlp-sweep' target=\"_blank\">https://wandb.ai/r-yanagimoto/mlp-sweep</a>"
      ],
      "text/plain": [
       "<IPython.core.display.HTML object>"
      ]
     },
     "metadata": {},
     "output_type": "display_data"
    },
    {
     "data": {
      "text/html": [
       " View sweep at <a href='https://wandb.ai/r-yanagimoto/mlp-sweep/sweeps/r73z8z2k' target=\"_blank\">https://wandb.ai/r-yanagimoto/mlp-sweep/sweeps/r73z8z2k</a>"
      ],
      "text/plain": [
       "<IPython.core.display.HTML object>"
      ]
     },
     "metadata": {},
     "output_type": "display_data"
    },
    {
     "data": {
      "text/html": [
       " View run at <a href='https://wandb.ai/r-yanagimoto/mlp-sweep/runs/1sz2t5sd' target=\"_blank\">https://wandb.ai/r-yanagimoto/mlp-sweep/runs/1sz2t5sd</a>"
      ],
      "text/plain": [
       "<IPython.core.display.HTML object>"
      ]
     },
     "metadata": {},
     "output_type": "display_data"
    },
    {
     "data": {
      "text/html": [
       "Waiting for W&B process to finish... <strong style=\"color:green\">(success).</strong>"
      ],
      "text/plain": [
       "<IPython.core.display.HTML object>"
      ]
     },
     "metadata": {},
     "output_type": "display_data"
    },
    {
     "data": {
      "text/html": [
       "<style>\n",
       "    table.wandb td:nth-child(1) { padding: 0 10px; text-align: left ; width: auto;} td:nth-child(2) {text-align: left ; width: 100%}\n",
       "    .wandb-row { display: flex; flex-direction: row; flex-wrap: wrap; justify-content: flex-start; width: 100% }\n",
       "    .wandb-col { display: flex; flex-direction: column; flex-basis: 100%; flex: 1; padding: 10px; }\n",
       "    </style>\n",
       "<div class=\"wandb-row\"><div class=\"wandb-col\"><h3>Run history:</h3><br/><table class=\"wandb\"><tr><td>1extr</td><td>▁</td></tr><tr><td>2agre</td><td>▁</td></tr><tr><td>3cons</td><td>▁</td></tr><tr><td>4neur</td><td>▁</td></tr><tr><td>5open</td><td>▁</td></tr><tr><td>acc</td><td>▁</td></tr></table><br/></div><div class=\"wandb-col\"><h3>Run summary:</h3><br/><table class=\"wandb\"><tr><td>1extr</td><td>0.42308</td></tr><tr><td>2agre</td><td>0.61538</td></tr><tr><td>3cons</td><td>0.42308</td></tr><tr><td>4neur</td><td>0.57692</td></tr><tr><td>5open</td><td>0.5</td></tr><tr><td>acc</td><td>0.50769</td></tr></table><br/></div></div>"
      ],
      "text/plain": [
       "<IPython.core.display.HTML object>"
      ]
     },
     "metadata": {},
     "output_type": "display_data"
    },
    {
     "data": {
      "text/html": [
       " View run <strong style=\"color:#cdcd00\">curious-sweep-42</strong> at: <a href='https://wandb.ai/r-yanagimoto/mlp-sweep/runs/1sz2t5sd' target=\"_blank\">https://wandb.ai/r-yanagimoto/mlp-sweep/runs/1sz2t5sd</a><br/>Synced 5 W&B file(s), 0 media file(s), 0 artifact file(s) and 0 other file(s)"
      ],
      "text/plain": [
       "<IPython.core.display.HTML object>"
      ]
     },
     "metadata": {},
     "output_type": "display_data"
    },
    {
     "data": {
      "text/html": [
       "Find logs at: <code>./wandb/run-20230214_004713-1sz2t5sd/logs</code>"
      ],
      "text/plain": [
       "<IPython.core.display.HTML object>"
      ]
     },
     "metadata": {},
     "output_type": "display_data"
    },
    {
     "name": "stderr",
     "output_type": "stream",
     "text": [
      "\u001b[34m\u001b[1mwandb\u001b[0m: Agent Starting Run: bs7czg6k with config:\n",
      "\u001b[34m\u001b[1mwandb\u001b[0m: \tactivation: relu\n",
      "\u001b[34m\u001b[1mwandb\u001b[0m: \talpha: 0.05\n",
      "\u001b[34m\u001b[1mwandb\u001b[0m: \thidden_layer_sizes: [256, 64]\n",
      "\u001b[34m\u001b[1mwandb\u001b[0m: \tlearning_rate: adaptive\n",
      "\u001b[34m\u001b[1mwandb\u001b[0m: \tsolver: sgd\n",
      "Failed to detect the name of this notebook, you can set it manually with the WANDB_NOTEBOOK_NAME environment variable to enable code saving.\n"
     ]
    },
    {
     "data": {
      "text/html": [
       "Tracking run with wandb version 0.13.10"
      ],
      "text/plain": [
       "<IPython.core.display.HTML object>"
      ]
     },
     "metadata": {},
     "output_type": "display_data"
    },
    {
     "data": {
      "text/html": [
       "Run data is saved locally in <code>/home/ryoyanagimoto/persona/src/wandb/run-20230214_005436-bs7czg6k</code>"
      ],
      "text/plain": [
       "<IPython.core.display.HTML object>"
      ]
     },
     "metadata": {},
     "output_type": "display_data"
    },
    {
     "data": {
      "text/html": [
       "Syncing run <strong><a href='https://wandb.ai/r-yanagimoto/mlp-sweep/runs/bs7czg6k' target=\"_blank\">amber-sweep-43</a></strong> to <a href='https://wandb.ai/r-yanagimoto/mlp-sweep' target=\"_blank\">Weights & Biases</a> (<a href='https://wandb.me/run' target=\"_blank\">docs</a>)<br/>Sweep page: <a href='https://wandb.ai/r-yanagimoto/mlp-sweep/sweeps/r73z8z2k' target=\"_blank\">https://wandb.ai/r-yanagimoto/mlp-sweep/sweeps/r73z8z2k</a>"
      ],
      "text/plain": [
       "<IPython.core.display.HTML object>"
      ]
     },
     "metadata": {},
     "output_type": "display_data"
    },
    {
     "data": {
      "text/html": [
       " View project at <a href='https://wandb.ai/r-yanagimoto/mlp-sweep' target=\"_blank\">https://wandb.ai/r-yanagimoto/mlp-sweep</a>"
      ],
      "text/plain": [
       "<IPython.core.display.HTML object>"
      ]
     },
     "metadata": {},
     "output_type": "display_data"
    },
    {
     "data": {
      "text/html": [
       " View sweep at <a href='https://wandb.ai/r-yanagimoto/mlp-sweep/sweeps/r73z8z2k' target=\"_blank\">https://wandb.ai/r-yanagimoto/mlp-sweep/sweeps/r73z8z2k</a>"
      ],
      "text/plain": [
       "<IPython.core.display.HTML object>"
      ]
     },
     "metadata": {},
     "output_type": "display_data"
    },
    {
     "data": {
      "text/html": [
       " View run at <a href='https://wandb.ai/r-yanagimoto/mlp-sweep/runs/bs7czg6k' target=\"_blank\">https://wandb.ai/r-yanagimoto/mlp-sweep/runs/bs7czg6k</a>"
      ],
      "text/plain": [
       "<IPython.core.display.HTML object>"
      ]
     },
     "metadata": {},
     "output_type": "display_data"
    },
    {
     "data": {
      "text/html": [
       "Waiting for W&B process to finish... <strong style=\"color:green\">(success).</strong>"
      ],
      "text/plain": [
       "<IPython.core.display.HTML object>"
      ]
     },
     "metadata": {},
     "output_type": "display_data"
    },
    {
     "data": {
      "text/html": [
       "<style>\n",
       "    table.wandb td:nth-child(1) { padding: 0 10px; text-align: left ; width: auto;} td:nth-child(2) {text-align: left ; width: 100%}\n",
       "    .wandb-row { display: flex; flex-direction: row; flex-wrap: wrap; justify-content: flex-start; width: 100% }\n",
       "    .wandb-col { display: flex; flex-direction: column; flex-basis: 100%; flex: 1; padding: 10px; }\n",
       "    </style>\n",
       "<div class=\"wandb-row\"><div class=\"wandb-col\"><h3>Run history:</h3><br/><table class=\"wandb\"><tr><td>1extr</td><td>▁</td></tr><tr><td>2agre</td><td>▁</td></tr><tr><td>3cons</td><td>▁</td></tr><tr><td>4neur</td><td>▁</td></tr><tr><td>5open</td><td>▁</td></tr><tr><td>acc</td><td>▁</td></tr></table><br/></div><div class=\"wandb-col\"><h3>Run summary:</h3><br/><table class=\"wandb\"><tr><td>1extr</td><td>0.61538</td></tr><tr><td>2agre</td><td>0.57692</td></tr><tr><td>3cons</td><td>0.5</td></tr><tr><td>4neur</td><td>0.53846</td></tr><tr><td>5open</td><td>0.65385</td></tr><tr><td>acc</td><td>0.57692</td></tr></table><br/></div></div>"
      ],
      "text/plain": [
       "<IPython.core.display.HTML object>"
      ]
     },
     "metadata": {},
     "output_type": "display_data"
    },
    {
     "data": {
      "text/html": [
       " View run <strong style=\"color:#cdcd00\">amber-sweep-43</strong> at: <a href='https://wandb.ai/r-yanagimoto/mlp-sweep/runs/bs7czg6k' target=\"_blank\">https://wandb.ai/r-yanagimoto/mlp-sweep/runs/bs7czg6k</a><br/>Synced 5 W&B file(s), 0 media file(s), 0 artifact file(s) and 0 other file(s)"
      ],
      "text/plain": [
       "<IPython.core.display.HTML object>"
      ]
     },
     "metadata": {},
     "output_type": "display_data"
    },
    {
     "data": {
      "text/html": [
       "Find logs at: <code>./wandb/run-20230214_005436-bs7czg6k/logs</code>"
      ],
      "text/plain": [
       "<IPython.core.display.HTML object>"
      ]
     },
     "metadata": {},
     "output_type": "display_data"
    },
    {
     "name": "stderr",
     "output_type": "stream",
     "text": [
      "\u001b[34m\u001b[1mwandb\u001b[0m: Agent Starting Run: d7hyzeax with config:\n",
      "\u001b[34m\u001b[1mwandb\u001b[0m: \tactivation: relu\n",
      "\u001b[34m\u001b[1mwandb\u001b[0m: \talpha: 0.05\n",
      "\u001b[34m\u001b[1mwandb\u001b[0m: \thidden_layer_sizes: [256, 64]\n",
      "\u001b[34m\u001b[1mwandb\u001b[0m: \tlearning_rate: adaptive\n",
      "\u001b[34m\u001b[1mwandb\u001b[0m: \tsolver: adam\n",
      "Failed to detect the name of this notebook, you can set it manually with the WANDB_NOTEBOOK_NAME environment variable to enable code saving.\n"
     ]
    },
    {
     "data": {
      "text/html": [
       "Tracking run with wandb version 0.13.10"
      ],
      "text/plain": [
       "<IPython.core.display.HTML object>"
      ]
     },
     "metadata": {},
     "output_type": "display_data"
    },
    {
     "data": {
      "text/html": [
       "Run data is saved locally in <code>/home/ryoyanagimoto/persona/src/wandb/run-20230214_010800-d7hyzeax</code>"
      ],
      "text/plain": [
       "<IPython.core.display.HTML object>"
      ]
     },
     "metadata": {},
     "output_type": "display_data"
    },
    {
     "data": {
      "text/html": [
       "Syncing run <strong><a href='https://wandb.ai/r-yanagimoto/mlp-sweep/runs/d7hyzeax' target=\"_blank\">soft-sweep-44</a></strong> to <a href='https://wandb.ai/r-yanagimoto/mlp-sweep' target=\"_blank\">Weights & Biases</a> (<a href='https://wandb.me/run' target=\"_blank\">docs</a>)<br/>Sweep page: <a href='https://wandb.ai/r-yanagimoto/mlp-sweep/sweeps/r73z8z2k' target=\"_blank\">https://wandb.ai/r-yanagimoto/mlp-sweep/sweeps/r73z8z2k</a>"
      ],
      "text/plain": [
       "<IPython.core.display.HTML object>"
      ]
     },
     "metadata": {},
     "output_type": "display_data"
    },
    {
     "data": {
      "text/html": [
       " View project at <a href='https://wandb.ai/r-yanagimoto/mlp-sweep' target=\"_blank\">https://wandb.ai/r-yanagimoto/mlp-sweep</a>"
      ],
      "text/plain": [
       "<IPython.core.display.HTML object>"
      ]
     },
     "metadata": {},
     "output_type": "display_data"
    },
    {
     "data": {
      "text/html": [
       " View sweep at <a href='https://wandb.ai/r-yanagimoto/mlp-sweep/sweeps/r73z8z2k' target=\"_blank\">https://wandb.ai/r-yanagimoto/mlp-sweep/sweeps/r73z8z2k</a>"
      ],
      "text/plain": [
       "<IPython.core.display.HTML object>"
      ]
     },
     "metadata": {},
     "output_type": "display_data"
    },
    {
     "data": {
      "text/html": [
       " View run at <a href='https://wandb.ai/r-yanagimoto/mlp-sweep/runs/d7hyzeax' target=\"_blank\">https://wandb.ai/r-yanagimoto/mlp-sweep/runs/d7hyzeax</a>"
      ],
      "text/plain": [
       "<IPython.core.display.HTML object>"
      ]
     },
     "metadata": {},
     "output_type": "display_data"
    },
    {
     "data": {
      "text/html": [
       "Waiting for W&B process to finish... <strong style=\"color:green\">(success).</strong>"
      ],
      "text/plain": [
       "<IPython.core.display.HTML object>"
      ]
     },
     "metadata": {},
     "output_type": "display_data"
    },
    {
     "data": {
      "text/html": [
       "<style>\n",
       "    table.wandb td:nth-child(1) { padding: 0 10px; text-align: left ; width: auto;} td:nth-child(2) {text-align: left ; width: 100%}\n",
       "    .wandb-row { display: flex; flex-direction: row; flex-wrap: wrap; justify-content: flex-start; width: 100% }\n",
       "    .wandb-col { display: flex; flex-direction: column; flex-basis: 100%; flex: 1; padding: 10px; }\n",
       "    </style>\n",
       "<div class=\"wandb-row\"><div class=\"wandb-col\"><h3>Run history:</h3><br/><table class=\"wandb\"><tr><td>1extr</td><td>▁</td></tr><tr><td>2agre</td><td>▁</td></tr><tr><td>3cons</td><td>▁</td></tr><tr><td>4neur</td><td>▁</td></tr><tr><td>5open</td><td>▁</td></tr><tr><td>acc</td><td>▁</td></tr></table><br/></div><div class=\"wandb-col\"><h3>Run summary:</h3><br/><table class=\"wandb\"><tr><td>1extr</td><td>0.46154</td></tr><tr><td>2agre</td><td>0.57692</td></tr><tr><td>3cons</td><td>0.42308</td></tr><tr><td>4neur</td><td>0.53846</td></tr><tr><td>5open</td><td>0.42308</td></tr><tr><td>acc</td><td>0.48462</td></tr></table><br/></div></div>"
      ],
      "text/plain": [
       "<IPython.core.display.HTML object>"
      ]
     },
     "metadata": {},
     "output_type": "display_data"
    },
    {
     "data": {
      "text/html": [
       " View run <strong style=\"color:#cdcd00\">soft-sweep-44</strong> at: <a href='https://wandb.ai/r-yanagimoto/mlp-sweep/runs/d7hyzeax' target=\"_blank\">https://wandb.ai/r-yanagimoto/mlp-sweep/runs/d7hyzeax</a><br/>Synced 5 W&B file(s), 0 media file(s), 0 artifact file(s) and 0 other file(s)"
      ],
      "text/plain": [
       "<IPython.core.display.HTML object>"
      ]
     },
     "metadata": {},
     "output_type": "display_data"
    },
    {
     "data": {
      "text/html": [
       "Find logs at: <code>./wandb/run-20230214_010800-d7hyzeax/logs</code>"
      ],
      "text/plain": [
       "<IPython.core.display.HTML object>"
      ]
     },
     "metadata": {},
     "output_type": "display_data"
    },
    {
     "name": "stderr",
     "output_type": "stream",
     "text": [
      "\u001b[34m\u001b[1mwandb\u001b[0m: Agent Starting Run: 50c7laxm with config:\n",
      "\u001b[34m\u001b[1mwandb\u001b[0m: \tactivation: relu\n",
      "\u001b[34m\u001b[1mwandb\u001b[0m: \talpha: 0.05\n",
      "\u001b[34m\u001b[1mwandb\u001b[0m: \thidden_layer_sizes: [512]\n",
      "\u001b[34m\u001b[1mwandb\u001b[0m: \tlearning_rate: constant\n",
      "\u001b[34m\u001b[1mwandb\u001b[0m: \tsolver: sgd\n",
      "Failed to detect the name of this notebook, you can set it manually with the WANDB_NOTEBOOK_NAME environment variable to enable code saving.\n"
     ]
    },
    {
     "data": {
      "text/html": [
       "Tracking run with wandb version 0.13.10"
      ],
      "text/plain": [
       "<IPython.core.display.HTML object>"
      ]
     },
     "metadata": {},
     "output_type": "display_data"
    },
    {
     "data": {
      "text/html": [
       "Run data is saved locally in <code>/home/ryoyanagimoto/persona/src/wandb/run-20230214_011514-50c7laxm</code>"
      ],
      "text/plain": [
       "<IPython.core.display.HTML object>"
      ]
     },
     "metadata": {},
     "output_type": "display_data"
    },
    {
     "data": {
      "text/html": [
       "Syncing run <strong><a href='https://wandb.ai/r-yanagimoto/mlp-sweep/runs/50c7laxm' target=\"_blank\">polished-sweep-45</a></strong> to <a href='https://wandb.ai/r-yanagimoto/mlp-sweep' target=\"_blank\">Weights & Biases</a> (<a href='https://wandb.me/run' target=\"_blank\">docs</a>)<br/>Sweep page: <a href='https://wandb.ai/r-yanagimoto/mlp-sweep/sweeps/r73z8z2k' target=\"_blank\">https://wandb.ai/r-yanagimoto/mlp-sweep/sweeps/r73z8z2k</a>"
      ],
      "text/plain": [
       "<IPython.core.display.HTML object>"
      ]
     },
     "metadata": {},
     "output_type": "display_data"
    },
    {
     "data": {
      "text/html": [
       " View project at <a href='https://wandb.ai/r-yanagimoto/mlp-sweep' target=\"_blank\">https://wandb.ai/r-yanagimoto/mlp-sweep</a>"
      ],
      "text/plain": [
       "<IPython.core.display.HTML object>"
      ]
     },
     "metadata": {},
     "output_type": "display_data"
    },
    {
     "data": {
      "text/html": [
       " View sweep at <a href='https://wandb.ai/r-yanagimoto/mlp-sweep/sweeps/r73z8z2k' target=\"_blank\">https://wandb.ai/r-yanagimoto/mlp-sweep/sweeps/r73z8z2k</a>"
      ],
      "text/plain": [
       "<IPython.core.display.HTML object>"
      ]
     },
     "metadata": {},
     "output_type": "display_data"
    },
    {
     "data": {
      "text/html": [
       " View run at <a href='https://wandb.ai/r-yanagimoto/mlp-sweep/runs/50c7laxm' target=\"_blank\">https://wandb.ai/r-yanagimoto/mlp-sweep/runs/50c7laxm</a>"
      ],
      "text/plain": [
       "<IPython.core.display.HTML object>"
      ]
     },
     "metadata": {},
     "output_type": "display_data"
    },
    {
     "data": {
      "text/html": [
       "Waiting for W&B process to finish... <strong style=\"color:green\">(success).</strong>"
      ],
      "text/plain": [
       "<IPython.core.display.HTML object>"
      ]
     },
     "metadata": {},
     "output_type": "display_data"
    },
    {
     "data": {
      "text/html": [
       "<style>\n",
       "    table.wandb td:nth-child(1) { padding: 0 10px; text-align: left ; width: auto;} td:nth-child(2) {text-align: left ; width: 100%}\n",
       "    .wandb-row { display: flex; flex-direction: row; flex-wrap: wrap; justify-content: flex-start; width: 100% }\n",
       "    .wandb-col { display: flex; flex-direction: column; flex-basis: 100%; flex: 1; padding: 10px; }\n",
       "    </style>\n",
       "<div class=\"wandb-row\"><div class=\"wandb-col\"><h3>Run history:</h3><br/><table class=\"wandb\"><tr><td>1extr</td><td>▁</td></tr><tr><td>2agre</td><td>▁</td></tr><tr><td>3cons</td><td>▁</td></tr><tr><td>4neur</td><td>▁</td></tr><tr><td>5open</td><td>▁</td></tr><tr><td>acc</td><td>▁</td></tr></table><br/></div><div class=\"wandb-col\"><h3>Run summary:</h3><br/><table class=\"wandb\"><tr><td>1extr</td><td>0.53846</td></tr><tr><td>2agre</td><td>0.5</td></tr><tr><td>3cons</td><td>0.53846</td></tr><tr><td>4neur</td><td>0.61538</td></tr><tr><td>5open</td><td>0.5</td></tr><tr><td>acc</td><td>0.53846</td></tr></table><br/></div></div>"
      ],
      "text/plain": [
       "<IPython.core.display.HTML object>"
      ]
     },
     "metadata": {},
     "output_type": "display_data"
    },
    {
     "data": {
      "text/html": [
       " View run <strong style=\"color:#cdcd00\">polished-sweep-45</strong> at: <a href='https://wandb.ai/r-yanagimoto/mlp-sweep/runs/50c7laxm' target=\"_blank\">https://wandb.ai/r-yanagimoto/mlp-sweep/runs/50c7laxm</a><br/>Synced 5 W&B file(s), 0 media file(s), 0 artifact file(s) and 0 other file(s)"
      ],
      "text/plain": [
       "<IPython.core.display.HTML object>"
      ]
     },
     "metadata": {},
     "output_type": "display_data"
    },
    {
     "data": {
      "text/html": [
       "Find logs at: <code>./wandb/run-20230214_011514-50c7laxm/logs</code>"
      ],
      "text/plain": [
       "<IPython.core.display.HTML object>"
      ]
     },
     "metadata": {},
     "output_type": "display_data"
    },
    {
     "name": "stderr",
     "output_type": "stream",
     "text": [
      "\u001b[34m\u001b[1mwandb\u001b[0m: Agent Starting Run: z5u0hkea with config:\n",
      "\u001b[34m\u001b[1mwandb\u001b[0m: \tactivation: relu\n",
      "\u001b[34m\u001b[1mwandb\u001b[0m: \talpha: 0.05\n",
      "\u001b[34m\u001b[1mwandb\u001b[0m: \thidden_layer_sizes: [512]\n",
      "\u001b[34m\u001b[1mwandb\u001b[0m: \tlearning_rate: constant\n",
      "\u001b[34m\u001b[1mwandb\u001b[0m: \tsolver: adam\n",
      "Failed to detect the name of this notebook, you can set it manually with the WANDB_NOTEBOOK_NAME environment variable to enable code saving.\n"
     ]
    },
    {
     "data": {
      "text/html": [
       "Tracking run with wandb version 0.13.10"
      ],
      "text/plain": [
       "<IPython.core.display.HTML object>"
      ]
     },
     "metadata": {},
     "output_type": "display_data"
    },
    {
     "data": {
      "text/html": [
       "Run data is saved locally in <code>/home/ryoyanagimoto/persona/src/wandb/run-20230214_012523-z5u0hkea</code>"
      ],
      "text/plain": [
       "<IPython.core.display.HTML object>"
      ]
     },
     "metadata": {},
     "output_type": "display_data"
    },
    {
     "data": {
      "text/html": [
       "Syncing run <strong><a href='https://wandb.ai/r-yanagimoto/mlp-sweep/runs/z5u0hkea' target=\"_blank\">noble-sweep-46</a></strong> to <a href='https://wandb.ai/r-yanagimoto/mlp-sweep' target=\"_blank\">Weights & Biases</a> (<a href='https://wandb.me/run' target=\"_blank\">docs</a>)<br/>Sweep page: <a href='https://wandb.ai/r-yanagimoto/mlp-sweep/sweeps/r73z8z2k' target=\"_blank\">https://wandb.ai/r-yanagimoto/mlp-sweep/sweeps/r73z8z2k</a>"
      ],
      "text/plain": [
       "<IPython.core.display.HTML object>"
      ]
     },
     "metadata": {},
     "output_type": "display_data"
    },
    {
     "data": {
      "text/html": [
       " View project at <a href='https://wandb.ai/r-yanagimoto/mlp-sweep' target=\"_blank\">https://wandb.ai/r-yanagimoto/mlp-sweep</a>"
      ],
      "text/plain": [
       "<IPython.core.display.HTML object>"
      ]
     },
     "metadata": {},
     "output_type": "display_data"
    },
    {
     "data": {
      "text/html": [
       " View sweep at <a href='https://wandb.ai/r-yanagimoto/mlp-sweep/sweeps/r73z8z2k' target=\"_blank\">https://wandb.ai/r-yanagimoto/mlp-sweep/sweeps/r73z8z2k</a>"
      ],
      "text/plain": [
       "<IPython.core.display.HTML object>"
      ]
     },
     "metadata": {},
     "output_type": "display_data"
    },
    {
     "data": {
      "text/html": [
       " View run at <a href='https://wandb.ai/r-yanagimoto/mlp-sweep/runs/z5u0hkea' target=\"_blank\">https://wandb.ai/r-yanagimoto/mlp-sweep/runs/z5u0hkea</a>"
      ],
      "text/plain": [
       "<IPython.core.display.HTML object>"
      ]
     },
     "metadata": {},
     "output_type": "display_data"
    },
    {
     "data": {
      "text/html": [
       "Waiting for W&B process to finish... <strong style=\"color:green\">(success).</strong>"
      ],
      "text/plain": [
       "<IPython.core.display.HTML object>"
      ]
     },
     "metadata": {},
     "output_type": "display_data"
    },
    {
     "data": {
      "text/html": [
       "<style>\n",
       "    table.wandb td:nth-child(1) { padding: 0 10px; text-align: left ; width: auto;} td:nth-child(2) {text-align: left ; width: 100%}\n",
       "    .wandb-row { display: flex; flex-direction: row; flex-wrap: wrap; justify-content: flex-start; width: 100% }\n",
       "    .wandb-col { display: flex; flex-direction: column; flex-basis: 100%; flex: 1; padding: 10px; }\n",
       "    </style>\n",
       "<div class=\"wandb-row\"><div class=\"wandb-col\"><h3>Run history:</h3><br/><table class=\"wandb\"><tr><td>1extr</td><td>▁</td></tr><tr><td>2agre</td><td>▁</td></tr><tr><td>3cons</td><td>▁</td></tr><tr><td>4neur</td><td>▁</td></tr><tr><td>5open</td><td>▁</td></tr><tr><td>acc</td><td>▁</td></tr></table><br/></div><div class=\"wandb-col\"><h3>Run summary:</h3><br/><table class=\"wandb\"><tr><td>1extr</td><td>0.5</td></tr><tr><td>2agre</td><td>0.53846</td></tr><tr><td>3cons</td><td>0.46154</td></tr><tr><td>4neur</td><td>0.53846</td></tr><tr><td>5open</td><td>0.38462</td></tr><tr><td>acc</td><td>0.48462</td></tr></table><br/></div></div>"
      ],
      "text/plain": [
       "<IPython.core.display.HTML object>"
      ]
     },
     "metadata": {},
     "output_type": "display_data"
    },
    {
     "data": {
      "text/html": [
       " View run <strong style=\"color:#cdcd00\">noble-sweep-46</strong> at: <a href='https://wandb.ai/r-yanagimoto/mlp-sweep/runs/z5u0hkea' target=\"_blank\">https://wandb.ai/r-yanagimoto/mlp-sweep/runs/z5u0hkea</a><br/>Synced 5 W&B file(s), 0 media file(s), 0 artifact file(s) and 0 other file(s)"
      ],
      "text/plain": [
       "<IPython.core.display.HTML object>"
      ]
     },
     "metadata": {},
     "output_type": "display_data"
    },
    {
     "data": {
      "text/html": [
       "Find logs at: <code>./wandb/run-20230214_012523-z5u0hkea/logs</code>"
      ],
      "text/plain": [
       "<IPython.core.display.HTML object>"
      ]
     },
     "metadata": {},
     "output_type": "display_data"
    },
    {
     "name": "stderr",
     "output_type": "stream",
     "text": [
      "\u001b[34m\u001b[1mwandb\u001b[0m: Agent Starting Run: t0fzx9d2 with config:\n",
      "\u001b[34m\u001b[1mwandb\u001b[0m: \tactivation: relu\n",
      "\u001b[34m\u001b[1mwandb\u001b[0m: \talpha: 0.05\n",
      "\u001b[34m\u001b[1mwandb\u001b[0m: \thidden_layer_sizes: [512]\n",
      "\u001b[34m\u001b[1mwandb\u001b[0m: \tlearning_rate: adaptive\n",
      "\u001b[34m\u001b[1mwandb\u001b[0m: \tsolver: sgd\n",
      "Failed to detect the name of this notebook, you can set it manually with the WANDB_NOTEBOOK_NAME environment variable to enable code saving.\n"
     ]
    },
    {
     "data": {
      "text/html": [
       "Tracking run with wandb version 0.13.10"
      ],
      "text/plain": [
       "<IPython.core.display.HTML object>"
      ]
     },
     "metadata": {},
     "output_type": "display_data"
    },
    {
     "data": {
      "text/html": [
       "Run data is saved locally in <code>/home/ryoyanagimoto/persona/src/wandb/run-20230214_013727-t0fzx9d2</code>"
      ],
      "text/plain": [
       "<IPython.core.display.HTML object>"
      ]
     },
     "metadata": {},
     "output_type": "display_data"
    },
    {
     "data": {
      "text/html": [
       "Syncing run <strong><a href='https://wandb.ai/r-yanagimoto/mlp-sweep/runs/t0fzx9d2' target=\"_blank\">efficient-sweep-47</a></strong> to <a href='https://wandb.ai/r-yanagimoto/mlp-sweep' target=\"_blank\">Weights & Biases</a> (<a href='https://wandb.me/run' target=\"_blank\">docs</a>)<br/>Sweep page: <a href='https://wandb.ai/r-yanagimoto/mlp-sweep/sweeps/r73z8z2k' target=\"_blank\">https://wandb.ai/r-yanagimoto/mlp-sweep/sweeps/r73z8z2k</a>"
      ],
      "text/plain": [
       "<IPython.core.display.HTML object>"
      ]
     },
     "metadata": {},
     "output_type": "display_data"
    },
    {
     "data": {
      "text/html": [
       " View project at <a href='https://wandb.ai/r-yanagimoto/mlp-sweep' target=\"_blank\">https://wandb.ai/r-yanagimoto/mlp-sweep</a>"
      ],
      "text/plain": [
       "<IPython.core.display.HTML object>"
      ]
     },
     "metadata": {},
     "output_type": "display_data"
    },
    {
     "data": {
      "text/html": [
       " View sweep at <a href='https://wandb.ai/r-yanagimoto/mlp-sweep/sweeps/r73z8z2k' target=\"_blank\">https://wandb.ai/r-yanagimoto/mlp-sweep/sweeps/r73z8z2k</a>"
      ],
      "text/plain": [
       "<IPython.core.display.HTML object>"
      ]
     },
     "metadata": {},
     "output_type": "display_data"
    },
    {
     "data": {
      "text/html": [
       " View run at <a href='https://wandb.ai/r-yanagimoto/mlp-sweep/runs/t0fzx9d2' target=\"_blank\">https://wandb.ai/r-yanagimoto/mlp-sweep/runs/t0fzx9d2</a>"
      ],
      "text/plain": [
       "<IPython.core.display.HTML object>"
      ]
     },
     "metadata": {},
     "output_type": "display_data"
    },
    {
     "data": {
      "text/html": [
       "Waiting for W&B process to finish... <strong style=\"color:green\">(success).</strong>"
      ],
      "text/plain": [
       "<IPython.core.display.HTML object>"
      ]
     },
     "metadata": {},
     "output_type": "display_data"
    },
    {
     "data": {
      "text/html": [
       "<style>\n",
       "    table.wandb td:nth-child(1) { padding: 0 10px; text-align: left ; width: auto;} td:nth-child(2) {text-align: left ; width: 100%}\n",
       "    .wandb-row { display: flex; flex-direction: row; flex-wrap: wrap; justify-content: flex-start; width: 100% }\n",
       "    .wandb-col { display: flex; flex-direction: column; flex-basis: 100%; flex: 1; padding: 10px; }\n",
       "    </style>\n",
       "<div class=\"wandb-row\"><div class=\"wandb-col\"><h3>Run history:</h3><br/><table class=\"wandb\"><tr><td>1extr</td><td>▁</td></tr><tr><td>2agre</td><td>▁</td></tr><tr><td>3cons</td><td>▁</td></tr><tr><td>4neur</td><td>▁</td></tr><tr><td>5open</td><td>▁</td></tr><tr><td>acc</td><td>▁</td></tr></table><br/></div><div class=\"wandb-col\"><h3>Run summary:</h3><br/><table class=\"wandb\"><tr><td>1extr</td><td>0.57692</td></tr><tr><td>2agre</td><td>0.53846</td></tr><tr><td>3cons</td><td>0.53846</td></tr><tr><td>4neur</td><td>0.53846</td></tr><tr><td>5open</td><td>0.53846</td></tr><tr><td>acc</td><td>0.54615</td></tr></table><br/></div></div>"
      ],
      "text/plain": [
       "<IPython.core.display.HTML object>"
      ]
     },
     "metadata": {},
     "output_type": "display_data"
    },
    {
     "data": {
      "text/html": [
       " View run <strong style=\"color:#cdcd00\">efficient-sweep-47</strong> at: <a href='https://wandb.ai/r-yanagimoto/mlp-sweep/runs/t0fzx9d2' target=\"_blank\">https://wandb.ai/r-yanagimoto/mlp-sweep/runs/t0fzx9d2</a><br/>Synced 5 W&B file(s), 0 media file(s), 0 artifact file(s) and 0 other file(s)"
      ],
      "text/plain": [
       "<IPython.core.display.HTML object>"
      ]
     },
     "metadata": {},
     "output_type": "display_data"
    },
    {
     "data": {
      "text/html": [
       "Find logs at: <code>./wandb/run-20230214_013727-t0fzx9d2/logs</code>"
      ],
      "text/plain": [
       "<IPython.core.display.HTML object>"
      ]
     },
     "metadata": {},
     "output_type": "display_data"
    },
    {
     "name": "stderr",
     "output_type": "stream",
     "text": [
      "\u001b[34m\u001b[1mwandb\u001b[0m: Agent Starting Run: rx1l3thc with config:\n",
      "\u001b[34m\u001b[1mwandb\u001b[0m: \tactivation: relu\n",
      "\u001b[34m\u001b[1mwandb\u001b[0m: \talpha: 0.05\n",
      "\u001b[34m\u001b[1mwandb\u001b[0m: \thidden_layer_sizes: [512]\n",
      "\u001b[34m\u001b[1mwandb\u001b[0m: \tlearning_rate: adaptive\n",
      "\u001b[34m\u001b[1mwandb\u001b[0m: \tsolver: adam\n",
      "Failed to detect the name of this notebook, you can set it manually with the WANDB_NOTEBOOK_NAME environment variable to enable code saving.\n"
     ]
    },
    {
     "data": {
      "text/html": [
       "Tracking run with wandb version 0.13.10"
      ],
      "text/plain": [
       "<IPython.core.display.HTML object>"
      ]
     },
     "metadata": {},
     "output_type": "display_data"
    },
    {
     "data": {
      "text/html": [
       "Run data is saved locally in <code>/home/ryoyanagimoto/persona/src/wandb/run-20230214_015757-rx1l3thc</code>"
      ],
      "text/plain": [
       "<IPython.core.display.HTML object>"
      ]
     },
     "metadata": {},
     "output_type": "display_data"
    },
    {
     "data": {
      "text/html": [
       "Syncing run <strong><a href='https://wandb.ai/r-yanagimoto/mlp-sweep/runs/rx1l3thc' target=\"_blank\">glowing-sweep-48</a></strong> to <a href='https://wandb.ai/r-yanagimoto/mlp-sweep' target=\"_blank\">Weights & Biases</a> (<a href='https://wandb.me/run' target=\"_blank\">docs</a>)<br/>Sweep page: <a href='https://wandb.ai/r-yanagimoto/mlp-sweep/sweeps/r73z8z2k' target=\"_blank\">https://wandb.ai/r-yanagimoto/mlp-sweep/sweeps/r73z8z2k</a>"
      ],
      "text/plain": [
       "<IPython.core.display.HTML object>"
      ]
     },
     "metadata": {},
     "output_type": "display_data"
    },
    {
     "data": {
      "text/html": [
       " View project at <a href='https://wandb.ai/r-yanagimoto/mlp-sweep' target=\"_blank\">https://wandb.ai/r-yanagimoto/mlp-sweep</a>"
      ],
      "text/plain": [
       "<IPython.core.display.HTML object>"
      ]
     },
     "metadata": {},
     "output_type": "display_data"
    },
    {
     "data": {
      "text/html": [
       " View sweep at <a href='https://wandb.ai/r-yanagimoto/mlp-sweep/sweeps/r73z8z2k' target=\"_blank\">https://wandb.ai/r-yanagimoto/mlp-sweep/sweeps/r73z8z2k</a>"
      ],
      "text/plain": [
       "<IPython.core.display.HTML object>"
      ]
     },
     "metadata": {},
     "output_type": "display_data"
    },
    {
     "data": {
      "text/html": [
       " View run at <a href='https://wandb.ai/r-yanagimoto/mlp-sweep/runs/rx1l3thc' target=\"_blank\">https://wandb.ai/r-yanagimoto/mlp-sweep/runs/rx1l3thc</a>"
      ],
      "text/plain": [
       "<IPython.core.display.HTML object>"
      ]
     },
     "metadata": {},
     "output_type": "display_data"
    },
    {
     "data": {
      "text/html": [
       "Waiting for W&B process to finish... <strong style=\"color:green\">(success).</strong>"
      ],
      "text/plain": [
       "<IPython.core.display.HTML object>"
      ]
     },
     "metadata": {},
     "output_type": "display_data"
    },
    {
     "data": {
      "text/html": [
       "<style>\n",
       "    table.wandb td:nth-child(1) { padding: 0 10px; text-align: left ; width: auto;} td:nth-child(2) {text-align: left ; width: 100%}\n",
       "    .wandb-row { display: flex; flex-direction: row; flex-wrap: wrap; justify-content: flex-start; width: 100% }\n",
       "    .wandb-col { display: flex; flex-direction: column; flex-basis: 100%; flex: 1; padding: 10px; }\n",
       "    </style>\n",
       "<div class=\"wandb-row\"><div class=\"wandb-col\"><h3>Run history:</h3><br/><table class=\"wandb\"><tr><td>1extr</td><td>▁</td></tr><tr><td>2agre</td><td>▁</td></tr><tr><td>3cons</td><td>▁</td></tr><tr><td>4neur</td><td>▁</td></tr><tr><td>5open</td><td>▁</td></tr><tr><td>acc</td><td>▁</td></tr></table><br/></div><div class=\"wandb-col\"><h3>Run summary:</h3><br/><table class=\"wandb\"><tr><td>1extr</td><td>0.57692</td></tr><tr><td>2agre</td><td>0.5</td></tr><tr><td>3cons</td><td>0.34615</td></tr><tr><td>4neur</td><td>0.46154</td></tr><tr><td>5open</td><td>0.46154</td></tr><tr><td>acc</td><td>0.46923</td></tr></table><br/></div></div>"
      ],
      "text/plain": [
       "<IPython.core.display.HTML object>"
      ]
     },
     "metadata": {},
     "output_type": "display_data"
    },
    {
     "data": {
      "text/html": [
       " View run <strong style=\"color:#cdcd00\">glowing-sweep-48</strong> at: <a href='https://wandb.ai/r-yanagimoto/mlp-sweep/runs/rx1l3thc' target=\"_blank\">https://wandb.ai/r-yanagimoto/mlp-sweep/runs/rx1l3thc</a><br/>Synced 5 W&B file(s), 0 media file(s), 0 artifact file(s) and 0 other file(s)"
      ],
      "text/plain": [
       "<IPython.core.display.HTML object>"
      ]
     },
     "metadata": {},
     "output_type": "display_data"
    },
    {
     "data": {
      "text/html": [
       "Find logs at: <code>./wandb/run-20230214_015757-rx1l3thc/logs</code>"
      ],
      "text/plain": [
       "<IPython.core.display.HTML object>"
      ]
     },
     "metadata": {},
     "output_type": "display_data"
    },
    {
     "name": "stderr",
     "output_type": "stream",
     "text": [
      "\u001b[34m\u001b[1mwandb\u001b[0m: Sweep Agent: Waiting for job.\n",
      "\u001b[34m\u001b[1mwandb\u001b[0m: Sweep Agent: Exiting.\n"
     ]
    }
   ],
   "source": [
    "# hyperparameter sweep for MLP\n",
    "\n",
    "sweep_config = {\n",
    "    'method': 'grid'\n",
    "}\n",
    "\n",
    "metric = {\n",
    "    'name': 'acc',\n",
    "    'goal': 'maximize'\n",
    "}\n",
    "\n",
    "sweep_config['metric'] = metric\n",
    "\n",
    "parameters_dict = {\n",
    "    'hidden_layer_sizes': {\n",
    "        'values': [(256, 256), (256, 64), (512,)]\n",
    "    },\n",
    "    'activation': {\n",
    "        'values': ['tanh', 'relu']\n",
    "    },\n",
    "    'solver': {\n",
    "        'values': ['sgd', 'adam']\n",
    "    },\n",
    "    'alpha': {\n",
    "        'values': [0.0001, 0.05]\n",
    "    },\n",
    "    'learning_rate': {\n",
    "        'values': ['constant', 'adaptive']\n",
    "    }\n",
    "}\n",
    "\n",
    "sweep_config['parameters'] = parameters_dict\n",
    "\n",
    "sweep_id = wandb.sweep(sweep_config, project='mlp-sweep')\n",
    "\n",
    "files = utils.get_files()\n",
    "traits = utils.get_traits()\n",
    "\n",
    "def train(config=None):\n",
    "    with wandb.init(config=config):\n",
    "        config = wandb.config\n",
    "        accuracy = []\n",
    "        for i in range(5):\n",
    "            result = []\n",
    "            for testfile in files:\n",
    "                x_train, y_train, x_test, y_test = load_data(testfile, i)\n",
    "\n",
    "                clf = MLPClassifier(hidden_layer_sizes=config.hidden_layer_sizes, activation=config.activation, \\\n",
    "                    solver=config.solver, alpha=config.alpha, learning_rate=config.learning_rate, early_stopping=True) \n",
    "                clf.fit(x_train, y_train) \n",
    "\n",
    "                result.append(1 if clf.score(x_test, y_test) >= 0.5 else 0)\n",
    "\n",
    "            accuracy.append(sum(result) / len(result))\n",
    "        acc = sum(accuracy) / len(accuracy)\n",
    "        wandb.log({\n",
    "            \"acc\": acc,\n",
    "            \"1extr\": accuracy[0], \n",
    "            \"2agre\": accuracy[1],\n",
    "            \"3cons\": accuracy[2], \n",
    "            \"4neur\": accuracy[3], \n",
    "            \"5open\": accuracy[4]\n",
    "            })\n",
    "\n",
    "wandb.agent(sweep_id, train)"
   ]
  },
  {
   "cell_type": "code",
   "execution_count": null,
   "metadata": {},
   "outputs": [],
   "source": []
  }
 ],
 "metadata": {
  "kernelspec": {
   "display_name": "personality",
   "language": "python",
   "name": "python3"
  },
  "language_info": {
   "codemirror_mode": {
    "name": "ipython",
    "version": 3
   },
   "file_extension": ".py",
   "mimetype": "text/x-python",
   "name": "python",
   "nbconvert_exporter": "python",
   "pygments_lexer": "ipython3",
   "version": "3.10.9"
  },
  "orig_nbformat": 4,
  "vscode": {
   "interpreter": {
    "hash": "328442614bda62b5e16a2a2a5ccef9c67067e6625045b3fb7e4780c35d8db054"
   }
  }
 },
 "nbformat": 4,
 "nbformat_minor": 2
}
