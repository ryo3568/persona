{
 "cells": [
  {
   "cell_type": "code",
   "execution_count": 3,
   "metadata": {},
   "outputs": [],
   "source": [
    "import torch \n",
    "import torch.nn as nn \n",
    "import torch.nn.functional as F \n",
    "\n",
    "class biLSTMMultitaskPoolModel(nn.Module):\n",
    "    \"\"\"マルチタスク用LSTMモデル\n",
    "\n",
    "    心象ラベルとしてsentiment(7段階)を使用。誤差関数はMSELossを想定。\n",
    "    \"\"\"\n",
    "\n",
    "    def __init__(self, D_i, D_h, D_o, n_classes=3, dropout=0.5):\n",
    "        super(biLSTMMultitaskPoolModel, self).__init__()\n",
    "        self.dropout = nn.Dropout(dropout)\n",
    "        self.lstm = nn.LSTM(input_size=D_i, hidden_size=D_h, bidirectional=True, batch_first=True)\n",
    "\n",
    "        self.linear_persona1 = nn.Linear(D_h*6, D_o)\n",
    "        self.linear_sentiment1 = nn.Linear(D_h*2, D_o)\n",
    "        self.linear_persona2 = nn.Linear(D_o, 5)\n",
    "        self.linear_sentiment2 = nn.Linear(D_o, n_classes)\n",
    "        self.sigmoid = nn.Sigmoid() \n",
    "        self.hidden_size = D_h\n",
    "\n",
    "    def forward(self, x):\n",
    "        out, hc = self.lstm(x)\n",
    "        bsz = out.size()[0]\n",
    "        seq_len = out.size()[1]\n",
    "        h_max = F.adaptive_max_pool2d(\n",
    "            out.view(bsz, 1, seq_len, -1),\n",
    "            (1, 2 * self.hidden_size)\n",
    "        ).squeeze(1)\n",
    "        h_avg = F.adaptive_avg_pool2d(\n",
    "            out.view(bsz, 1, seq_len, -1),\n",
    "            (1, 2 * self.hidden_size)\n",
    "        ).squeeze(1)\n",
    "\n",
    "        print(out) \n",
    "        print(h_max) \n",
    "        print(h_avg)\n",
    "\n",
    "\n",
    "        hc = torch.cat([hc[0][0], hc[0][1]], dim=-1)\n",
    "\n",
    "        hc = torch.cat([hc, h_max.squeeze(1), h_avg.squeeze(1)], dim=-1)\n",
    "\n",
    "        h_persona = F.relu(self.linear_persona1(hc))\n",
    "        h_sentiment = F.relu(self.linear_sentiment1(out))\n",
    "        h_persona = self.dropout(h_persona)\n",
    "        h_sentiment = self.dropout(h_sentiment)\n",
    "        y_persona = self.linear_persona2(h_persona)\n",
    "        y_sentiment = self.linear_sentiment2(h_sentiment)\n",
    "        y_persona = self.sigmoid(y_persona)\n",
    "\n",
    "        return y_persona, y_sentiment"
   ]
  },
  {
   "cell_type": "code",
   "execution_count": 17,
   "metadata": {},
   "outputs": [
    {
     "name": "stdout",
     "output_type": "stream",
     "text": [
      "tensor([[[ 0.0078,  0.0539,  0.0390,  0.1251,  0.1123,  0.1127, -0.2935,\n",
      "           0.1447,  0.3564, -0.2187],\n",
      "         [ 0.0165,  0.0852,  0.0765,  0.1262,  0.0787,  0.2279, -0.2344,\n",
      "           0.0389,  0.1995, -0.2337],\n",
      "         [ 0.0264,  0.0170,  0.1415,  0.1332,  0.0625,  0.2402, -0.1851,\n",
      "           0.0191,  0.0116, -0.1384]],\n",
      "\n",
      "        [[-0.0487,  0.0196, -0.0344,  0.0167,  0.0423,  0.1375, -0.1548,\n",
      "          -0.0431,  0.2219, -0.2609],\n",
      "         [ 0.0189,  0.0847,  0.0596,  0.0619,  0.0328,  0.1100, -0.2172,\n",
      "           0.0088,  0.2489, -0.1989],\n",
      "         [-0.0524,  0.0550, -0.0174,  0.0583,  0.1054,  0.0321, -0.0891,\n",
      "           0.0022,  0.1097, -0.1067]]], grad_fn=<TransposeBackward0>)\n",
      "tensor([[[ 0.0264,  0.0852,  0.1415,  0.1332,  0.1123,  0.2402, -0.1851,\n",
      "           0.1447,  0.3564, -0.1384]],\n",
      "\n",
      "        [[ 0.0189,  0.0847,  0.0596,  0.0619,  0.1054,  0.1375, -0.0891,\n",
      "           0.0088,  0.2489, -0.1067]]], grad_fn=<SqueezeBackward1>)\n",
      "tensor([[[ 0.0169,  0.0521,  0.0856,  0.1282,  0.0845,  0.1936, -0.2377,\n",
      "           0.0676,  0.1892, -0.1969]],\n",
      "\n",
      "        [[-0.0274,  0.0531,  0.0026,  0.0456,  0.0602,  0.0932, -0.1537,\n",
      "          -0.0107,  0.1935, -0.1888]]], grad_fn=<SqueezeBackward1>)\n"
     ]
    }
   ],
   "source": [
    "model = biLSTMMultitaskPoolModel(7, 5, 3) \n",
    "\n",
    "input = torch.rand((2, 3, 7)) \n",
    "\n",
    "_ , _ = model(input) \n"
   ]
  },
  {
   "cell_type": "code",
   "execution_count": 19,
   "metadata": {},
   "outputs": [
    {
     "data": {
      "text/plain": [
       "-0.027399999999999997"
      ]
     },
     "execution_count": 19,
     "metadata": {},
     "output_type": "execute_result"
    }
   ],
   "source": [
    "(-0.0487 + 0.0189 - 0.0524) / 3"
   ]
  },
  {
   "cell_type": "code",
   "execution_count": null,
   "metadata": {},
   "outputs": [],
   "source": []
  }
 ],
 "metadata": {
  "kernelspec": {
   "display_name": "Python 3.9.13 ('persona')",
   "language": "python",
   "name": "python3"
  },
  "language_info": {
   "codemirror_mode": {
    "name": "ipython",
    "version": 3
   },
   "file_extension": ".py",
   "mimetype": "text/x-python",
   "name": "python",
   "nbconvert_exporter": "python",
   "pygments_lexer": "ipython3",
   "version": "3.9.13"
  },
  "orig_nbformat": 4,
  "vscode": {
   "interpreter": {
    "hash": "66a55e160c955a136bd04b9ee0e97041b96c673504f5e57fef660b8b6eac7e97"
   }
  }
 },
 "nbformat": 4,
 "nbformat_minor": 2
}
