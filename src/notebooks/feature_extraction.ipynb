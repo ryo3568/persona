{
 "cells": [
  {
   "cell_type": "markdown",
   "metadata": {},
   "source": [
    "# 特徴量作成"
   ]
  },
  {
   "cell_type": "code",
   "execution_count": 2,
   "metadata": {},
   "outputs": [],
   "source": [
    "import pandas as pd\n",
    "import numpy as np\n",
    "import pickle \n",
    "import matplotlib.pyplot as plt\n",
    "import os \n",
    "import glob\n",
    "import pprint\n",
    "from sklearn.preprocessing import StandardScaler\n",
    "from sklearn.cluster import KMeans\n",
    "\n",
    "\n",
    "# 本人にアノテーションされた性格特性スコアの算出\n",
    "def calc_persona(filename):\n",
    "    df = pd.read_excel('../../data/Hazumi1911/questionnaire/1911questionnaires.xlsx', sheet_name=4, index_col=0, header=1)\n",
    "    data = df.loc[filename, :].values.tolist()\n",
    "    return [data[0]+(8-data[5]), (8-data[1])+data[6], data[2]+(8-data[7]), data[3]+(8-data[8]), data[4]+(8-data[9])]\n",
    "\n",
    "# 第三者にアノテーションされた性格特性スコアの算出\n",
    "def calc_thirdpersona(filename):\n",
    "    df = pd.read_excel('../../data/Hazumi1911/questionnaire/220818thirdbigfive-Hazumi1911.xlsx', sheet_name=5, header=1, index_col=0)\n",
    "    data = df.loc[filename].values.tolist()\n",
    "    return [data[5], data[13], data[21], data[29], data[37]]\n"
   ]
  },
  {
   "cell_type": "markdown",
   "metadata": {},
   "source": [
    "### ダンプファイル"
   ]
  },
  {
   "cell_type": "code",
   "execution_count": 3,
   "metadata": {},
   "outputs": [],
   "source": [
    "audio = {}\n",
    "text = {}\n",
    "visual = {} \n",
    "\n",
    "third_persona = {}\n",
    "persona = {}\n",
    "TS_ternary = {}\n",
    "SS_ternary = {}\n",
    "third_sentiment = {}\n",
    "sentiment = {}\n",
    "\n",
    "vid = []\n",
    "\n",
    "path = '../../data/Hazumi1911/dumpfiles/*'\n",
    "\n",
    "files = glob.glob(path)\n",
    "\n",
    "for file_path in sorted(files):\n",
    "    filename = os.path.basename(file_path).split('.', 1)[0]\n",
    "    df = pd.read_csv(file_path)\n",
    "\n",
    "    vid.append(filename)\n",
    "    text[filename] = df.loc[:, 'word#0001':'su'].values.tolist()\n",
    "    audio[filename] = df.loc[:, 'pcm_RMSenergy_sma_max':'F0_sma_de_kurtosis'].values.tolist()\n",
    "    visual[filename] = df.loc[:, '17_acceleration_max':'AU45_c_mean'].values.tolist()\n",
    "\n",
    "    persona[filename] = calc_persona(filename)\n",
    "    third_persona[filename] = calc_thirdpersona(filename)\n",
    "    TS_ternary[filename] = df.loc[:, 'TS_ternary'].values.tolist()\n",
    "    SS_ternary[filename] = df.loc[:, 'SS_ternary'].values.tolist()\n",
    "    third_sentiment[filename] = df.loc[:, 'TS1':'TS5'].mean(axis='columns').values.tolist()\n",
    "    sentiment[filename] = df.loc[:, 'SS'].values.tolist()\n",
    "\n",
    "# ファイル書き込み\n",
    "with open('../../data/Hazumi_features/Hazumi1911_features.pkl', mode='wb') as f:\n",
    "    pickle.dump((SS_ternary, TS_ternary, sentiment, third_sentiment, persona, third_persona, text, audio, visual, vid), f)"
   ]
  },
  {
   "cell_type": "code",
   "execution_count": 9,
   "metadata": {},
   "outputs": [
    {
     "data": {
      "text/plain": [
       "[178, 881, 1380]"
      ]
     },
     "execution_count": 9,
     "metadata": {},
     "output_type": "execute_result"
    }
   ],
   "source": [
    "sum = [0, 0, 0]\n",
    "for value in TS_ternary.values():\n",
    "    for v in value:\n",
    "        sum[int(v)] += 1\n",
    "\n",
    "sum "
   ]
  },
  {
   "cell_type": "code",
   "execution_count": null,
   "metadata": {},
   "outputs": [],
   "source": []
  }
 ],
 "metadata": {
  "kernelspec": {
   "display_name": "Python 3.9.13 ('persona')",
   "language": "python",
   "name": "python3"
  },
  "language_info": {
   "codemirror_mode": {
    "name": "ipython",
    "version": 3
   },
   "file_extension": ".py",
   "mimetype": "text/x-python",
   "name": "python",
   "nbconvert_exporter": "python",
   "pygments_lexer": "ipython3",
   "version": "3.9.13"
  },
  "orig_nbformat": 4,
  "vscode": {
   "interpreter": {
    "hash": "66a55e160c955a136bd04b9ee0e97041b96c673504f5e57fef660b8b6eac7e97"
   }
  }
 },
 "nbformat": 4,
 "nbformat_minor": 2
}
