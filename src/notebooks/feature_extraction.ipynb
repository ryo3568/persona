{
 "cells": [
  {
   "cell_type": "markdown",
   "metadata": {},
   "source": [
    "# 特徴量作成"
   ]
  },
  {
   "cell_type": "code",
   "execution_count": 6,
   "metadata": {},
   "outputs": [],
   "source": [
    "import pandas as pd\n",
    "import numpy as np\n",
    "import pickle \n",
    "import matplotlib.pyplot as plt\n",
    "import os \n",
    "import glob\n",
    "import pympi.Elan \n",
    "\n",
    "\n",
    "# 本人にアノテーションされた性格特性スコアの算出\n",
    "def calc_persona(filename, normalized=False):\n",
    "    df = pd.read_excel('../../data/Hazumi1911/questionnaire/1911questionnaires.xlsx', sheet_name=4, index_col=0, header=1)\n",
    "    data = df.loc[filename, :].values.tolist()\n",
    "    res = [data[0]+(8-data[5]), (8-data[1])+data[6], data[2]+(8-data[7]), data[3]+(8-data[8]), data[4]+(8-data[9])]\n",
    "    if normalized:\n",
    "        return [(i-2)/12 for i in res]\n",
    "    else:\n",
    "        return res\n",
    "\n",
    "# 第三者にアノテーションされた性格特性スコアの算出\n",
    "def calc_thirdpersona(filename, normalized=False):\n",
    "    df = pd.read_excel('../../data/Hazumi1911/questionnaire/220818thirdbigfive-Hazumi1911.xlsx', sheet_name=5, header=1, index_col=0)\n",
    "    data = df.loc[filename].values.tolist()\n",
    "    res = [data[5], data[13], data[21], data[29], data[37]]\n",
    "    if normalized:\n",
    "        return [(i-2)/12 for i in res]\n",
    "    else:\n",
    "        return res\n",
    "\n",
    "def eaf_to_df( eaf: pympi.Elan.Eaf ) -> pd.DataFrame:\n",
    "    tier_names = list( eaf.tiers.keys() )\n",
    "\n",
    "    def timeslotid_to_time( timeslotid: str ) -> float:\n",
    "        return eaf.timeslots[ timeslotid ] / 1000\n",
    "\n",
    "    def parse( tier_name: str, tier: dict ) -> pd.DataFrame:\n",
    "        values = [ (key,) + value[:-1] for key, value in tier.items() ]\n",
    "        df = pd.DataFrame( values, columns=[ \"id\", \"start\", \"end\", \"transcription\"] )\n",
    "\n",
    "        df[\"start\"] = df[\"start\"].apply( timeslotid_to_time )\n",
    "        df[\"end\"] = df[\"end\"].apply( timeslotid_to_time )\n",
    "        df[\"ID\"] = df.apply( lambda x: f\"{tier_name}-{x.name}\", axis=1 )\n",
    "        df = df.reindex( columns=[\"ID\", \"start\", \"end\", \"transcription\"] )\n",
    "\n",
    "        return df\n",
    "\n",
    "    dfs = [ parse(tier_name=name, tier=eaf.tiers[name][0]) for name in tier_names ]\n",
    "    df = pd.concat( dfs )\n",
    "    df = df.sort_values( \"start\" )\n",
    "    df = df.reset_index( drop=True )\n",
    "    return df"
   ]
  },
  {
   "cell_type": "code",
   "execution_count": 12,
   "metadata": {},
   "outputs": [
    {
     "name": "stdout",
     "output_type": "stream",
     "text": [
      "           ID     start       end  \\\n",
      "0    Tier-0-0   255.000   262.660   \n",
      "1    Tier-0-1   262.660   277.106   \n",
      "2    Tier-0-2   277.106   301.465   \n",
      "3    Tier-0-3   301.465   304.248   \n",
      "4    Tier-0-4   304.248   333.039   \n",
      "..        ...       ...       ...   \n",
      "68  Tier-0-68  1381.872  1405.293   \n",
      "69  Tier-0-69  1405.293  1439.194   \n",
      "70  Tier-0-70  1439.194  1449.703   \n",
      "71  Tier-0-71  1449.703  1467.870   \n",
      "72  Tier-0-72  1467.870  1474.156   \n",
      "\n",
      "                                        transcription  \n",
      "0                     やば|(F はい)|(F んん)(F ん)(F あ)(F あ)  \n",
      "1                               (F あ)|なるほど|よろしくお願いします  \n",
      "2   はい|実は私はここまで自転車で来ました|めっちゃ(D は)|遠かったかな|でもなんかすごい|...  \n",
      "3                                                      \n",
      "4   (F あ)迷いました|(F あのー)なんか最初|阪大の門から入ったんですけど|なんかバス|な...  \n",
      "..                                                ...  \n",
      "68  はい|もうなんかほんとに|そういうＡＩ|の(F あの)だらけの世界になっていくんじゃないかな...  \n",
      "69  (F うん)|(F えー)どんなとき(F えっと)なんか|(F あのー)|(F うーん)場所...  \n",
      "70                     (F うん)|はい|あとなんかちょっと悩みとか相談する時とか  \n",
      "71  (F あー)|そう|そういう時に|(F あのー)|いてくれたらいいかなとも思うけど|どうなん...  \n",
      "72                                   (F あ)ありがとうございました  \n",
      "\n",
      "[73 rows x 4 columns]\n"
     ]
    }
   ],
   "source": [
    "src = r'/home/ryoyanagimoto/persona/data/1911F2001_elan.eaf' \n",
    " \n",
    "eaf = pympi.Elan.Eaf(src) \n",
    "df = eaf_to_df(eaf) \n",
    "\n",
    "print(df)"
   ]
  },
  {
   "cell_type": "markdown",
   "metadata": {},
   "source": [
    "### ダンプファイル"
   ]
  },
  {
   "cell_type": "code",
   "execution_count": 3,
   "metadata": {},
   "outputs": [],
   "source": [
    "audio = {}\n",
    "text = {}\n",
    "visual = {} \n",
    "\n",
    "third_persona = {}\n",
    "persona = {}\n",
    "TS_ternary = {}\n",
    "SS_ternary = {}\n",
    "third_sentiment = {}\n",
    "sentiment = {}\n",
    "\n",
    "vid = []\n",
    "\n",
    "path = '../../data/Hazumi1911/dumpfiles/*'\n",
    "\n",
    "files = glob.glob(path)\n",
    "\n",
    "for file_path in sorted(files):\n",
    "    filename = os.path.basename(file_path).split('.', 1)[0]\n",
    "    df = pd.read_csv(file_path)\n",
    "\n",
    "    vid.append(filename)\n",
    "    text[filename] = df.loc[:, 'word#0001':'su'].values.tolist()\n",
    "    audio[filename] = df.loc[:, 'pcm_RMSenergy_sma_max':'F0_sma_de_kurtosis'].values.tolist()\n",
    "    visual[filename] = df.loc[:, '17_acceleration_max':'AU45_c_mean'].values.tolist()\n",
    "\n",
    "    persona[filename] = calc_persona(filename)\n",
    "    third_persona[filename] = calc_thirdpersona(filename)\n",
    "    TS_ternary[filename] = df.loc[:, 'TS_ternary'].values.tolist()\n",
    "    SS_ternary[filename] = df.loc[:, 'SS_ternary'].values.tolist()\n",
    "    third_sentiment[filename] = df.loc[:, 'TS1':'TS5'].mean(axis='columns').values.tolist()\n",
    "    sentiment[filename] = df.loc[:, 'SS'].values.tolist()\n",
    "\n",
    "# ファイル書き込み\n",
    "with open('../../data/Hazumi_features/Hazumi1911_features.pkl', mode='wb') as f:\n",
    "    pickle.dump((SS_ternary, TS_ternary, sentiment, third_sentiment, persona, third_persona, text, audio, visual, vid), f)"
   ]
  },
  {
   "cell_type": "code",
   "execution_count": null,
   "metadata": {},
   "outputs": [],
   "source": [
    "audio = {}\n",
    "text = {}\n",
    "visual = {} \n",
    "\n",
    "third_persona = {}\n",
    "persona = {}\n",
    "TS_ternary = {}\n",
    "SS_ternary = {}\n",
    "third_sentiment = {}\n",
    "sentiment = {}\n",
    "\n",
    "vid = []\n",
    "\n",
    "path = '../../data/Hazumi1911/dumpfiles/*'\n",
    "\n",
    "files = glob.glob(path)\n",
    "\n",
    "for file_path in sorted(files):\n",
    "    filename = os.path.basename(file_path).split('.', 1)[0]\n",
    "    df = pd.read_csv(file_path)\n",
    "\n",
    "    vid.append(filename)\n",
    "    text[filename] = df.loc[:, 'word#0001':'su'].values.tolist()\n",
    "    audio[filename] = df.loc[:, 'pcm_RMSenergy_sma_max':'F0_sma_de_kurtosis'].values.tolist()\n",
    "    visual[filename] = df.loc[:, '17_acceleration_max':'AU45_c_mean'].values.tolist()\n",
    "\n",
    "    persona[filename] = calc_persona(filename)\n",
    "    third_persona[filename] = calc_thirdpersona(filename)\n",
    "    TS_ternary[filename] = df.loc[:, 'TS_ternary'].values.tolist()\n",
    "    SS_ternary[filename] = df.loc[:, 'SS_ternary'].values.tolist()\n",
    "    third_sentiment[filename] = df.loc[:, 'TS1':'TS5'].mean(axis='columns').values.tolist()\n",
    "    sentiment[filename] = df.loc[:, 'SS'].values.tolist()\n",
    "\n",
    "# ファイル書き込み\n",
    "with open('../../data/Hazumi_features/Hazumi1911_features.pkl', mode='wb') as f:\n",
    "    pickle.dump((SS_ternary, TS_ternary, sentiment, third_sentiment, persona, third_persona, text, audio, visual, vid), f)"
   ]
  },
  {
   "cell_type": "code",
   "execution_count": 7,
   "metadata": {},
   "outputs": [
    {
     "name": "stdout",
     "output_type": "stream",
     "text": [
      "-----TS_ternary-----\n",
      "178 881 1380 2439\n",
      "マジョリティベースライン：0.566\n",
      "-----SS_ternary-----\n",
      "485 848 1106 2439\n",
      "マジョリティベースライン(SS_ternary)：0.453\n"
     ]
    }
   ],
   "source": [
    "neg, neu, pos = 0, 0, 0\n",
    "for value in TS_ternary.values():\n",
    "    for data in value:\n",
    "        if data == 0:\n",
    "            neg += 1\n",
    "        elif data == 1:\n",
    "            neu += 1\n",
    "        else:\n",
    "            pos += 1\n",
    "sum = neg + neu + pos\n",
    "print('-----TS_ternary-----')\n",
    "print(neg, neu, pos, sum)\n",
    "majo = max([neg/sum, neu/sum, pos/sum])\n",
    "print(f'マジョリティベースライン：{majo:.3}')\n",
    "\n",
    "neg, neu, pos = 0, 0, 0\n",
    "for value in SS_ternary.values():\n",
    "    for data in value:\n",
    "        if data == 0:\n",
    "            neg += 1\n",
    "        elif data == 1:\n",
    "            neu += 1\n",
    "        else:\n",
    "            pos += 1\n",
    "sum = neg + neu + pos\n",
    "print('-----SS_ternary-----')\n",
    "print(neg, neu, pos, sum)\n",
    "majo = max([neg/sum, neu/sum, pos/sum])\n",
    "print(f'マジョリティベースライン(SS_ternary)：{majo:.3}')"
   ]
  },
  {
   "cell_type": "code",
   "execution_count": null,
   "metadata": {},
   "outputs": [],
   "source": []
  }
 ],
 "metadata": {
  "kernelspec": {
   "display_name": "Python 3.9.13 ('persona')",
   "language": "python",
   "name": "python3"
  },
  "language_info": {
   "codemirror_mode": {
    "name": "ipython",
    "version": 3
   },
   "file_extension": ".py",
   "mimetype": "text/x-python",
   "name": "python",
   "nbconvert_exporter": "python",
   "pygments_lexer": "ipython3",
   "version": "3.9.13"
  },
  "orig_nbformat": 4,
  "vscode": {
   "interpreter": {
    "hash": "66a55e160c955a136bd04b9ee0e97041b96c673504f5e57fef660b8b6eac7e97"
   }
  }
 },
 "nbformat": 4,
 "nbformat_minor": 2
}
