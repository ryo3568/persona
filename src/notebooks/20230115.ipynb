{
 "cells": [
  {
   "attachments": {},
   "cell_type": "markdown",
   "metadata": {},
   "source": [
    "# 性格特性の分布を調査"
   ]
  },
  {
   "cell_type": "code",
   "execution_count": 6,
   "metadata": {},
   "outputs": [],
   "source": [
    "import pickle \n",
    "import math\n",
    "\n",
    "import matplotlib.pyplot as plt \n",
    "import numpy as np \n",
    "import pandas as pd\n",
    "from sklearn import metrics\n",
    "from sklearn.preprocessing import StandardScaler\n",
    "\n",
    "import torch\n",
    "import torch.nn as nn \n",
    "\n",
    "%matplotlib inline\n",
    "plt.rcParams['font.family'] = \"Noto Serif CJK JP\"\n",
    "\n",
    "with open('../../data/Hazumi_features/Hazumi1911_features_bert_standard.pkl', mode='rb') as f:\n",
    "    TS_ternary, third_sentiment,third_persona, plabel, text, audio, visual, vid = pickle.load(f, encoding='utf-8')"
   ]
  },
  {
   "attachments": {},
   "cell_type": "markdown",
   "metadata": {},
   "source": [
    "## 性格特性スコアの分布"
   ]
  },
  {
   "cell_type": "code",
   "execution_count": 5,
   "metadata": {},
   "outputs": [
    {
     "data": {
      "image/png": "[encoded data removed]",
      "text/plain": [
       "<Figure size 640x480 with 1 Axes>"
      ]
     },
     "metadata": {},
     "output_type": "display_data"
    },
    {
     "name": "stdout",
     "output_type": "stream",
     "text": [
      "外向性 : high=22, low=4\n",
      "協調性 : high=25, low=1\n",
      "勤勉性 : high=24, low=2\n",
      "神経症傾向 : high=1, low=25\n",
      "開放性 : high=22, low=4\n"
     ]
    }
   ],
   "source": [
    "Traits_lable = ['外向性', '協調性', '勤勉性', '神経症傾向', '開放性']\n",
    "\n",
    "def plot_boxplot(data):\n",
    "    \n",
    "    extraversion, agreeableness, conscientiousness, neuroticism, openness = data\n",
    "    fig, ax = plt.subplots() \n",
    "\n",
    "    bp = ax.boxplot(data) \n",
    "    ax.set_xticklabels(Traits_lable)\n",
    "\n",
    "    # plt.title('exam') \n",
    "    plt.ylim([2, 14])\n",
    "    plt.grid() \n",
    "\n",
    "    plt.show()\n",
    "\n",
    "    traits = [extraversion, agreeableness, conscientiousness, neuroticism, openness] \n",
    "    traits_name = Traits_lable\n",
    "\n",
    "    for i, trait in enumerate(traits):\n",
    "        low = 0 \n",
    "        high = 0 \n",
    "        for data in trait:\n",
    "            if data >= 8.0:\n",
    "                high += 1\n",
    "            else:\n",
    "                low += 1\n",
    "        print(f\"{traits_name[i]} : high={high}, low={low}\") \n",
    "\n",
    "def plot_scatter(data, title = \"\", standardize=False):\n",
    "    extraversion, agreeableness, conscientiousness, neuroticism, openness = data\n",
    "\n",
    "    plt.scatter([1 for _ in range(26)], extraversion) \n",
    "    plt.scatter([2 for _ in range(26)], agreeableness)\n",
    "    plt.scatter([3 for _ in range(26)], conscientiousness) \n",
    "    plt.scatter([4 for _ in range(26)], neuroticism) \n",
    "    plt.scatter([5 for _ in range(26)], openness)\n",
    "\n",
    "    plt.xlim(0, 6) \n",
    "    if standardize:\n",
    "        line = [0]\n",
    "    else:\n",
    "        plt.ylim(2, 14) \n",
    "        line = [8]\n",
    "\n",
    "    plt.xticks([1, 2, 3, 4, 5], Traits_lable)\n",
    "    plt.hlines(line, 0, 6, color='r', linestyles='dotted')\n",
    "\n",
    "    plt.title(title)\n",
    "\n",
    "    plt.show()\n",
    "\n",
    "def plot_result(data, standardize=False):\n",
    "    traits_name = Traits_lable\n",
    "\n",
    "    for i, trait in enumerate(data):\n",
    "\n",
    "        ssthresh = 0.0 if standardize else 8.0 \n",
    "        low = 0 \n",
    "        high = 0 \n",
    "        for data in trait:\n",
    "            if data >= ssthresh:\n",
    "                high += 1\n",
    "            else:\n",
    "                low += 1\n",
    "        print(f\"{traits_name[i]} : high={high}, low={low}\") \n",
    "\n",
    "def make_data(id, data, standardize=False):\n",
    "    extraversion = [] \n",
    "    agreeableness = [] \n",
    "    conscientiousness = [] \n",
    "    neuroticism = [] \n",
    "    openness = [] \n",
    "\n",
    "    if standardize:\n",
    "        data = pd.DataFrame.from_dict(data, orient=\"index\")\n",
    "        sc = StandardScaler()\n",
    "        data = sc.fit_transform(data)\n",
    "        data = pd.DataFrame(data, index=vid)\n",
    "        data = data.to_dict(orient='index')\n",
    "\n",
    "    for id in vid: \n",
    "        extraversion.append(data[id][0]) \n",
    "        agreeableness.append(data[id][1])\n",
    "        conscientiousness.append(data[id][2])\n",
    "        neuroticism.append(data[id][3]) \n",
    "        openness.append(data[id][4]) \n",
    "\n",
    "    return (extraversion, agreeableness, conscientiousness, neuroticism, openness)\n",
    "\n",
    "data = make_data(vid, third_persona)\n",
    "\n",
    "# plot_boxplot(data)\n",
    "plot_scatter(data, title=\"標準化前\")\n",
    "plot_result(data)\n",
    "\n",
    "# data_sc = make_data(vid, third_persona,standardize=True) \n",
    "\n",
    "# plot_scatter(data_sc, title=\"標準化後\", standardize=True) \n",
    "# plot_result(data_sc, standardize=True)"
   ]
  },
  {
   "cell_type": "code",
   "execution_count": 5,
   "metadata": {},
   "outputs": [
    {
     "name": "stdout",
     "output_type": "stream",
     "text": [
      "=============外向性=================\n",
      "[[0.09, 0.37, 0.54], [0.06, 0.35, 0.59]]\n",
      "=============協調性=================\n",
      "[[0.1, 0.37, 0.53], [0.05, 0.35, 0.6]]\n",
      "=============勤勉性=================\n",
      "[[0.09, 0.37, 0.54], [0.05, 0.36, 0.59]]\n",
      "=============神経症傾向=================\n",
      "[[0.06, 0.36, 0.57], [0.09, 0.36, 0.55]]\n",
      "=============開放性=================\n",
      "[[0.1, 0.37, 0.53], [0.05, 0.35, 0.6]]\n"
     ]
    }
   ],
   "source": [
    "from copy import deepcopy \n",
    "\n",
    "Traits_lable = ['外向性', '協調性', '勤勉性', '神経症傾向', '開放性']\n",
    "\n",
    "def check(result):\n",
    "    res = deepcopy(result)\n",
    "    for i, data in enumerate(result):\n",
    "        for j, d in enumerate(data):\n",
    "            res[i][j] = round(d / sum(data), 2)\n",
    "    print(res)\n",
    "\n",
    "def solve(id, persona, sentiment):\n",
    "    for i, trait_lable in enumerate(Traits_lable):\n",
    "        count = [[0, 0, 0], [0, 0, 0]]\n",
    "        print(f'============={trait_lable}=================')\n",
    "        for j in id:\n",
    "            for k in sentiment[j]:\n",
    "                count[persona[j][i]][k] += 1\n",
    "        check(count)\n",
    "\n",
    "\n",
    "solve(vid, plabel, TS_ternary)"
   ]
  },
  {
   "cell_type": "code",
   "execution_count": 41,
   "metadata": {},
   "outputs": [
    {
     "name": "stdout",
     "output_type": "stream",
     "text": [
      "tensor([[[0.2285, 0.9827, 0.2028],\n",
      "         [0.4934, 0.3416, 0.8982],\n",
      "         [0.3848, 0.8970, 0.5125],\n",
      "         [0.5600, 0.5711, 0.0519],\n",
      "         [0.4636, 0.5599, 0.5999],\n",
      "         [0.3068, 0.6195, 0.4411],\n",
      "         [0.4742, 0.3407, 0.7919],\n",
      "         [0.2937, 0.6990, 0.9969],\n",
      "         [0.8683, 0.1786, 0.9162],\n",
      "         [0.8266, 0.2749, 0.5387]],\n",
      "\n",
      "        [[0.4772, 0.0154, 0.0806],\n",
      "         [0.0958, 0.4832, 0.6855],\n",
      "         [0.3666, 0.6472, 0.6926],\n",
      "         [0.1039, 0.7060, 0.8057],\n",
      "         [0.0966, 0.0406, 0.3215],\n",
      "         [0.5260, 0.0788, 0.5278],\n",
      "         [0.7844, 0.4752, 0.6088],\n",
      "         [0.4352, 0.4818, 0.3544],\n",
      "         [0.4875, 0.4541, 0.0700],\n",
      "         [0.2424, 0.0781, 0.3550]]])\n"
     ]
    },
    {
     "data": {
      "text/plain": [
       "[tensor([[[0.2285, 0.9827, 0.2028],\n",
       "          [0.4934, 0.3416, 0.8982],\n",
       "          [0.3848, 0.8970, 0.5125]],\n",
       " \n",
       "         [[0.4772, 0.0154, 0.0806],\n",
       "          [0.0958, 0.4832, 0.6855],\n",
       "          [0.3666, 0.6472, 0.6926]]]),\n",
       " tensor([[[0.3848, 0.8970, 0.5125],\n",
       "          [0.5600, 0.5711, 0.0519],\n",
       "          [0.4636, 0.5599, 0.5999]],\n",
       " \n",
       "         [[0.3666, 0.6472, 0.6926],\n",
       "          [0.1039, 0.7060, 0.8057],\n",
       "          [0.0966, 0.0406, 0.3215]]]),\n",
       " tensor([[[0.4636, 0.5599, 0.5999],\n",
       "          [0.3068, 0.6195, 0.4411],\n",
       "          [0.4742, 0.3407, 0.7919]],\n",
       " \n",
       "         [[0.0966, 0.0406, 0.3215],\n",
       "          [0.5260, 0.0788, 0.5278],\n",
       "          [0.7844, 0.4752, 0.6088]]]),\n",
       " tensor([[[0.4742, 0.3407, 0.7919],\n",
       "          [0.2937, 0.6990, 0.9969],\n",
       "          [0.8683, 0.1786, 0.9162]],\n",
       " \n",
       "         [[0.7844, 0.4752, 0.6088],\n",
       "          [0.4352, 0.4818, 0.3544],\n",
       "          [0.4875, 0.4541, 0.0700]]])]"
      ]
     },
     "execution_count": 41,
     "metadata": {},
     "output_type": "execute_result"
    }
   ],
   "source": [
    "import torch\n",
    "\n",
    "seq_len = 10\n",
    "x = torch.rand(2, seq_len, 3)\n",
    "print(x)\n",
    "window_size = 3\n",
    "step_size = 2\n",
    "data = [x[:, i: i+window_size, :] for i in range(0, seq_len-window_size+1, step_size)]\n",
    "data"
   ]
  },
  {
   "cell_type": "code",
   "execution_count": null,
   "metadata": {},
   "outputs": [],
   "source": []
  }
 ],
 "metadata": {
  "kernelspec": {
   "display_name": "personality",
   "language": "python",
   "name": "python3"
  },
  "language_info": {
   "codemirror_mode": {
    "name": "ipython",
    "version": 3
   },
   "file_extension": ".py",
   "mimetype": "text/x-python",
   "name": "python",
   "nbconvert_exporter": "python",
   "pygments_lexer": "ipython3",
   "version": "3.10.9"
  },
  "orig_nbformat": 4,
  "vscode": {
   "interpreter": {
    "hash": "328442614bda62b5e16a2a2a5ccef9c67067e6625045b3fb7e4780c35d8db054"
   }
  }
 },
 "nbformat": 4,
 "nbformat_minor": 2
}
