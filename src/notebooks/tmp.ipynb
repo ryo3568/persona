{
 "cells": [
  {
   "cell_type": "code",
   "execution_count": 8,
   "metadata": {},
   "outputs": [
    {
     "name": "stdout",
     "output_type": "stream",
     "text": [
      "tensor([[[0.5271, 0.9090, 0.6805, 0.8708, 0.7016],\n",
      "         [0.1774, 0.5761, 0.7350, 0.1188, 0.2518],\n",
      "         [0.5599, 0.2495, 0.0011, 0.2055, 0.2748],\n",
      "         [0.8895, 0.2194, 0.5327, 0.6545, 0.5399]]])\n",
      "tensor([[-0.0173, -0.0518, -0.0145,  0.1628, -0.3120]],\n",
      "       grad_fn=<AddmmBackward0>)\n"
     ]
    },
    {
     "data": {
      "text/plain": [
       "'NeuralNet.png'"
      ]
     },
     "execution_count": 8,
     "metadata": {},
     "output_type": "execute_result"
    }
   ],
   "source": [
    "import sys \n",
    "sys.path.append('../')\n",
    "import torch \n",
    "import torch.nn as nn\n",
    "from model import LSTMModel, LSTMSentimentModel\n",
    "from torchviz import make_dot\n",
    "\n",
    "model = LSTMModel(5, 6, 6)\n",
    "\n",
    "a = torch.rand(1, 4, 5)\n",
    "print(a)\n",
    "\n",
    "out  = model(a)\n",
    "\n",
    "print(out)\n",
    "\n",
    "\n",
    "image = make_dot(out, params=dict(model.named_parameters()))\n",
    "image.format = \"png\"\n",
    "image.render(\"NeuralNet\")\n"
   ]
  },
  {
   "cell_type": "code",
   "execution_count": null,
   "metadata": {},
   "outputs": [],
   "source": []
  }
 ],
 "metadata": {
  "kernelspec": {
   "display_name": "Python 3.9.13 ('persona')",
   "language": "python",
   "name": "python3"
  },
  "language_info": {
   "codemirror_mode": {
    "name": "ipython",
    "version": 3
   },
   "file_extension": ".py",
   "mimetype": "text/x-python",
   "name": "python",
   "nbconvert_exporter": "python",
   "pygments_lexer": "ipython3",
   "version": "3.9.13"
  },
  "orig_nbformat": 4,
  "vscode": {
   "interpreter": {
    "hash": "66a55e160c955a136bd04b9ee0e97041b96c673504f5e57fef660b8b6eac7e97"
   }
  }
 },
 "nbformat": 4,
 "nbformat_minor": 2
}
