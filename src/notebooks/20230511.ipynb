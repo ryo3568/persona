{
 "cells": [
  {
   "cell_type": "code",
   "execution_count": 1,
   "metadata": {},
   "outputs": [],
   "source": [
    "import pickle \n",
    "\n",
    "with open('../../data/Hazumi_features/Hazumi1911_features.pkl', mode='rb') as f:\n",
    "    SS, TS, SP, TP, text, audio, visual, bio, vid = pickle.load(f, encoding='utf-8')"
   ]
  },
  {
   "cell_type": "code",
   "execution_count": 9,
   "metadata": {},
   "outputs": [
    {
     "name": "stdout",
     "output_type": "stream",
     "text": [
      "0.24\n",
      "0.39\n",
      "0.27\n",
      "0.51\n",
      "0.56\n",
      "0.23\n",
      "0.28\n",
      "0.07\n",
      "0.06\n",
      "0.36\n",
      "0.36\n",
      "0.02\n",
      "0.01\n",
      "0.02\n",
      "0.14\n",
      "0.33\n",
      "0.2\n",
      "0.13\n",
      "0.08\n",
      "0.06\n",
      "0.01\n",
      "0.14\n",
      "0.06\n",
      "0.37\n",
      "0.22\n",
      "0.08\n"
     ]
    }
   ],
   "source": [
    "for id in vid:\n",
    "    count = 0\n",
    "    for ss, ts in zip(SS[id], TS[id]):\n",
    "        if ss == 0 and (ts == 1 or ts == 2):\n",
    "            count += 1\n",
    "        elif ts == 0 and (ss == 1 or ss == 2):\n",
    "            count += 1 \n",
    "    print(round(count/len(SS[id]),2))"
   ]
  },
  {
   "cell_type": "code",
   "execution_count": 11,
   "metadata": {},
   "outputs": [
    {
     "name": "stdout",
     "output_type": "stream",
     "text": [
      "1911F2001 0.42\n",
      "1911F2002 0.78\n",
      "1911F3001 0.53\n",
      "1911F3002 0.73\n",
      "1911F3003 0.71\n",
      "1911F4001 0.65\n",
      "1911F4002 0.62\n",
      "1911F4003 0.26\n",
      "1911F5001 0.42\n",
      "1911F5002 0.64\n",
      "1911F6001 0.69\n",
      "1911F6002 0.33\n",
      "1911F6003 0.3\n",
      "1911F7002 0.39\n",
      "1911M2001 0.41\n",
      "1911M2002 0.45\n",
      "1911M2003 0.56\n",
      "1911M4001 0.44\n",
      "1911M4002 0.3\n",
      "1911M5001 0.35\n",
      "1911M5002 0.13\n",
      "1911M6001 0.35\n",
      "1911M6002 0.24\n",
      "1911M6003 0.51\n",
      "1911M7001 0.48\n",
      "1911M7002 0.32\n"
     ]
    }
   ],
   "source": [
    "for id in vid:\n",
    "    count = 0\n",
    "    for ss, ts in zip(SS[id], TS[id]):\n",
    "        if ss != ts:\n",
    "            count += 1\n",
    "    print(id, round(count/len(SS[id]),2))"
   ]
  },
  {
   "cell_type": "code",
   "execution_count": null,
   "metadata": {},
   "outputs": [],
   "source": []
  }
 ],
 "metadata": {
  "kernelspec": {
   "display_name": "personality",
   "language": "python",
   "name": "python3"
  },
  "language_info": {
   "codemirror_mode": {
    "name": "ipython",
    "version": 3
   },
   "file_extension": ".py",
   "mimetype": "text/x-python",
   "name": "python",
   "nbconvert_exporter": "python",
   "pygments_lexer": "ipython3",
   "version": "3.10.9"
  },
  "orig_nbformat": 4
 },
 "nbformat": 4,
 "nbformat_minor": 2
}
