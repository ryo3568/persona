{
 "cells": [
  {
   "cell_type": "code",
   "execution_count": 13,
   "metadata": {},
   "outputs": [],
   "source": [
    "import pickle \n",
    "import pandas as pd \n",
    "import wandb\n",
    "\n",
    "api = wandb.Api()\n",
    "\n",
    "with open('../../data/Hazumi_features/Hazumi1911_features.pkl', mode='rb') as f:\n",
    "    SS, TS, SP, TP, text, audio, visual, vid = pickle.load(f, encoding='utf-8')\n",
    "\n",
    "def get_wandb_result(project_name):\n",
    "    runs = api.runs(f\"r-yanagimoto/{project_name}\")\n",
    "\n",
    "    summary_list, config_list, name_list = [], [], []\n",
    "    for run in runs: \n",
    "        # .summary contains the output keys/values for metrics like accuracy.\n",
    "        #  We call ._json_dict to omit large files \n",
    "        summary_list.append(run.summary._json_dict)\n",
    "\n",
    "        # .config contains the hyperparameters.\n",
    "        #  We remove special values that start with _.\n",
    "        config_list.append(\n",
    "            {k: v for k,v in run.config.items()\n",
    "            if not k.startswith('_')})\n",
    "\n",
    "        # .name is the human-readable name of the run.\n",
    "        name_list.append(run.name)\n",
    "\n",
    "    runs_df = pd.DataFrame({\n",
    "        \"summary\": summary_list,\n",
    "        \"config\": config_list,\n",
    "        \"name\": name_list\n",
    "        })\n",
    "\n",
    "    return runs_df"
   ]
  },
  {
   "cell_type": "code",
   "execution_count": 23,
   "metadata": {},
   "outputs": [],
   "source": [
    "f1_0_text = {}\n",
    "f1_0_audio = {}\n",
    "f1_0_visual = {}\n",
    "f1_0_multi = {}\n",
    "\n",
    "f1_1_text = {}\n",
    "f1_1_audio = {}\n",
    "f1_1_visual = {}\n",
    "f1_1_multi = {}\n",
    "\n",
    "f1_2_text = {}\n",
    "f1_2_audio = {}\n",
    "f1_2_visual = {}\n",
    "f1_2_multi = {}\n",
    "\n",
    "runs_df = get_wandb_result(\"thirdsentiment-svm\")\n",
    "for _, run in runs_df.iterrows():\n",
    "    uid = run[\"name\"]\n",
    "    modal = run[\"config\"][\"modal\"]\n",
    "    if modal == 't':\n",
    "        f1_0_text[uid] = round(run['summary']['f1-0'], 2)\n",
    "        f1_1_text[uid] = round(run['summary']['f1-1'], 2)\n",
    "        f1_2_text[uid] = round(run['summary']['f1-2'], 2)\n",
    "    elif modal == 'a':\n",
    "        f1_0_audio[uid] = round(run['summary']['f1-0'], 2)\n",
    "        f1_1_audio[uid] = round(run['summary']['f1-1'], 2)\n",
    "        f1_2_audio[uid] = round(run['summary']['f1-2'], 2)\n",
    "    elif modal == 'v':\n",
    "        f1_0_visual[uid] = round(run['summary']['f1-0'], 2)\n",
    "        f1_1_visual[uid] = round(run['summary']['f1-1'], 2)\n",
    "        f1_2_visual[uid] = round(run['summary']['f1-2'], 2)\n",
    "    else:\n",
    "        f1_0_multi[uid] = round(run['summary']['f1-0'], 2)\n",
    "        f1_1_multi[uid] = round(run['summary']['f1-1'], 2)\n",
    "        f1_2_multi[uid] = round(run['summary']['f1-2'], 2)\n",
    "\n",
    "acc = {\n",
    "    \"f1_0_text\": f1_0_text,\n",
    "    \"f1_0_auido\": f1_0_audio,\n",
    "    \"f1_0_visual\": f1_0_visual,\n",
    "    \"f1_0_multi\": f1_0_multi,\n",
    "    \"f1_1_text\": f1_1_text,\n",
    "    \"f1_1_audio\": f1_1_audio,\n",
    "    \"f1_1_visual\": f1_1_visual,\n",
    "    \"f1_1_multi\": f1_1_multi,\n",
    "    \"f1_2_text\": f1_2_text,\n",
    "    \"f1_2_audio\": f1_2_audio,\n",
    "    \"f1_2_visual\": f1_2_visual,\n",
    "    \"f1_2_multi\": f1_2_multi,\n",
    "}\n",
    "\n",
    "result_df = pd.DataFrame(acc)\n",
    "# result_df.to_csv(\"hoge.txt\", sep=\"&\", header=False)\n",
    "personality = {}\n",
    "for uid in vid:\n",
    "    personality[uid] = TP[uid]\n",
    "\n",
    "personality_df = pd.DataFrame.from_dict(personality, orient=\"index\", columns=[\"E\", \"A\", \"C\", \"N\", \"O\"])\n",
    "\n",
    "df = pd.concat([result_df, personality_df], axis=1)"
   ]
  },
  {
   "cell_type": "code",
   "execution_count": 16,
   "metadata": {},
   "outputs": [],
   "source": [
    "import itertools # 効率的なループ実行のためのイテレータ生成関数のインポート\n",
    "import matplotlib.pyplot as plt # グラフ描画ライブラリ\n",
    "import seaborn as sns # データの可視化を行うライブラリ\n",
    "sns.set() # デフォルトスタイルにseabornを適用\n",
    "from scipy.stats import pearsonr # 科学技術計算ライブラリ\n",
    "import numpy as np # 数値計算を効率的に行うための拡張モジュール\n",
    "\n",
    "traits = ['E', 'A', 'C', 'N', 'O']\n",
    "\n",
    "def calc_p(df):\n",
    "    for i, j in itertools.combinations(df, 2): #組み合わせでforループを実行\n",
    "        if i in traits:\n",
    "            continue\n",
    "        if j not in traits:\n",
    "            continue\n",
    "        x = df.loc[:,[i]].values\n",
    "        y = df.loc[:,[j]].values\n",
    "        a, b = pearsonr(np.ravel(x), np.ravel(y)) # リストを整形し相関係数:aとp値:bの計算\n",
    "        if 0 != b.round(10) < 0.05: # p値 < 0.05\n",
    "            print(\"=\" * 45)\n",
    "            print(i + \"----\" + j)\n",
    "            print(\"相関係数:\", a.round(4))\n",
    "            print(\"p値:\", b.round(4))"
   ]
  },
  {
   "cell_type": "code",
   "execution_count": 17,
   "metadata": {},
   "outputs": [
    {
     "name": "stdout",
     "output_type": "stream",
     "text": [
      "=============================================\n",
      "f1_0_text----N\n",
      "相関係数: 0.5178\n",
      "p値: 0.0067\n"
     ]
    }
   ],
   "source": [
    "# 本人心象・本人性格特性\n",
    "calc_p(df)"
   ]
  },
  {
   "cell_type": "code",
   "execution_count": 19,
   "metadata": {},
   "outputs": [
    {
     "name": "stdout",
     "output_type": "stream",
     "text": [
      "=============================================\n",
      "f1_0_text----C\n",
      "相関係数: -0.4497\n",
      "p値: 0.0212\n",
      "=============================================\n",
      "f1_0_text----N\n",
      "相関係数: 0.5943\n",
      "p値: 0.0014\n"
     ]
    }
   ],
   "source": [
    "# 本人心象・第三者性格特性\n",
    "calc_p(df)"
   ]
  },
  {
   "cell_type": "code",
   "execution_count": 22,
   "metadata": {},
   "outputs": [
    {
     "name": "stdout",
     "output_type": "stream",
     "text": [
      "=============================================\n",
      "f1_0_auido----N\n",
      "相関係数: 0.5023\n",
      "p値: 0.0089\n",
      "=============================================\n",
      "f1_0_visual----E\n",
      "相関係数: -0.6466\n",
      "p値: 0.0004\n",
      "=============================================\n",
      "f1_2_text----C\n",
      "相関係数: 0.5424\n",
      "p値: 0.0042\n",
      "=============================================\n",
      "f1_2_multi----C\n",
      "相関係数: 0.5019\n",
      "p値: 0.009\n"
     ]
    }
   ],
   "source": [
    "# 第三者心象・本人性格特性\n",
    "calc_p(df)"
   ]
  },
  {
   "cell_type": "code",
   "execution_count": 24,
   "metadata": {},
   "outputs": [
    {
     "name": "stdout",
     "output_type": "stream",
     "text": [
      "=============================================\n",
      "f1_0_auido----C\n",
      "相関係数: -0.3956\n",
      "p値: 0.0454\n",
      "=============================================\n",
      "f1_0_auido----N\n",
      "相関係数: 0.6219\n",
      "p値: 0.0007\n",
      "=============================================\n",
      "f1_0_auido----O\n",
      "相関係数: -0.6434\n",
      "p値: 0.0004\n",
      "=============================================\n",
      "f1_0_visual----N\n",
      "相関係数: 0.4552\n",
      "p値: 0.0195\n",
      "=============================================\n",
      "f1_2_text----C\n",
      "相関係数: 0.4389\n",
      "p値: 0.0249\n",
      "=============================================\n",
      "f1_2_multi----C\n",
      "相関係数: 0.4087\n",
      "p値: 0.0382\n"
     ]
    }
   ],
   "source": [
    "# 第三者心象・第三者性格特性\n",
    "calc_p(df)"
   ]
  },
  {
   "cell_type": "code",
   "execution_count": null,
   "metadata": {},
   "outputs": [],
   "source": []
  }
 ],
 "metadata": {
  "kernelspec": {
   "display_name": "personality",
   "language": "python",
   "name": "python3"
  },
  "language_info": {
   "codemirror_mode": {
    "name": "ipython",
    "version": 3
   },
   "file_extension": ".py",
   "mimetype": "text/x-python",
   "name": "python",
   "nbconvert_exporter": "python",
   "pygments_lexer": "ipython3",
   "version": "3.10.9"
  },
  "orig_nbformat": 4
 },
 "nbformat": 4,
 "nbformat_minor": 2
}
