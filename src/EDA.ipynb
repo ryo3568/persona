{
 "cells": [
  {
   "cell_type": "code",
   "execution_count": null,
   "metadata": {},
   "outputs": [],
   "source": [
    "modals = ['t', 'a', 'v', 'ta', 'tv', 'av', 'tav']\n",
    "pmodes = list(range(0, 9))\n",
    "seeds = list(range(0, 5))\n",
    "\n",
    "for seed in seeds:\n",
    "    for modal in modals:\n",
    "        for pmode in pmodes:\n",
    "            cmd = f'python fnn.py --ss --modal {modal} --pmode {pmode}  --seed {seed} --save_results'\n",
    "            print(cmd)"
   ]
  },
  {
   "cell_type": "code",
   "execution_count": 1,
   "metadata": {},
   "outputs": [],
   "source": [
    "import pickle \n",
    "import numpy as np \n",
    "import pandas as pd\n",
    "\n",
    "import matplotlib.pyplot as plt \n",
    "import japanize_matplotlib\n",
    "import statistics\n",
    "from scipy import stats\n",
    "\n",
    "version = \"1911\"\n",
    "with open(f'../data/Hazumi_features/Hazumi{version}_features.pkl', mode='rb') as f:\n",
    "    SS_raw, SS_binary, SS_ternary, TS_raw, TS_binary, TS_ternary, SP, TP, Text, Audio, Visual, ID \\\n",
    "        = pickle.load(f, encoding='utf-8')"
   ]
  },
  {
   "cell_type": "code",
   "execution_count": 13,
   "metadata": {},
   "outputs": [
    {
     "name": "stdout",
     "output_type": "stream",
     "text": [
      "女性\n",
      "0.46696310040300787\n",
      "[[ 45 149 131]\n",
      " [ 30 185 247]\n",
      " [  6 139 367]]\n",
      "男性\n",
      "0.6216860673107604\n",
      "[[ 38  59  63]\n",
      " [ 31 221 134]\n",
      " [ 28 128 438]]\n",
      "50歳未満\n",
      "0.473285124646936\n",
      "[[ 34 130 134]\n",
      " [ 39 245 250]\n",
      " [ 18  79 298]]\n",
      "50歳以上\n",
      "0.6034622763816205\n",
      "[[ 49  78  60]\n",
      " [ 22 161 131]\n",
      " [ 16 188 507]]\n"
     ]
    }
   ],
   "source": [
    "from sklearn.metrics import accuracy_score, confusion_matrix\n",
    "np.set_printoptions(precision=3)\n",
    "gender = [[], []]\n",
    "age = [[], []]\n",
    "ss_gender = [[], []]\n",
    "ss_age = [[], []]\n",
    "ts_gender = [[], []]\n",
    "ts_age = [[], []]\n",
    "\n",
    "for id in ID:\n",
    "    acc = accuracy_score(SS_ternary[id], TS_ternary[id])\n",
    "    if id[4] == 'F':\n",
    "        gender[0].append(acc)\n",
    "        ss_gender[0].extend(SS_ternary[id])\n",
    "        ts_gender[0].extend(TS_ternary[id])\n",
    "    else:\n",
    "        gender[1].append(acc)\n",
    "        ss_gender[1].extend(SS_ternary[id])\n",
    "        ts_gender[1].extend(TS_ternary[id])\n",
    "    if int(id[5]) <= 4:\n",
    "        age[0].append(acc)\n",
    "        ss_age[0].extend(SS_ternary[id])\n",
    "        ts_age[0].extend(TS_ternary[id])\n",
    "    else:\n",
    "        age[1].append(acc)\n",
    "        ss_age[1].extend(SS_ternary[id])\n",
    "        ts_age[1].extend(TS_ternary[id])\n",
    "\n",
    "print(\"女性\")\n",
    "print(sum(gender[0]) / len(gender[0])) \n",
    "print(confusion_matrix(ss_gender[0], ts_gender[0]))\n",
    "# print(confusion_matrix(ss_gender[0], ts_gender[0]) / sum(ss_gender[0]))\n",
    "\n",
    "print(\"男性\")\n",
    "print(sum(gender[1]) / len(gender[1])) \n",
    "print(confusion_matrix(ss_gender[1], ts_gender[1]))\n",
    "# print(confusion_matrix(ss_gender[1], ts_gender[1]) / sum(ss_gender[1]))\n",
    "\n",
    "print(\"50歳未満\")\n",
    "print(sum(age[0]) / len(age[0]))\n",
    "print(confusion_matrix(ss_age[0], ts_age[0]))\n",
    "# print(confusion_matrix(ss_age[0], ts_age[0]) / sum(ss_age[0]))\n",
    "\n",
    "print(\"50歳以上\")\n",
    "print(sum(age[1]) / len(age[1]))\n",
    "print(confusion_matrix(ss_age[1], ts_age[1]))\n",
    "# print(confusion_matrix(ss_age[1], ts_age[1]) / sum(ss_age[1]))\n"
   ]
  },
  {
   "cell_type": "markdown",
   "metadata": {},
   "source": [
    "# ユーザ特性グループごとの人数"
   ]
  },
  {
   "cell_type": "markdown",
   "metadata": {},
   "source": [
    "### 性別と年齢"
   ]
  },
  {
   "cell_type": "code",
   "execution_count": 168,
   "metadata": {},
   "outputs": [
    {
     "data": {
      "text/html": [
       "<div>\n",
       "<style scoped>\n",
       "    .dataframe tbody tr th:only-of-type {\n",
       "        vertical-align: middle;\n",
       "    }\n",
       "\n",
       "    .dataframe tbody tr th {\n",
       "        vertical-align: top;\n",
       "    }\n",
       "\n",
       "    .dataframe thead th {\n",
       "        text-align: right;\n",
       "    }\n",
       "</style>\n",
       "<table border=\"1\" class=\"dataframe\">\n",
       "  <thead>\n",
       "    <tr style=\"text-align: right;\">\n",
       "      <th></th>\n",
       "      <th>20代</th>\n",
       "      <th>30代</th>\n",
       "      <th>40代</th>\n",
       "      <th>50代</th>\n",
       "      <th>60代</th>\n",
       "      <th>70代</th>\n",
       "    </tr>\n",
       "  </thead>\n",
       "  <tbody>\n",
       "    <tr>\n",
       "      <th>女性</th>\n",
       "      <td>2</td>\n",
       "      <td>3</td>\n",
       "      <td>3</td>\n",
       "      <td>2</td>\n",
       "      <td>3</td>\n",
       "      <td>1</td>\n",
       "    </tr>\n",
       "    <tr>\n",
       "      <th>男性</th>\n",
       "      <td>3</td>\n",
       "      <td>0</td>\n",
       "      <td>2</td>\n",
       "      <td>2</td>\n",
       "      <td>3</td>\n",
       "      <td>2</td>\n",
       "    </tr>\n",
       "  </tbody>\n",
       "</table>\n",
       "</div>"
      ],
      "text/plain": [
       "    20代  30代  40代  50代  60代  70代\n",
       "女性    2    3    3    2    3    1\n",
       "男性    3    0    2    2    3    2"
      ]
     },
     "execution_count": 168,
     "metadata": {},
     "output_type": "execute_result"
    }
   ],
   "source": [
    "gender_label = [\"女性\", \"男性\"]\n",
    "age_label = [\"20代\", \"30代\", \"40代\", \"50代\", \"60代\", \"70代\"]\n",
    "count = [[0, 0, 0, 0, 0, 0], [0, 0, 0, 0, 0, 0]]\n",
    "for id in ID:\n",
    "    if id[4] == 'F':\n",
    "        count[0][int(id[5]) - 2] += 1\n",
    "    else:\n",
    "        count[1][int(id[5]) - 2] += 1\n",
    "count_df = pd.DataFrame(count, index=gender_label, columns=age_label)\n",
    "count_df"
   ]
  },
  {
   "cell_type": "markdown",
   "metadata": {},
   "source": [
    "### 性格特性（標準化前）"
   ]
  },
  {
   "cell_type": "code",
   "execution_count": 169,
   "metadata": {},
   "outputs": [
    {
     "data": {
      "text/html": [
       "<div>\n",
       "<style scoped>\n",
       "    .dataframe tbody tr th:only-of-type {\n",
       "        vertical-align: middle;\n",
       "    }\n",
       "\n",
       "    .dataframe tbody tr th {\n",
       "        vertical-align: top;\n",
       "    }\n",
       "\n",
       "    .dataframe thead th {\n",
       "        text-align: right;\n",
       "    }\n",
       "</style>\n",
       "<table border=\"1\" class=\"dataframe\">\n",
       "  <thead>\n",
       "    <tr style=\"text-align: right;\">\n",
       "      <th></th>\n",
       "      <th>外向性</th>\n",
       "      <th>協調性</th>\n",
       "      <th>勤勉性</th>\n",
       "      <th>神経症傾向</th>\n",
       "      <th>開放性</th>\n",
       "    </tr>\n",
       "  </thead>\n",
       "  <tbody>\n",
       "    <tr>\n",
       "      <th>Low</th>\n",
       "      <td>3</td>\n",
       "      <td>1</td>\n",
       "      <td>1</td>\n",
       "      <td>24</td>\n",
       "      <td>3</td>\n",
       "    </tr>\n",
       "    <tr>\n",
       "      <th>High</th>\n",
       "      <td>23</td>\n",
       "      <td>25</td>\n",
       "      <td>25</td>\n",
       "      <td>2</td>\n",
       "      <td>23</td>\n",
       "    </tr>\n",
       "  </tbody>\n",
       "</table>\n",
       "</div>"
      ],
      "text/plain": [
       "      外向性  協調性  勤勉性  神経症傾向  開放性\n",
       "Low     3    1    1     24    3\n",
       "High   23   25   25      2   23"
      ]
     },
     "execution_count": 169,
     "metadata": {},
     "output_type": "execute_result"
    }
   ],
   "source": [
    "c = [[0, 0, 0, 0, 0], [0, 0, 0, 0, 0]]\n",
    "index_label = [\"Low\", \"High\"]\n",
    "column_label = [\"外向性\", \"協調性\", \"勤勉性\", \"神経症傾向\", \"開放性\"]\n",
    "for id in ID:\n",
    "    for i, tp in enumerate(TP[id]):\n",
    "        if tp < 7: \n",
    "            c[0][i] += 1\n",
    "        else:\n",
    "            c[1][i] += 1\n",
    "c\n",
    "c_df = pd.DataFrame(c, index=index_label, columns=column_label)\n",
    "c_df"
   ]
  },
  {
   "cell_type": "markdown",
   "metadata": {},
   "source": [
    "### 性格特性（標準化後）"
   ]
  },
  {
   "cell_type": "code",
   "execution_count": 170,
   "metadata": {},
   "outputs": [
    {
     "data": {
      "text/html": [
       "<div>\n",
       "<style scoped>\n",
       "    .dataframe tbody tr th:only-of-type {\n",
       "        vertical-align: middle;\n",
       "    }\n",
       "\n",
       "    .dataframe tbody tr th {\n",
       "        vertical-align: top;\n",
       "    }\n",
       "\n",
       "    .dataframe thead th {\n",
       "        text-align: right;\n",
       "    }\n",
       "</style>\n",
       "<table border=\"1\" class=\"dataframe\">\n",
       "  <thead>\n",
       "    <tr style=\"text-align: right;\">\n",
       "      <th></th>\n",
       "      <th>外向性</th>\n",
       "      <th>協調性</th>\n",
       "      <th>勤勉性</th>\n",
       "      <th>神経症傾向</th>\n",
       "      <th>開放性</th>\n",
       "    </tr>\n",
       "  </thead>\n",
       "  <tbody>\n",
       "    <tr>\n",
       "      <th>Low</th>\n",
       "      <td>11</td>\n",
       "      <td>12</td>\n",
       "      <td>13</td>\n",
       "      <td>16</td>\n",
       "      <td>12</td>\n",
       "    </tr>\n",
       "    <tr>\n",
       "      <th>High</th>\n",
       "      <td>15</td>\n",
       "      <td>14</td>\n",
       "      <td>13</td>\n",
       "      <td>10</td>\n",
       "      <td>14</td>\n",
       "    </tr>\n",
       "  </tbody>\n",
       "</table>\n",
       "</div>"
      ],
      "text/plain": [
       "      外向性  協調性  勤勉性  神経症傾向  開放性\n",
       "Low    11   12   13     16   12\n",
       "High   15   14   13     10   14"
      ]
     },
     "execution_count": 170,
     "metadata": {},
     "output_type": "execute_result"
    }
   ],
   "source": [
    "c = [[0, 0, 0, 0, 0], [0, 0, 0, 0, 0]]\n",
    "index_label = [\"Low\", \"High\"]\n",
    "column_label = [\"外向性\", \"協調性\", \"勤勉性\", \"神経症傾向\", \"開放性\"]\n",
    "_df = pd.DataFrame.from_dict(TP, orient='index', columns=column_label)\n",
    "tp_df = (_df - _df.mean() ) / _df.std(ddof=0)\n",
    "for id in ID:\n",
    "    for i in range(5):\n",
    "        tp = tp_df.loc[id, column_label[i]]\n",
    "        if tp < 0: \n",
    "            c[0][i] += 1\n",
    "        else:\n",
    "            c[1][i] += 1\n",
    "c\n",
    "c_df = pd.DataFrame(c, index=index_label, columns=column_label)\n",
    "c_df"
   ]
  },
  {
   "cell_type": "markdown",
   "metadata": {},
   "source": [
    "# 本人心象と第三者心象のデータ数"
   ]
  },
  {
   "cell_type": "code",
   "execution_count": 171,
   "metadata": {},
   "outputs": [
    {
     "name": "stdout",
     "output_type": "stream",
     "text": [
      "本人心象 :  [485, 848, 1106] 2439\n",
      "第三者心象 :  [178, 881, 1380] 2439\n"
     ]
    }
   ],
   "source": [
    "c_ss = [0, 0, 0]\n",
    "c_ts = [0 ,0, 0]\n",
    "for id in ID:\n",
    "    for ss, ts in zip(SS_raw[id], TS_raw[id]):\n",
    "        if ss <= 3:\n",
    "            c_ss[0] += 1\n",
    "        elif ss == 4:\n",
    "            c_ss[1] += 1\n",
    "        else:\n",
    "            c_ss[2] += 1\n",
    "        \n",
    "        if ts < 3.5:\n",
    "            c_ts[0] += 1\n",
    "        elif ts <= 4.5:\n",
    "            c_ts[1] += 1\n",
    "        else:\n",
    "            c_ts[2] += 1\n",
    "\n",
    "print(\"本人心象 : \", c_ss, sum(c_ss))\n",
    "print(\"第三者心象 : \", c_ts, sum(c_ts))"
   ]
  },
  {
   "cell_type": "markdown",
   "metadata": {},
   "source": [
    "# 本人心象と第三者心象のバラつき"
   ]
  },
  {
   "cell_type": "markdown",
   "metadata": {},
   "source": [
    "### 本人心象"
   ]
  },
  {
   "cell_type": "code",
   "execution_count": 172,
   "metadata": {},
   "outputs": [
    {
     "data": {
      "image/png": "[encoded data removed]",
      "text/plain": [
       "<Figure size 900x400 with 1 Axes>"
      ]
     },
     "metadata": {},
     "output_type": "display_data"
    },
    {
     "name": "stdout",
     "output_type": "stream",
     "text": [
      "標準偏差:  0.84\n"
     ]
    }
   ],
   "source": [
    "SS, ss = [], []\n",
    "for id in ID:\n",
    "    SS.append(SS_raw[id])\n",
    "    ss.append(sum(SS_raw[id]) / len(SS_raw[id]))\n",
    "fig, ax = plt.subplots(figsize=(9,4)) \n",
    "bp = ax.boxplot(SS)\n",
    "new_ID = []\n",
    "for id in ID:\n",
    "    new_ID.append(id[4:])\n",
    "ax.set_xticklabels(new_ID, rotation=45)\n",
    "plt.xlabel(\"ID\")\n",
    "plt.ylabel(\"本人心象\")\n",
    "plt.show()\n",
    "print(\"標準偏差: \", round(statistics.pstdev(ss), 2))"
   ]
  },
  {
   "cell_type": "markdown",
   "metadata": {},
   "source": [
    "### 第三者心象"
   ]
  },
  {
   "cell_type": "code",
   "execution_count": 173,
   "metadata": {},
   "outputs": [
    {
     "data": {
      "image/png": "[encoded data removed]",
      "text/plain": [
       "<Figure size 900x400 with 1 Axes>"
      ]
     },
     "metadata": {},
     "output_type": "display_data"
    },
    {
     "name": "stdout",
     "output_type": "stream",
     "text": [
      "標準偏差:  0.22\n"
     ]
    }
   ],
   "source": [
    "TS, ts = [], []\n",
    "for id in ID:\n",
    "    TS.append(TS_raw[id])\n",
    "    ts.append(sum(TS_raw[id]) / len(TS_raw[id]))\n",
    "fig, ax = plt.subplots(figsize=(9,4)) \n",
    "bp = ax.boxplot(TS)\n",
    "new_ID = []\n",
    "for id in ID:\n",
    "    new_ID.append(id[4:])\n",
    "ax.set_xticklabels(new_ID, rotation=45)\n",
    "# ax.set_xticklabels(ID, rotation=45)\n",
    "plt.xlabel(\"ID\")\n",
    "plt.ylabel(\"第三者心象\")\n",
    "plt.show()\n",
    "print(\"標準偏差: \", round(statistics.pstdev(ts), 2))"
   ]
  },
  {
   "cell_type": "markdown",
   "metadata": {},
   "source": [
    "# 各ユーザ特性と心象の関係"
   ]
  },
  {
   "cell_type": "markdown",
   "metadata": {},
   "source": [
    "### 全体"
   ]
  },
  {
   "cell_type": "code",
   "execution_count": 174,
   "metadata": {},
   "outputs": [
    {
     "name": "stdout",
     "output_type": "stream",
     "text": [
      "平均: (all) 4.495338670433066\n",
      "標準偏差: (all) 0.835223100593629\n"
     ]
    }
   ],
   "source": [
    "ss = []\n",
    "for id in ID:\n",
    "    ss.append(sum(SS_raw[id]) / len(SS_raw[id]))\n",
    "\n",
    "print(\"平均: (all)\", statistics.mean(ss))\n",
    "print(\"標準偏差: (all)\", statistics.pstdev(ss))"
   ]
  },
  {
   "cell_type": "markdown",
   "metadata": {},
   "source": [
    "### 性別"
   ]
  },
  {
   "cell_type": "code",
   "execution_count": 175,
   "metadata": {},
   "outputs": [
    {
     "name": "stdout",
     "output_type": "stream",
     "text": [
      "平均: (female) 4.35962027821899\n",
      "標準偏差: (female) 0.9768729068108434\n",
      "平均: (male) 4.653676794682821\n",
      "標準偏差: (male) 0.5929365178328946\n"
     ]
    },
    {
     "data": {
      "text/plain": [
       "Ttest_indResult(statistic=-0.9058943850659903, pvalue=0.374859005522701)"
      ]
     },
     "execution_count": 175,
     "metadata": {},
     "output_type": "execute_result"
    }
   ],
   "source": [
    "f = []\n",
    "m = []\n",
    "for id in ID:\n",
    "    if id[4] == 'F':\n",
    "        f.append(sum(SS_raw[id]) / len(SS_raw[id]))\n",
    "    else:\n",
    "        m.append(sum(SS_raw[id]) / len(SS_raw[id]))\n",
    "\n",
    "print(\"平均: (female)\", statistics.mean(f))\n",
    "print(\"標準偏差: (female)\", statistics.pstdev(f))\n",
    "print(\"平均: (male)\", statistics.mean(m))\n",
    "print(\"標準偏差: (male)\", statistics.pstdev(m))\n",
    "\n",
    "A= np.array(f)\n",
    "B = np.array(m)\n",
    "\n",
    "stats.ttest_ind(A, B, equal_var=False)"
   ]
  },
  {
   "cell_type": "markdown",
   "metadata": {},
   "source": [
    "### 年齢"
   ]
  },
  {
   "cell_type": "code",
   "execution_count": 176,
   "metadata": {},
   "outputs": [
    {
     "name": "stdout",
     "output_type": "stream",
     "text": [
      "平均: (young) 4.112285826768333\n",
      "標準偏差: (young) 0.6270222730135586\n",
      "平均: (old) 4.878391514097799\n",
      "標準偏差: (old) 0.8417715620024858\n"
     ]
    },
    {
     "data": {
      "text/plain": [
       "Ttest_indResult(statistic=-2.5283691424725174, pvalue=0.019072628677694176)"
      ]
     },
     "execution_count": 176,
     "metadata": {},
     "output_type": "execute_result"
    }
   ],
   "source": [
    "y = []\n",
    "o = []\n",
    "for id in ID:\n",
    "    if int(id[5]) <= 4:\n",
    "        y.append(sum(SS_raw[id]) / len(SS_raw[id]))\n",
    "    else:\n",
    "        o.append(sum(SS_raw[id]) / len(SS_raw[id]))\n",
    "\n",
    "print(\"平均: (young)\", statistics.mean(y))\n",
    "print(\"標準偏差: (young)\", statistics.pstdev(y))\n",
    "print(\"平均: (old)\", statistics.mean(o))\n",
    "print(\"標準偏差: (old)\", statistics.pstdev(o))\n",
    "\n",
    "A= np.array(y)\n",
    "B = np.array(o)\n",
    "\n",
    "stats.ttest_ind(A, B, equal_var=False)"
   ]
  },
  {
   "cell_type": "markdown",
   "metadata": {},
   "source": [
    "### 性格特性"
   ]
  },
  {
   "cell_type": "code",
   "execution_count": 177,
   "metadata": {},
   "outputs": [],
   "source": [
    "columns = ['E', 'A', 'C', 'N', 'O']\n",
    "_df = pd.DataFrame.from_dict(TP, orient='index', columns=columns)\n",
    "tp = (_df - _df.mean() ) / _df.std(ddof=0)"
   ]
  },
  {
   "cell_type": "code",
   "execution_count": 178,
   "metadata": {},
   "outputs": [
    {
     "name": "stdout",
     "output_type": "stream",
     "text": [
      "平均: (young) 3.9811653023671605\n",
      "標準偏差: (young) 0.5579143811712098\n",
      "平均: (old) 4.872399140348063\n",
      "標準偏差: (old) 0.8030296612082496\n"
     ]
    },
    {
     "data": {
      "text/plain": [
       "Ttest_indResult(statistic=-3.2078693901319357, pvalue=0.0037704841983342047)"
      ]
     },
     "execution_count": 178,
     "metadata": {},
     "output_type": "execute_result"
    }
   ],
   "source": [
    "# 外向性\n",
    "l = []\n",
    "h = []\n",
    "for id in ID:\n",
    "    if tp.loc[id]['E'] < 0:\n",
    "        l.append(sum(SS_raw[id]) / len(SS_raw[id]))\n",
    "    else:\n",
    "        h.append(sum(SS_raw[id]) / len(SS_raw[id]))\n",
    "\n",
    "print(\"平均: (Low)\", statistics.mean(l))\n",
    "print(\"標準偏差: (Low)\", statistics.pstdev(l))\n",
    "print(\"平均: (High)\", statistics.mean(h))\n",
    "print(\"標準偏差: (High)\", statistics.pstdev(h))\n",
    "\n",
    "A= np.array(l)\n",
    "B = np.array(h)\n",
    "\n",
    "stats.ttest_ind(A, B, equal_var=False)"
   ]
  },
  {
   "cell_type": "code",
   "execution_count": 187,
   "metadata": {},
   "outputs": [
    {
     "name": "stdout",
     "output_type": "stream",
     "text": [
      "平均: (Low) 4.319697215497413\n",
      "標準偏差: (Low) 0.7312809510913526\n",
      "平均: (High) 4.645888488949339\n",
      "標準偏差: (High) 0.8877243720591885\n"
     ]
    },
    {
     "data": {
      "text/plain": [
       "Ttest_indResult(statistic=-0.9869406324248576, pvalue=0.33352479693682724)"
      ]
     },
     "execution_count": 187,
     "metadata": {},
     "output_type": "execute_result"
    }
   ],
   "source": [
    "# 協調性\n",
    "l = []\n",
    "h = []\n",
    "for id in ID:\n",
    "    if tp.loc[id]['A'] < 0:\n",
    "        l.append(sum(SS_raw[id]) / len(SS_raw[id]))\n",
    "    else:\n",
    "        h.append(sum(SS_raw[id]) / len(SS_raw[id]))\n",
    "\n",
    "print(\"平均: (Low)\", statistics.mean(l))\n",
    "print(\"標準偏差: (Low)\", statistics.pstdev(l))\n",
    "print(\"平均: (High)\", statistics.mean(h))\n",
    "print(\"標準偏差: (High)\", statistics.pstdev(h))\n",
    "\n",
    "A= np.array(l)\n",
    "B = np.array(h)\n",
    "\n",
    "stats.ttest_ind(A, B, equal_var=False)"
   ]
  },
  {
   "cell_type": "code",
   "execution_count": 188,
   "metadata": {},
   "outputs": [
    {
     "name": "stdout",
     "output_type": "stream",
     "text": [
      "平均: (Low) 4.403041386433939\n",
      "標準偏差: (Low) 0.6893970362187074\n",
      "平均: (High) 4.5876359544321925\n",
      "標準偏差: (High) 0.9502049277477476\n"
     ]
    },
    {
     "data": {
      "text/plain": [
       "Ttest_indResult(statistic=-0.5447033992654429, pvalue=0.5914635722015389)"
      ]
     },
     "execution_count": 188,
     "metadata": {},
     "output_type": "execute_result"
    }
   ],
   "source": [
    "# 勤勉性\n",
    "l = []\n",
    "h = []\n",
    "for id in ID:\n",
    "    if tp.loc[id]['C'] < 0:\n",
    "        l.append(sum(SS_raw[id]) / len(SS_raw[id]))\n",
    "    else:\n",
    "        h.append(sum(SS_raw[id]) / len(SS_raw[id]))\n",
    "\n",
    "print(\"平均: (Low)\", statistics.mean(l))\n",
    "print(\"標準偏差: (Low)\", statistics.pstdev(l))\n",
    "print(\"平均: (High)\", statistics.mean(h))\n",
    "print(\"標準偏差: (High)\", statistics.pstdev(h))\n",
    "\n",
    "A= np.array(l)\n",
    "B = np.array(h)\n",
    "\n",
    "stats.ttest_ind(A, B, equal_var=False)"
   ]
  },
  {
   "cell_type": "code",
   "execution_count": 189,
   "metadata": {},
   "outputs": [
    {
     "name": "stdout",
     "output_type": "stream",
     "text": [
      "平均: (Low) 4.689727213376145\n",
      "標準偏差: (Low) 0.8076530522112717\n",
      "平均: (High) 4.184317001724139\n",
      "標準偏差: (High) 0.7828631939139685\n"
     ]
    },
    {
     "data": {
      "text/plain": [
       "Ttest_indResult(statistic=1.5130137170477145, pvalue=0.14638516281665231)"
      ]
     },
     "execution_count": 189,
     "metadata": {},
     "output_type": "execute_result"
    }
   ],
   "source": [
    "# 神経症傾向\n",
    "l = []\n",
    "h = []\n",
    "for id in ID:\n",
    "    if tp.loc[id]['N'] < 0:\n",
    "        l.append(sum(SS_raw[id]) / len(SS_raw[id]))\n",
    "    else:\n",
    "        h.append(sum(SS_raw[id]) / len(SS_raw[id]))\n",
    "\n",
    "print(\"平均: (Low)\", statistics.mean(l))\n",
    "print(\"標準偏差: (Low)\", statistics.pstdev(l))\n",
    "print(\"平均: (High)\", statistics.mean(h))\n",
    "print(\"標準偏差: (High)\", statistics.pstdev(h))\n",
    "\n",
    "A= np.array(l)\n",
    "B = np.array(h)\n",
    "\n",
    "stats.ttest_ind(A, B, equal_var=False)\n"
   ]
  },
  {
   "cell_type": "code",
   "execution_count": 190,
   "metadata": {},
   "outputs": [
    {
     "name": "stdout",
     "output_type": "stream",
     "text": [
      "平均: (Low) 4.218175123307026\n",
      "標準偏差: (Low) 0.7020883723741145\n",
      "平均: (High) 4.732907425112528\n",
      "標準偏差: (High) 0.8664550504933368\n"
     ]
    },
    {
     "data": {
      "text/plain": [
       "Ttest_indResult(statistic=-1.6072737650473423, pvalue=0.12109630971029527)"
      ]
     },
     "execution_count": 190,
     "metadata": {},
     "output_type": "execute_result"
    }
   ],
   "source": [
    "# 開放性\n",
    "l = []\n",
    "h = []\n",
    "for id in ID:\n",
    "    if tp.loc[id]['O'] < 0:\n",
    "        l.append(sum(SS_raw[id]) / len(SS_raw[id]))\n",
    "    else:\n",
    "        h.append(sum(SS_raw[id]) / len(SS_raw[id]))\n",
    "\n",
    "print(\"平均: (Low)\", statistics.mean(l))\n",
    "print(\"標準偏差: (Low)\", statistics.pstdev(l))\n",
    "print(\"平均: (High)\", statistics.mean(h))\n",
    "print(\"標準偏差: (High)\", statistics.pstdev(h))\n",
    "\n",
    "A= np.array(l)\n",
    "B = np.array(h)\n",
    "\n",
    "stats.ttest_ind(A, B, equal_var=False)\n"
   ]
  }
 ],
 "metadata": {
  "kernelspec": {
   "display_name": "personality",
   "language": "python",
   "name": "python3"
  },
  "language_info": {
   "codemirror_mode": {
    "name": "ipython",
    "version": 3
   },
   "file_extension": ".py",
   "mimetype": "text/x-python",
   "name": "python",
   "nbconvert_exporter": "python",
   "pygments_lexer": "ipython3",
   "version": "3.1.0"
  }
 },
 "nbformat": 4,
 "nbformat_minor": 2
}
