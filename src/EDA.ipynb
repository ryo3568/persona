{
 "cells": [
  {
   "cell_type": "code",
   "execution_count": 2,
   "metadata": {},
   "outputs": [],
   "source": [
    "import pandas as pd\n",
    "import numpy as np\n",
    "import os \n",
    "import glob"
   ]
  },
  {
   "cell_type": "code",
   "execution_count": 3,
   "metadata": {},
   "outputs": [],
   "source": [
    "def make_label(filename):\n",
    "    df = pd.read_excel('../data/Hazumi1911/questionnaire/1911questionnaires.xlsx', sheet_name=4, index_col=0, header=1)\n",
    "    data = df.loc[filename, :].values.tolist()\n",
    "    return [(data[0]+(8-data[5]))/2, ((8-data[1])+data[6])/2, (data[2]+(8-data[7]))/2, (data[3]+(8-data[8]))/2, (data[4]+(8-data[9]))/2]"
   ]
  },
  {
   "cell_type": "code",
   "execution_count": 4,
   "metadata": {},
   "outputs": [
    {
     "name": "stdout",
     "output_type": "stream",
     "text": [
      "(71, 2613)\n",
      "(113, 2613)\n",
      "(74, 2613)\n",
      "(77, 2613)\n",
      "(98, 2613)\n",
      "(97, 2613)\n",
      "(110, 2613)\n",
      "(90, 2613)\n",
      "(110, 2613)\n",
      "(113, 2613)\n",
      "(81, 2613)\n",
      "(84, 2613)\n",
      "(84, 2613)\n",
      "(97, 2613)\n",
      "(96, 2613)\n",
      "(101, 2613)\n",
      "(98, 2613)\n",
      "(95, 2613)\n",
      "(107, 2613)\n",
      "(104, 2613)\n",
      "(77, 2613)\n",
      "(94, 2613)\n",
      "(54, 2613)\n",
      "(110, 2613)\n",
      "(99, 2613)\n",
      "(105, 2613)\n"
     ]
    }
   ],
   "source": [
    "videoIDs = {}\n",
    "videoAudio = {}\n",
    "videoText = {}\n",
    "videoVisual = {} \n",
    "videoLabels = {}\n",
    "videoSentence = {}\n",
    "\n",
    "Vid = []\n",
    "\n",
    "path = '../data/Hazumi1911/dumpfiles/*'\n",
    "\n",
    "files = glob.glob(path)\n",
    "\n",
    "for file_path in sorted(files):\n",
    "    filename = os.path.basename(file_path).split('.', 1)[0]\n",
    "    df = pd.read_csv(file_path)\n",
    "    text = df.loc[:, 'word#0001':'su'].values.tolist()\n",
    "    audio = df.loc[:, 'pcm_RMSenergy_sma_max':'F0_sma_de_kurtosis'].values.tolist()\n",
    "    visual = df.loc[:, '17_acceleration_max':'AU45_c_mean'].values.tolist()\n",
    "    \n",
    "    Vid.append(filename)\n",
    "    videoAudio[filename] = audio \n",
    "    videoText[filename] = text \n",
    "    videoVisual[filename] = visual \n",
    "    videoIDs[filename] = []\n",
    "    videoLabels[filename] = make_label(filename)\n",
    "    videoSentence[filename] = []\n",
    "    print(np.array(text).shape)\n",
    "\n"
   ]
  },
  {
   "cell_type": "code",
   "execution_count": 5,
   "metadata": {},
   "outputs": [],
   "source": [
    "import pickle \n",
    "\n",
    "with open('../data/Hazumi1911/Hazumi1911_features/Hazumi1911_features.pkl', mode='wb') as f:\n",
    "    pickle.dump((videoIDs, videoLabels, videoText, videoAudio, videoVisual, videoSentence, Vid), f)"
   ]
  },
  {
   "cell_type": "code",
   "execution_count": 6,
   "metadata": {},
   "outputs": [
    {
     "name": "stdout",
     "output_type": "stream",
     "text": [
      "1911F2001\n",
      "(71, 2613)\n"
     ]
    }
   ],
   "source": [
    "for k, v in videoText.items():\n",
    "    print(k)\n",
    "    print(np.array(v).shape)\n",
    "    break"
   ]
  },
  {
   "cell_type": "code",
   "execution_count": 10,
   "metadata": {},
   "outputs": [
    {
     "data": {
      "text/plain": [
       "(71, 66)"
      ]
     },
     "execution_count": 10,
     "metadata": {},
     "output_type": "execute_result"
    }
   ],
   "source": [
    "np.array(videoVisual['1911F2001']).shape"
   ]
  },
  {
   "cell_type": "code",
   "execution_count": 8,
   "metadata": {},
   "outputs": [
    {
     "data": {
      "image/png": "[encoded data removed]",
      "text/plain": [
       "<Figure size 432x288 with 1 Axes>"
      ]
     },
     "metadata": {
      "needs_background": "light"
     },
     "output_type": "display_data"
    }
   ],
   "source": [
    "import matplotlib.pyplot as plt \n",
    "\n",
    "x = np.arange(0.1, 1.1, 0.1)\n",
    "y = np.array([1.7584, 1.6046, 1.997, 1.9668, 0.9829, 2.0642, 2.113, 2.0347, 1.9904, 1.0561])\n",
    "plt.plot(x, y)\n",
    "plt.xlabel('sequence length rate')\n",
    "plt.ylabel('loss')\n",
    "plt.show()"
   ]
  },
  {
   "cell_type": "code",
   "execution_count": 9,
   "metadata": {},
   "outputs": [
    {
     "name": "stdout",
     "output_type": "stream",
     "text": [
      "[0.1 0.2 0.3 0.4 0.5 0.6 0.7 0.8 0.9 1. ]\n"
     ]
    }
   ],
   "source": [
    "for rate in [np.arange(0.1, 1.1, 0.1)]:\n",
    "    print(rate)"
   ]
  },
  {
   "cell_type": "code",
   "execution_count": 11,
   "metadata": {},
   "outputs": [
    {
     "data": {
      "text/plain": [
       "{'1911F2001': [4.0, 4.5, 1.5, 5.0, 6.0],\n",
       " '1911F2002': [5.5, 5.5, 2.5, 2.5, 4.0],\n",
       " '1911F3001': [5.5, 5.5, 3.0, 6.5, 5.5],\n",
       " '1911F3002': [5.0, 6.5, 3.5, 4.0, 6.0],\n",
       " '1911F3003': [6.0, 4.5, 4.0, 6.0, 6.0],\n",
       " '1911F4001': [6.0, 6.5, 4.5, 4.0, 3.0],\n",
       " '1911F4002': [6.5, 2.5, 5.0, 4.0, 6.5],\n",
       " '1911F4003': [6.0, 5.5, 2.0, 4.0, 3.5],\n",
       " '1911F5001': [4.0, 6.0, 4.5, 3.5, 5.0],\n",
       " '1911F5002': [6.0, 4.0, 5.5, 4.0, 6.5],\n",
       " '1911F6001': [5.5, 6.0, 5.5, 2.5, 5.0],\n",
       " '1911F6002': [6.5, 6.5, 6.0, 3.5, 4.5],\n",
       " '1911F6003': [6.5, 7.0, 5.5, 3.0, 3.5],\n",
       " '1911F7002': [6.0, 6.5, 4.0, 5.5, 4.5],\n",
       " '1911M2001': [2.5, 5.5, 3.0, 4.0, 4.5],\n",
       " '1911M2002': [5.0, 6.5, 3.0, 5.0, 5.0],\n",
       " '1911M2003': [5.0, 6.5, 5.5, 4.5, 4.0],\n",
       " '1911M4001': [4.5, 5.5, 2.0, 3.5, 6.0],\n",
       " '1911M4002': [6.0, 4.0, 3.0, 4.0, 5.5],\n",
       " '1911M5001': [5.5, 6.0, 3.5, 4.0, 5.5],\n",
       " '1911M5002': [6.0, 5.5, 5.0, 1.5, 5.0],\n",
       " '1911M6001': [6.5, 5.0, 6.5, 2.5, 6.5],\n",
       " '1911M6002': [4.5, 5.5, 4.5, 4.0, 5.0],\n",
       " '1911M6003': [5.5, 5.0, 4.0, 4.0, 6.0],\n",
       " '1911M7001': [3.0, 6.5, 5.0, 4.5, 3.0],\n",
       " '1911M7002': [5.0, 4.0, 6.0, 4.0, 5.5]}"
      ]
     },
     "execution_count": 11,
     "metadata": {},
     "output_type": "execute_result"
    }
   ],
   "source": [
    "videoLabels"
   ]
  },
  {
   "cell_type": "code",
   "execution_count": null,
   "metadata": {},
   "outputs": [],
   "source": [
    "a = []\n",
    "b = []\n",
    "c = []\n",
    "d = []\n",
    "e = []\n",
    "for key, value in videoLabels.items():\n",
    "    a.append(value[0])\n",
    "    b.append(value[1])\n",
    "    c.append(value[2])\n",
    "    d.append(value[3])\n",
    "    e.append(value[4])\n"
   ]
  },
  {
   "cell_type": "code",
   "execution_count": 22,
   "metadata": {},
   "outputs": [
    {
     "data": {
      "text/plain": [
       "(array([2., 2., 2., 0., 3., 5., 0., 4., 5., 3.]),\n",
       " array([3.  , 3.35, 3.7 , 4.05, 4.4 , 4.75, 5.1 , 5.45, 5.8 , 6.15, 6.5 ]),\n",
       " <BarContainer object of 10 artists>)"
      ]
     },
     "execution_count": 22,
     "metadata": {},
     "output_type": "execute_result"
    },
    {
     "data": {
      "image/png": "[encoded data removed]",
      "text/plain": [
       "<Figure size 432x288 with 1 Axes>"
      ]
     },
     "metadata": {
      "needs_background": "light"
     },
     "output_type": "display_data"
    }
   ],
   "source": [
    "plt.title('Openness')\n",
    "plt.xlabel('score')\n",
    "plt.ylabel('Number of people')\n",
    "plt.hist(e)"
   ]
  },
  {
   "cell_type": "code",
   "execution_count": 45,
   "metadata": {},
   "outputs": [],
   "source": [
    "pred2 = [1.5638, 0.6013, 0.8606, 0.6285, 1.1076, 1.1209, 2.4503, 1.3882, 0.2933, 0.8943, 0.5149, 1.1386, 1.5669, 0.5513, 0.5815, 0.9508, 0.7877, 1.2218, 0.2034, 0.222, 1.0106, 2.2366, 0.11, 0.2643, 1.6489, 1.0101]\n",
    "pred1 = [1.6118, 0.8219, 1.4829, 0.3525, 1.0015, 0.8157, 2.3066, 1.4436, 0.4376, 1.1323, 0.3082, 0.4712, 1.751, 0.5494, 1.0386, 0.5242, 0.5565, 0.7284, 0.7132, 0.2525, 1.1329, 0.9495, 0.128, 0.2092, 1.282, 0.9575]"
   ]
  },
  {
   "cell_type": "code",
   "execution_count": 46,
   "metadata": {},
   "outputs": [
    {
     "data": {
      "image/png": "[encoded data removed]",
      "text/plain": [
       "<Figure size 432x288 with 1 Axes>"
      ]
     },
     "metadata": {
      "needs_background": "light"
     },
     "output_type": "display_data"
    }
   ],
   "source": [
    "plt.plot(Vid, pred2, 'o', linestyle='dotted')\n",
    "plt.xticks(rotation=90)\n",
    "plt.xlabel('user')\n",
    "plt.ylabel('MSELoss')\n",
    "plt.show()"
   ]
  },
  {
   "cell_type": "code",
   "execution_count": 38,
   "metadata": {},
   "outputs": [
    {
     "data": {
      "text/plain": [
       "2.4502506003546842"
      ]
     },
     "execution_count": 38,
     "metadata": {},
     "output_type": "execute_result"
    }
   ],
   "source": [
    "y = [4.461722 , 4.5973744 ,3.6602669 ,3.7350514 ,5.1462593]\n",
    "t = [6.5 ,2.5 ,5. , 4. , 6.5]\n",
    "sum = 0\n",
    "for i in range(len(y)):\n",
    "    sum += (y[i] - t[i]) * (y[i] - t[i])\n",
    "sum / len(y)"
   ]
  },
  {
   "cell_type": "code",
   "execution_count": 40,
   "metadata": {},
   "outputs": [
    {
     "data": {
      "text/plain": [
       "0.11000842108426986"
      ]
     },
     "execution_count": 40,
     "metadata": {},
     "output_type": "execute_result"
    }
   ],
   "source": [
    "y = [5.0385575 ,5.2490487 ,4.1965404, 3.713891 , 4.8480945]\n",
    "t = [4.5 ,5.5 ,4.5 ,4.  ,5. ]\n",
    "sum = 0\n",
    "for i in range(len(y)):\n",
    "    sum += (y[i] - t[i]) * (y[i] - t[i])\n",
    "sum / len(y)"
   ]
  },
  {
   "cell_type": "code",
   "execution_count": 43,
   "metadata": {},
   "outputs": [
    {
     "data": {
      "text/plain": [
       "0.8219"
      ]
     },
     "execution_count": 43,
     "metadata": {},
     "output_type": "execute_result"
    }
   ],
   "source": [
    "import statistics \n",
    "\n",
    "median = statistics.median_high(pred)\n",
    "median"
   ]
  },
  {
   "cell_type": "code",
   "execution_count": null,
   "metadata": {},
   "outputs": [],
   "source": []
  }
 ],
 "metadata": {
  "kernelspec": {
   "display_name": "cross-corpus",
   "language": "python",
   "name": "cross-corpus"
  },
  "language_info": {
   "codemirror_mode": {
    "name": "ipython",
    "version": 3
   },
   "file_extension": ".py",
   "mimetype": "text/x-python",
   "name": "python",
   "nbconvert_exporter": "python",
   "pygments_lexer": "ipython3",
   "version": "3.10.4"
  },
  "orig_nbformat": 4
 },
 "nbformat": 4,
 "nbformat_minor": 2
}
