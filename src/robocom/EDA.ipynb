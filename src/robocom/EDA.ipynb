{
 "cells": [
  {
   "cell_type": "code",
   "execution_count": 9,
   "metadata": {},
   "outputs": [],
   "source": [
    "import pickle \n",
    "path = f'../../data/Hazumi_features/Hazumiall_features_raw.pkl'\n",
    "_, TS, _, _, _, _, _, vid = pickle.load(open(path, 'rb'), encoding='utaf-8')"
   ]
  },
  {
   "cell_type": "code",
   "execution_count": 8,
   "metadata": {},
   "outputs": [
    {
     "name": "stdout",
     "output_type": "stream",
     "text": [
      "[810, 5995] 0.11903012490815577 0.8809698750918442\n",
      "[1212, 7152] 0.1449067431850789 0.8550932568149211\n"
     ]
    }
   ],
   "source": [
    "# binary\n",
    "male = [0, 0]\n",
    "female = [0, 0]\n",
    "for id in vid:\n",
    "    for ts in TS[id]:\n",
    "        if id[4] == 'F':\n",
    "            female[ts] += 1\n",
    "        else:\n",
    "            male[ts] += 1\n",
    "print(male, male[0] / sum(male), male[1] / sum(male))\n",
    "print(female, female[0] / sum(female), female[1] / sum(female))"
   ]
  },
  {
   "cell_type": "code",
   "execution_count": 16,
   "metadata": {},
   "outputs": [
    {
     "name": "stdout",
     "output_type": "stream",
     "text": [
      "4.735\n",
      "0.348\n",
      "4.729\n",
      "0.339\n",
      "4.74\n",
      "0.356\n"
     ]
    }
   ],
   "source": [
    "# raw\n",
    "all = []\n",
    "male = [] \n",
    "female = []\n",
    "for id in vid:\n",
    "    mean = round(sum(TS[id]) / len(TS[id]), 3)\n",
    "    all.append(mean)\n",
    "    if id[4] == 'F':\n",
    "        female.append(mean)\n",
    "    else:\n",
    "        male.append(mean)\n",
    "import statistics\n",
    "print(round(sum(all) / len(all), 3))\n",
    "print(round(statistics.pstdev(all), 3))\n",
    "print(round(sum(male) / len(male), 3))\n",
    "print(round(statistics.pstdev(male), 3))\n",
    "print(round(sum(female) / len(female), 3))\n",
    "print(round(statistics.pstdev(female), 3))"
   ]
  },
  {
   "cell_type": "code",
   "execution_count": null,
   "metadata": {},
   "outputs": [],
   "source": []
  }
 ],
 "metadata": {
  "kernelspec": {
   "display_name": "personality",
   "language": "python",
   "name": "python3"
  },
  "language_info": {
   "codemirror_mode": {
    "name": "ipython",
    "version": 3
   },
   "file_extension": ".py",
   "mimetype": "text/x-python",
   "name": "python",
   "nbconvert_exporter": "python",
   "pygments_lexer": "ipython3",
   "version": "3.10.9"
  }
 },
 "nbformat": 4,
 "nbformat_minor": 2
}
