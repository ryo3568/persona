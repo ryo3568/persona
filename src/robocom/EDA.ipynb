{
 "cells": [
  {
   "cell_type": "code",
   "execution_count": 26,
   "metadata": {},
   "outputs": [],
   "source": [
    "import pickle \n",
    "import statistics\n",
    "path = f'../../data/Hazumi_features/Hazumiall_features_raw.pkl'\n",
    "_, TS, _, _, _, _, _, vid = pickle.load(open(path, 'rb'), encoding='utaf-8')"
   ]
  },
  {
   "cell_type": "code",
   "execution_count": 8,
   "metadata": {},
   "outputs": [
    {
     "name": "stdout",
     "output_type": "stream",
     "text": [
      "[810, 5995] 0.11903012490815577 0.8809698750918442\n",
      "[1212, 7152] 0.1449067431850789 0.8550932568149211\n"
     ]
    }
   ],
   "source": [
    "# binary\n",
    "male = [0, 0]\n",
    "female = [0, 0]\n",
    "for id in vid:\n",
    "    for ts in TS[id]:\n",
    "        if id[4] == 'F':\n",
    "            female[ts] += 1\n",
    "        else:\n",
    "            male[ts] += 1\n",
    "print(male, male[0] / sum(male), male[1] / sum(male))\n",
    "print(female, female[0] / sum(female), female[1] / sum(female))"
   ]
  },
  {
   "cell_type": "code",
   "execution_count": 28,
   "metadata": {},
   "outputs": [
    {
     "name": "stdout",
     "output_type": "stream",
     "text": [
      "Gender\n",
      "All :  4.735  ±  0.348\n",
      "Man :  4.729  ±  0.339\n",
      "Woman :  4.74  ±  0.356\n",
      "Age\n",
      "All :  4.735  ±  0.348\n",
      "Young :  4.728  ±  0.339\n",
      "Old :  4.759  ±  0.376\n",
      "Age\n",
      "All :  4.735  ±  0.348\n",
      "Young1 :  4.743  ±  0.368\n",
      "Young2 :  4.708  ±  0.335\n",
      "Young3 :  4.732  ±  0.32\n",
      "Old1 :  4.794  ±  0.366\n",
      "Old2 :  4.907  ±  0.3\n",
      "Old3 :  4.475  ±  0.337\n"
     ]
    }
   ],
   "source": [
    "# raw\n",
    "all = []\n",
    "male = [] \n",
    "female = []\n",
    "for id in vid:\n",
    "    mean = round(sum(TS[id]) / len(TS[id]), 3)\n",
    "    all.append(mean)\n",
    "    if id[4] == 'F':\n",
    "        female.append(mean)\n",
    "    else:\n",
    "        male.append(mean)\n",
    "print(\"Gender\")\n",
    "print(\"All : \", round(sum(all) / len(all), 3), \" ± \", round(statistics.pstdev(all), 3))\n",
    "print(\"Man : \", round(sum(male) / len(male), 3), \" ± \", round(statistics.pstdev(male), 3))\n",
    "print(\"Woman : \", round(sum(female) / len(female), 3), \" ± \", round(statistics.pstdev(female), 3))\n",
    "\n",
    "all = []\n",
    "young = [] \n",
    "old = []\n",
    "for id in vid:\n",
    "    mean = round(sum(TS[id]) / len(TS[id]), 3)\n",
    "    all.append(mean)\n",
    "    if int(id[5]) <= 4:\n",
    "        young.append(mean)\n",
    "    else:\n",
    "        old.append(mean)\n",
    "print(\"Age\")\n",
    "print(\"All : \", round(sum(all) / len(all), 3), \" ± \", round(statistics.pstdev(all), 3))\n",
    "print(\"Young : \", round(sum(young) / len(young), 3), \" ± \", round(statistics.pstdev(young), 3))\n",
    "print(\"Old : \", round(sum(old) / len(old), 3), \" ± \", round(statistics.pstdev(old), 3))\n",
    "\n",
    "all = []\n",
    "young1= [] \n",
    "young2= [] \n",
    "young3= [] \n",
    "old1 = []\n",
    "old2 = []\n",
    "old3 = []\n",
    "for id in vid:\n",
    "    mean = round(sum(TS[id]) / len(TS[id]), 3)\n",
    "    all.append(mean)\n",
    "    if int(id[5]) == 2:\n",
    "        young1.append(mean)\n",
    "    elif int(id[5]) == 3:\n",
    "        young2.append(mean)\n",
    "    elif int(id[5]) == 4:\n",
    "        young3.append(mean)\n",
    "    elif int(id[5]) == 5:\n",
    "        old1.append(mean)\n",
    "    elif int(id[5]) == 6:\n",
    "        old2.append(mean)\n",
    "    else:\n",
    "        old3.append(mean)\n",
    "print(\"Age\")\n",
    "print(\"All : \", round(sum(all) / len(all), 3), \" ± \", round(statistics.pstdev(all), 3))\n",
    "print(\"Young1 : \", round(sum(young1) / len(young1), 3), \" ± \", round(statistics.pstdev(young1), 3))\n",
    "print(\"Young2 : \", round(sum(young2) / len(young2), 3), \" ± \", round(statistics.pstdev(young2), 3))\n",
    "print(\"Young3 : \", round(sum(young3) / len(young3), 3), \" ± \", round(statistics.pstdev(young3), 3))\n",
    "print(\"Old1 : \", round(sum(old1) / len(old1), 3), \" ± \", round(statistics.pstdev(old1), 3))\n",
    "print(\"Old2 : \", round(sum(old2) / len(old2), 3), \" ± \", round(statistics.pstdev(old2), 3))\n",
    "print(\"Old3 : \", round(sum(old3) / len(old3), 3), \" ± \", round(statistics.pstdev(old3), 3))"
   ]
  },
  {
   "cell_type": "code",
   "execution_count": null,
   "metadata": {},
   "outputs": [],
   "source": []
  }
 ],
 "metadata": {
  "kernelspec": {
   "display_name": "personality",
   "language": "python",
   "name": "python3"
  },
  "language_info": {
   "codemirror_mode": {
    "name": "ipython",
    "version": 3
   },
   "file_extension": ".py",
   "mimetype": "text/x-python",
   "name": "python",
   "nbconvert_exporter": "python",
   "pygments_lexer": "ipython3",
   "version": "3.10.9"
  }
 },
 "nbformat": 4,
 "nbformat_minor": 2
}
