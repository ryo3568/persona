{
 "cells": [
  {
   "cell_type": "code",
   "execution_count": 6,
   "metadata": {},
   "outputs": [
    {
     "name": "stdout",
     "output_type": "stream",
     "text": [
      "実験結果数 : 21\n"
     ]
    }
   ],
   "source": [
    "import yaml \n",
    "import glob \n",
    "import pandas as pd\n",
    "pd.options.display.precision = 2\n",
    "files = glob.glob(\"*.yaml\")\n",
    "print(f\"実験結果数 : {len(files)}\")\n",
    "\n",
    "\n",
    "def profiling(profile, id):\n",
    "    age = int(id[5])\n",
    "    gender = id[4]\n",
    "\n",
    "    age_th = 4\n",
    "\n",
    "    if profile == 0:\n",
    "        res = 0\n",
    "    elif profile == 1:\n",
    "        # 性別\n",
    "        if gender == 'F':\n",
    "            res = 0\n",
    "        else:\n",
    "            res = 1\n",
    "    elif profile == 2:\n",
    "        # 年齢(2クラス)\n",
    "        # 40 <=, 40 >\n",
    "        if age <= age_th:\n",
    "            res = 0\n",
    "        else:\n",
    "            res = 1\n",
    "    elif profile == 3:\n",
    "        if gender == 'F':\n",
    "            if age <= age_th:\n",
    "                res = 0 \n",
    "            else:\n",
    "                res = 1\n",
    "        else:\n",
    "            if age <= age_th:\n",
    "                res = 2\n",
    "            else:\n",
    "                res = 3\n",
    "    return res\n"
   ]
  },
  {
   "cell_type": "markdown",
   "metadata": {},
   "source": [
    "# SS & ternary"
   ]
  },
  {
   "cell_type": "code",
   "execution_count": 7,
   "metadata": {},
   "outputs": [
    {
     "data": {
      "text/html": [
       "<div>\n",
       "<style scoped>\n",
       "    .dataframe tbody tr th:only-of-type {\n",
       "        vertical-align: middle;\n",
       "    }\n",
       "\n",
       "    .dataframe tbody tr th {\n",
       "        vertical-align: top;\n",
       "    }\n",
       "\n",
       "    .dataframe thead th {\n",
       "        text-align: right;\n",
       "    }\n",
       "</style>\n",
       "<table border=\"1\" class=\"dataframe\">\n",
       "  <thead>\n",
       "    <tr style=\"text-align: right;\">\n",
       "      <th></th>\n",
       "      <th>t</th>\n",
       "      <th>a</th>\n",
       "      <th>v</th>\n",
       "      <th>ta</th>\n",
       "      <th>tv</th>\n",
       "      <th>av</th>\n",
       "      <th>tav</th>\n",
       "    </tr>\n",
       "  </thead>\n",
       "  <tbody>\n",
       "    <tr>\n",
       "      <th>2</th>\n",
       "      <td>0.49</td>\n",
       "      <td>0.49</td>\n",
       "      <td>0.52</td>\n",
       "      <td>0.47</td>\n",
       "      <td>0.49</td>\n",
       "      <td>0.48</td>\n",
       "      <td>0.47</td>\n",
       "    </tr>\n",
       "    <tr>\n",
       "      <th>9</th>\n",
       "      <td>0.48</td>\n",
       "      <td>0.46</td>\n",
       "      <td>0.48</td>\n",
       "      <td>0.46</td>\n",
       "      <td>0.49</td>\n",
       "      <td>0.46</td>\n",
       "      <td>0.46</td>\n",
       "    </tr>\n",
       "    <tr>\n",
       "      <th>10</th>\n",
       "      <td>0.47</td>\n",
       "      <td>0.46</td>\n",
       "      <td>0.51</td>\n",
       "      <td>0.46</td>\n",
       "      <td>0.48</td>\n",
       "      <td>0.47</td>\n",
       "      <td>0.47</td>\n",
       "    </tr>\n",
       "  </tbody>\n",
       "</table>\n",
       "</div>"
      ],
      "text/plain": [
       "       t     a     v    ta    tv    av   tav\n",
       "2   0.49  0.49  0.52  0.47  0.49  0.48  0.47\n",
       "9   0.48  0.46  0.48  0.46  0.49  0.46  0.46\n",
       "10  0.47  0.46  0.51  0.46  0.48  0.47  0.47"
      ]
     },
     "metadata": {},
     "output_type": "display_data"
    }
   ],
   "source": [
    "index = [2, 9, 10]\n",
    "df_results = pd.DataFrame(0, index=index, columns=['t','a','v','ta','tv','av','tav'])\n",
    "for file in files:\n",
    "    with open(file) as file:\n",
    "        obj = yaml.safe_load(file)\n",
    "        config = obj[\"config\"]\n",
    "        if config[\"annot\"] == \"SS\" and config[\"label\"] == \"ternary\":\n",
    "            results = obj[\"results\"]\n",
    "            data = list(results.values())\n",
    "            acc = round(sum(data) / len(data), 3)\n",
    "            df_results.at[config['pmode'], config['modal']] = acc\n",
    "\n",
    "display(df_results)"
   ]
  }
 ],
 "metadata": {
  "kernelspec": {
   "display_name": "personality",
   "language": "python",
   "name": "python3"
  },
  "language_info": {
   "codemirror_mode": {
    "name": "ipython",
    "version": 3
   },
   "file_extension": ".py",
   "mimetype": "text/x-python",
   "name": "python",
   "nbconvert_exporter": "python",
   "pygments_lexer": "ipython3",
   "version": "3.10.9"
  }
 },
 "nbformat": 4,
 "nbformat_minor": 2
}
